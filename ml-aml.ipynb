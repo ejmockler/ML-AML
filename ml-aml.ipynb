{
 "cells": [
  {
   "cell_type": "code",
   "execution_count": 1,
   "metadata": {
    "execution": {
     "iopub.execute_input": "2025-02-08T03:35:18.301704Z",
     "iopub.status.busy": "2025-02-08T03:35:18.301404Z",
     "iopub.status.idle": "2025-02-08T03:35:36.780848Z",
     "shell.execute_reply": "2025-02-08T03:35:36.779860Z",
     "shell.execute_reply.started": "2025-02-08T03:35:18.301677Z"
    },
    "trusted": true
   },
   "outputs": [
    {
     "name": "stdout",
     "output_type": "stream",
     "text": [
      "Collecting geoparse\n",
      "  Downloading GEOparse-2.0.4-py3-none-any.whl.metadata (6.5 kB)\n",
      "Collecting torch_geometric\n",
      "  Downloading torch_geometric-2.6.1-py3-none-any.whl.metadata (63 kB)\n",
      "\u001b[2K     \u001b[90m━━━━━━━━━━━━━━━━━━━━━━━━━━━━━━━━━━━━━━━━\u001b[0m \u001b[32m63.1/63.1 kB\u001b[0m \u001b[31m3.4 MB/s\u001b[0m eta \u001b[36m0:00:00\u001b[0m\n",
      "\u001b[?25hCollecting cell-gears\n",
      "  Downloading cell_gears-0.1.2-py3-none-any.whl.metadata (3.6 kB)\n",
      "Collecting pyro-ppl\n",
      "  Downloading pyro_ppl-1.9.1-py3-none-any.whl.metadata (7.8 kB)\n",
      "Collecting mlflow\n",
      "  Downloading mlflow-2.20.1-py3-none-any.whl.metadata (30 kB)\n",
      "Requirement already satisfied: numpy>=1.7 in /usr/local/lib/python3.10/dist-packages (from geoparse) (1.26.4)\n",
      "Requirement already satisfied: pandas>=0.17 in /usr/local/lib/python3.10/dist-packages (from geoparse) (2.2.3)\n",
      "Requirement already satisfied: requests>=2.21.0 in /usr/local/lib/python3.10/dist-packages (from geoparse) (2.32.3)\n",
      "Requirement already satisfied: tqdm>=4.31.1 in /usr/local/lib/python3.10/dist-packages (from geoparse) (4.67.1)\n",
      "Requirement already satisfied: aiohttp in /usr/local/lib/python3.10/dist-packages (from torch_geometric) (3.11.11)\n",
      "Requirement already satisfied: fsspec in /usr/local/lib/python3.10/dist-packages (from torch_geometric) (2024.9.0)\n",
      "Requirement already satisfied: jinja2 in /usr/local/lib/python3.10/dist-packages (from torch_geometric) (3.1.4)\n",
      "Requirement already satisfied: psutil>=5.8.0 in /usr/local/lib/python3.10/dist-packages (from torch_geometric) (5.9.5)\n",
      "Requirement already satisfied: pyparsing in /usr/local/lib/python3.10/dist-packages (from torch_geometric) (3.2.0)\n",
      "Requirement already satisfied: scikit-learn in /usr/local/lib/python3.10/dist-packages (from cell-gears) (1.2.2)\n",
      "Requirement already satisfied: torch in /usr/local/lib/python3.10/dist-packages (from cell-gears) (2.5.1+cu121)\n",
      "Collecting scanpy (from cell-gears)\n",
      "  Downloading scanpy-1.10.4-py3-none-any.whl.metadata (9.3 kB)\n",
      "Requirement already satisfied: networkx in /usr/local/lib/python3.10/dist-packages (from cell-gears) (3.4.2)\n",
      "Collecting dcor (from cell-gears)\n",
      "  Downloading dcor-0.6-py3-none-any.whl.metadata (6.2 kB)\n",
      "Requirement already satisfied: opt-einsum>=2.3.2 in /usr/local/lib/python3.10/dist-packages (from pyro-ppl) (3.4.0)\n",
      "Collecting pyro-api>=0.1.1 (from pyro-ppl)\n",
      "  Downloading pyro_api-0.1.2-py3-none-any.whl.metadata (2.5 kB)\n",
      "Collecting mlflow-skinny==2.20.1 (from mlflow)\n",
      "  Downloading mlflow_skinny-2.20.1-py3-none-any.whl.metadata (31 kB)\n",
      "Requirement already satisfied: Flask<4 in /usr/local/lib/python3.10/dist-packages (from mlflow) (3.1.0)\n",
      "Requirement already satisfied: alembic!=1.10.0,<2 in /usr/local/lib/python3.10/dist-packages (from mlflow) (1.14.1)\n",
      "Requirement already satisfied: docker<8,>=4.0.0 in /usr/local/lib/python3.10/dist-packages (from mlflow) (7.1.0)\n",
      "Collecting graphene<4 (from mlflow)\n",
      "  Downloading graphene-3.4.3-py2.py3-none-any.whl.metadata (6.9 kB)\n",
      "Collecting gunicorn<24 (from mlflow)\n",
      "  Downloading gunicorn-23.0.0-py3-none-any.whl.metadata (4.4 kB)\n",
      "Requirement already satisfied: markdown<4,>=3.3 in /usr/local/lib/python3.10/dist-packages (from mlflow) (3.7)\n",
      "Requirement already satisfied: matplotlib<4 in /usr/local/lib/python3.10/dist-packages (from mlflow) (3.7.5)\n",
      "Collecting pyarrow<19,>=4.0.0 (from mlflow)\n",
      "  Downloading pyarrow-18.1.0-cp310-cp310-manylinux_2_28_x86_64.whl.metadata (3.3 kB)\n",
      "Requirement already satisfied: scipy<2 in /usr/local/lib/python3.10/dist-packages (from mlflow) (1.13.1)\n",
      "Requirement already satisfied: sqlalchemy<3,>=1.4.0 in /usr/local/lib/python3.10/dist-packages (from mlflow) (2.0.36)\n",
      "Requirement already satisfied: cachetools<6,>=5.0.0 in /usr/local/lib/python3.10/dist-packages (from mlflow-skinny==2.20.1->mlflow) (5.5.0)\n",
      "Requirement already satisfied: click<9,>=7.0 in /usr/local/lib/python3.10/dist-packages (from mlflow-skinny==2.20.1->mlflow) (8.1.7)\n",
      "Requirement already satisfied: cloudpickle<4 in /usr/local/lib/python3.10/dist-packages (from mlflow-skinny==2.20.1->mlflow) (3.1.0)\n",
      "Collecting databricks-sdk<1,>=0.20.0 (from mlflow-skinny==2.20.1->mlflow)\n",
      "  Downloading databricks_sdk-0.43.0-py3-none-any.whl.metadata (38 kB)\n",
      "Requirement already satisfied: gitpython<4,>=3.1.9 in /usr/local/lib/python3.10/dist-packages (from mlflow-skinny==2.20.1->mlflow) (3.1.43)\n",
      "Requirement already satisfied: importlib_metadata!=4.7.0,<9,>=3.7.0 in /usr/local/lib/python3.10/dist-packages (from mlflow-skinny==2.20.1->mlflow) (8.5.0)\n",
      "Requirement already satisfied: opentelemetry-api<3,>=1.9.0 in /usr/local/lib/python3.10/dist-packages (from mlflow-skinny==2.20.1->mlflow) (1.29.0)\n",
      "Requirement already satisfied: opentelemetry-sdk<3,>=1.9.0 in /usr/local/lib/python3.10/dist-packages (from mlflow-skinny==2.20.1->mlflow) (1.29.0)\n",
      "Requirement already satisfied: packaging<25 in /usr/local/lib/python3.10/dist-packages (from mlflow-skinny==2.20.1->mlflow) (24.2)\n",
      "Requirement already satisfied: protobuf<6,>=3.12.0 in /usr/local/lib/python3.10/dist-packages (from mlflow-skinny==2.20.1->mlflow) (3.20.3)\n",
      "Requirement already satisfied: pydantic<3,>=1.0 in /usr/local/lib/python3.10/dist-packages (from mlflow-skinny==2.20.1->mlflow) (2.11.0a1)\n",
      "Requirement already satisfied: pyyaml<7,>=5.1 in /usr/local/lib/python3.10/dist-packages (from mlflow-skinny==2.20.1->mlflow) (6.0.2)\n",
      "Requirement already satisfied: sqlparse<1,>=0.4.0 in /usr/local/lib/python3.10/dist-packages (from mlflow-skinny==2.20.1->mlflow) (0.5.3)\n",
      "Requirement already satisfied: typing-extensions<5,>=4.0.0 in /usr/local/lib/python3.10/dist-packages (from mlflow-skinny==2.20.1->mlflow) (4.12.2)\n",
      "Requirement already satisfied: Mako in /usr/local/lib/python3.10/dist-packages (from alembic!=1.10.0,<2->mlflow) (1.3.9)\n",
      "Requirement already satisfied: urllib3>=1.26.0 in /usr/local/lib/python3.10/dist-packages (from docker<8,>=4.0.0->mlflow) (2.3.0)\n",
      "Requirement already satisfied: Werkzeug>=3.1 in /usr/local/lib/python3.10/dist-packages (from Flask<4->mlflow) (3.1.3)\n",
      "Requirement already satisfied: itsdangerous>=2.2 in /usr/local/lib/python3.10/dist-packages (from Flask<4->mlflow) (2.2.0)\n",
      "Requirement already satisfied: blinker>=1.9 in /usr/local/lib/python3.10/dist-packages (from Flask<4->mlflow) (1.9.0)\n",
      "Collecting graphql-core<3.3,>=3.1 (from graphene<4->mlflow)\n",
      "  Downloading graphql_core-3.2.6-py3-none-any.whl.metadata (11 kB)\n",
      "Collecting graphql-relay<3.3,>=3.1 (from graphene<4->mlflow)\n",
      "  Downloading graphql_relay-3.2.0-py3-none-any.whl.metadata (12 kB)\n",
      "Requirement already satisfied: python-dateutil<3,>=2.7.0 in /usr/local/lib/python3.10/dist-packages (from graphene<4->mlflow) (2.9.0.post0)\n",
      "Requirement already satisfied: MarkupSafe>=2.0 in /usr/local/lib/python3.10/dist-packages (from jinja2->torch_geometric) (3.0.2)\n",
      "Requirement already satisfied: contourpy>=1.0.1 in /usr/local/lib/python3.10/dist-packages (from matplotlib<4->mlflow) (1.3.1)\n",
      "Requirement already satisfied: cycler>=0.10 in /usr/local/lib/python3.10/dist-packages (from matplotlib<4->mlflow) (0.12.1)\n",
      "Requirement already satisfied: fonttools>=4.22.0 in /usr/local/lib/python3.10/dist-packages (from matplotlib<4->mlflow) (4.55.3)\n",
      "Requirement already satisfied: kiwisolver>=1.0.1 in /usr/local/lib/python3.10/dist-packages (from matplotlib<4->mlflow) (1.4.7)\n",
      "Requirement already satisfied: pillow>=6.2.0 in /usr/local/lib/python3.10/dist-packages (from matplotlib<4->mlflow) (11.0.0)\n",
      "Requirement already satisfied: mkl_fft in /usr/local/lib/python3.10/dist-packages (from numpy>=1.7->geoparse) (1.3.8)\n",
      "Requirement already satisfied: mkl_random in /usr/local/lib/python3.10/dist-packages (from numpy>=1.7->geoparse) (1.2.4)\n",
      "Requirement already satisfied: mkl_umath in /usr/local/lib/python3.10/dist-packages (from numpy>=1.7->geoparse) (0.1.1)\n",
      "Requirement already satisfied: mkl in /usr/local/lib/python3.10/dist-packages (from numpy>=1.7->geoparse) (2025.0.1)\n",
      "Requirement already satisfied: tbb4py in /usr/local/lib/python3.10/dist-packages (from numpy>=1.7->geoparse) (2022.0.0)\n",
      "Requirement already satisfied: mkl-service in /usr/local/lib/python3.10/dist-packages (from numpy>=1.7->geoparse) (2.4.1)\n",
      "Requirement already satisfied: pytz>=2020.1 in /usr/local/lib/python3.10/dist-packages (from pandas>=0.17->geoparse) (2025.1)\n",
      "Requirement already satisfied: tzdata>=2022.7 in /usr/local/lib/python3.10/dist-packages (from pandas>=0.17->geoparse) (2025.1)\n",
      "Requirement already satisfied: charset-normalizer<4,>=2 in /usr/local/lib/python3.10/dist-packages (from requests>=2.21.0->geoparse) (3.4.1)\n",
      "Requirement already satisfied: idna<4,>=2.5 in /usr/local/lib/python3.10/dist-packages (from requests>=2.21.0->geoparse) (3.10)\n",
      "Requirement already satisfied: certifi>=2017.4.17 in /usr/local/lib/python3.10/dist-packages (from requests>=2.21.0->geoparse) (2025.1.31)\n",
      "Requirement already satisfied: joblib>=1.1.1 in /usr/local/lib/python3.10/dist-packages (from scikit-learn->cell-gears) (1.4.2)\n",
      "Requirement already satisfied: threadpoolctl>=2.0.0 in /usr/local/lib/python3.10/dist-packages (from scikit-learn->cell-gears) (3.5.0)\n",
      "Requirement already satisfied: greenlet!=0.4.17 in /usr/local/lib/python3.10/dist-packages (from sqlalchemy<3,>=1.4.0->mlflow) (3.1.1)\n",
      "Requirement already satisfied: filelock in /usr/local/lib/python3.10/dist-packages (from torch->cell-gears) (3.17.0)\n",
      "Requirement already satisfied: sympy==1.13.1 in /usr/local/lib/python3.10/dist-packages (from torch->cell-gears) (1.13.1)\n",
      "Requirement already satisfied: mpmath<1.4,>=1.1.0 in /usr/local/lib/python3.10/dist-packages (from sympy==1.13.1->torch->cell-gears) (1.3.0)\n",
      "Requirement already satisfied: aiohappyeyeballs>=2.3.0 in /usr/local/lib/python3.10/dist-packages (from aiohttp->torch_geometric) (2.4.4)\n",
      "Requirement already satisfied: aiosignal>=1.1.2 in /usr/local/lib/python3.10/dist-packages (from aiohttp->torch_geometric) (1.3.2)\n",
      "Requirement already satisfied: async-timeout<6.0,>=4.0 in /usr/local/lib/python3.10/dist-packages (from aiohttp->torch_geometric) (5.0.1)\n",
      "Requirement already satisfied: attrs>=17.3.0 in /usr/local/lib/python3.10/dist-packages (from aiohttp->torch_geometric) (25.1.0)\n",
      "Requirement already satisfied: frozenlist>=1.1.1 in /usr/local/lib/python3.10/dist-packages (from aiohttp->torch_geometric) (1.5.0)\n",
      "Requirement already satisfied: multidict<7.0,>=4.5 in /usr/local/lib/python3.10/dist-packages (from aiohttp->torch_geometric) (6.1.0)\n",
      "Requirement already satisfied: propcache>=0.2.0 in /usr/local/lib/python3.10/dist-packages (from aiohttp->torch_geometric) (0.2.1)\n",
      "Requirement already satisfied: yarl<2.0,>=1.17.0 in /usr/local/lib/python3.10/dist-packages (from aiohttp->torch_geometric) (1.18.3)\n",
      "Requirement already satisfied: numba>=0.51 in /usr/local/lib/python3.10/dist-packages (from dcor->cell-gears) (0.60.0)\n",
      "Collecting anndata>=0.8 (from scanpy->cell-gears)\n",
      "  Downloading anndata-0.11.3-py3-none-any.whl.metadata (8.2 kB)\n",
      "Requirement already satisfied: h5py>=3.6 in /usr/local/lib/python3.10/dist-packages (from scanpy->cell-gears) (3.12.1)\n",
      "Collecting legacy-api-wrap>=1.4 (from scanpy->cell-gears)\n",
      "  Downloading legacy_api_wrap-1.4.1-py3-none-any.whl.metadata (2.1 kB)\n",
      "Requirement already satisfied: natsort in /usr/local/lib/python3.10/dist-packages (from scanpy->cell-gears) (8.4.0)\n",
      "Requirement already satisfied: patsy!=1.0.0 in /usr/local/lib/python3.10/dist-packages (from scanpy->cell-gears) (1.0.1)\n",
      "Collecting pynndescent>=0.5 (from scanpy->cell-gears)\n",
      "  Downloading pynndescent-0.5.13-py3-none-any.whl.metadata (6.8 kB)\n",
      "Collecting seaborn>=0.13 (from scanpy->cell-gears)\n",
      "  Downloading seaborn-0.13.2-py3-none-any.whl.metadata (5.4 kB)\n",
      "Collecting session-info (from scanpy->cell-gears)\n",
      "  Downloading session_info-1.0.0.tar.gz (24 kB)\n",
      "  Preparing metadata (setup.py) ... \u001b[?25l\u001b[?25hdone\n",
      "Requirement already satisfied: statsmodels>=0.13 in /usr/local/lib/python3.10/dist-packages (from scanpy->cell-gears) (0.14.4)\n",
      "Collecting umap-learn!=0.5.0,>=0.5 (from scanpy->cell-gears)\n",
      "  Downloading umap_learn-0.5.7-py3-none-any.whl.metadata (21 kB)\n",
      "Collecting array-api-compat!=1.5,>1.4 (from anndata>=0.8->scanpy->cell-gears)\n",
      "  Downloading array_api_compat-1.10.0-py3-none-any.whl.metadata (1.6 kB)\n",
      "Requirement already satisfied: exceptiongroup in /usr/local/lib/python3.10/dist-packages (from anndata>=0.8->scanpy->cell-gears) (1.2.2)\n",
      "Requirement already satisfied: google-auth~=2.0 in /usr/local/lib/python3.10/dist-packages (from databricks-sdk<1,>=0.20.0->mlflow-skinny==2.20.1->mlflow) (2.27.0)\n",
      "Requirement already satisfied: gitdb<5,>=4.0.1 in /usr/local/lib/python3.10/dist-packages (from gitpython<4,>=3.1.9->mlflow-skinny==2.20.1->mlflow) (4.0.11)\n",
      "Requirement already satisfied: zipp>=3.20 in /usr/local/lib/python3.10/dist-packages (from importlib_metadata!=4.7.0,<9,>=3.7.0->mlflow-skinny==2.20.1->mlflow) (3.21.0)\n",
      "Requirement already satisfied: llvmlite<0.44,>=0.43.0dev0 in /usr/local/lib/python3.10/dist-packages (from numba>=0.51->dcor->cell-gears) (0.43.0)\n",
      "Requirement already satisfied: deprecated>=1.2.6 in /usr/local/lib/python3.10/dist-packages (from opentelemetry-api<3,>=1.9.0->mlflow-skinny==2.20.1->mlflow) (1.2.15)\n",
      "Requirement already satisfied: opentelemetry-semantic-conventions==0.50b0 in /usr/local/lib/python3.10/dist-packages (from opentelemetry-sdk<3,>=1.9.0->mlflow-skinny==2.20.1->mlflow) (0.50b0)\n",
      "Requirement already satisfied: annotated-types>=0.6.0 in /usr/local/lib/python3.10/dist-packages (from pydantic<3,>=1.0->mlflow-skinny==2.20.1->mlflow) (0.7.0)\n",
      "Requirement already satisfied: pydantic-core==2.28.0 in /usr/local/lib/python3.10/dist-packages (from pydantic<3,>=1.0->mlflow-skinny==2.20.1->mlflow) (2.28.0)\n",
      "Requirement already satisfied: six>=1.5 in /usr/local/lib/python3.10/dist-packages (from python-dateutil<3,>=2.7.0->graphene<4->mlflow) (1.17.0)\n",
      "Requirement already satisfied: intel-openmp>=2024 in /usr/local/lib/python3.10/dist-packages (from mkl->numpy>=1.7->geoparse) (2024.2.0)\n",
      "Requirement already satisfied: tbb==2022.* in /usr/local/lib/python3.10/dist-packages (from mkl->numpy>=1.7->geoparse) (2022.0.0)\n",
      "Requirement already satisfied: tcmlib==1.* in /usr/local/lib/python3.10/dist-packages (from tbb==2022.*->mkl->numpy>=1.7->geoparse) (1.2.0)\n",
      "Requirement already satisfied: intel-cmplr-lib-rt in /usr/local/lib/python3.10/dist-packages (from mkl_umath->numpy>=1.7->geoparse) (2024.2.0)\n",
      "Collecting stdlib_list (from session-info->scanpy->cell-gears)\n",
      "  Downloading stdlib_list-0.11.0-py3-none-any.whl.metadata (3.3 kB)\n",
      "Requirement already satisfied: wrapt<2,>=1.10 in /usr/local/lib/python3.10/dist-packages (from deprecated>=1.2.6->opentelemetry-api<3,>=1.9.0->mlflow-skinny==2.20.1->mlflow) (1.17.0)\n",
      "Requirement already satisfied: smmap<6,>=3.0.1 in /usr/local/lib/python3.10/dist-packages (from gitdb<5,>=4.0.1->gitpython<4,>=3.1.9->mlflow-skinny==2.20.1->mlflow) (5.0.1)\n",
      "Requirement already satisfied: pyasn1-modules>=0.2.1 in /usr/local/lib/python3.10/dist-packages (from google-auth~=2.0->databricks-sdk<1,>=0.20.0->mlflow-skinny==2.20.1->mlflow) (0.4.1)\n",
      "Requirement already satisfied: rsa<5,>=3.1.4 in /usr/local/lib/python3.10/dist-packages (from google-auth~=2.0->databricks-sdk<1,>=0.20.0->mlflow-skinny==2.20.1->mlflow) (4.9)\n",
      "Requirement already satisfied: intel-cmplr-lib-ur==2024.2.0 in /usr/local/lib/python3.10/dist-packages (from intel-openmp>=2024->mkl->numpy>=1.7->geoparse) (2024.2.0)\n",
      "Requirement already satisfied: pyasn1<0.7.0,>=0.4.6 in /usr/local/lib/python3.10/dist-packages (from pyasn1-modules>=0.2.1->google-auth~=2.0->databricks-sdk<1,>=0.20.0->mlflow-skinny==2.20.1->mlflow) (0.6.1)\n",
      "Downloading GEOparse-2.0.4-py3-none-any.whl (29 kB)\n",
      "Downloading torch_geometric-2.6.1-py3-none-any.whl (1.1 MB)\n",
      "\u001b[2K   \u001b[90m━━━━━━━━━━━━━━━━━━━━━━━━━━━━━━━━━━━━━━━━\u001b[0m \u001b[32m1.1/1.1 MB\u001b[0m \u001b[31m42.5 MB/s\u001b[0m eta \u001b[36m0:00:00\u001b[0m\n",
      "\u001b[?25hDownloading cell_gears-0.1.2-py3-none-any.whl (31 kB)\n",
      "Downloading pyro_ppl-1.9.1-py3-none-any.whl (755 kB)\n",
      "\u001b[2K   \u001b[90m━━━━━━━━━━━━━━━━━━━━━━━━━━━━━━━━━━━━━━━━\u001b[0m \u001b[32m756.0/756.0 kB\u001b[0m \u001b[31m42.8 MB/s\u001b[0m eta \u001b[36m0:00:00\u001b[0m\n",
      "\u001b[?25hDownloading mlflow-2.20.1-py3-none-any.whl (28.3 MB)\n",
      "\u001b[2K   \u001b[90m━━━━━━━━━━━━━━━━━━━━━━━━━━━━━━━━━━━━━━━━\u001b[0m \u001b[32m28.3/28.3 MB\u001b[0m \u001b[31m68.4 MB/s\u001b[0m eta \u001b[36m0:00:00\u001b[0m:00:01\u001b[0m00:01\u001b[0m\n",
      "\u001b[?25hDownloading mlflow_skinny-2.20.1-py3-none-any.whl (6.0 MB)\n",
      "\u001b[2K   \u001b[90m━━━━━━━━━━━━━━━━━━━━━━━━━━━━━━━━━━━━━━━━\u001b[0m \u001b[32m6.0/6.0 MB\u001b[0m \u001b[31m107.7 MB/s\u001b[0m eta \u001b[36m0:00:00\u001b[0m00:01\u001b[0m\n",
      "\u001b[?25hDownloading graphene-3.4.3-py2.py3-none-any.whl (114 kB)\n",
      "\u001b[2K   \u001b[90m━━━━━━━━━━━━━━━━━━━━━━━━━━━━━━━━━━━━━━━━\u001b[0m \u001b[32m114.9/114.9 kB\u001b[0m \u001b[31m7.7 MB/s\u001b[0m eta \u001b[36m0:00:00\u001b[0m\n",
      "\u001b[?25hDownloading gunicorn-23.0.0-py3-none-any.whl (85 kB)\n",
      "\u001b[2K   \u001b[90m━━━━━━━━━━━━━━━━━━━━━━━━━━━━━━━━━━━━━━━━\u001b[0m \u001b[32m85.0/85.0 kB\u001b[0m \u001b[31m6.0 MB/s\u001b[0m eta \u001b[36m0:00:00\u001b[0m\n",
      "\u001b[?25hDownloading pyarrow-18.1.0-cp310-cp310-manylinux_2_28_x86_64.whl (40.1 MB)\n",
      "\u001b[2K   \u001b[90m━━━━━━━━━━━━━━━━━━━━━━━━━━━━━━━━━━━━━━━━\u001b[0m \u001b[32m40.1/40.1 MB\u001b[0m \u001b[31m46.1 MB/s\u001b[0m eta \u001b[36m0:00:00\u001b[0m:00:01\u001b[0m00:01\u001b[0m\n",
      "\u001b[?25hDownloading pyro_api-0.1.2-py3-none-any.whl (11 kB)\n",
      "Downloading dcor-0.6-py3-none-any.whl (55 kB)\n",
      "\u001b[2K   \u001b[90m━━━━━━━━━━━━━━━━━━━━━━━━━━━━━━━━━━━━━━━━\u001b[0m \u001b[32m55.5/55.5 kB\u001b[0m \u001b[31m4.0 MB/s\u001b[0m eta \u001b[36m0:00:00\u001b[0m\n",
      "\u001b[?25hDownloading scanpy-1.10.4-py3-none-any.whl (2.1 MB)\n",
      "\u001b[2K   \u001b[90m━━━━━━━━━━━━━━━━━━━━━━━━━━━━━━━━━━━━━━━━\u001b[0m \u001b[32m2.1/2.1 MB\u001b[0m \u001b[31m10.2 MB/s\u001b[0m eta \u001b[36m0:00:00\u001b[0ma \u001b[36m0:00:01\u001b[0m\n",
      "\u001b[?25hDownloading anndata-0.11.3-py3-none-any.whl (142 kB)\n",
      "\u001b[2K   \u001b[90m━━━━━━━━━━━━━━━━━━━━━━━━━━━━━━━━━━━━━━━━\u001b[0m \u001b[32m142.7/142.7 kB\u001b[0m \u001b[31m10.1 MB/s\u001b[0m eta \u001b[36m0:00:00\u001b[0m\n",
      "\u001b[?25hDownloading databricks_sdk-0.43.0-py3-none-any.whl (647 kB)\n",
      "\u001b[2K   \u001b[90m━━━━━━━━━━━━━━━━━━━━━━━━━━━━━━━━━━━━━━━━\u001b[0m \u001b[32m647.4/647.4 kB\u001b[0m \u001b[31m37.8 MB/s\u001b[0m eta \u001b[36m0:00:00\u001b[0m\n",
      "\u001b[?25hDownloading graphql_core-3.2.6-py3-none-any.whl (203 kB)\n",
      "\u001b[2K   \u001b[90m━━━━━━━━━━━━━━━━━━━━━━━━━━━━━━━━━━━━━━━━\u001b[0m \u001b[32m203.4/203.4 kB\u001b[0m \u001b[31m15.0 MB/s\u001b[0m eta \u001b[36m0:00:00\u001b[0m\n",
      "\u001b[?25hDownloading graphql_relay-3.2.0-py3-none-any.whl (16 kB)\n",
      "Downloading legacy_api_wrap-1.4.1-py3-none-any.whl (10.0 kB)\n",
      "Downloading pynndescent-0.5.13-py3-none-any.whl (56 kB)\n",
      "\u001b[2K   \u001b[90m━━━━━━━━━━━━━━━━━━━━━━━━━━━━━━━━━━━━━━━━\u001b[0m \u001b[32m56.9/56.9 kB\u001b[0m \u001b[31m3.8 MB/s\u001b[0m eta \u001b[36m0:00:00\u001b[0m\n",
      "\u001b[?25hDownloading seaborn-0.13.2-py3-none-any.whl (294 kB)\n",
      "\u001b[2K   \u001b[90m━━━━━━━━━━━━━━━━━━━━━━━━━━━━━━━━━━━━━━━━\u001b[0m \u001b[32m294.9/294.9 kB\u001b[0m \u001b[31m19.8 MB/s\u001b[0m eta \u001b[36m0:00:00\u001b[0m\n",
      "\u001b[?25hDownloading umap_learn-0.5.7-py3-none-any.whl (88 kB)\n",
      "\u001b[2K   \u001b[90m━━━━━━━━━━━━━━━━━━━━━━━━━━━━━━━━━━━━━━━━\u001b[0m \u001b[32m88.8/88.8 kB\u001b[0m \u001b[31m6.3 MB/s\u001b[0m eta \u001b[36m0:00:00\u001b[0m\n",
      "\u001b[?25hDownloading array_api_compat-1.10.0-py3-none-any.whl (50 kB)\n",
      "\u001b[2K   \u001b[90m━━━━━━━━━━━━━━━━━━━━━━━━━━━━━━━━━━━━━━━━\u001b[0m \u001b[32m50.4/50.4 kB\u001b[0m \u001b[31m3.4 MB/s\u001b[0m eta \u001b[36m0:00:00\u001b[0m\n",
      "\u001b[?25hDownloading stdlib_list-0.11.0-py3-none-any.whl (83 kB)\n",
      "\u001b[2K   \u001b[90m━━━━━━━━━━━━━━━━━━━━━━━━━━━━━━━━━━━━━━━━\u001b[0m \u001b[32m83.6/83.6 kB\u001b[0m \u001b[31m6.2 MB/s\u001b[0m eta \u001b[36m0:00:00\u001b[0m\n",
      "\u001b[?25hBuilding wheels for collected packages: session-info\n",
      "  Building wheel for session-info (setup.py) ... \u001b[?25l\u001b[?25hdone\n",
      "  Created wheel for session-info: filename=session_info-1.0.0-py3-none-any.whl size=8023 sha256=a6ffd2a909b4c198286e173e82252a9b4c3d35b442afc2c8f7aa9aff8cb87772\n",
      "  Stored in directory: /root/.cache/pip/wheels/6a/aa/b9/eb5d4031476ec10802795b97ccf937b9bd998d68a9b268765a\n",
      "Successfully built session-info\n",
      "Installing collected packages: pyro-api, stdlib_list, pyarrow, legacy-api-wrap, gunicorn, graphql-core, array-api-compat, session-info, graphql-relay, graphene, databricks-sdk, mlflow-skinny, pynndescent, umap-learn, seaborn, anndata, scanpy, dcor, torch_geometric, pyro-ppl, mlflow, geoparse, cell-gears\n",
      "  Attempting uninstall: pyarrow\n",
      "    Found existing installation: pyarrow 19.0.0\n",
      "    Uninstalling pyarrow-19.0.0:\n",
      "      Successfully uninstalled pyarrow-19.0.0\n",
      "  Attempting uninstall: seaborn\n",
      "    Found existing installation: seaborn 0.12.2\n",
      "    Uninstalling seaborn-0.12.2:\n",
      "      Successfully uninstalled seaborn-0.12.2\n",
      "\u001b[31mERROR: pip's dependency resolver does not currently take into account all the packages that are installed. This behaviour is the source of the following dependency conflicts.\n",
      "pandas-gbq 0.25.0 requires google-api-core<3.0.0dev,>=2.10.2, but you have google-api-core 1.34.1 which is incompatible.\u001b[0m\u001b[31m\n",
      "\u001b[0mSuccessfully installed anndata-0.11.3 array-api-compat-1.10.0 cell-gears-0.1.2 databricks-sdk-0.43.0 dcor-0.6 geoparse-2.0.4 graphene-3.4.3 graphql-core-3.2.6 graphql-relay-3.2.0 gunicorn-23.0.0 legacy-api-wrap-1.4.1 mlflow-2.20.1 mlflow-skinny-2.20.1 pyarrow-18.1.0 pynndescent-0.5.13 pyro-api-0.1.2 pyro-ppl-1.9.1 scanpy-1.10.4 seaborn-0.13.2 session-info-1.0.0 stdlib_list-0.11.0 torch_geometric-2.6.1 umap-learn-0.5.7\n",
      "Note: you may need to restart the kernel to use updated packages.\n"
     ]
    }
   ],
   "source": [
    "%pip install geoparse torch_geometric cell-gears pyro-ppl mlflow"
   ]
  },
  {
   "cell_type": "code",
   "execution_count": 2,
   "metadata": {
    "execution": {
     "iopub.execute_input": "2025-02-08T03:35:36.782673Z",
     "iopub.status.busy": "2025-02-08T03:35:36.782331Z",
     "iopub.status.idle": "2025-02-08T03:36:24.653733Z",
     "shell.execute_reply": "2025-02-08T03:36:24.653084Z",
     "shell.execute_reply.started": "2025-02-08T03:35:36.782646Z"
    },
    "trusted": true
   },
   "outputs": [],
   "source": [
    "import GEOparse\n",
    "import os\n",
    "import sys\n",
    "sys.path.append('/kaggle/input/gears-perturbation-optimizer')\n",
    "import anndata as ad\n",
    "import pandas as pd\n",
    "import gzip\n",
    "from tqdm import tqdm\n",
    "from gears.utils import dataverse_download\n",
    "from gears import PertData\n",
    "import scanpy as sc\n",
    "from feature_selection import BayesianFeatureSelector\n",
    "import plotly.express as px\n",
    "from itertools import combinations\n",
    "from zipfile import ZipFile\n",
    "from scipy.sparse import csr_matrix, issparse\n",
    "from scipy.stats import pearsonr, spearmanr\n",
    "import numpy as np\n",
    "import pickle"
   ]
  },
  {
   "cell_type": "markdown",
   "metadata": {},
   "source": [
    "# Download AML scRNA dataset\n",
    "https://pubmed.ncbi.nlm.nih.gov/30827681/"
   ]
  },
  {
   "cell_type": "code",
   "execution_count": 3,
   "metadata": {
    "execution": {
     "iopub.execute_input": "2025-02-08T03:36:24.655839Z",
     "iopub.status.busy": "2025-02-08T03:36:24.655169Z",
     "iopub.status.idle": "2025-02-08T03:36:25.944216Z",
     "shell.execute_reply": "2025-02-08T03:36:25.943617Z",
     "shell.execute_reply.started": "2025-02-08T03:36:24.655814Z"
    },
    "trusted": true
   },
   "outputs": [
    {
     "name": "stderr",
     "output_type": "stream",
     "text": [
      "08-Feb-2025 03:36:24 DEBUG utils - Directory ./ already exists. Skipping.\n",
      "08-Feb-2025 03:36:24 INFO GEOparse - Downloading ftp://ftp.ncbi.nlm.nih.gov/geo/series/GSE116nnn/GSE116256/soft/GSE116256_family.soft.gz to ./GSE116256_family.soft.gz\n",
      "100%|██████████| 8.35k/8.35k [00:00<00:00, 18.9kB/s]\n",
      "08-Feb-2025 03:36:25 DEBUG downloader - Size validation passed\n",
      "08-Feb-2025 03:36:25 DEBUG downloader - Moving /tmp/tmpoxh_pzei to /kaggle/working/GSE116256_family.soft.gz\n",
      "08-Feb-2025 03:36:25 DEBUG downloader - Successfully downloaded ftp://ftp.ncbi.nlm.nih.gov/geo/series/GSE116nnn/GSE116256/soft/GSE116256_family.soft.gz\n",
      "08-Feb-2025 03:36:25 INFO GEOparse - Parsing ./GSE116256_family.soft.gz: \n",
      "08-Feb-2025 03:36:25 DEBUG GEOparse - DATABASE: GeoMiame\n",
      "08-Feb-2025 03:36:25 DEBUG GEOparse - SERIES: GSE116256\n",
      "08-Feb-2025 03:36:25 DEBUG GEOparse - PLATFORM: GPL18573\n",
      "08-Feb-2025 03:36:25 DEBUG GEOparse - PLATFORM: GPL24106\n",
      "08-Feb-2025 03:36:25 DEBUG GEOparse - SAMPLE: GSM3587923\n",
      "08-Feb-2025 03:36:25 DEBUG GEOparse - SAMPLE: GSM3587924\n",
      "08-Feb-2025 03:36:25 DEBUG GEOparse - SAMPLE: GSM3587925\n",
      "08-Feb-2025 03:36:25 DEBUG GEOparse - SAMPLE: GSM3587926\n",
      "08-Feb-2025 03:36:25 DEBUG GEOparse - SAMPLE: GSM3587927\n",
      "08-Feb-2025 03:36:25 DEBUG GEOparse - SAMPLE: GSM3587928\n",
      "08-Feb-2025 03:36:25 DEBUG GEOparse - SAMPLE: GSM3587929\n",
      "08-Feb-2025 03:36:25 DEBUG GEOparse - SAMPLE: GSM3587930\n",
      "08-Feb-2025 03:36:25 DEBUG GEOparse - SAMPLE: GSM3587931\n",
      "08-Feb-2025 03:36:25 DEBUG GEOparse - SAMPLE: GSM3587932\n",
      "08-Feb-2025 03:36:25 DEBUG GEOparse - SAMPLE: GSM3587933\n",
      "08-Feb-2025 03:36:25 DEBUG GEOparse - SAMPLE: GSM3587934\n",
      "08-Feb-2025 03:36:25 DEBUG GEOparse - SAMPLE: GSM3587935\n",
      "08-Feb-2025 03:36:25 DEBUG GEOparse - SAMPLE: GSM3587936\n",
      "08-Feb-2025 03:36:25 DEBUG GEOparse - SAMPLE: GSM3587937\n",
      "08-Feb-2025 03:36:25 DEBUG GEOparse - SAMPLE: GSM3587938\n",
      "08-Feb-2025 03:36:25 DEBUG GEOparse - SAMPLE: GSM3587939\n",
      "08-Feb-2025 03:36:25 DEBUG GEOparse - SAMPLE: GSM3587940\n",
      "08-Feb-2025 03:36:25 DEBUG GEOparse - SAMPLE: GSM3587941\n",
      "08-Feb-2025 03:36:25 DEBUG GEOparse - SAMPLE: GSM3587942\n",
      "08-Feb-2025 03:36:25 DEBUG GEOparse - SAMPLE: GSM3587943\n",
      "08-Feb-2025 03:36:25 DEBUG GEOparse - SAMPLE: GSM3587944\n",
      "08-Feb-2025 03:36:25 DEBUG GEOparse - SAMPLE: GSM3587945\n",
      "08-Feb-2025 03:36:25 DEBUG GEOparse - SAMPLE: GSM3587946\n",
      "08-Feb-2025 03:36:25 DEBUG GEOparse - SAMPLE: GSM3587947\n",
      "08-Feb-2025 03:36:25 DEBUG GEOparse - SAMPLE: GSM3587948\n",
      "08-Feb-2025 03:36:25 DEBUG GEOparse - SAMPLE: GSM3587949\n",
      "08-Feb-2025 03:36:25 DEBUG GEOparse - SAMPLE: GSM3587950\n",
      "08-Feb-2025 03:36:25 DEBUG GEOparse - SAMPLE: GSM3587951\n",
      "08-Feb-2025 03:36:25 DEBUG GEOparse - SAMPLE: GSM3587952\n",
      "08-Feb-2025 03:36:25 DEBUG GEOparse - SAMPLE: GSM3587953\n",
      "08-Feb-2025 03:36:25 DEBUG GEOparse - SAMPLE: GSM3587954\n",
      "08-Feb-2025 03:36:25 DEBUG GEOparse - SAMPLE: GSM3587955\n",
      "08-Feb-2025 03:36:25 DEBUG GEOparse - SAMPLE: GSM3587956\n",
      "08-Feb-2025 03:36:25 DEBUG GEOparse - SAMPLE: GSM3587957\n",
      "08-Feb-2025 03:36:25 DEBUG GEOparse - SAMPLE: GSM3587958\n",
      "08-Feb-2025 03:36:25 DEBUG GEOparse - SAMPLE: GSM3587959\n",
      "08-Feb-2025 03:36:25 DEBUG GEOparse - SAMPLE: GSM3587960\n",
      "08-Feb-2025 03:36:25 DEBUG GEOparse - SAMPLE: GSM3587961\n",
      "08-Feb-2025 03:36:25 DEBUG GEOparse - SAMPLE: GSM3587962\n",
      "08-Feb-2025 03:36:25 DEBUG GEOparse - SAMPLE: GSM3587963\n",
      "08-Feb-2025 03:36:25 DEBUG GEOparse - SAMPLE: GSM3587964\n",
      "08-Feb-2025 03:36:25 DEBUG GEOparse - SAMPLE: GSM3587965\n",
      "08-Feb-2025 03:36:25 DEBUG GEOparse - SAMPLE: GSM3587966\n",
      "08-Feb-2025 03:36:25 DEBUG GEOparse - SAMPLE: GSM3587967\n",
      "08-Feb-2025 03:36:25 DEBUG GEOparse - SAMPLE: GSM3587968\n",
      "08-Feb-2025 03:36:25 DEBUG GEOparse - SAMPLE: GSM3587969\n",
      "08-Feb-2025 03:36:25 DEBUG GEOparse - SAMPLE: GSM3587970\n",
      "08-Feb-2025 03:36:25 DEBUG GEOparse - SAMPLE: GSM3587971\n",
      "08-Feb-2025 03:36:25 DEBUG GEOparse - SAMPLE: GSM3587972\n",
      "08-Feb-2025 03:36:25 DEBUG GEOparse - SAMPLE: GSM3587973\n",
      "08-Feb-2025 03:36:25 DEBUG GEOparse - SAMPLE: GSM3587974\n",
      "08-Feb-2025 03:36:25 DEBUG GEOparse - SAMPLE: GSM3587975\n",
      "08-Feb-2025 03:36:25 DEBUG GEOparse - SAMPLE: GSM3587976\n",
      "08-Feb-2025 03:36:25 DEBUG GEOparse - SAMPLE: GSM3587977\n",
      "08-Feb-2025 03:36:25 DEBUG GEOparse - SAMPLE: GSM3587978\n",
      "08-Feb-2025 03:36:25 DEBUG GEOparse - SAMPLE: GSM3587979\n",
      "08-Feb-2025 03:36:25 DEBUG GEOparse - SAMPLE: GSM3587980\n",
      "08-Feb-2025 03:36:25 DEBUG GEOparse - SAMPLE: GSM3587981\n",
      "08-Feb-2025 03:36:25 DEBUG GEOparse - SAMPLE: GSM3587982\n",
      "08-Feb-2025 03:36:25 DEBUG GEOparse - SAMPLE: GSM3587983\n",
      "08-Feb-2025 03:36:25 DEBUG GEOparse - SAMPLE: GSM3587984\n",
      "08-Feb-2025 03:36:25 DEBUG GEOparse - SAMPLE: GSM3587985\n",
      "08-Feb-2025 03:36:25 DEBUG GEOparse - SAMPLE: GSM3587986\n",
      "08-Feb-2025 03:36:25 DEBUG GEOparse - SAMPLE: GSM3587987\n",
      "08-Feb-2025 03:36:25 DEBUG GEOparse - SAMPLE: GSM3587988\n",
      "08-Feb-2025 03:36:25 DEBUG GEOparse - SAMPLE: GSM3587989\n",
      "08-Feb-2025 03:36:25 DEBUG GEOparse - SAMPLE: GSM3587990\n",
      "08-Feb-2025 03:36:25 DEBUG GEOparse - SAMPLE: GSM3587991\n",
      "08-Feb-2025 03:36:25 DEBUG GEOparse - SAMPLE: GSM3587992\n",
      "08-Feb-2025 03:36:25 DEBUG GEOparse - SAMPLE: GSM3587993\n",
      "08-Feb-2025 03:36:25 DEBUG GEOparse - SAMPLE: GSM3587994\n",
      "08-Feb-2025 03:36:25 DEBUG GEOparse - SAMPLE: GSM3587995\n",
      "08-Feb-2025 03:36:25 DEBUG GEOparse - SAMPLE: GSM3587996\n",
      "08-Feb-2025 03:36:25 DEBUG GEOparse - SAMPLE: GSM3587997\n",
      "08-Feb-2025 03:36:25 DEBUG GEOparse - SAMPLE: GSM3587998\n",
      "08-Feb-2025 03:36:25 DEBUG GEOparse - SAMPLE: GSM3587999\n",
      "08-Feb-2025 03:36:25 DEBUG GEOparse - SAMPLE: GSM3588000\n",
      "08-Feb-2025 03:36:25 DEBUG GEOparse - SAMPLE: GSM3588001\n",
      "08-Feb-2025 03:36:25 DEBUG GEOparse - SAMPLE: GSM3588002\n",
      "08-Feb-2025 03:36:25 DEBUG GEOparse - SAMPLE: GSM3588003\n",
      "08-Feb-2025 03:36:25 DEBUG GEOparse - SAMPLE: GSM3588004\n",
      "08-Feb-2025 03:36:25 DEBUG GEOparse - SAMPLE: GSM3588005\n"
     ]
    }
   ],
   "source": [
    "scRNA_aml = GEOparse.get_GEO(geo=\"GSE116256\")\n",
    "scrna_dataDir = f\"scrna_data\"\n",
    "os.makedirs(scrna_dataDir, exist_ok=True)"
   ]
  },
  {
   "cell_type": "code",
   "execution_count": 4,
   "metadata": {
    "execution": {
     "iopub.execute_input": "2025-02-08T03:36:25.945568Z",
     "iopub.status.busy": "2025-02-08T03:36:25.945352Z",
     "iopub.status.idle": "2025-02-08T03:38:30.298207Z",
     "shell.execute_reply": "2025-02-08T03:38:30.297411Z",
     "shell.execute_reply.started": "2025-02-08T03:36:25.945548Z"
    },
    "trusted": true
   },
   "outputs": [
    {
     "name": "stderr",
     "output_type": "stream",
     "text": [
      "100%|██████████| 1.61M/1.61M [00:01<00:00, 1.65MB/s]\n",
      "08-Feb-2025 03:36:27 DEBUG downloader - Size validation passed\n",
      "08-Feb-2025 03:36:27 DEBUG downloader - Moving /tmp/tmpzmfqv_0b to /kaggle/working/scrna_data/Supp_GSM3587923_AML1012-D0/GSM3587923_AML1012-D0.dem.txt.gz\n",
      "08-Feb-2025 03:36:27 DEBUG downloader - Successfully downloaded ftp://ftp.ncbi.nlm.nih.gov/geo/samples/GSM3587nnn/GSM3587923/suppl/GSM3587923_AML1012-D0.dem.txt.gz\n",
      "100%|██████████| 57.8k/57.8k [00:00<00:00, 93.6kB/s]\n",
      "08-Feb-2025 03:36:29 DEBUG downloader - Size validation passed\n",
      "08-Feb-2025 03:36:29 DEBUG downloader - Moving /tmp/tmpk2779ely to /kaggle/working/scrna_data/Supp_GSM3587924_AML1012-D0-anno/GSM3587924_AML1012-D0.anno.txt.gz\n",
      "08-Feb-2025 03:36:29 DEBUG downloader - Successfully downloaded ftp://ftp.ncbi.nlm.nih.gov/geo/samples/GSM3587nnn/GSM3587924/suppl/GSM3587924_AML1012-D0.anno.txt.gz\n",
      "100%|██████████| 1.26M/1.26M [00:01<00:00, 1.29MB/s]\n",
      "08-Feb-2025 03:36:30 DEBUG downloader - Size validation passed\n",
      "08-Feb-2025 03:36:30 DEBUG downloader - Moving /tmp/tmpa5lm4352 to /kaggle/working/scrna_data/Supp_GSM3587925_AML210A-D0/GSM3587925_AML210A-D0.dem.txt.gz\n",
      "08-Feb-2025 03:36:30 DEBUG downloader - Successfully downloaded ftp://ftp.ncbi.nlm.nih.gov/geo/samples/GSM3587nnn/GSM3587925/suppl/GSM3587925_AML210A-D0.dem.txt.gz\n",
      "100%|██████████| 38.7k/38.7k [00:00<00:00, 73.0kB/s]\n",
      "08-Feb-2025 03:36:32 DEBUG downloader - Size validation passed\n",
      "08-Feb-2025 03:36:32 DEBUG downloader - Moving /tmp/tmpw_iiz3d9 to /kaggle/working/scrna_data/Supp_GSM3587926_AML210A-D0-anno/GSM3587926_AML210A-D0.anno.txt.gz\n",
      "08-Feb-2025 03:36:32 DEBUG downloader - Successfully downloaded ftp://ftp.ncbi.nlm.nih.gov/geo/samples/GSM3587nnn/GSM3587926/suppl/GSM3587926_AML210A-D0.anno.txt.gz\n",
      "100%|██████████| 335k/335k [00:00<00:00, 422kB/s]  \n",
      "08-Feb-2025 03:36:33 DEBUG downloader - Size validation passed\n",
      "08-Feb-2025 03:36:33 DEBUG downloader - Moving /tmp/tmpuwm7gwqc to /kaggle/working/scrna_data/Supp_GSM3587927_AML314-D0/GSM3587927_AML314-D0.dem.txt.gz\n",
      "08-Feb-2025 03:36:33 DEBUG downloader - Successfully downloaded ftp://ftp.ncbi.nlm.nih.gov/geo/samples/GSM3587nnn/GSM3587927/suppl/GSM3587927_AML314-D0.dem.txt.gz\n",
      "100%|██████████| 8.61k/8.61k [00:00<00:00, 19.5kB/s]\n",
      "08-Feb-2025 03:36:34 DEBUG downloader - Size validation passed\n",
      "08-Feb-2025 03:36:34 DEBUG downloader - Moving /tmp/tmpv1m83hgb to /kaggle/working/scrna_data/Supp_GSM3587928_AML314-D0-anno/GSM3587928_AML314-D0.anno.txt.gz\n",
      "08-Feb-2025 03:36:34 DEBUG downloader - Successfully downloaded ftp://ftp.ncbi.nlm.nih.gov/geo/samples/GSM3587nnn/GSM3587928/suppl/GSM3587928_AML314-D0.anno.txt.gz\n",
      "100%|██████████| 706k/706k [00:00<00:00, 787kB/s]  \n",
      "08-Feb-2025 03:36:35 DEBUG downloader - Size validation passed\n",
      "08-Feb-2025 03:36:35 DEBUG downloader - Moving /tmp/tmpved9ofav to /kaggle/working/scrna_data/Supp_GSM3587929_AML314-D31/GSM3587929_AML314-D31.dem.txt.gz\n",
      "08-Feb-2025 03:36:35 DEBUG downloader - Successfully downloaded ftp://ftp.ncbi.nlm.nih.gov/geo/samples/GSM3587nnn/GSM3587929/suppl/GSM3587929_AML314-D31.dem.txt.gz\n",
      "100%|██████████| 17.6k/17.6k [00:00<00:00, 33.3kB/s]\n",
      "08-Feb-2025 03:36:37 DEBUG downloader - Size validation passed\n",
      "08-Feb-2025 03:36:37 DEBUG downloader - Moving /tmp/tmp_j68nu6v to /kaggle/working/scrna_data/Supp_GSM3587930_AML314-D31-anno/GSM3587930_AML314-D31.anno.txt.gz\n",
      "08-Feb-2025 03:36:37 DEBUG downloader - Successfully downloaded ftp://ftp.ncbi.nlm.nih.gov/geo/samples/GSM3587nnn/GSM3587930/suppl/GSM3587930_AML314-D31.anno.txt.gz\n",
      "100%|██████████| 1.82M/1.82M [00:01<00:00, 1.70MB/s]\n",
      "08-Feb-2025 03:36:38 DEBUG downloader - Size validation passed\n",
      "08-Feb-2025 03:36:38 DEBUG downloader - Moving /tmp/tmp9rxi3yyp to /kaggle/working/scrna_data/Supp_GSM3587931_AML328-D0/GSM3587931_AML328-D0.dem.txt.gz\n",
      "08-Feb-2025 03:36:38 DEBUG downloader - Successfully downloaded ftp://ftp.ncbi.nlm.nih.gov/geo/samples/GSM3587nnn/GSM3587931/suppl/GSM3587931_AML328-D0.dem.txt.gz\n",
      "100%|██████████| 54.7k/54.7k [00:00<00:00, 88.7kB/s]\n",
      "08-Feb-2025 03:36:40 DEBUG downloader - Size validation passed\n",
      "08-Feb-2025 03:36:40 DEBUG downloader - Moving /tmp/tmp17wn_2tl to /kaggle/working/scrna_data/Supp_GSM3587932_AML328-D0-anno/GSM3587932_AML328-D0.anno.txt.gz\n",
      "08-Feb-2025 03:36:40 DEBUG downloader - Successfully downloaded ftp://ftp.ncbi.nlm.nih.gov/geo/samples/GSM3587nnn/GSM3587932/suppl/GSM3587932_AML328-D0.anno.txt.gz\n",
      "100%|██████████| 2.67M/2.67M [00:01<00:00, 2.46MB/s]\n",
      "08-Feb-2025 03:36:41 DEBUG downloader - Size validation passed\n",
      "08-Feb-2025 03:36:41 DEBUG downloader - Moving /tmp/tmp_uhpdsiq to /kaggle/working/scrna_data/Supp_GSM3587933_AML328-D113/GSM3587933_AML328-D113.dem.txt.gz\n",
      "08-Feb-2025 03:36:41 DEBUG downloader - Successfully downloaded ftp://ftp.ncbi.nlm.nih.gov/geo/samples/GSM3587nnn/GSM3587933/suppl/GSM3587933_AML328-D113.dem.txt.gz\n",
      "100%|██████████| 96.4k/96.4k [00:00<00:00, 156kB/s] \n",
      "08-Feb-2025 03:36:43 DEBUG downloader - Size validation passed\n",
      "08-Feb-2025 03:36:43 DEBUG downloader - Moving /tmp/tmpnz597byl to /kaggle/working/scrna_data/Supp_GSM3587934_AML328-D113-anno/GSM3587934_AML328-D113.anno.txt.gz\n",
      "08-Feb-2025 03:36:43 DEBUG downloader - Successfully downloaded ftp://ftp.ncbi.nlm.nih.gov/geo/samples/GSM3587nnn/GSM3587934/suppl/GSM3587934_AML328-D113.anno.txt.gz\n",
      "100%|██████████| 1.86M/1.86M [00:01<00:00, 1.75MB/s]\n",
      "08-Feb-2025 03:36:44 DEBUG downloader - Size validation passed\n",
      "08-Feb-2025 03:36:44 DEBUG downloader - Moving /tmp/tmp11feaach to /kaggle/working/scrna_data/Supp_GSM3587935_AML328-D171/GSM3587935_AML328-D171.dem.txt.gz\n",
      "08-Feb-2025 03:36:44 DEBUG downloader - Successfully downloaded ftp://ftp.ncbi.nlm.nih.gov/geo/samples/GSM3587nnn/GSM3587935/suppl/GSM3587935_AML328-D171.dem.txt.gz\n",
      "100%|██████████| 66.8k/66.8k [00:00<00:00, 106kB/s] \n",
      "08-Feb-2025 03:36:46 DEBUG downloader - Size validation passed\n",
      "08-Feb-2025 03:36:46 DEBUG downloader - Moving /tmp/tmpkxy2lu47 to /kaggle/working/scrna_data/Supp_GSM3587936_AML328-D171-anno/GSM3587936_AML328-D171.anno.txt.gz\n",
      "08-Feb-2025 03:36:46 DEBUG downloader - Successfully downloaded ftp://ftp.ncbi.nlm.nih.gov/geo/samples/GSM3587nnn/GSM3587936/suppl/GSM3587936_AML328-D171.anno.txt.gz\n",
      "100%|██████████| 3.26M/3.26M [00:01<00:00, 3.05MB/s]\n",
      "08-Feb-2025 03:36:47 DEBUG downloader - Size validation passed\n",
      "08-Feb-2025 03:36:47 DEBUG downloader - Moving /tmp/tmpegy_cuiv to /kaggle/working/scrna_data/Supp_GSM3587937_AML328-D29/GSM3587937_AML328-D29.dem.txt.gz\n",
      "08-Feb-2025 03:36:47 DEBUG downloader - Successfully downloaded ftp://ftp.ncbi.nlm.nih.gov/geo/samples/GSM3587nnn/GSM3587937/suppl/GSM3587937_AML328-D29.dem.txt.gz\n",
      "100%|██████████| 93.0k/93.0k [00:00<00:00, 151kB/s] \n",
      "08-Feb-2025 03:36:49 DEBUG downloader - Size validation passed\n",
      "08-Feb-2025 03:36:49 DEBUG downloader - Moving /tmp/tmp_04oidxt to /kaggle/working/scrna_data/Supp_GSM3587938_AML328-D29-anno/GSM3587938_AML328-D29.anno.txt.gz\n",
      "08-Feb-2025 03:36:49 DEBUG downloader - Successfully downloaded ftp://ftp.ncbi.nlm.nih.gov/geo/samples/GSM3587nnn/GSM3587938/suppl/GSM3587938_AML328-D29.anno.txt.gz\n",
      "100%|██████████| 31.4k/31.4k [00:00<00:00, 59.4kB/s]\n",
      "08-Feb-2025 03:36:50 DEBUG downloader - Size validation passed\n",
      "08-Feb-2025 03:36:50 DEBUG downloader - Moving /tmp/tmpns9ipox0 to /kaggle/working/scrna_data/Supp_GSM3587939_AML328-nanopore/GSM3587939_AML328.nanopore.txt.gz\n",
      "08-Feb-2025 03:36:50 DEBUG downloader - Successfully downloaded ftp://ftp.ncbi.nlm.nih.gov/geo/samples/GSM3587nnn/GSM3587939/suppl/GSM3587939_AML328.nanopore.txt.gz\n",
      "100%|██████████| 1.01M/1.01M [00:01<00:00, 1.05MB/s]\n",
      "08-Feb-2025 03:36:52 DEBUG downloader - Size validation passed\n",
      "08-Feb-2025 03:36:52 DEBUG downloader - Moving /tmp/tmpy7nws2xr to /kaggle/working/scrna_data/Supp_GSM3587940_AML329-D0/GSM3587940_AML329-D0.dem.txt.gz\n",
      "08-Feb-2025 03:36:52 DEBUG downloader - Successfully downloaded ftp://ftp.ncbi.nlm.nih.gov/geo/samples/GSM3587nnn/GSM3587940/suppl/GSM3587940_AML329-D0.dem.txt.gz\n",
      "100%|██████████| 29.1k/29.1k [00:00<00:00, 55.0kB/s]\n",
      "08-Feb-2025 03:36:53 DEBUG downloader - Size validation passed\n",
      "08-Feb-2025 03:36:53 DEBUG downloader - Moving /tmp/tmpcqq595je to /kaggle/working/scrna_data/Supp_GSM3587941_AML329-D0-anno/GSM3587941_AML329-D0.anno.txt.gz\n",
      "08-Feb-2025 03:36:53 DEBUG downloader - Successfully downloaded ftp://ftp.ncbi.nlm.nih.gov/geo/samples/GSM3587nnn/GSM3587941/suppl/GSM3587941_AML329-D0.anno.txt.gz\n",
      "100%|██████████| 1.73M/1.73M [00:01<00:00, 1.73MB/s]\n",
      "08-Feb-2025 03:36:54 DEBUG downloader - Size validation passed\n",
      "08-Feb-2025 03:36:54 DEBUG downloader - Moving /tmp/tmp1ye275tg to /kaggle/working/scrna_data/Supp_GSM3587942_AML329-D20/GSM3587942_AML329-D20.dem.txt.gz\n",
      "08-Feb-2025 03:36:54 DEBUG downloader - Successfully downloaded ftp://ftp.ncbi.nlm.nih.gov/geo/samples/GSM3587nnn/GSM3587942/suppl/GSM3587942_AML329-D20.dem.txt.gz\n",
      "100%|██████████| 49.4k/49.4k [00:00<00:00, 79.9kB/s]\n",
      "08-Feb-2025 03:36:56 DEBUG downloader - Size validation passed\n",
      "08-Feb-2025 03:36:56 DEBUG downloader - Moving /tmp/tmp5afhilg2 to /kaggle/working/scrna_data/Supp_GSM3587943_AML329-D20-anno/GSM3587943_AML329-D20.anno.txt.gz\n",
      "08-Feb-2025 03:36:56 DEBUG downloader - Successfully downloaded ftp://ftp.ncbi.nlm.nih.gov/geo/samples/GSM3587nnn/GSM3587943/suppl/GSM3587943_AML329-D20.anno.txt.gz\n",
      "100%|██████████| 550k/550k [00:00<00:00, 616kB/s]  \n",
      "08-Feb-2025 03:36:57 DEBUG downloader - Size validation passed\n",
      "08-Feb-2025 03:36:57 DEBUG downloader - Moving /tmp/tmpxzy7464d to /kaggle/working/scrna_data/Supp_GSM3587944_AML329-D37/GSM3587944_AML329-D37.dem.txt.gz\n",
      "08-Feb-2025 03:36:57 DEBUG downloader - Successfully downloaded ftp://ftp.ncbi.nlm.nih.gov/geo/samples/GSM3587nnn/GSM3587944/suppl/GSM3587944_AML329-D37.dem.txt.gz\n",
      "100%|██████████| 12.3k/12.3k [00:00<00:00, 28.0kB/s]\n",
      "08-Feb-2025 03:36:58 DEBUG downloader - Size validation passed\n",
      "08-Feb-2025 03:36:58 DEBUG downloader - Moving /tmp/tmppawj_rvp to /kaggle/working/scrna_data/Supp_GSM3587945_AML329-D37-anno/GSM3587945_AML329-D37.anno.txt.gz\n",
      "08-Feb-2025 03:36:58 DEBUG downloader - Successfully downloaded ftp://ftp.ncbi.nlm.nih.gov/geo/samples/GSM3587nnn/GSM3587945/suppl/GSM3587945_AML329-D37.anno.txt.gz\n",
      "100%|██████████| 1.18M/1.18M [00:01<00:00, 1.20MB/s]\n",
      "08-Feb-2025 03:37:00 DEBUG downloader - Size validation passed\n",
      "08-Feb-2025 03:37:00 DEBUG downloader - Moving /tmp/tmpiqvb86pk to /kaggle/working/scrna_data/Supp_GSM3587946_AML371-D0/GSM3587946_AML371-D0.dem.txt.gz\n",
      "08-Feb-2025 03:37:00 DEBUG downloader - Successfully downloaded ftp://ftp.ncbi.nlm.nih.gov/geo/samples/GSM3587nnn/GSM3587946/suppl/GSM3587946_AML371-D0.dem.txt.gz\n",
      "100%|██████████| 37.9k/37.9k [00:00<00:00, 71.8kB/s]\n",
      "08-Feb-2025 03:37:01 DEBUG downloader - Size validation passed\n",
      "08-Feb-2025 03:37:01 DEBUG downloader - Moving /tmp/tmpw9koc7hn to /kaggle/working/scrna_data/Supp_GSM3587947_AML371-D0-anno/GSM3587947_AML371-D0.anno.txt.gz\n",
      "08-Feb-2025 03:37:01 DEBUG downloader - Successfully downloaded ftp://ftp.ncbi.nlm.nih.gov/geo/samples/GSM3587nnn/GSM3587947/suppl/GSM3587947_AML371-D0.anno.txt.gz\n",
      "100%|██████████| 439k/439k [00:00<00:00, 491kB/s]  \n",
      "08-Feb-2025 03:37:02 DEBUG downloader - Size validation passed\n",
      "08-Feb-2025 03:37:02 DEBUG downloader - Moving /tmp/tmp4ane_epa to /kaggle/working/scrna_data/Supp_GSM3587948_AML371-D34/GSM3587948_AML371-D34.dem.txt.gz\n",
      "08-Feb-2025 03:37:02 DEBUG downloader - Successfully downloaded ftp://ftp.ncbi.nlm.nih.gov/geo/samples/GSM3587nnn/GSM3587948/suppl/GSM3587948_AML371-D34.dem.txt.gz\n",
      "100%|██████████| 10.8k/10.8k [00:00<00:00, 24.5kB/s]\n",
      "08-Feb-2025 03:37:03 DEBUG downloader - Size validation passed\n",
      "08-Feb-2025 03:37:03 DEBUG downloader - Moving /tmp/tmpb3_a5ou1 to /kaggle/working/scrna_data/Supp_GSM3587949_AML371-D34-anno/GSM3587949_AML371-D34.anno.txt.gz\n",
      "08-Feb-2025 03:37:03 DEBUG downloader - Successfully downloaded ftp://ftp.ncbi.nlm.nih.gov/geo/samples/GSM3587nnn/GSM3587949/suppl/GSM3587949_AML371-D34.anno.txt.gz\n",
      "100%|██████████| 2.05M/2.05M [00:01<00:00, 1.92MB/s]\n",
      "08-Feb-2025 03:37:05 DEBUG downloader - Size validation passed\n",
      "08-Feb-2025 03:37:05 DEBUG downloader - Moving /tmp/tmpyk0h1bjl to /kaggle/working/scrna_data/Supp_GSM3587950_AML419A-D0/GSM3587950_AML419A-D0.dem.txt.gz\n",
      "08-Feb-2025 03:37:05 DEBUG downloader - Successfully downloaded ftp://ftp.ncbi.nlm.nih.gov/geo/samples/GSM3587nnn/GSM3587950/suppl/GSM3587950_AML419A-D0.dem.txt.gz\n",
      "100%|██████████| 62.3k/62.3k [00:00<00:00, 101kB/s] \n",
      "08-Feb-2025 03:37:06 DEBUG downloader - Size validation passed\n",
      "08-Feb-2025 03:37:06 DEBUG downloader - Moving /tmp/tmpovga91bm to /kaggle/working/scrna_data/Supp_GSM3587951_AML419A-D0-anno/GSM3587951_AML419A-D0.anno.txt.gz\n",
      "08-Feb-2025 03:37:06 DEBUG downloader - Successfully downloaded ftp://ftp.ncbi.nlm.nih.gov/geo/samples/GSM3587nnn/GSM3587951/suppl/GSM3587951_AML419A-D0.anno.txt.gz\n",
      "100%|██████████| 6.26k/6.26k [00:00<00:00, 14.1kB/s]\n",
      "08-Feb-2025 03:37:08 DEBUG downloader - Size validation passed\n",
      "08-Feb-2025 03:37:08 DEBUG downloader - Moving /tmp/tmpc3tjk9bv to /kaggle/working/scrna_data/Supp_GSM3587952_AML419A-nanopore/GSM3587952_AML419A.nanopore.txt.gz\n",
      "08-Feb-2025 03:37:08 DEBUG downloader - Successfully downloaded ftp://ftp.ncbi.nlm.nih.gov/geo/samples/GSM3587nnn/GSM3587952/suppl/GSM3587952_AML419A.nanopore.txt.gz\n",
      "100%|██████████| 863k/863k [00:00<00:00, 957kB/s]  \n",
      "08-Feb-2025 03:37:09 DEBUG downloader - Size validation passed\n",
      "08-Feb-2025 03:37:09 DEBUG downloader - Moving /tmp/tmp2fqvkt6g to /kaggle/working/scrna_data/Supp_GSM3587953_AML420B-D0/GSM3587953_AML420B-D0.dem.txt.gz\n",
      "08-Feb-2025 03:37:09 DEBUG downloader - Successfully downloaded ftp://ftp.ncbi.nlm.nih.gov/geo/samples/GSM3587nnn/GSM3587953/suppl/GSM3587953_AML420B-D0.dem.txt.gz\n",
      "100%|██████████| 24.6k/24.6k [00:00<00:00, 46.7kB/s]\n",
      "08-Feb-2025 03:37:10 DEBUG downloader - Size validation passed\n",
      "08-Feb-2025 03:37:10 DEBUG downloader - Moving /tmp/tmpsm968wtz to /kaggle/working/scrna_data/Supp_GSM3587954_AML420B-D0-anno/GSM3587954_AML420B-D0.anno.txt.gz\n",
      "08-Feb-2025 03:37:10 DEBUG downloader - Successfully downloaded ftp://ftp.ncbi.nlm.nih.gov/geo/samples/GSM3587nnn/GSM3587954/suppl/GSM3587954_AML420B-D0.anno.txt.gz\n",
      "100%|██████████| 1.85M/1.85M [00:01<00:00, 1.75MB/s]\n",
      "08-Feb-2025 03:37:12 DEBUG downloader - Size validation passed\n",
      "08-Feb-2025 03:37:12 DEBUG downloader - Moving /tmp/tmp8rec0btz to /kaggle/working/scrna_data/Supp_GSM3587955_AML420B-D14/GSM3587955_AML420B-D14.dem.txt.gz\n",
      "08-Feb-2025 03:37:12 DEBUG downloader - Successfully downloaded ftp://ftp.ncbi.nlm.nih.gov/geo/samples/GSM3587nnn/GSM3587955/suppl/GSM3587955_AML420B-D14.dem.txt.gz\n",
      "100%|██████████| 61.4k/61.4k [00:00<00:00, 99.6kB/s]\n",
      "08-Feb-2025 03:37:13 DEBUG downloader - Size validation passed\n",
      "08-Feb-2025 03:37:13 DEBUG downloader - Moving /tmp/tmpte9vxt6k to /kaggle/working/scrna_data/Supp_GSM3587956_AML420B-D14-anno/GSM3587956_AML420B-D14.anno.txt.gz\n",
      "08-Feb-2025 03:37:13 DEBUG downloader - Successfully downloaded ftp://ftp.ncbi.nlm.nih.gov/geo/samples/GSM3587nnn/GSM3587956/suppl/GSM3587956_AML420B-D14.anno.txt.gz\n",
      "100%|██████████| 1.20M/1.20M [00:01<00:00, 1.23MB/s]\n",
      "08-Feb-2025 03:37:15 DEBUG downloader - Size validation passed\n",
      "08-Feb-2025 03:37:15 DEBUG downloader - Moving /tmp/tmplx5y19vy to /kaggle/working/scrna_data/Supp_GSM3587957_AML420B-D35/GSM3587957_AML420B-D35.dem.txt.gz\n",
      "08-Feb-2025 03:37:15 DEBUG downloader - Successfully downloaded ftp://ftp.ncbi.nlm.nih.gov/geo/samples/GSM3587nnn/GSM3587957/suppl/GSM3587957_AML420B-D35.dem.txt.gz\n",
      "100%|██████████| 35.6k/35.6k [00:00<00:00, 67.2kB/s]\n",
      "08-Feb-2025 03:37:16 DEBUG downloader - Size validation passed\n",
      "08-Feb-2025 03:37:16 DEBUG downloader - Moving /tmp/tmpsckld371 to /kaggle/working/scrna_data/Supp_GSM3587958_AML420B-D35-anno/GSM3587958_AML420B-D35.anno.txt.gz\n",
      "08-Feb-2025 03:37:16 DEBUG downloader - Successfully downloaded ftp://ftp.ncbi.nlm.nih.gov/geo/samples/GSM3587nnn/GSM3587958/suppl/GSM3587958_AML420B-D35.anno.txt.gz\n",
      "100%|██████████| 764k/764k [00:00<00:00, 866kB/s]  \n",
      "08-Feb-2025 03:37:17 DEBUG downloader - Size validation passed\n",
      "08-Feb-2025 03:37:17 DEBUG downloader - Moving /tmp/tmpzrw0n__h to /kaggle/working/scrna_data/Supp_GSM3587959_AML475-D0/GSM3587959_AML475-D0.dem.txt.gz\n",
      "08-Feb-2025 03:37:17 DEBUG downloader - Successfully downloaded ftp://ftp.ncbi.nlm.nih.gov/geo/samples/GSM3587nnn/GSM3587959/suppl/GSM3587959_AML475-D0.dem.txt.gz\n",
      "100%|██████████| 22.1k/22.1k [00:00<00:00, 42.0kB/s]\n",
      "08-Feb-2025 03:37:19 DEBUG downloader - Size validation passed\n",
      "08-Feb-2025 03:37:19 DEBUG downloader - Moving /tmp/tmp3knw_ss2 to /kaggle/working/scrna_data/Supp_GSM3587960_AML475-D0-anno/GSM3587960_AML475-D0.anno.txt.gz\n",
      "08-Feb-2025 03:37:19 DEBUG downloader - Successfully downloaded ftp://ftp.ncbi.nlm.nih.gov/geo/samples/GSM3587nnn/GSM3587960/suppl/GSM3587960_AML475-D0.anno.txt.gz\n",
      "100%|██████████| 343k/343k [00:00<00:00, 432kB/s]  \n",
      "08-Feb-2025 03:37:20 DEBUG downloader - Size validation passed\n",
      "08-Feb-2025 03:37:20 DEBUG downloader - Moving /tmp/tmp1xzwp62m to /kaggle/working/scrna_data/Supp_GSM3587961_AML475-D29/GSM3587961_AML475-D29.dem.txt.gz\n",
      "08-Feb-2025 03:37:20 DEBUG downloader - Successfully downloaded ftp://ftp.ncbi.nlm.nih.gov/geo/samples/GSM3587nnn/GSM3587961/suppl/GSM3587961_AML475-D29.dem.txt.gz\n",
      "100%|██████████| 5.86k/5.86k [00:00<00:00, 13.2kB/s]\n",
      "08-Feb-2025 03:37:21 DEBUG downloader - Size validation passed\n",
      "08-Feb-2025 03:37:21 DEBUG downloader - Moving /tmp/tmplr87pspt to /kaggle/working/scrna_data/Supp_GSM3587962_AML475-D29-anno/GSM3587962_AML475-D29.anno.txt.gz\n",
      "08-Feb-2025 03:37:21 DEBUG downloader - Successfully downloaded ftp://ftp.ncbi.nlm.nih.gov/geo/samples/GSM3587nnn/GSM3587962/suppl/GSM3587962_AML475-D29.anno.txt.gz\n",
      "100%|██████████| 3.59M/3.59M [00:01<00:00, 3.09MB/s]\n",
      "08-Feb-2025 03:37:23 DEBUG downloader - Size validation passed\n",
      "08-Feb-2025 03:37:23 DEBUG downloader - Moving /tmp/tmp8hwmwh8f to /kaggle/working/scrna_data/Supp_GSM3587963_AML556-D0/GSM3587963_AML556-D0.dem.txt.gz\n",
      "08-Feb-2025 03:37:23 DEBUG downloader - Successfully downloaded ftp://ftp.ncbi.nlm.nih.gov/geo/samples/GSM3587nnn/GSM3587963/suppl/GSM3587963_AML556-D0.dem.txt.gz\n",
      "100%|██████████| 117k/117k [00:00<00:00, 167kB/s]  \n",
      "08-Feb-2025 03:37:25 DEBUG downloader - Size validation passed\n",
      "08-Feb-2025 03:37:25 DEBUG downloader - Moving /tmp/tmpj724fbfv to /kaggle/working/scrna_data/Supp_GSM3587964_AML556-D0-anno/GSM3587964_AML556-D0.anno.txt.gz\n",
      "08-Feb-2025 03:37:25 DEBUG downloader - Successfully downloaded ftp://ftp.ncbi.nlm.nih.gov/geo/samples/GSM3587nnn/GSM3587964/suppl/GSM3587964_AML556-D0.anno.txt.gz\n",
      "100%|██████████| 1.59M/1.59M [00:01<00:00, 1.63MB/s]\n",
      "08-Feb-2025 03:37:26 DEBUG downloader - Size validation passed\n",
      "08-Feb-2025 03:37:26 DEBUG downloader - Moving /tmp/tmp37fdpxpu to /kaggle/working/scrna_data/Supp_GSM3587965_AML556-D15/GSM3587965_AML556-D15.dem.txt.gz\n",
      "08-Feb-2025 03:37:26 DEBUG downloader - Successfully downloaded ftp://ftp.ncbi.nlm.nih.gov/geo/samples/GSM3587nnn/GSM3587965/suppl/GSM3587965_AML556-D15.dem.txt.gz\n",
      "100%|██████████| 59.3k/59.3k [00:00<00:00, 95.6kB/s]\n",
      "08-Feb-2025 03:37:27 DEBUG downloader - Size validation passed\n",
      "08-Feb-2025 03:37:27 DEBUG downloader - Moving /tmp/tmp9dj6gl72 to /kaggle/working/scrna_data/Supp_GSM3587966_AML556-D15-anno/GSM3587966_AML556-D15.anno.txt.gz\n",
      "08-Feb-2025 03:37:27 DEBUG downloader - Successfully downloaded ftp://ftp.ncbi.nlm.nih.gov/geo/samples/GSM3587nnn/GSM3587966/suppl/GSM3587966_AML556-D15.anno.txt.gz\n",
      "100%|██████████| 2.39M/2.39M [00:01<00:00, 2.24MB/s]\n",
      "08-Feb-2025 03:37:29 DEBUG downloader - Size validation passed\n",
      "08-Feb-2025 03:37:29 DEBUG downloader - Moving /tmp/tmp3dyiu38b to /kaggle/working/scrna_data/Supp_GSM3587967_AML556-D31/GSM3587967_AML556-D31.dem.txt.gz\n",
      "08-Feb-2025 03:37:29 DEBUG downloader - Successfully downloaded ftp://ftp.ncbi.nlm.nih.gov/geo/samples/GSM3587nnn/GSM3587967/suppl/GSM3587967_AML556-D31.dem.txt.gz\n",
      "100%|██████████| 74.8k/74.8k [00:00<00:00, 121kB/s] \n",
      "08-Feb-2025 03:37:30 DEBUG downloader - Size validation passed\n",
      "08-Feb-2025 03:37:30 DEBUG downloader - Moving /tmp/tmpnpmdz90j to /kaggle/working/scrna_data/Supp_GSM3587968_AML556-D31-anno/GSM3587968_AML556-D31.anno.txt.gz\n",
      "08-Feb-2025 03:37:30 DEBUG downloader - Successfully downloaded ftp://ftp.ncbi.nlm.nih.gov/geo/samples/GSM3587nnn/GSM3587968/suppl/GSM3587968_AML556-D31.anno.txt.gz\n",
      "100%|██████████| 2.58M/2.58M [00:01<00:00, 2.42MB/s]\n",
      "08-Feb-2025 03:37:32 DEBUG downloader - Size validation passed\n",
      "08-Feb-2025 03:37:32 DEBUG downloader - Moving /tmp/tmp8ussn8t2 to /kaggle/working/scrna_data/Supp_GSM3587969_AML707B-D0/GSM3587969_AML707B-D0.dem.txt.gz\n",
      "08-Feb-2025 03:37:32 DEBUG downloader - Successfully downloaded ftp://ftp.ncbi.nlm.nih.gov/geo/samples/GSM3587nnn/GSM3587969/suppl/GSM3587969_AML707B-D0.dem.txt.gz\n",
      "100%|██████████| 79.8k/79.8k [00:00<00:00, 129kB/s] \n",
      "08-Feb-2025 03:37:34 DEBUG downloader - Size validation passed\n",
      "08-Feb-2025 03:37:34 DEBUG downloader - Moving /tmp/tmpm8kgv7yh to /kaggle/working/scrna_data/Supp_GSM3587970_AML707B-D0-anno/GSM3587970_AML707B-D0.anno.txt.gz\n",
      "08-Feb-2025 03:37:34 DEBUG downloader - Successfully downloaded ftp://ftp.ncbi.nlm.nih.gov/geo/samples/GSM3587nnn/GSM3587970/suppl/GSM3587970_AML707B-D0.anno.txt.gz\n",
      "100%|██████████| 1.27M/1.27M [00:01<00:00, 1.31MB/s]\n",
      "08-Feb-2025 03:37:35 DEBUG downloader - Size validation passed\n",
      "08-Feb-2025 03:37:35 DEBUG downloader - Moving /tmp/tmplym0pz7j to /kaggle/working/scrna_data/Supp_GSM3587971_AML707B-D113/GSM3587971_AML707B-D113.dem.txt.gz\n",
      "08-Feb-2025 03:37:35 DEBUG downloader - Successfully downloaded ftp://ftp.ncbi.nlm.nih.gov/geo/samples/GSM3587nnn/GSM3587971/suppl/GSM3587971_AML707B-D113.dem.txt.gz\n",
      "100%|██████████| 35.8k/35.8k [00:00<00:00, 67.9kB/s]\n",
      "08-Feb-2025 03:37:36 DEBUG downloader - Size validation passed\n",
      "08-Feb-2025 03:37:36 DEBUG downloader - Moving /tmp/tmp0g5r4vfu to /kaggle/working/scrna_data/Supp_GSM3587972_AML707B-D113-anno/GSM3587972_AML707B-D113.anno.txt.gz\n",
      "08-Feb-2025 03:37:36 DEBUG downloader - Successfully downloaded ftp://ftp.ncbi.nlm.nih.gov/geo/samples/GSM3587nnn/GSM3587972/suppl/GSM3587972_AML707B-D113.anno.txt.gz\n",
      "100%|██████████| 2.17M/2.17M [00:01<00:00, 2.04MB/s]\n",
      "08-Feb-2025 03:37:38 DEBUG downloader - Size validation passed\n",
      "08-Feb-2025 03:37:38 DEBUG downloader - Moving /tmp/tmpb4qs82or to /kaggle/working/scrna_data/Supp_GSM3587973_AML707B-D18/GSM3587973_AML707B-D18.dem.txt.gz\n",
      "08-Feb-2025 03:37:38 DEBUG downloader - Successfully downloaded ftp://ftp.ncbi.nlm.nih.gov/geo/samples/GSM3587nnn/GSM3587973/suppl/GSM3587973_AML707B-D18.dem.txt.gz\n",
      "100%|██████████| 80.4k/80.4k [00:00<00:00, 129kB/s] \n",
      "08-Feb-2025 03:37:39 DEBUG downloader - Size validation passed\n",
      "08-Feb-2025 03:37:39 DEBUG downloader - Moving /tmp/tmpt8d4r5lk to /kaggle/working/scrna_data/Supp_GSM3587974_AML707B-D18-anno/GSM3587974_AML707B-D18.anno.txt.gz\n",
      "08-Feb-2025 03:37:39 DEBUG downloader - Successfully downloaded ftp://ftp.ncbi.nlm.nih.gov/geo/samples/GSM3587nnn/GSM3587974/suppl/GSM3587974_AML707B-D18.anno.txt.gz\n",
      "100%|██████████| 712k/712k [00:00<00:00, 793kB/s]  \n",
      "08-Feb-2025 03:37:41 DEBUG downloader - Size validation passed\n",
      "08-Feb-2025 03:37:41 DEBUG downloader - Moving /tmp/tmptwaidn5f to /kaggle/working/scrna_data/Supp_GSM3587975_AML707B-D41/GSM3587975_AML707B-D41.dem.txt.gz\n",
      "08-Feb-2025 03:37:41 DEBUG downloader - Successfully downloaded ftp://ftp.ncbi.nlm.nih.gov/geo/samples/GSM3587nnn/GSM3587975/suppl/GSM3587975_AML707B-D41.dem.txt.gz\n",
      "100%|██████████| 19.9k/19.9k [00:00<00:00, 37.7kB/s]\n",
      "08-Feb-2025 03:37:42 DEBUG downloader - Size validation passed\n",
      "08-Feb-2025 03:37:42 DEBUG downloader - Moving /tmp/tmpvwji4zpy to /kaggle/working/scrna_data/Supp_GSM3587976_AML707B-D41-anno/GSM3587976_AML707B-D41.anno.txt.gz\n",
      "08-Feb-2025 03:37:42 DEBUG downloader - Successfully downloaded ftp://ftp.ncbi.nlm.nih.gov/geo/samples/GSM3587nnn/GSM3587976/suppl/GSM3587976_AML707B-D41.anno.txt.gz\n",
      "100%|██████████| 238k/238k [00:00<00:00, 298kB/s]  \n",
      "08-Feb-2025 03:37:43 DEBUG downloader - Size validation passed\n",
      "08-Feb-2025 03:37:43 DEBUG downloader - Moving /tmp/tmp3aot82tv to /kaggle/working/scrna_data/Supp_GSM3587977_AML707B-D97/GSM3587977_AML707B-D97.dem.txt.gz\n",
      "08-Feb-2025 03:37:43 DEBUG downloader - Successfully downloaded ftp://ftp.ncbi.nlm.nih.gov/geo/samples/GSM3587nnn/GSM3587977/suppl/GSM3587977_AML707B-D97.dem.txt.gz\n",
      "100%|██████████| 4.81k/4.81k [00:00<00:00, 10.9kB/s]\n",
      "08-Feb-2025 03:37:44 DEBUG downloader - Size validation passed\n",
      "08-Feb-2025 03:37:44 DEBUG downloader - Moving /tmp/tmprqdlkhhn to /kaggle/working/scrna_data/Supp_GSM3587978_AML707B-D97-anno/GSM3587978_AML707B-D97.anno.txt.gz\n",
      "08-Feb-2025 03:37:44 DEBUG downloader - Successfully downloaded ftp://ftp.ncbi.nlm.nih.gov/geo/samples/GSM3587nnn/GSM3587978/suppl/GSM3587978_AML707B-D97.anno.txt.gz\n",
      "100%|██████████| 21.7k/21.7k [00:00<00:00, 41.2kB/s]\n",
      "08-Feb-2025 03:37:46 DEBUG downloader - Size validation passed\n",
      "08-Feb-2025 03:37:46 DEBUG downloader - Moving /tmp/tmpa70vjbnx to /kaggle/working/scrna_data/Supp_GSM3587979_AML707B-nanopore/GSM3587979_AML707B.nanopore.txt.gz\n",
      "08-Feb-2025 03:37:46 DEBUG downloader - Successfully downloaded ftp://ftp.ncbi.nlm.nih.gov/geo/samples/GSM3587nnn/GSM3587979/suppl/GSM3587979_AML707B.nanopore.txt.gz\n",
      "100%|██████████| 214k/214k [00:00<00:00, 270kB/s]  \n",
      "08-Feb-2025 03:37:47 DEBUG downloader - Size validation passed\n",
      "08-Feb-2025 03:37:47 DEBUG downloader - Moving /tmp/tmpe0e2eowu to /kaggle/working/scrna_data/Supp_GSM3587980_AML722B-D0/GSM3587980_AML722B-D0.dem.txt.gz\n",
      "08-Feb-2025 03:37:47 DEBUG downloader - Successfully downloaded ftp://ftp.ncbi.nlm.nih.gov/geo/samples/GSM3587nnn/GSM3587980/suppl/GSM3587980_AML722B-D0.dem.txt.gz\n",
      "100%|██████████| 4.49k/4.49k [00:00<00:00, 10.2kB/s]\n",
      "08-Feb-2025 03:37:48 DEBUG downloader - Size validation passed\n",
      "08-Feb-2025 03:37:48 DEBUG downloader - Moving /tmp/tmpkymk6wfn to /kaggle/working/scrna_data/Supp_GSM3587981_AML722B-D0-anno/GSM3587981_AML722B-D0.anno.txt.gz\n",
      "08-Feb-2025 03:37:48 DEBUG downloader - Successfully downloaded ftp://ftp.ncbi.nlm.nih.gov/geo/samples/GSM3587nnn/GSM3587981/suppl/GSM3587981_AML722B-D0.anno.txt.gz\n",
      "100%|██████████| 212k/212k [00:00<00:00, 267kB/s]  \n",
      "08-Feb-2025 03:37:49 DEBUG downloader - Size validation passed\n",
      "08-Feb-2025 03:37:49 DEBUG downloader - Moving /tmp/tmppbubvl1y to /kaggle/working/scrna_data/Supp_GSM3587982_AML722B-D49/GSM3587982_AML722B-D49.dem.txt.gz\n",
      "08-Feb-2025 03:37:49 DEBUG downloader - Successfully downloaded ftp://ftp.ncbi.nlm.nih.gov/geo/samples/GSM3587nnn/GSM3587982/suppl/GSM3587982_AML722B-D49.dem.txt.gz\n",
      "100%|██████████| 4.12k/4.12k [00:00<00:00, 9.29kB/s]\n",
      "08-Feb-2025 03:37:50 DEBUG downloader - Size validation passed\n",
      "08-Feb-2025 03:37:50 DEBUG downloader - Moving /tmp/tmpitk3srcv to /kaggle/working/scrna_data/Supp_GSM3587983_AML722B-D49-anno/GSM3587983_AML722B-D49.anno.txt.gz\n",
      "08-Feb-2025 03:37:50 DEBUG downloader - Successfully downloaded ftp://ftp.ncbi.nlm.nih.gov/geo/samples/GSM3587nnn/GSM3587983/suppl/GSM3587983_AML722B-D49.anno.txt.gz\n",
      "100%|██████████| 641k/641k [00:00<00:00, 727kB/s]  \n",
      "08-Feb-2025 03:37:52 DEBUG downloader - Size validation passed\n",
      "08-Feb-2025 03:37:52 DEBUG downloader - Moving /tmp/tmphq3lhp65 to /kaggle/working/scrna_data/Supp_GSM3587984_AML870-D0/GSM3587984_AML870-D0.dem.txt.gz\n",
      "08-Feb-2025 03:37:52 DEBUG downloader - Successfully downloaded ftp://ftp.ncbi.nlm.nih.gov/geo/samples/GSM3587nnn/GSM3587984/suppl/GSM3587984_AML870-D0.dem.txt.gz\n",
      "100%|██████████| 17.8k/17.8k [00:00<00:00, 33.6kB/s]\n",
      "08-Feb-2025 03:37:53 DEBUG downloader - Size validation passed\n",
      "08-Feb-2025 03:37:53 DEBUG downloader - Moving /tmp/tmphia_yjjb to /kaggle/working/scrna_data/Supp_GSM3587985_AML870-D0-anno/GSM3587985_AML870-D0.anno.txt.gz\n",
      "08-Feb-2025 03:37:53 DEBUG downloader - Successfully downloaded ftp://ftp.ncbi.nlm.nih.gov/geo/samples/GSM3587nnn/GSM3587985/suppl/GSM3587985_AML870-D0.anno.txt.gz\n",
      "100%|██████████| 236k/236k [00:00<00:00, 300kB/s]  \n",
      "08-Feb-2025 03:37:55 DEBUG downloader - Size validation passed\n",
      "08-Feb-2025 03:37:55 DEBUG downloader - Moving /tmp/tmpxdby5pe7 to /kaggle/working/scrna_data/Supp_GSM3587986_AML870-D14/GSM3587986_AML870-D14.dem.txt.gz\n",
      "08-Feb-2025 03:37:55 DEBUG downloader - Successfully downloaded ftp://ftp.ncbi.nlm.nih.gov/geo/samples/GSM3587nnn/GSM3587986/suppl/GSM3587986_AML870-D14.dem.txt.gz\n",
      "100%|██████████| 5.38k/5.38k [00:00<00:00, 12.2kB/s]\n",
      "08-Feb-2025 03:37:56 DEBUG downloader - Size validation passed\n",
      "08-Feb-2025 03:37:56 DEBUG downloader - Moving /tmp/tmp__nx7ehi to /kaggle/working/scrna_data/Supp_GSM3587987_AML870-D14-anno/GSM3587987_AML870-D14.anno.txt.gz\n",
      "08-Feb-2025 03:37:56 DEBUG downloader - Successfully downloaded ftp://ftp.ncbi.nlm.nih.gov/geo/samples/GSM3587nnn/GSM3587987/suppl/GSM3587987_AML870-D14.anno.txt.gz\n",
      "100%|██████████| 1.41M/1.41M [00:01<00:00, 1.45MB/s]\n",
      "08-Feb-2025 03:37:58 DEBUG downloader - Size validation passed\n",
      "08-Feb-2025 03:37:58 DEBUG downloader - Moving /tmp/tmpxcflwcvg to /kaggle/working/scrna_data/Supp_GSM3587988_AML916-D0/GSM3587988_AML916-D0.dem.txt.gz\n",
      "08-Feb-2025 03:37:58 DEBUG downloader - Successfully downloaded ftp://ftp.ncbi.nlm.nih.gov/geo/samples/GSM3587nnn/GSM3587988/suppl/GSM3587988_AML916-D0.dem.txt.gz\n",
      "100%|██████████| 45.8k/45.8k [00:00<00:00, 74.4kB/s]\n",
      "08-Feb-2025 03:37:59 DEBUG downloader - Size validation passed\n",
      "08-Feb-2025 03:37:59 DEBUG downloader - Moving /tmp/tmp6lk_h8gg to /kaggle/working/scrna_data/Supp_GSM3587989_AML916-D0-anno/GSM3587989_AML916-D0.anno.txt.gz\n",
      "08-Feb-2025 03:37:59 DEBUG downloader - Successfully downloaded ftp://ftp.ncbi.nlm.nih.gov/geo/samples/GSM3587nnn/GSM3587989/suppl/GSM3587989_AML916-D0.anno.txt.gz\n",
      "100%|██████████| 5.90M/5.90M [00:01<00:00, 5.09MB/s]\n",
      "08-Feb-2025 03:38:01 DEBUG downloader - Size validation passed\n",
      "08-Feb-2025 03:38:01 DEBUG downloader - Moving /tmp/tmp__jrz0dg to /kaggle/working/scrna_data/Supp_GSM3587990_AML921A-D0/GSM3587990_AML921A-D0.dem.txt.gz\n",
      "08-Feb-2025 03:38:01 DEBUG downloader - Successfully downloaded ftp://ftp.ncbi.nlm.nih.gov/geo/samples/GSM3587nnn/GSM3587990/suppl/GSM3587990_AML921A-D0.dem.txt.gz\n",
      "100%|██████████| 190k/190k [00:00<00:00, 269kB/s]  \n",
      "08-Feb-2025 03:38:02 DEBUG downloader - Size validation passed\n",
      "08-Feb-2025 03:38:02 DEBUG downloader - Moving /tmp/tmpwb7n8rl9 to /kaggle/working/scrna_data/Supp_GSM3587991_AML921A-D0-anno/GSM3587991_AML921A-D0.anno.txt.gz\n",
      "08-Feb-2025 03:38:02 DEBUG downloader - Successfully downloaded ftp://ftp.ncbi.nlm.nih.gov/geo/samples/GSM3587nnn/GSM3587991/suppl/GSM3587991_AML921A-D0.anno.txt.gz\n",
      "100%|██████████| 238k/238k [00:00<00:00, 301kB/s]  \n",
      "08-Feb-2025 03:38:04 DEBUG downloader - Size validation passed\n",
      "08-Feb-2025 03:38:04 DEBUG downloader - Moving /tmp/tmpy5v1fynl to /kaggle/working/scrna_data/Supp_GSM3587992_AML997-D0/GSM3587992_AML997-D0.dem.txt.gz\n",
      "08-Feb-2025 03:38:04 DEBUG downloader - Successfully downloaded ftp://ftp.ncbi.nlm.nih.gov/geo/samples/GSM3587nnn/GSM3587992/suppl/GSM3587992_AML997-D0.dem.txt.gz\n",
      "100%|██████████| 4.90k/4.90k [00:00<00:00, 11.1kB/s]\n",
      "08-Feb-2025 03:38:05 DEBUG downloader - Size validation passed\n",
      "08-Feb-2025 03:38:05 DEBUG downloader - Moving /tmp/tmp7rdvd6dh to /kaggle/working/scrna_data/Supp_GSM3587993_AML997-D0-anno/GSM3587993_AML997-D0.anno.txt.gz\n",
      "08-Feb-2025 03:38:05 DEBUG downloader - Successfully downloaded ftp://ftp.ncbi.nlm.nih.gov/geo/samples/GSM3587nnn/GSM3587993/suppl/GSM3587993_AML997-D0.anno.txt.gz\n",
      "100%|██████████| 420k/420k [00:00<00:00, 519kB/s]  \n",
      "08-Feb-2025 03:38:06 DEBUG downloader - Size validation passed\n",
      "08-Feb-2025 03:38:06 DEBUG downloader - Moving /tmp/tmpt8t5qmsr to /kaggle/working/scrna_data/Supp_GSM3587994_AML997-D35/GSM3587994_AML997-D35.dem.txt.gz\n",
      "08-Feb-2025 03:38:06 DEBUG downloader - Successfully downloaded ftp://ftp.ncbi.nlm.nih.gov/geo/samples/GSM3587nnn/GSM3587994/suppl/GSM3587994_AML997-D35.dem.txt.gz\n",
      "100%|██████████| 10.4k/10.4k [00:00<00:00, 23.6kB/s]\n",
      "08-Feb-2025 03:38:07 DEBUG downloader - Size validation passed\n",
      "08-Feb-2025 03:38:07 DEBUG downloader - Moving /tmp/tmpuvqt7jqq to /kaggle/working/scrna_data/Supp_GSM3587995_AML997-D35-anno/GSM3587995_AML997-D35.anno.txt.gz\n",
      "08-Feb-2025 03:38:07 DEBUG downloader - Successfully downloaded ftp://ftp.ncbi.nlm.nih.gov/geo/samples/GSM3587nnn/GSM3587995/suppl/GSM3587995_AML997-D35.anno.txt.gz\n",
      "100%|██████████| 5.97k/5.97k [00:00<00:00, 13.5kB/s]\n",
      "08-Feb-2025 03:38:08 DEBUG downloader - Size validation passed\n",
      "08-Feb-2025 03:38:08 DEBUG downloader - Moving /tmp/tmpe_548w4i to /kaggle/working/scrna_data/Supp_GSM3587996_BM1/GSM3587996_BM1.anno.txt.gz\n",
      "08-Feb-2025 03:38:08 DEBUG downloader - Successfully downloaded ftp://ftp.ncbi.nlm.nih.gov/geo/samples/GSM3587nnn/GSM3587996/suppl/GSM3587996_BM1.anno.txt.gz\n",
      "100%|██████████| 289k/289k [00:00<00:00, 366kB/s]  \n",
      "08-Feb-2025 03:38:10 DEBUG downloader - Size validation passed\n",
      "08-Feb-2025 03:38:10 DEBUG downloader - Moving /tmp/tmpd6145xf_ to /kaggle/working/scrna_data/Supp_GSM3587996_BM1/GSM3587996_BM1.dem.txt.gz\n",
      "08-Feb-2025 03:38:10 DEBUG downloader - Successfully downloaded ftp://ftp.ncbi.nlm.nih.gov/geo/samples/GSM3587nnn/GSM3587996/suppl/GSM3587996_BM1.dem.txt.gz\n",
      "100%|██████████| 10.0k/10.0k [00:00<00:00, 22.6kB/s]\n",
      "08-Feb-2025 03:38:11 DEBUG downloader - Size validation passed\n",
      "08-Feb-2025 03:38:11 DEBUG downloader - Moving /tmp/tmph98l_1k2 to /kaggle/working/scrna_data/Supp_GSM3587997_BM2/GSM3587997_BM2.anno.txt.gz\n",
      "08-Feb-2025 03:38:11 DEBUG downloader - Successfully downloaded ftp://ftp.ncbi.nlm.nih.gov/geo/samples/GSM3587nnn/GSM3587997/suppl/GSM3587997_BM2.anno.txt.gz\n",
      "100%|██████████| 477k/477k [00:00<00:00, 539kB/s]  \n",
      "08-Feb-2025 03:38:12 DEBUG downloader - Size validation passed\n",
      "08-Feb-2025 03:38:12 DEBUG downloader - Moving /tmp/tmpwy4s8s01 to /kaggle/working/scrna_data/Supp_GSM3587997_BM2/GSM3587997_BM2.dem.txt.gz\n",
      "08-Feb-2025 03:38:12 DEBUG downloader - Successfully downloaded ftp://ftp.ncbi.nlm.nih.gov/geo/samples/GSM3587nnn/GSM3587997/suppl/GSM3587997_BM2.dem.txt.gz\n",
      "100%|██████████| 1.15M/1.15M [00:01<00:00, 1.18MB/s]\n",
      "08-Feb-2025 03:38:14 DEBUG downloader - Size validation passed\n",
      "08-Feb-2025 03:38:14 DEBUG downloader - Moving /tmp/tmpg0nu6vzq to /kaggle/working/scrna_data/Supp_GSM3587998_BM3/GSM3587998_BM3.dem.txt.gz\n",
      "08-Feb-2025 03:38:14 DEBUG downloader - Successfully downloaded ftp://ftp.ncbi.nlm.nih.gov/geo/samples/GSM3587nnn/GSM3587998/suppl/GSM3587998_BM3.dem.txt.gz\n",
      "100%|██████████| 32.4k/32.4k [00:00<00:00, 61.4kB/s]\n",
      "08-Feb-2025 03:38:15 DEBUG downloader - Size validation passed\n",
      "08-Feb-2025 03:38:15 DEBUG downloader - Moving /tmp/tmpiqzwr9a1 to /kaggle/working/scrna_data/Supp_GSM3587999_BM3-anno/GSM3587999_BM3.anno.txt.gz\n",
      "08-Feb-2025 03:38:15 DEBUG downloader - Successfully downloaded ftp://ftp.ncbi.nlm.nih.gov/geo/samples/GSM3587nnn/GSM3587999/suppl/GSM3587999_BM3.anno.txt.gz\n",
      "100%|██████████| 6.58M/6.58M [00:01<00:00, 5.67MB/s]\n",
      "08-Feb-2025 03:38:17 DEBUG downloader - Size validation passed\n",
      "08-Feb-2025 03:38:17 DEBUG downloader - Moving /tmp/tmpd9n0mj3j to /kaggle/working/scrna_data/Supp_GSM3588000_BM4/GSM3588000_BM4.dem.txt.gz\n",
      "08-Feb-2025 03:38:17 DEBUG downloader - Successfully downloaded ftp://ftp.ncbi.nlm.nih.gov/geo/samples/GSM3588nnn/GSM3588000/suppl/GSM3588000_BM4.dem.txt.gz\n",
      "100%|██████████| 183k/183k [00:00<00:00, 262kB/s]  \n",
      "08-Feb-2025 03:38:18 DEBUG downloader - Size validation passed\n",
      "08-Feb-2025 03:38:18 DEBUG downloader - Moving /tmp/tmplvf1_g06 to /kaggle/working/scrna_data/Supp_GSM3588001_BM4-anno/GSM3588001_BM4.anno.txt.gz\n",
      "08-Feb-2025 03:38:18 DEBUG downloader - Successfully downloaded ftp://ftp.ncbi.nlm.nih.gov/geo/samples/GSM3588nnn/GSM3588001/suppl/GSM3588001_BM4.anno.txt.gz\n",
      "100%|██████████| 68.7k/68.7k [00:00<00:00, 112kB/s] \n",
      "08-Feb-2025 03:38:19 DEBUG downloader - Size validation passed\n",
      "08-Feb-2025 03:38:19 DEBUG downloader - Moving /tmp/tmpposjr5ff to /kaggle/working/scrna_data/Supp_GSM3588002_BM5-34p/GSM3588002_BM5-34p.anno.txt.gz\n",
      "08-Feb-2025 03:38:19 DEBUG downloader - Successfully downloaded ftp://ftp.ncbi.nlm.nih.gov/geo/samples/GSM3588nnn/GSM3588002/suppl/GSM3588002_BM5-34p.anno.txt.gz\n",
      "100%|██████████| 2.15M/2.15M [00:01<00:00, 2.00MB/s]\n",
      "08-Feb-2025 03:38:21 DEBUG downloader - Size validation passed\n",
      "08-Feb-2025 03:38:21 DEBUG downloader - Moving /tmp/tmp_7x78s3a to /kaggle/working/scrna_data/Supp_GSM3588002_BM5-34p/GSM3588002_BM5-34p.dem.txt.gz\n",
      "08-Feb-2025 03:38:21 DEBUG downloader - Successfully downloaded ftp://ftp.ncbi.nlm.nih.gov/geo/samples/GSM3588nnn/GSM3588002/suppl/GSM3588002_BM5-34p.dem.txt.gz\n",
      "100%|██████████| 53.7k/53.7k [00:00<00:00, 87.3kB/s]\n",
      "08-Feb-2025 03:38:22 DEBUG downloader - Size validation passed\n",
      "08-Feb-2025 03:38:22 DEBUG downloader - Moving /tmp/tmp1q2ze2c6 to /kaggle/working/scrna_data/Supp_GSM3588003_BM5-34p38n/GSM3588003_BM5-34p38n.anno.txt.gz\n",
      "08-Feb-2025 03:38:22 DEBUG downloader - Successfully downloaded ftp://ftp.ncbi.nlm.nih.gov/geo/samples/GSM3588nnn/GSM3588003/suppl/GSM3588003_BM5-34p38n.anno.txt.gz\n",
      "100%|██████████| 2.20M/2.20M [00:01<00:00, 2.04MB/s]\n",
      "08-Feb-2025 03:38:24 DEBUG downloader - Size validation passed\n",
      "08-Feb-2025 03:38:24 DEBUG downloader - Moving /tmp/tmpiobccu8v to /kaggle/working/scrna_data/Supp_GSM3588003_BM5-34p38n/GSM3588003_BM5-34p38n.dem.txt.gz\n",
      "08-Feb-2025 03:38:24 DEBUG downloader - Successfully downloaded ftp://ftp.ncbi.nlm.nih.gov/geo/samples/GSM3588nnn/GSM3588003/suppl/GSM3588003_BM5-34p38n.dem.txt.gz\n",
      "100%|██████████| 85.8k/85.8k [00:00<00:00, 136kB/s] \n",
      "08-Feb-2025 03:38:25 DEBUG downloader - Size validation passed\n",
      "08-Feb-2025 03:38:25 DEBUG downloader - Moving /tmp/tmpvltgm_u9 to /kaggle/working/scrna_data/Supp_GSM3588004_MUTZ3/GSM3588004_MUTZ3.anno.txt.gz\n",
      "08-Feb-2025 03:38:25 DEBUG downloader - Successfully downloaded ftp://ftp.ncbi.nlm.nih.gov/geo/samples/GSM3588nnn/GSM3588004/suppl/GSM3588004_MUTZ3.anno.txt.gz\n",
      "100%|██████████| 3.37M/3.37M [00:01<00:00, 3.17MB/s]\n",
      "08-Feb-2025 03:38:27 DEBUG downloader - Size validation passed\n",
      "08-Feb-2025 03:38:27 DEBUG downloader - Moving /tmp/tmpgio2dacl to /kaggle/working/scrna_data/Supp_GSM3588004_MUTZ3/GSM3588004_MUTZ3.dem.txt.gz\n",
      "08-Feb-2025 03:38:27 DEBUG downloader - Successfully downloaded ftp://ftp.ncbi.nlm.nih.gov/geo/samples/GSM3588nnn/GSM3588004/suppl/GSM3588004_MUTZ3.dem.txt.gz\n",
      "100%|██████████| 66.4k/66.4k [00:00<00:00, 108kB/s] \n",
      "08-Feb-2025 03:38:28 DEBUG downloader - Size validation passed\n",
      "08-Feb-2025 03:38:28 DEBUG downloader - Moving /tmp/tmpbkxnwbht to /kaggle/working/scrna_data/Supp_GSM3588005_OCI-AML3/GSM3588005_OCI-AML3.anno.txt.gz\n",
      "08-Feb-2025 03:38:28 DEBUG downloader - Successfully downloaded ftp://ftp.ncbi.nlm.nih.gov/geo/samples/GSM3588nnn/GSM3588005/suppl/GSM3588005_OCI-AML3.anno.txt.gz\n",
      "100%|██████████| 2.36M/2.36M [00:01<00:00, 2.04MB/s]\n",
      "08-Feb-2025 03:38:30 DEBUG downloader - Size validation passed\n",
      "08-Feb-2025 03:38:30 DEBUG downloader - Moving /tmp/tmp3fym5bxw to /kaggle/working/scrna_data/Supp_GSM3588005_OCI-AML3/GSM3588005_OCI-AML3.dem.txt.gz\n",
      "08-Feb-2025 03:38:30 DEBUG downloader - Successfully downloaded ftp://ftp.ncbi.nlm.nih.gov/geo/samples/GSM3588nnn/GSM3588005/suppl/GSM3588005_OCI-AML3.dem.txt.gz\n"
     ]
    }
   ],
   "source": [
    "for i, (gsm_name, gsm) in enumerate(scRNA_aml.gsms.items()):\n",
    "  gsm.download_supplementary_files(download_sra=False, email='emockler@ucsc.edu', directory=scrna_dataDir)"
   ]
  },
  {
   "cell_type": "markdown",
   "metadata": {},
   "source": [
    "# Load AML scRNA dataset"
   ]
  },
  {
   "cell_type": "code",
   "execution_count": 5,
   "metadata": {
    "execution": {
     "iopub.execute_input": "2025-02-08T03:38:30.299375Z",
     "iopub.status.busy": "2025-02-08T03:38:30.299126Z",
     "iopub.status.idle": "2025-02-08T03:38:30.314417Z",
     "shell.execute_reply": "2025-02-08T03:38:30.313630Z",
     "shell.execute_reply.started": "2025-02-08T03:38:30.299342Z"
    },
    "trusted": true
   },
   "outputs": [
    {
     "name": "stdout",
     "output_type": "stream",
     "text": [
      "Identified 35 AML samples, 6 control samples, and 2 AML cell lines.\n",
      "AML Samples: dict_keys(['AML420B-D0', 'AML707B-D41', 'AML997-D0', 'AML371-D0', 'AML210A-D0', 'AML371-D34', 'AML1012-D0', 'AML475-D0', 'AML420B-D35', 'AML722B-D49', 'AML329-D37', 'AML707B-D0', 'AML997-D35', 'AML556-D31', 'AML722B-D0', 'AML328-D29', 'AML328-D0', 'AML707B-D18', 'AML329-D20', 'AML328-D171', 'AML419A-D0', 'AML921A-D0', 'AML870-D14', 'AML328-D113', 'AML556-D15', 'AML329-D0', 'AML916-D0', 'AML314-D0', 'AML707B-D113', 'AML475-D29', 'AML556-D0', 'AML420B-D14', 'AML314-D31', 'AML870-D0', 'AML707B-D97'])\n",
      "Control Samples: dict_keys(['BM1', 'BM4', 'BM5-34p38n', 'BM2', 'BM3', 'BM5-34p'])\n",
      "AML Cell Lines: dict_keys(['OCI-AML3', 'MUTZ3'])\n"
     ]
    }
   ],
   "source": [
    "def load_gzipped_txt(file_path):\n",
    "    with gzip.open(file_path, 'rt') as f:\n",
    "        df = pd.read_csv(f, sep='\\t', index_col=0)\n",
    "    return df\n",
    "\n",
    "def load_anndata(dem_path, anno_path=None, condition=None, cell_type=None):\n",
    "    dem_df = load_gzipped_txt(dem_path)\n",
    "    var_df = pd.DataFrame(index=dem_df.index)\n",
    "    var_df['gene_name'] = var_df.index\n",
    "\n",
    "    if anno_path and os.path.exists(anno_path):\n",
    "        anno_df = load_gzipped_txt(anno_path)\n",
    "        anno_df['condition'] = 'ctrl'\n",
    "        anno_df = anno_df.rename(columns={'CellType': 'cell_type'})\n",
    "        adata = ad.AnnData(X=dem_df.T, obs=anno_df, var=var_df)\n",
    "    else:\n",
    "        raise ValueError(f\"Annotation file {anno_path} not found for {dem_path}\")\n",
    "\n",
    "    return adata\n",
    "\n",
    "visited_folders = set()\n",
    "\n",
    "aml_dict = {}\n",
    "control_dict = {}\n",
    "aml_cell_lines_dict = {}\n",
    "\n",
    "data_folders = os.listdir(scrna_dataDir)\n",
    "\n",
    "for folder in data_folders:\n",
    "    if \"nanopore\" in folder:\n",
    "        visited_folders.add(folder)\n",
    "        continue\n",
    "    \n",
    "    folder_path = os.path.join(scrna_dataDir, folder)\n",
    "    if os.path.isdir(folder_path) and folder not in visited_folders:\n",
    "        sample_id = folder.split('_')[-1].replace('-anno', '')\n",
    "        geo_id = folder.split('_')[1]\n",
    "        base_fileName = f\"{geo_id}_{sample_id}\"\n",
    "        \n",
    "        dem_file = os.path.join(folder_path, f\"{base_fileName}.dem.txt.gz\")\n",
    "        anno_file = os.path.join(folder_path, f\"{base_fileName}.anno.txt.gz\")\n",
    "            \n",
    "        if not os.path.exists(anno_file):\n",
    "            for potential_anno_folder in data_folders:\n",
    "                if potential_anno_folder.endswith(f\"{sample_id}-anno\"):\n",
    "                    anno_folder_path = os.path.join(scrna_dataDir, potential_anno_folder)\n",
    "                    anno_geo_id = potential_anno_folder.split('_')[1]\n",
    "                    potential_anno_file = os.path.join(anno_folder_path, f\"{anno_geo_id}_{sample_id}.anno.txt.gz\")\n",
    "                    if os.path.exists(potential_anno_file):\n",
    "                        anno_file = potential_anno_file\n",
    "                        visited_folders.add(potential_anno_folder)\n",
    "                        break\n",
    "        \n",
    "        if not os.path.exists(dem_file):\n",
    "            for potential_dem_folder in data_folders:\n",
    "                if potential_dem_folder.split('_')[-1] == sample_id and not potential_dem_folder.endswith('-anno'):\n",
    "                    dem_folder_path = os.path.join(scrna_dataDir, potential_dem_folder)\n",
    "                    dem_geo_id = potential_dem_folder.split('_')[1]\n",
    "                    potential_dem_file = os.path.join(dem_folder_path, f\"{dem_geo_id}_{sample_id}.dem.txt.gz\")\n",
    "                    if os.path.exists(potential_dem_file):\n",
    "                        dem_file = potential_dem_file\n",
    "                        visited_folders.add(potential_dem_folder)\n",
    "                        break\n",
    "\n",
    "        if dem_file and anno_file:\n",
    "            if sample_id.startswith('BM'):\n",
    "                sample_type = 'control'\n",
    "            elif sample_id in ['MUTZ3', 'OCI-AML3']:\n",
    "                sample_type = 'cell_line'\n",
    "            else:\n",
    "                sample_type = 'aml'\n",
    "                \n",
    "            sample_info = {'dem_path': dem_file, 'anno_path': anno_file}\n",
    "            \n",
    "            if sample_type == 'aml':\n",
    "                aml_dict[sample_id] = sample_info\n",
    "            elif sample_type == 'control':\n",
    "                control_dict[sample_id] = sample_info\n",
    "            elif sample_type == 'cell_line':\n",
    "                aml_cell_lines_dict[sample_id] = sample_info\n",
    "            \n",
    "            visited_folders.add(folder)\n",
    "\n",
    "print(f\"Identified {len(aml_dict)} AML samples, {len(control_dict)} control samples, and {len(aml_cell_lines_dict)} AML cell lines.\")\n",
    "print(\"AML Samples:\", aml_dict.keys())\n",
    "print(\"Control Samples:\", control_dict.keys())\n",
    "print(\"AML Cell Lines:\", aml_cell_lines_dict.keys())"
   ]
  },
  {
   "cell_type": "code",
   "execution_count": 6,
   "metadata": {
    "execution": {
     "iopub.execute_input": "2025-02-08T03:38:30.315656Z",
     "iopub.status.busy": "2025-02-08T03:38:30.315358Z",
     "iopub.status.idle": "2025-02-08T03:38:30.333333Z",
     "shell.execute_reply": "2025-02-08T03:38:30.332570Z",
     "shell.execute_reply.started": "2025-02-08T03:38:30.315628Z"
    },
    "trusted": true
   },
   "outputs": [
    {
     "name": "stdout",
     "output_type": "stream",
     "text": [
      "Unique AML samples (16):\n",
      "AML1012: ['AML1012-D0']\n",
      "AML210A: ['AML210A-D0']\n",
      "AML314: ['AML314-D0', 'AML314-D31']\n",
      "AML328: ['AML328-D0', 'AML328-D113', 'AML328-D171', 'AML328-D29']\n",
      "AML329: ['AML329-D0', 'AML329-D20', 'AML329-D37']\n",
      "AML371: ['AML371-D0', 'AML371-D34']\n",
      "AML419A: ['AML419A-D0']\n",
      "AML420B: ['AML420B-D0', 'AML420B-D14', 'AML420B-D35']\n",
      "AML475: ['AML475-D0', 'AML475-D29']\n",
      "AML556: ['AML556-D0', 'AML556-D15', 'AML556-D31']\n",
      "AML707B: ['AML707B-D0', 'AML707B-D113', 'AML707B-D18', 'AML707B-D41', 'AML707B-D97']\n",
      "AML722B: ['AML722B-D0', 'AML722B-D49']\n",
      "AML870: ['AML870-D0', 'AML870-D14']\n",
      "AML916: ['AML916-D0']\n",
      "AML921A: ['AML921A-D0']\n",
      "AML997: ['AML997-D0', 'AML997-D35']\n",
      "\n",
      "Unique control samples (5):\n",
      "BM1: ['BM1']\n",
      "BM2: ['BM2']\n",
      "BM3: ['BM3']\n",
      "BM4: ['BM4']\n",
      "BM5: ['BM5-34p', 'BM5-34p38n']\n"
     ]
    }
   ],
   "source": [
    "# Get unique AML samples\n",
    "unique_aml_map = {}\n",
    "unique_control_map = {}\n",
    "\n",
    "# Group AML samples by base ID\n",
    "for sample_id in aml_dict.keys():\n",
    "    base_id = sample_id.split('-')[0]\n",
    "    if base_id not in unique_aml_map:\n",
    "        unique_aml_map[base_id] = []\n",
    "    unique_aml_map[base_id].append(sample_id)\n",
    "\n",
    "# Group control samples by base ID\n",
    "for sample_id in control_dict.keys():\n",
    "    base_id = sample_id.split('-')[0]\n",
    "    if base_id not in unique_control_map:\n",
    "        unique_control_map[base_id] = []\n",
    "    unique_control_map[base_id].append(sample_id)\n",
    "\n",
    "print(f\"Unique AML samples ({len(unique_aml_map)}):\")\n",
    "for base_id, samples in sorted(unique_aml_map.items()):\n",
    "    print(f\"{base_id}: {sorted(samples)}\")\n",
    "\n",
    "print(f\"\\nUnique control samples ({len(unique_control_map)}):\")\n",
    "for base_id, samples in sorted(unique_control_map.items()):\n",
    "    print(f\"{base_id}: {sorted(samples)}\")"
   ]
  },
  {
   "cell_type": "code",
   "execution_count": 7,
   "metadata": {
    "execution": {
     "iopub.execute_input": "2025-02-08T03:38:30.334510Z",
     "iopub.status.busy": "2025-02-08T03:38:30.334229Z",
     "iopub.status.idle": "2025-02-08T03:38:30.350029Z",
     "shell.execute_reply": "2025-02-08T03:38:30.349342Z",
     "shell.execute_reply.started": "2025-02-08T03:38:30.334480Z"
    },
    "trusted": true
   },
   "outputs": [
    {
     "name": "stdout",
     "output_type": "stream",
     "text": [
      "Selected AML samples (16):\n",
      "AML1012: AML1012-D0\n",
      "AML210A: AML210A-D0\n",
      "AML314: AML314-D0\n",
      "AML328: AML328-D0\n",
      "AML329: AML329-D0\n",
      "AML371: AML371-D0\n",
      "AML419A: AML419A-D0\n",
      "AML420B: AML420B-D0\n",
      "AML475: AML475-D0\n",
      "AML556: AML556-D0\n",
      "AML707B: AML707B-D0\n",
      "AML722B: AML722B-D0\n",
      "AML870: AML870-D0\n",
      "AML916: AML916-D0\n",
      "AML921A: AML921A-D0\n",
      "AML997: AML997-D0\n",
      "\n",
      "Selected control samples (5):\n",
      "BM1: BM1\n",
      "BM2: BM2\n",
      "BM3: BM3\n",
      "BM4: BM4\n",
      "BM5: BM5-34p\n"
     ]
    }
   ],
   "source": [
    "# Create dictionaries for unique samples, taking the first alphabetically\n",
    "unique_aml_samples = {base_id: min(samples) for base_id, samples in unique_aml_map.items()}\n",
    "unique_control_samples = {base_id: min(samples) for base_id, samples in unique_control_map.items()}\n",
    "\n",
    "print(f\"Selected AML samples ({len(unique_aml_samples)}):\")\n",
    "for base_id, sample in sorted(unique_aml_samples.items()):\n",
    "    print(f\"{base_id}: {sample}\")\n",
    "\n",
    "print(f\"\\nSelected control samples ({len(unique_control_samples)}):\")\n",
    "for base_id, sample in sorted(unique_control_samples.items()):\n",
    "    print(f\"{base_id}: {sample}\")"
   ]
  },
  {
   "cell_type": "code",
   "execution_count": 8,
   "metadata": {
    "execution": {
     "iopub.execute_input": "2025-02-08T03:38:30.352564Z",
     "iopub.status.busy": "2025-02-08T03:38:30.352362Z",
     "iopub.status.idle": "2025-02-08T03:38:30.362427Z",
     "shell.execute_reply": "2025-02-08T03:38:30.361623Z",
     "shell.execute_reply.started": "2025-02-08T03:38:30.352547Z"
    },
    "trusted": true
   },
   "outputs": [],
   "source": [
    "unique_aml_ids = list(unique_aml_samples.values())\n",
    "unique_control_ids = list(unique_control_samples.values())\n",
    "filtered_aml_dict = {key: aml_dict[key] for key in unique_aml_ids}\n",
    "filtered_control_dict = {key: control_dict[key] for key in unique_control_ids}\n"
   ]
  },
  {
   "cell_type": "markdown",
   "metadata": {},
   "source": [
    "# Load gene set used to train GEARS"
   ]
  },
  {
   "cell_type": "code",
   "execution_count": 9,
   "metadata": {
    "execution": {
     "iopub.execute_input": "2025-02-08T03:38:30.363942Z",
     "iopub.status.busy": "2025-02-08T03:38:30.363751Z",
     "iopub.status.idle": "2025-02-08T03:40:02.610710Z",
     "shell.execute_reply": "2025-02-08T03:40:02.609762Z",
     "shell.execute_reply.started": "2025-02-08T03:38:30.363925Z"
    },
    "trusted": true
   },
   "outputs": [
    {
     "name": "stderr",
     "output_type": "stream",
     "text": [
      "Downloading...\n",
      "100%|██████████| 1.10G/1.10G [00:51<00:00, 21.1MiB/s]\n"
     ]
    }
   ],
   "source": [
    "if not os.path.exists(f\"scrna_data/norman_umi_go\"):\n",
    "  if not os.path.exists(f\"scrna_data/norman_umi_go.tar.gz\"):\n",
    "    # Dataloaders used for training\n",
    "    dataverse_download('https://dataverse.harvard.edu/api/access/datafile/6979957', 'norman_umi_go.tar.gz')\n",
    "  ## Extract and set up dataloader directory\n",
    "  import tarfile\n",
    "  with tarfile.open('norman_umi_go.tar.gz', 'r:gz') as tar:\n",
    "      tar.extractall()\n",
    "      tar.close()\n",
    "  del tar\n",
    "\n",
    "# load AnnData with genes list\n",
    "adata_path = os.path.join('norman_umi_go', 'perturb_processed.h5ad')\n",
    "trained_adata = sc.read_h5ad(adata_path)\n",
    "trained_genes = trained_adata.var.gene_name.to_list()\n",
    "del trained_adata"
   ]
  },
  {
   "cell_type": "code",
   "execution_count": 10,
   "metadata": {
    "execution": {
     "iopub.execute_input": "2025-02-08T03:40:02.612707Z",
     "iopub.status.busy": "2025-02-08T03:40:02.612391Z",
     "iopub.status.idle": "2025-02-08T03:40:02.616971Z",
     "shell.execute_reply": "2025-02-08T03:40:02.616284Z",
     "shell.execute_reply.started": "2025-02-08T03:40:02.612676Z"
    },
    "trusted": true
   },
   "outputs": [
    {
     "name": "stdout",
     "output_type": "stream",
     "text": [
      "5054 total pretrained genes\n"
     ]
    }
   ],
   "source": [
    "print(f\"{len(trained_genes)} total pretrained genes\")"
   ]
  },
  {
   "cell_type": "markdown",
   "metadata": {},
   "source": [
    "# Normalize expression data"
   ]
  },
  {
   "cell_type": "code",
   "execution_count": 11,
   "metadata": {
    "execution": {
     "iopub.execute_input": "2025-02-08T03:40:02.617913Z",
     "iopub.status.busy": "2025-02-08T03:40:02.617690Z",
     "iopub.status.idle": "2025-02-08T03:40:03.916393Z",
     "shell.execute_reply": "2025-02-08T03:40:03.915359Z",
     "shell.execute_reply.started": "2025-02-08T03:40:02.617893Z"
    },
    "trusted": true
   },
   "outputs": [],
   "source": [
    "def normalize_data(adata):\n",
    "    # GEARS needs constant dimensionality for gene expression vector \n",
    "    # 0-counts will be flagged in GEARS PertData preprocessing \n",
    "    # 1. Filter genes by minimum counts\n",
    "    # sc.pp.filter_genes(adata, min_counts=2)\n",
    "\n",
    "    # 2. Normalize total counts per cell\n",
    "    sc.pp.normalize_total(adata)\n",
    "\n",
    "    # 3. Log transform the data\n",
    "    sc.pp.log1p(adata)\n",
    "\n",
    "\n",
    "def build_anndata(sampleID, paths):\n",
    "    adata = load_anndata(paths['dem_path'], paths['anno_path'])\n",
    "    \n",
    "    # Ensure every gene in trained_genes is in adata\n",
    "    trained_genes_set = set(trained_genes)\n",
    "    adata_genes_set = set(adata.var_names)\n",
    "\n",
    "    missing_genes = list(trained_genes_set - adata_genes_set)\n",
    "\n",
    "    if missing_genes:\n",
    "        # Create a zero matrix for missing genes\n",
    "        zeros = pd.DataFrame(0, index=adata.obs_names, columns=missing_genes)\n",
    "        # Create an AnnData object for the missing genes\n",
    "        missing_genes_adata = ad.AnnData(X=zeros.values, \n",
    "                                         obs=adata.obs.copy(), \n",
    "                                         var=pd.DataFrame(index=missing_genes))\n",
    "        missing_genes_adata.var['gene_name'] = missing_genes\n",
    "\n",
    "        # Concatenate with original adata\n",
    "        complete_adata = ad.concat([adata, missing_genes_adata], axis=1)\n",
    "        complete_adata.obs = adata.obs.copy()\n",
    "        del adata\n",
    "    # Reorder genes to match trained_genes order\n",
    "    complete_adata = complete_adata[:, trained_genes]\n",
    "    \n",
    "    # Normalize and preprocess data\n",
    "    normalize_data(complete_adata)\n",
    "\n",
    "    # Add sample_id to obs\n",
    "    complete_adata.obs['sample_id'] = sampleID\n",
    "\n",
    "    return complete_adata"
   ]
  },
  {
   "cell_type": "code",
   "execution_count": 12,
   "metadata": {
    "execution": {
     "iopub.execute_input": "2025-02-08T03:40:03.917533Z",
     "iopub.status.busy": "2025-02-08T03:40:03.917233Z",
     "iopub.status.idle": "2025-02-08T03:40:04.983520Z",
     "shell.execute_reply": "2025-02-08T03:40:04.982741Z",
     "shell.execute_reply.started": "2025-02-08T03:40:03.917504Z"
    },
    "trusted": true
   },
   "outputs": [],
   "source": [
    "def batch_correct(sample_dict, aml_keys):\n",
    "    combined_adata_list = []\n",
    "    sample_to_batch = {}\n",
    "    batch_to_sample = {}\n",
    "\n",
    "    # Load and preprocess all samples\n",
    "    for batch_id, (sample_id, paths) in enumerate(tqdm(sample_dict.items())):\n",
    "        adata = build_anndata(sample_id, paths)\n",
    "        adata.obs['sample_type'] = 'case' if sample_id in aml_keys else 'healthy'\n",
    "        \n",
    "        # Filter cells based on PredictionRefined and sample type\n",
    "        if 'PredictionRefined' in adata.obs.columns:\n",
    "            mask = ((adata.obs['sample_type'] == 'case') & (adata.obs['PredictionRefined'] == 'malignant')) | \\\n",
    "                  ((adata.obs['sample_type'] == 'healthy') & (adata.obs['PredictionRefined'] == 'normal'))\n",
    "            adata = adata[mask]\n",
    "        \n",
    "        combined_adata_list.append(adata)\n",
    "        sample_to_batch[sample_id] = batch_id\n",
    "        batch_to_sample[str(batch_id)] = sample_id\n",
    "\n",
    "    # Combine all samples\n",
    "    combined_adata = combined_adata_list[0].concatenate(\n",
    "        *combined_adata_list[1:], batch_key='batch')\n",
    "    \n",
    "    print(\"Done!\")\n",
    "    return combined_adata, batch_to_sample"
   ]
  },
  {
   "cell_type": "code",
   "execution_count": 13,
   "metadata": {
    "execution": {
     "iopub.execute_input": "2025-02-08T03:40:04.984625Z",
     "iopub.status.busy": "2025-02-08T03:40:04.984367Z",
     "iopub.status.idle": "2025-02-08T03:40:43.527567Z",
     "shell.execute_reply": "2025-02-08T03:40:43.526662Z",
     "shell.execute_reply.started": "2025-02-08T03:40:04.984602Z"
    },
    "trusted": true
   },
   "outputs": [
    {
     "name": "stderr",
     "output_type": "stream",
     "text": [
      "100%|██████████| 21/21 [00:38<00:00,  1.81s/it]\n"
     ]
    },
    {
     "name": "stdout",
     "output_type": "stream",
     "text": [
      "Done!\n"
     ]
    }
   ],
   "source": [
    "aml_keys = list((filtered_aml_dict).keys())\n",
    "control_keys = list(filtered_control_dict.keys())\n",
    "\n",
    "combined_adata, batch_to_sample = batch_correct(filtered_aml_dict | filtered_control_dict, aml_keys)"
   ]
  },
  {
   "cell_type": "code",
   "execution_count": 14,
   "metadata": {
    "execution": {
     "iopub.execute_input": "2025-02-08T03:40:43.528816Z",
     "iopub.status.busy": "2025-02-08T03:40:43.528490Z",
     "iopub.status.idle": "2025-02-08T03:40:43.534400Z",
     "shell.execute_reply": "2025-02-08T03:40:43.533578Z",
     "shell.execute_reply.started": "2025-02-08T03:40:43.528785Z"
    },
    "trusted": true
   },
   "outputs": [
    {
     "data": {
      "text/plain": [
       "AnnData object with n_obs × n_vars = 17749 × 5054\n",
       "    obs: 'NumberOfReads', 'AlignedToGenome', 'AlignedToTranscriptome', 'TranscriptomeUMIs', 'NumberOfGenes', 'CyclingScore', 'CyclingBinary', 'MutTranscripts', 'WtTranscripts', 'PredictionRF2', 'PredictionRefined', 'cell_type', 'Score_HSC', 'Score_Prog', 'Score_GMP', 'Score_ProMono', 'Score_Mono', 'Score_cDC', 'Score_pDC', 'Score_earlyEry', 'Score_lateEry', 'Score_ProB', 'Score_B', 'Score_Plasma', 'Score_T', 'Score_CTL', 'Score_NK', 'condition', 'sample_id', 'sample_type', 'NanoporeTranscripts', 'batch'\n",
       "    var: 'gene_name'"
      ]
     },
     "execution_count": 14,
     "metadata": {},
     "output_type": "execute_result"
    }
   ],
   "source": [
    "combined_adata"
   ]
  },
  {
   "cell_type": "code",
   "execution_count": 15,
   "metadata": {
    "execution": {
     "iopub.execute_input": "2025-02-08T03:40:43.535570Z",
     "iopub.status.busy": "2025-02-08T03:40:43.535305Z",
     "iopub.status.idle": "2025-02-08T03:40:43.982408Z",
     "shell.execute_reply": "2025-02-08T03:40:43.981714Z",
     "shell.execute_reply.started": "2025-02-08T03:40:43.535548Z"
    },
    "trusted": true
   },
   "outputs": [
    {
     "name": "stdout",
     "output_type": "stream",
     "text": [
      "Number of genes upregulated in malignant cells: 2035\n"
     ]
    }
   ],
   "source": [
    "# Create masks for malignant and healthy cells\n",
    "malignant_mask = combined_adata.obs['PredictionRefined'] == 'malignant'\n",
    "healthy_mask = combined_adata.obs['PredictionRefined'] == 'normal'\n",
    "\n",
    "# Depending on whether the expression matrix is sparse or dense,\n",
    "# convert to a dense array for computing mean expression\n",
    "if issparse(combined_adata.X):\n",
    "    malignant_expr = combined_adata[malignant_mask, :].X.toarray()\n",
    "    healthy_expr = combined_adata[healthy_mask, :].X.toarray()\n",
    "else:\n",
    "    malignant_expr = combined_adata[malignant_mask, :].X\n",
    "    healthy_expr = combined_adata[healthy_mask, :].X\n",
    "\n",
    "# Compute the mean expression for each gene across malignant and healthy cells:\n",
    "malignant_means = malignant_expr.mean(axis=0)\n",
    "healthy_means = healthy_expr.mean(axis=0)\n",
    "\n",
    "# Identify genes with increased expression in malignant cells (average malignant > average healthy)\n",
    "upregulated_bool = malignant_means > healthy_means\n",
    "upregulated_genes = combined_adata.var_names[upregulated_bool]\n",
    "\n",
    "print(f\"Number of genes upregulated in malignant cells: {len(upregulated_genes)}\")\n",
    "\n",
    "# Create a new AnnData object that retains only the upregulated genes:\n",
    "combined_adata_upregulated = combined_adata[:, upregulated_genes].copy()"
   ]
  },
  {
   "cell_type": "code",
   "execution_count": 16,
   "metadata": {
    "execution": {
     "iopub.execute_input": "2025-02-08T03:40:43.983521Z",
     "iopub.status.busy": "2025-02-08T03:40:43.983218Z",
     "iopub.status.idle": "2025-02-08T03:40:43.988728Z",
     "shell.execute_reply": "2025-02-08T03:40:43.988120Z",
     "shell.execute_reply.started": "2025-02-08T03:40:43.983491Z"
    },
    "trusted": true
   },
   "outputs": [
    {
     "data": {
      "text/plain": [
       "AnnData object with n_obs × n_vars = 17749 × 2035\n",
       "    obs: 'NumberOfReads', 'AlignedToGenome', 'AlignedToTranscriptome', 'TranscriptomeUMIs', 'NumberOfGenes', 'CyclingScore', 'CyclingBinary', 'MutTranscripts', 'WtTranscripts', 'PredictionRF2', 'PredictionRefined', 'cell_type', 'Score_HSC', 'Score_Prog', 'Score_GMP', 'Score_ProMono', 'Score_Mono', 'Score_cDC', 'Score_pDC', 'Score_earlyEry', 'Score_lateEry', 'Score_ProB', 'Score_B', 'Score_Plasma', 'Score_T', 'Score_CTL', 'Score_NK', 'condition', 'sample_id', 'sample_type', 'NanoporeTranscripts', 'batch'\n",
       "    var: 'gene_name'"
      ]
     },
     "execution_count": 16,
     "metadata": {},
     "output_type": "execute_result"
    }
   ],
   "source": [
    "combined_adata_upregulated"
   ]
  },
  {
   "cell_type": "markdown",
   "metadata": {},
   "source": [
    "# Feature selection"
   ]
  },
  {
   "cell_type": "code",
   "execution_count": 17,
   "metadata": {
    "execution": {
     "iopub.execute_input": "2025-02-08T03:40:43.989941Z",
     "iopub.status.busy": "2025-02-08T03:40:43.989645Z",
     "iopub.status.idle": "2025-02-08T03:40:44.010356Z",
     "shell.execute_reply": "2025-02-08T03:40:44.009631Z",
     "shell.execute_reply.started": "2025-02-08T03:40:43.989913Z"
    },
    "trusted": true
   },
   "outputs": [],
   "source": [
    "expr_df = pd.DataFrame(combined_adata_upregulated.X, columns=combined_adata_upregulated.var_names, index=combined_adata_upregulated.obs_names)\n",
    "y_series = pd.Series(combined_adata_upregulated.obs['sample_type'], index=combined_adata_upregulated.obs_names).replace({'case': 1, 'healthy': 0})"
   ]
  },
  {
   "cell_type": "code",
   "execution_count": 18,
   "metadata": {
    "execution": {
     "iopub.execute_input": "2025-02-08T03:40:44.011294Z",
     "iopub.status.busy": "2025-02-08T03:40:44.011103Z",
     "iopub.status.idle": "2025-02-08T03:40:44.024759Z",
     "shell.execute_reply": "2025-02-08T03:40:44.023993Z",
     "shell.execute_reply.started": "2025-02-08T03:40:44.011277Z"
    },
    "trusted": true
   },
   "outputs": [
    {
     "data": {
      "text/plain": [
       "<module 'feature_selection' from '/kaggle/input/gears-perturbation-optimizer/feature_selection.py'>"
      ]
     },
     "execution_count": 18,
     "metadata": {},
     "output_type": "execute_result"
    }
   ],
   "source": [
    "import importlib\n",
    "import feature_selection\n",
    "\n",
    "# Reload the module to apply local changes\n",
    "importlib.reload(feature_selection)"
   ]
  },
  {
   "cell_type": "code",
   "execution_count": 19,
   "metadata": {
    "execution": {
     "iopub.execute_input": "2025-02-08T03:40:44.025963Z",
     "iopub.status.busy": "2025-02-08T03:40:44.025676Z",
     "iopub.status.idle": "2025-02-08T03:48:43.372393Z",
     "shell.execute_reply": "2025-02-08T03:48:43.371433Z",
     "shell.execute_reply.started": "2025-02-08T03:40:44.025934Z"
    },
    "trusted": true
   },
   "outputs": [
    {
     "name": "stdout",
     "output_type": "stream",
     "text": [
      "Using CUDA (GPU) acceleration.\n"
     ]
    },
    {
     "name": "stderr",
     "output_type": "stream",
     "text": [
      "Training:  82%|████████████████████████████████       | 823/1000 [07:51<01:41,  1.75iter/s, train_loss=5.8126, val_loss=5.8381, acc=0.9121, f1=0.9371]\n"
     ]
    },
    {
     "name": "stdout",
     "output_type": "stream",
     "text": [
      "Early stopping triggered.\n"
     ]
    },
    {
     "data": {
      "text/html": [
       "<style>#sk-container-id-1 {color: black;background-color: white;}#sk-container-id-1 pre{padding: 0;}#sk-container-id-1 div.sk-toggleable {background-color: white;}#sk-container-id-1 label.sk-toggleable__label {cursor: pointer;display: block;width: 100%;margin-bottom: 0;padding: 0.3em;box-sizing: border-box;text-align: center;}#sk-container-id-1 label.sk-toggleable__label-arrow:before {content: \"▸\";float: left;margin-right: 0.25em;color: #696969;}#sk-container-id-1 label.sk-toggleable__label-arrow:hover:before {color: black;}#sk-container-id-1 div.sk-estimator:hover label.sk-toggleable__label-arrow:before {color: black;}#sk-container-id-1 div.sk-toggleable__content {max-height: 0;max-width: 0;overflow: hidden;text-align: left;background-color: #f0f8ff;}#sk-container-id-1 div.sk-toggleable__content pre {margin: 0.2em;color: black;border-radius: 0.25em;background-color: #f0f8ff;}#sk-container-id-1 input.sk-toggleable__control:checked~div.sk-toggleable__content {max-height: 200px;max-width: 100%;overflow: auto;}#sk-container-id-1 input.sk-toggleable__control:checked~label.sk-toggleable__label-arrow:before {content: \"▾\";}#sk-container-id-1 div.sk-estimator input.sk-toggleable__control:checked~label.sk-toggleable__label {background-color: #d4ebff;}#sk-container-id-1 div.sk-label input.sk-toggleable__control:checked~label.sk-toggleable__label {background-color: #d4ebff;}#sk-container-id-1 input.sk-hidden--visually {border: 0;clip: rect(1px 1px 1px 1px);clip: rect(1px, 1px, 1px, 1px);height: 1px;margin: -1px;overflow: hidden;padding: 0;position: absolute;width: 1px;}#sk-container-id-1 div.sk-estimator {font-family: monospace;background-color: #f0f8ff;border: 1px dotted black;border-radius: 0.25em;box-sizing: border-box;margin-bottom: 0.5em;}#sk-container-id-1 div.sk-estimator:hover {background-color: #d4ebff;}#sk-container-id-1 div.sk-parallel-item::after {content: \"\";width: 100%;border-bottom: 1px solid gray;flex-grow: 1;}#sk-container-id-1 div.sk-label:hover label.sk-toggleable__label {background-color: #d4ebff;}#sk-container-id-1 div.sk-serial::before {content: \"\";position: absolute;border-left: 1px solid gray;box-sizing: border-box;top: 0;bottom: 0;left: 50%;z-index: 0;}#sk-container-id-1 div.sk-serial {display: flex;flex-direction: column;align-items: center;background-color: white;padding-right: 0.2em;padding-left: 0.2em;position: relative;}#sk-container-id-1 div.sk-item {position: relative;z-index: 1;}#sk-container-id-1 div.sk-parallel {display: flex;align-items: stretch;justify-content: center;background-color: white;position: relative;}#sk-container-id-1 div.sk-item::before, #sk-container-id-1 div.sk-parallel-item::before {content: \"\";position: absolute;border-left: 1px solid gray;box-sizing: border-box;top: 0;bottom: 0;left: 50%;z-index: -1;}#sk-container-id-1 div.sk-parallel-item {display: flex;flex-direction: column;z-index: 1;position: relative;background-color: white;}#sk-container-id-1 div.sk-parallel-item:first-child::after {align-self: flex-end;width: 50%;}#sk-container-id-1 div.sk-parallel-item:last-child::after {align-self: flex-start;width: 50%;}#sk-container-id-1 div.sk-parallel-item:only-child::after {width: 0;}#sk-container-id-1 div.sk-dashed-wrapped {border: 1px dashed gray;margin: 0 0.4em 0.5em 0.4em;box-sizing: border-box;padding-bottom: 0.4em;background-color: white;}#sk-container-id-1 div.sk-label label {font-family: monospace;font-weight: bold;display: inline-block;line-height: 1.2em;}#sk-container-id-1 div.sk-label-container {text-align: center;}#sk-container-id-1 div.sk-container {/* jupyter's `normalize.less` sets `[hidden] { display: none; }` but bootstrap.min.css set `[hidden] { display: none !important; }` so we also need the `!important` here to be able to override the default hidden behavior on the sphinx rendered scikit-learn.org. See: https://github.com/scikit-learn/scikit-learn/issues/21755 */display: inline-block !important;position: relative;}#sk-container-id-1 div.sk-text-repr-fallback {display: none;}</style><div id=\"sk-container-id-1\" class=\"sk-top-container\"><div class=\"sk-text-repr-fallback\"><pre>BayesianFeatureSelector(base_cumulative_density_threshold=0.05,\n",
       "                        base_sensitivity=0.05,\n",
       "                        checkpoint_path=&#x27;checkpoint_0.params&#x27;,\n",
       "                        max_features=1000, unique_id=0, verbose=True)</pre><b>In a Jupyter environment, please rerun this cell to show the HTML representation or trust the notebook. <br />On GitHub, the HTML representation is unable to render, please try loading this page with nbviewer.org.</b></div><div class=\"sk-container\" hidden><div class=\"sk-item\"><div class=\"sk-estimator sk-toggleable\"><input class=\"sk-toggleable__control sk-hidden--visually\" id=\"sk-estimator-id-1\" type=\"checkbox\" checked><label for=\"sk-estimator-id-1\" class=\"sk-toggleable__label sk-toggleable__label-arrow\">BayesianFeatureSelector</label><div class=\"sk-toggleable__content\"><pre>BayesianFeatureSelector(base_cumulative_density_threshold=0.05,\n",
       "                        base_sensitivity=0.05,\n",
       "                        checkpoint_path=&#x27;checkpoint_0.params&#x27;,\n",
       "                        max_features=1000, unique_id=0, verbose=True)</pre></div></div></div></div></div>"
      ],
      "text/plain": [
       "BayesianFeatureSelector(base_cumulative_density_threshold=0.05,\n",
       "                        base_sensitivity=0.05,\n",
       "                        checkpoint_path='checkpoint_0.params',\n",
       "                        max_features=1000, unique_id=0, verbose=True)"
      ]
     },
     "execution_count": 19,
     "metadata": {},
     "output_type": "execute_result"
    },
    {
     "data": {
      "image/png": "[encoded data removed]",
      "text/plain": [
       "<Figure size 1200x1000 with 2 Axes>"
      ]
     },
     "metadata": {},
     "output_type": "display_data"
    }
   ],
   "source": [
    "selector = feature_selection.BayesianFeatureSelector(unique_id=0, verbose=True, lr=0.0001, max_features=1000, base_sensitivity=0.05, base_cumulative_density_threshold=0.05)\n",
    "selector.fit(expr_df, y_series)"
   ]
  },
  {
   "cell_type": "code",
   "execution_count": 20,
   "metadata": {
    "execution": {
     "iopub.execute_input": "2025-02-08T03:48:43.374289Z",
     "iopub.status.busy": "2025-02-08T03:48:43.373311Z",
     "iopub.status.idle": "2025-02-08T03:48:43.379855Z",
     "shell.execute_reply": "2025-02-08T03:48:43.379130Z",
     "shell.execute_reply.started": "2025-02-08T03:48:43.374262Z"
    },
    "trusted": true
   },
   "outputs": [
    {
     "data": {
      "text/plain": [
       "Index(['RSRP1', 'SH3BGRL3', 'CAPZA1', 'S100A9', 'S100A8', 'TPM3', 'LMNA',\n",
       "       'TAGLN2', 'RGS18', 'KDM5B', 'C1orf186', 'IRF2BP2', 'SMYD3', 'RPS7',\n",
       "       'MRPL33', 'PLEK', 'VAMP8', 'LRRFIP1', 'MAPKAPK3', 'CXCL8', 'CD74',\n",
       "       'PPP1R18', 'LST1', 'AIF1', 'CLIC1', 'HLA-DRA', 'HLA-DRB1', 'MARCKS',\n",
       "       'CITED2', 'RNASET2', 'ACTB', 'CD36', 'CAV1', 'IL3RA', 'CD99', 'TMSB4X',\n",
       "       'CXorf21', 'TIMP1', 'XIST', 'CTSB', 'RUNX1T1', 'ANXA1', 'GSN', 'FCN1',\n",
       "       'EGFL7', 'TPP1', 'C1QTNF4', 'NEAT1', 'MALAT1', 'ALDH3B1', 'CTSC',\n",
       "       'PAFAH1B2', 'JAML', 'UBASH3B', 'APLP2', 'SRGN', 'HHEX', 'PDLIM1',\n",
       "       'GAPDH', 'MGST1', 'METTL7A', 'PFDN5', 'PRR13', 'GTSF1', 'MYL6',\n",
       "       'COX6A1', 'TPT1', 'ITM2B', 'LGALS3', 'SRSF5', 'ATP8B4', 'IQGAP1',\n",
       "       'ALDOA', 'CORO1A', 'PYCARD', 'ITGAX', 'CYBA', 'CD68', 'EVI2A', 'GRN',\n",
       "       'HOXB-AS3', 'HOXB4', 'ACTG1', 'MYL12A', 'CST3', 'PRSS57', 'CFD',\n",
       "       'UQCR11', 'IER2', 'RPL18A', 'HCST', 'TYROBP', 'PLD3', 'RPS9', 'COMT',\n",
       "       'PRAME', 'LGALS1', 'ETS2', 'PTTG1IP', 'ITGB2'],\n",
       "      dtype='object')"
      ]
     },
     "execution_count": 20,
     "metadata": {},
     "output_type": "execute_result"
    }
   ],
   "source": [
    "selector.selected_features_"
   ]
  },
  {
   "cell_type": "code",
   "execution_count": 21,
   "metadata": {
    "execution": {
     "iopub.execute_input": "2025-02-08T03:48:43.381247Z",
     "iopub.status.busy": "2025-02-08T03:48:43.380940Z",
     "iopub.status.idle": "2025-02-08T03:48:43.420527Z",
     "shell.execute_reply": "2025-02-08T03:48:43.419890Z",
     "shell.execute_reply.started": "2025-02-08T03:48:43.381226Z"
    },
    "trusted": true
   },
   "outputs": [
    {
     "data": {
      "text/html": [
       "<div>\n",
       "<style scoped>\n",
       "    .dataframe tbody tr th:only-of-type {\n",
       "        vertical-align: middle;\n",
       "    }\n",
       "\n",
       "    .dataframe tbody tr th {\n",
       "        vertical-align: top;\n",
       "    }\n",
       "\n",
       "    .dataframe thead th {\n",
       "        text-align: right;\n",
       "    }\n",
       "</style>\n",
       "<table border=\"1\" class=\"dataframe\">\n",
       "  <thead>\n",
       "    <tr style=\"text-align: right;\">\n",
       "      <th></th>\n",
       "      <th>feature_name</th>\n",
       "      <th>beta_mean</th>\n",
       "      <th>beta_std</th>\n",
       "      <th>effect_size</th>\n",
       "      <th>is_selected</th>\n",
       "    </tr>\n",
       "  </thead>\n",
       "  <tbody>\n",
       "    <tr>\n",
       "      <th>1735</th>\n",
       "      <td>CFD</td>\n",
       "      <td>2.007482</td>\n",
       "      <td>0.291627</td>\n",
       "      <td>6.883741</td>\n",
       "      <td>True</td>\n",
       "    </tr>\n",
       "    <tr>\n",
       "      <th>1857</th>\n",
       "      <td>TYROBP</td>\n",
       "      <td>1.102417</td>\n",
       "      <td>0.327924</td>\n",
       "      <td>3.361806</td>\n",
       "      <td>True</td>\n",
       "    </tr>\n",
       "    <tr>\n",
       "      <th>552</th>\n",
       "      <td>CD74</td>\n",
       "      <td>0.682933</td>\n",
       "      <td>0.290413</td>\n",
       "      <td>2.351595</td>\n",
       "      <td>True</td>\n",
       "    </tr>\n",
       "    <tr>\n",
       "      <th>793</th>\n",
       "      <td>XIST</td>\n",
       "      <td>0.907430</td>\n",
       "      <td>0.445600</td>\n",
       "      <td>2.036423</td>\n",
       "      <td>True</td>\n",
       "    </tr>\n",
       "    <tr>\n",
       "      <th>1218</th>\n",
       "      <td>GTSF1</td>\n",
       "      <td>0.757211</td>\n",
       "      <td>0.444201</td>\n",
       "      <td>1.704658</td>\n",
       "      <td>True</td>\n",
       "    </tr>\n",
       "    <tr>\n",
       "      <th>...</th>\n",
       "      <td>...</td>\n",
       "      <td>...</td>\n",
       "      <td>...</td>\n",
       "      <td>...</td>\n",
       "      <td>...</td>\n",
       "    </tr>\n",
       "    <tr>\n",
       "      <th>1993</th>\n",
       "      <td>RPS19BP1</td>\n",
       "      <td>0.000147</td>\n",
       "      <td>0.315066</td>\n",
       "      <td>0.000466</td>\n",
       "      <td>False</td>\n",
       "    </tr>\n",
       "    <tr>\n",
       "      <th>695</th>\n",
       "      <td>MPLKIP</td>\n",
       "      <td>0.000126</td>\n",
       "      <td>0.298686</td>\n",
       "      <td>0.000421</td>\n",
       "      <td>False</td>\n",
       "    </tr>\n",
       "    <tr>\n",
       "      <th>1144</th>\n",
       "      <td>ADIRF</td>\n",
       "      <td>0.000124</td>\n",
       "      <td>0.321249</td>\n",
       "      <td>0.000386</td>\n",
       "      <td>False</td>\n",
       "    </tr>\n",
       "    <tr>\n",
       "      <th>1919</th>\n",
       "      <td>AKT1S1</td>\n",
       "      <td>-0.000037</td>\n",
       "      <td>0.324355</td>\n",
       "      <td>0.000114</td>\n",
       "      <td>False</td>\n",
       "    </tr>\n",
       "    <tr>\n",
       "      <th>1568</th>\n",
       "      <td>TMEM99</td>\n",
       "      <td>0.000004</td>\n",
       "      <td>0.323691</td>\n",
       "      <td>0.000012</td>\n",
       "      <td>False</td>\n",
       "    </tr>\n",
       "  </tbody>\n",
       "</table>\n",
       "<p>2035 rows × 5 columns</p>\n",
       "</div>"
      ],
      "text/plain": [
       "     feature_name  beta_mean  beta_std  effect_size  is_selected\n",
       "1735          CFD   2.007482  0.291627     6.883741         True\n",
       "1857       TYROBP   1.102417  0.327924     3.361806         True\n",
       "552          CD74   0.682933  0.290413     2.351595         True\n",
       "793          XIST   0.907430  0.445600     2.036423         True\n",
       "1218        GTSF1   0.757211  0.444201     1.704658         True\n",
       "...           ...        ...       ...          ...          ...\n",
       "1993     RPS19BP1   0.000147  0.315066     0.000466        False\n",
       "695        MPLKIP   0.000126  0.298686     0.000421        False\n",
       "1144        ADIRF   0.000124  0.321249     0.000386        False\n",
       "1919       AKT1S1  -0.000037  0.324355     0.000114        False\n",
       "1568       TMEM99   0.000004  0.323691     0.000012        False\n",
       "\n",
       "[2035 rows x 5 columns]"
      ]
     },
     "execution_count": 21,
     "metadata": {},
     "output_type": "execute_result"
    }
   ],
   "source": [
    "selector.feature_stats"
   ]
  },
  {
   "cell_type": "code",
   "execution_count": 22,
   "metadata": {
    "execution": {
     "iopub.execute_input": "2025-02-08T03:48:43.421512Z",
     "iopub.status.busy": "2025-02-08T03:48:43.421249Z",
     "iopub.status.idle": "2025-02-08T03:48:43.433068Z",
     "shell.execute_reply": "2025-02-08T03:48:43.432427Z",
     "shell.execute_reply.started": "2025-02-08T03:48:43.421485Z"
    },
    "trusted": true
   },
   "outputs": [
    {
     "data": {
      "text/html": [
       "<div>\n",
       "<style scoped>\n",
       "    .dataframe tbody tr th:only-of-type {\n",
       "        vertical-align: middle;\n",
       "    }\n",
       "\n",
       "    .dataframe tbody tr th {\n",
       "        vertical-align: top;\n",
       "    }\n",
       "\n",
       "    .dataframe thead th {\n",
       "        text-align: right;\n",
       "    }\n",
       "</style>\n",
       "<table border=\"1\" class=\"dataframe\">\n",
       "  <thead>\n",
       "    <tr style=\"text-align: right;\">\n",
       "      <th></th>\n",
       "      <th>label</th>\n",
       "      <th>sum_correct</th>\n",
       "      <th>count</th>\n",
       "      <th>accuracy</th>\n",
       "      <th>accuracy_std</th>\n",
       "      <th>draw_count</th>\n",
       "      <th>avg_prediction</th>\n",
       "      <th>prediction_std</th>\n",
       "    </tr>\n",
       "  </thead>\n",
       "  <tbody>\n",
       "    <tr>\n",
       "      <th>AML921A-D0_CTGAGGGAACTG-12</th>\n",
       "      <td>1.0</td>\n",
       "      <td>824</td>\n",
       "      <td>824</td>\n",
       "      <td>1.000000</td>\n",
       "      <td>0.000000</td>\n",
       "      <td>824</td>\n",
       "      <td>1.000000</td>\n",
       "      <td>0.000000</td>\n",
       "    </tr>\n",
       "    <tr>\n",
       "      <th>AML419A-D0_TGAGCAGGAAGG-11</th>\n",
       "      <td>1.0</td>\n",
       "      <td>824</td>\n",
       "      <td>824</td>\n",
       "      <td>1.000000</td>\n",
       "      <td>0.000000</td>\n",
       "      <td>824</td>\n",
       "      <td>1.000000</td>\n",
       "      <td>0.000000</td>\n",
       "    </tr>\n",
       "    <tr>\n",
       "      <th>AML556-D0_AGACCCGGAGAA-9</th>\n",
       "      <td>1.0</td>\n",
       "      <td>824</td>\n",
       "      <td>824</td>\n",
       "      <td>1.000000</td>\n",
       "      <td>0.000000</td>\n",
       "      <td>824</td>\n",
       "      <td>1.000000</td>\n",
       "      <td>0.000000</td>\n",
       "    </tr>\n",
       "    <tr>\n",
       "      <th>AML556-D0_ATCGTGCCGTTG-9</th>\n",
       "      <td>1.0</td>\n",
       "      <td>824</td>\n",
       "      <td>824</td>\n",
       "      <td>1.000000</td>\n",
       "      <td>0.000000</td>\n",
       "      <td>824</td>\n",
       "      <td>1.000000</td>\n",
       "      <td>0.000000</td>\n",
       "    </tr>\n",
       "    <tr>\n",
       "      <th>BM3_ATGTGTGGCTGA-20</th>\n",
       "      <td>0.0</td>\n",
       "      <td>775</td>\n",
       "      <td>824</td>\n",
       "      <td>0.940534</td>\n",
       "      <td>0.008239</td>\n",
       "      <td>824</td>\n",
       "      <td>0.059466</td>\n",
       "      <td>0.236495</td>\n",
       "    </tr>\n",
       "    <tr>\n",
       "      <th>...</th>\n",
       "      <td>...</td>\n",
       "      <td>...</td>\n",
       "      <td>...</td>\n",
       "      <td>...</td>\n",
       "      <td>...</td>\n",
       "      <td>...</td>\n",
       "      <td>...</td>\n",
       "      <td>...</td>\n",
       "    </tr>\n",
       "    <tr>\n",
       "      <th>AML921A-D0_GCCCGTGCCGTC-12</th>\n",
       "      <td>1.0</td>\n",
       "      <td>824</td>\n",
       "      <td>824</td>\n",
       "      <td>1.000000</td>\n",
       "      <td>0.000000</td>\n",
       "      <td>824</td>\n",
       "      <td>1.000000</td>\n",
       "      <td>0.000000</td>\n",
       "    </tr>\n",
       "    <tr>\n",
       "      <th>BM4_GTGTAGATCGGC-17</th>\n",
       "      <td>0.0</td>\n",
       "      <td>765</td>\n",
       "      <td>824</td>\n",
       "      <td>0.928398</td>\n",
       "      <td>0.008982</td>\n",
       "      <td>824</td>\n",
       "      <td>0.071602</td>\n",
       "      <td>0.257828</td>\n",
       "    </tr>\n",
       "    <tr>\n",
       "      <th>AML921A-D0_TACCTCACGGCC-12</th>\n",
       "      <td>1.0</td>\n",
       "      <td>824</td>\n",
       "      <td>824</td>\n",
       "      <td>1.000000</td>\n",
       "      <td>0.000000</td>\n",
       "      <td>824</td>\n",
       "      <td>1.000000</td>\n",
       "      <td>0.000000</td>\n",
       "    </tr>\n",
       "    <tr>\n",
       "      <th>AML870-D0_ACTATTCGGTGC-13</th>\n",
       "      <td>1.0</td>\n",
       "      <td>824</td>\n",
       "      <td>824</td>\n",
       "      <td>1.000000</td>\n",
       "      <td>0.000000</td>\n",
       "      <td>824</td>\n",
       "      <td>1.000000</td>\n",
       "      <td>0.000000</td>\n",
       "    </tr>\n",
       "    <tr>\n",
       "      <th>AML1012-D0_ATACTGCAAGAG-5</th>\n",
       "      <td>1.0</td>\n",
       "      <td>824</td>\n",
       "      <td>824</td>\n",
       "      <td>1.000000</td>\n",
       "      <td>0.000000</td>\n",
       "      <td>824</td>\n",
       "      <td>1.000000</td>\n",
       "      <td>0.000000</td>\n",
       "    </tr>\n",
       "  </tbody>\n",
       "</table>\n",
       "<p>3550 rows × 8 columns</p>\n",
       "</div>"
      ],
      "text/plain": [
       "                            label  sum_correct  count  accuracy  accuracy_std  \\\n",
       "AML921A-D0_CTGAGGGAACTG-12    1.0          824    824  1.000000      0.000000   \n",
       "AML419A-D0_TGAGCAGGAAGG-11    1.0          824    824  1.000000      0.000000   \n",
       "AML556-D0_AGACCCGGAGAA-9      1.0          824    824  1.000000      0.000000   \n",
       "AML556-D0_ATCGTGCCGTTG-9      1.0          824    824  1.000000      0.000000   \n",
       "BM3_ATGTGTGGCTGA-20           0.0          775    824  0.940534      0.008239   \n",
       "...                           ...          ...    ...       ...           ...   \n",
       "AML921A-D0_GCCCGTGCCGTC-12    1.0          824    824  1.000000      0.000000   \n",
       "BM4_GTGTAGATCGGC-17           0.0          765    824  0.928398      0.008982   \n",
       "AML921A-D0_TACCTCACGGCC-12    1.0          824    824  1.000000      0.000000   \n",
       "AML870-D0_ACTATTCGGTGC-13     1.0          824    824  1.000000      0.000000   \n",
       "AML1012-D0_ATACTGCAAGAG-5     1.0          824    824  1.000000      0.000000   \n",
       "\n",
       "                            draw_count  avg_prediction  prediction_std  \n",
       "AML921A-D0_CTGAGGGAACTG-12         824        1.000000        0.000000  \n",
       "AML419A-D0_TGAGCAGGAAGG-11         824        1.000000        0.000000  \n",
       "AML556-D0_AGACCCGGAGAA-9           824        1.000000        0.000000  \n",
       "AML556-D0_ATCGTGCCGTTG-9           824        1.000000        0.000000  \n",
       "BM3_ATGTGTGGCTGA-20                824        0.059466        0.236495  \n",
       "...                                ...             ...             ...  \n",
       "AML921A-D0_GCCCGTGCCGTC-12         824        1.000000        0.000000  \n",
       "BM4_GTGTAGATCGGC-17                824        0.071602        0.257828  \n",
       "AML921A-D0_TACCTCACGGCC-12         824        1.000000        0.000000  \n",
       "AML870-D0_ACTATTCGGTGC-13          824        1.000000        0.000000  \n",
       "AML1012-D0_ATACTGCAAGAG-5          824        1.000000        0.000000  \n",
       "\n",
       "[3550 rows x 8 columns]"
      ]
     },
     "execution_count": 22,
     "metadata": {},
     "output_type": "execute_result"
    }
   ],
   "source": [
    "selector.validation_results_"
   ]
  },
  {
   "cell_type": "code",
   "execution_count": 23,
   "metadata": {
    "execution": {
     "iopub.execute_input": "2025-02-08T03:48:43.436604Z",
     "iopub.status.busy": "2025-02-08T03:48:43.436399Z",
     "iopub.status.idle": "2025-02-08T03:48:44.827953Z",
     "shell.execute_reply": "2025-02-08T03:48:44.827183Z",
     "shell.execute_reply.started": "2025-02-08T03:48:43.436587Z"
    },
    "trusted": true
   },
   "outputs": [
    {
     "data": {
      "text/html": [
       "<html>\n",
       "<head><meta charset=\"utf-8\" /></head>\n",
       "<body>\n",
       "    <div>            <script src=\"https://cdnjs.cloudflare.com/ajax/libs/mathjax/2.7.5/MathJax.js?config=TeX-AMS-MML_SVG\"></script><script type=\"text/javascript\">if (window.MathJax && window.MathJax.Hub && window.MathJax.Hub.Config) {window.MathJax.Hub.Config({SVG: {font: \"STIX-Web\"}});}</script>                <script type=\"text/javascript\">window.PlotlyConfig = {MathJaxConfig: 'local'};</script>\n",
       "        <script charset=\"utf-8\" src=\"https://cdn.plot.ly/plotly-2.35.2.min.js\"></script>                <div id=\"a611d400-613a-4e26-9752-2ca57fd7565a\" class=\"plotly-graph-div\" style=\"height:525px; width:100%;\"></div>            <script type=\"text/javascript\">                                    window.PLOTLYENV=window.PLOTLYENV || {};                                    if (document.getElementById(\"a611d400-613a-4e26-9752-2ca57fd7565a\")) {                    Plotly.newPlot(                        \"a611d400-613a-4e26-9752-2ca57fd7565a\",                        [{\"alignmentgroup\":\"True\",\"bingroup\":\"x\",\"hovertemplate\":\"label=1.0\\u003cbr\\u003eaccuracy=%{x}\\u003cbr\\u003ecount=%{y}\\u003cextra\\u003e\\u003c\\u002fextra\\u003e\",\"legendgroup\":\"1.0\",\"marker\":{\"color\":\"#636efa\",\"pattern\":{\"shape\":\"\"}},\"name\":\"1.0\",\"offsetgroup\":\"1.0\",\"orientation\":\"v\",\"showlegend\":true,\"x\":[1.0,1.0,1.0,1.0,1.0,1.0,1.0,1.0,0.8762135922330098,1.0,1.0,1.0,0.10800970873786407,1.0,1.0,1.0,1.0,1.0,1.0,1.0,1.0,1.0,1.0,1.0,1.0,1.0,1.0,1.0,1.0,1.0,1.0,1.0,1.0,1.0,1.0,1.0,1.0,0.7851941747572816,1.0,1.0,1.0,0.866504854368932,1.0,1.0,1.0,1.0,1.0,1.0,1.0,1.0,1.0,1.0,1.0,1.0,1.0,1.0,1.0,1.0,1.0,1.0,1.0,1.0,1.0,1.0,1.0,1.0,1.0,0.3106796116504854,1.0,1.0,1.0,1.0,1.0,1.0,1.0,1.0,1.0,1.0,1.0,1.0,1.0,1.0,1.0,1.0,1.0,1.0,1.0,1.0,1.0,1.0,1.0,1.0,1.0,1.0,1.0,1.0,1.0,1.0,1.0,1.0,1.0,1.0,1.0,1.0,1.0,1.0,1.0,1.0,1.0,1.0,1.0,1.0,1.0,1.0,0.6359223300970874,1.0,1.0,1.0,1.0,1.0,1.0,1.0,1.0,1.0,1.0,1.0,1.0,1.0,1.0,1.0,1.0,1.0,1.0,1.0,1.0,1.0,1.0,1.0,1.0,1.0,1.0,1.0,1.0,1.0,1.0,1.0,1.0,1.0,1.0,1.0,1.0,1.0,1.0,1.0,1.0,1.0,1.0,1.0,1.0,1.0,1.0,1.0,1.0,1.0,1.0,1.0,1.0,1.0,1.0,1.0,1.0,1.0,1.0,1.0,0.055825242718446605,1.0,1.0,1.0,0.7645631067961165,1.0,1.0,1.0,1.0,1.0,0.09587378640776699,1.0,1.0,1.0,1.0,1.0,1.0,1.0,1.0,1.0,1.0,1.0,1.0,1.0,1.0,1.0,1.0,1.0,1.0,1.0,1.0,1.0,1.0,1.0,1.0,1.0,1.0,1.0,1.0,1.0,1.0,1.0,1.0,1.0,1.0,1.0,1.0,1.0,1.0,1.0,1.0,1.0,1.0,1.0,1.0,1.0,1.0,1.0,1.0,1.0,1.0,1.0,1.0,1.0,1.0,1.0,1.0,1.0,1.0,1.0,1.0,1.0,1.0,1.0,1.0,1.0,1.0,1.0,1.0,1.0,1.0,1.0,1.0,1.0,1.0,1.0,1.0,1.0,1.0,1.0,1.0,1.0,1.0,1.0,1.0,1.0,1.0,1.0,1.0,1.0,1.0,1.0,1.0,1.0,1.0,1.0,1.0,1.0,1.0,1.0,1.0,1.0,1.0,1.0,1.0,1.0,1.0,1.0,1.0,1.0,1.0,0.04247572815533981,1.0,1.0,1.0,1.0,1.0,1.0,1.0,1.0,1.0,1.0,1.0,1.0,1.0,1.0,1.0,1.0,1.0,1.0,1.0,1.0,1.0,1.0,1.0,1.0,1.0,1.0,1.0,1.0,1.0,1.0,1.0,1.0,1.0,1.0,1.0,1.0,1.0,1.0,1.0,1.0,1.0,1.0,1.0,1.0,1.0,1.0,1.0,1.0,1.0,1.0,1.0,1.0,1.0,0.7050970873786407,1.0,1.0,1.0,1.0,1.0,1.0,1.0,1.0,1.0,1.0,1.0,1.0,1.0,1.0,1.0,1.0,1.0,1.0,1.0,1.0,1.0,1.0,1.0,1.0,1.0,1.0,1.0,1.0,1.0,1.0,1.0,1.0,1.0,1.0,1.0,1.0,1.0,0.683252427184466,1.0,1.0,1.0,1.0,1.0,1.0,1.0,1.0,1.0,1.0,1.0,1.0,1.0,1.0,1.0,1.0,1.0,1.0,1.0,1.0,1.0,1.0,1.0,1.0,1.0,1.0,1.0,1.0,1.0,1.0,1.0,1.0,1.0,1.0,1.0,1.0,1.0,1.0,1.0,1.0,1.0,1.0,0.6601941747572816,1.0,1.0,1.0,1.0,1.0,1.0,1.0,1.0,1.0,1.0,1.0,1.0,1.0,1.0,1.0,1.0,1.0,1.0,1.0,1.0,1.0,1.0,1.0,1.0,1.0,1.0,1.0,1.0,1.0,1.0,0.4563106796116505,1.0,1.0,1.0,1.0,1.0,1.0,1.0,1.0,1.0,1.0,1.0,1.0,1.0,1.0,1.0,1.0,1.0,1.0,1.0,1.0,1.0,1.0,1.0,1.0,1.0,1.0,0.07524271844660194,1.0,1.0,1.0,1.0,1.0,1.0,1.0,1.0,1.0,1.0,1.0,1.0,1.0,1.0,0.9514563106796117,1.0,1.0,1.0,1.0,1.0,1.0,1.0,1.0,1.0,1.0,1.0,1.0,1.0,1.0,1.0,1.0,1.0,1.0,1.0,1.0,1.0,1.0,1.0,1.0,1.0,1.0,1.0,1.0,1.0,1.0,1.0,1.0,1.0,1.0,1.0,1.0,1.0,1.0,1.0,1.0,1.0,1.0,1.0,1.0,1.0,1.0,1.0,1.0,1.0,1.0,1.0,1.0,1.0,1.0,1.0,1.0,1.0,1.0,1.0,1.0,1.0,1.0,1.0,1.0,1.0,1.0,1.0,1.0,1.0,1.0,1.0,1.0,1.0,1.0,1.0,1.0,1.0,1.0,1.0,1.0,1.0,1.0,1.0,1.0,1.0,1.0,1.0,1.0,1.0,1.0,1.0,1.0,1.0,1.0,1.0,1.0,1.0,1.0,1.0,1.0,1.0,0.24757281553398058,1.0,1.0,1.0,1.0,1.0,1.0,1.0,1.0,1.0,1.0,1.0,1.0,1.0,1.0,1.0,1.0,1.0,1.0,1.0,1.0,1.0,1.0,1.0,1.0,1.0,1.0,1.0,1.0,1.0,1.0,1.0,1.0,1.0,1.0,1.0,1.0,1.0,1.0,1.0,1.0,1.0,1.0,1.0,1.0,1.0,1.0,1.0,1.0,1.0,1.0,1.0,1.0,1.0,1.0,1.0,1.0,1.0,1.0,1.0,1.0,1.0,1.0,1.0,1.0,1.0,1.0,1.0,1.0,1.0,1.0,1.0,1.0,0.06674757281553398,1.0,1.0,1.0,1.0,1.0,1.0,1.0,1.0,1.0,1.0,1.0,1.0,1.0,1.0,1.0,1.0,1.0,0.7742718446601942,1.0,1.0,1.0,1.0,1.0,1.0,1.0,1.0,1.0,1.0,1.0,1.0,1.0,1.0,1.0,1.0,1.0,1.0,1.0,1.0,1.0,1.0,1.0,1.0,1.0,1.0,1.0,0.06553398058252427,1.0,1.0,1.0,1.0,1.0,1.0,1.0,1.0,1.0,1.0,1.0,1.0,1.0,1.0,1.0,1.0,1.0,1.0,1.0,1.0,1.0,1.0,1.0,1.0,1.0,1.0,1.0,1.0,1.0,1.0,1.0,1.0,1.0,1.0,1.0,1.0,1.0,1.0,1.0,1.0,1.0,1.0,0.8155339805825242,1.0,1.0,1.0,1.0,1.0,1.0,1.0,1.0,1.0,1.0,1.0,1.0,1.0,1.0,1.0,1.0,1.0,1.0,1.0,1.0,1.0,1.0,1.0,1.0,1.0,1.0,1.0,1.0,1.0,1.0,1.0,1.0,1.0,1.0,1.0,1.0,1.0,1.0,1.0,1.0,1.0,1.0,1.0,1.0,1.0,1.0,1.0,1.0,1.0,1.0,1.0,1.0,1.0,1.0,1.0,1.0,1.0,1.0,1.0,1.0,1.0,1.0,1.0,1.0,1.0,1.0,1.0,1.0,1.0,1.0,1.0,1.0,1.0,1.0,1.0,1.0,1.0,1.0,1.0,1.0,1.0,1.0,1.0,1.0,1.0,1.0,1.0,1.0,1.0,1.0,1.0,1.0,1.0,1.0,1.0,1.0,1.0,1.0,1.0,1.0,1.0,1.0,1.0,1.0,1.0,1.0,1.0,1.0,1.0,1.0,1.0,1.0,1.0,1.0,1.0,1.0,1.0,1.0,1.0,1.0,1.0,1.0,0.09587378640776699,1.0,1.0,1.0,1.0,1.0,1.0,1.0,1.0,1.0,1.0,1.0,1.0,1.0,1.0,1.0,1.0,1.0,1.0,1.0,1.0,1.0,1.0,1.0,1.0,1.0,1.0,1.0,1.0,1.0,1.0,1.0,0.9065533980582524,1.0,1.0,1.0,1.0,1.0,1.0,1.0,1.0,1.0,1.0,1.0,1.0,1.0,1.0,1.0,1.0,1.0,1.0,1.0,1.0,1.0,1.0,1.0,1.0,1.0,1.0,1.0,1.0,1.0,1.0,1.0,1.0,1.0,0.7973300970873787,1.0,1.0,1.0,1.0,1.0,0.10315533980582524,1.0,1.0,1.0,1.0,1.0,1.0,1.0,1.0,1.0,1.0,1.0,1.0,1.0,1.0,1.0,1.0,1.0,1.0,1.0,1.0,1.0,1.0,1.0,1.0,1.0,1.0,1.0,0.7184466019417476,1.0,1.0,1.0,1.0,1.0,1.0,1.0,1.0,1.0,1.0,1.0,1.0,1.0,1.0,1.0,1.0,1.0,1.0,1.0,1.0,1.0,1.0,1.0,1.0,1.0,1.0,1.0,1.0,1.0,1.0,1.0,1.0,1.0,1.0,1.0,1.0,1.0,1.0,1.0,1.0,1.0,1.0,1.0,1.0,1.0,1.0,1.0,1.0,1.0,1.0,1.0,1.0,1.0,1.0,1.0,1.0,1.0,1.0,1.0,1.0,1.0,1.0,1.0,1.0,1.0,0.308252427184466,1.0,1.0,1.0,1.0,1.0,1.0,1.0,1.0,1.0,1.0,1.0,1.0,1.0,1.0,1.0,1.0,1.0,1.0,1.0,1.0,1.0,1.0,1.0,1.0,1.0,1.0,1.0,1.0,1.0,1.0,1.0,1.0,1.0,1.0,1.0,1.0,1.0,1.0,1.0,1.0,1.0,1.0,1.0,1.0,1.0,1.0,1.0,1.0,1.0,1.0,1.0,1.0,1.0,1.0,1.0,1.0,1.0,1.0,1.0,1.0,1.0,1.0,1.0,1.0,1.0,1.0,0.8895631067961165,0.07766990291262135,1.0,1.0,0.10315533980582524,1.0,1.0,1.0,1.0,1.0,1.0,1.0,1.0,1.0,1.0,0.0703883495145631,1.0,1.0,0.5242718446601942,1.0,1.0,1.0,1.0,1.0,1.0,1.0,1.0,1.0,1.0,1.0,1.0,1.0,1.0,1.0,1.0,1.0,1.0,1.0,1.0,1.0,1.0,1.0,1.0,1.0,1.0,1.0,1.0,1.0,1.0,1.0,1.0,1.0,1.0,1.0,1.0,1.0,1.0,1.0,1.0,1.0,1.0,1.0,1.0,1.0,1.0,1.0,1.0,1.0,0.11286407766990292,1.0,1.0,1.0,1.0,1.0,1.0,1.0,1.0,1.0,1.0,1.0,1.0,1.0,1.0,1.0,1.0,1.0,1.0,1.0,1.0,1.0,1.0,1.0,1.0,1.0,1.0,1.0,1.0,1.0,1.0,0.09466019417475728,1.0,1.0,1.0,1.0,1.0,1.0,1.0,1.0,1.0,1.0,0.9842233009708737,1.0,1.0,1.0,1.0,1.0,1.0,1.0,1.0,1.0,0.050970873786407765,1.0,1.0,1.0,1.0,1.0,1.0,1.0,1.0,1.0,1.0,1.0,1.0,1.0,1.0,0.07281553398058252,1.0,1.0,1.0,1.0,1.0,1.0,1.0,1.0,1.0,1.0,1.0,1.0,1.0,1.0,1.0,1.0,1.0,1.0,1.0,1.0,1.0,1.0,1.0,1.0,1.0,1.0,1.0,1.0,1.0,1.0,1.0,1.0,1.0,1.0,1.0,1.0,1.0,1.0,1.0,1.0,1.0,1.0,1.0,1.0,1.0,1.0,1.0,1.0,1.0,1.0,1.0,1.0,1.0,1.0,1.0,1.0,1.0,1.0,1.0,1.0,1.0,1.0,1.0,1.0,1.0,1.0,1.0,1.0,1.0,1.0,1.0,1.0,1.0,1.0,1.0,1.0,1.0,1.0,1.0,1.0,1.0,1.0,1.0,1.0,1.0,1.0,1.0,1.0,1.0,1.0,1.0,1.0,1.0,1.0,1.0,1.0,1.0,1.0,1.0,1.0,1.0,1.0,1.0,1.0,1.0,1.0,1.0,1.0,1.0,1.0,1.0,1.0,1.0,1.0,1.0,1.0,1.0,1.0,1.0,1.0,1.0,1.0,1.0,1.0,1.0,1.0,1.0,1.0,1.0,1.0,1.0,1.0,1.0,1.0,1.0,1.0,0.9393203883495146,1.0,1.0,1.0,1.0,1.0,1.0,1.0,1.0,1.0,1.0,1.0,1.0,1.0,1.0,1.0,1.0,1.0,1.0,1.0,1.0,1.0,1.0,1.0,1.0,1.0,1.0,1.0,1.0,1.0,1.0,0.8883495145631068,1.0,1.0,1.0,1.0,1.0,1.0,1.0,1.0,1.0,1.0,0.0691747572815534,1.0,1.0,1.0,1.0,1.0,1.0,1.0,1.0,1.0,1.0,1.0,1.0,1.0,1.0,1.0,1.0,1.0,1.0,1.0,1.0,1.0,1.0,1.0,1.0,1.0,1.0,1.0,1.0,1.0,1.0,1.0,1.0,1.0,1.0,1.0,1.0,1.0,1.0,1.0,1.0,1.0,1.0,1.0,1.0,1.0,1.0,0.933252427184466,1.0,1.0,1.0,1.0,1.0,1.0,1.0,1.0,1.0,1.0,1.0,1.0,1.0,1.0,1.0,1.0,1.0,1.0,1.0,1.0,1.0,1.0,1.0,1.0,1.0,1.0,1.0,1.0,1.0,1.0,1.0,1.0,1.0,1.0,1.0,1.0,1.0,1.0,1.0,1.0,1.0,1.0,1.0,1.0,1.0,1.0,1.0,1.0,1.0,1.0,1.0,0.4830097087378641,1.0,1.0,1.0,1.0,1.0,1.0,1.0,1.0,1.0,1.0,1.0,1.0,1.0,1.0,1.0,1.0,1.0,1.0,1.0,1.0,1.0,1.0,0.9563106796116505,1.0,1.0,1.0,1.0,1.0,1.0,1.0,1.0,1.0,1.0,1.0,1.0,1.0,1.0,1.0,1.0,1.0,1.0,1.0,1.0,1.0,1.0,1.0,1.0,1.0,1.0,1.0,1.0,1.0,1.0,1.0,1.0,1.0,1.0,1.0,1.0,0.12014563106796117,1.0,1.0,1.0,1.0,1.0,1.0,1.0,1.0,1.0,1.0,1.0,1.0,1.0,1.0,1.0,1.0,1.0,1.0,1.0,1.0,1.0,1.0,1.0,1.0,1.0,1.0,1.0,1.0,1.0,1.0,1.0,1.0,1.0,1.0,1.0,1.0,1.0,1.0,1.0,1.0,1.0,1.0,1.0,1.0,1.0,1.0,1.0,1.0,1.0,1.0,1.0,1.0,1.0,1.0,1.0,1.0,1.0,1.0,1.0,1.0,1.0,1.0,1.0,0.8385922330097088,1.0,1.0,1.0,1.0,1.0,1.0,1.0,1.0,1.0,1.0,1.0,1.0,1.0,1.0,1.0,1.0,1.0,0.10558252427184465,1.0,1.0,1.0,1.0,1.0,1.0,1.0,1.0,1.0,1.0,1.0,1.0,1.0,1.0,1.0,1.0,1.0,1.0,1.0,1.0,1.0,1.0,1.0,1.0,1.0,1.0,1.0,1.0,1.0,1.0,1.0,1.0,1.0,1.0,1.0,1.0,1.0,1.0,1.0,1.0,0.06310679611650485,1.0,1.0,1.0,1.0,1.0,1.0,1.0,1.0,1.0,1.0,1.0,1.0,1.0,1.0,1.0,1.0,1.0,1.0,1.0,1.0,1.0,1.0,1.0,1.0,1.0,1.0,1.0,1.0,1.0,1.0,1.0,1.0,1.0,1.0,1.0,1.0,1.0,1.0,1.0,1.0,1.0,1.0,1.0,1.0,1.0,1.0,1.0,1.0,1.0,1.0,1.0,1.0,1.0,0.9526699029126213,1.0,1.0,1.0,1.0,1.0,1.0,1.0,1.0,1.0,1.0,1.0,1.0,1.0,1.0,1.0,1.0,1.0,1.0,1.0,1.0,1.0,1.0,1.0,1.0,1.0,1.0,1.0,1.0,1.0,1.0,1.0,1.0,1.0,1.0,1.0,1.0,1.0,1.0,1.0,1.0,1.0,1.0,1.0,1.0,1.0,1.0,1.0,0.9247572815533981,1.0,1.0,1.0,1.0,1.0,1.0,1.0,1.0,1.0,1.0,1.0,1.0,1.0,1.0,1.0,1.0,1.0,1.0,0.06310679611650485,1.0,1.0,1.0,1.0,1.0,1.0,1.0,1.0,1.0,1.0,1.0,1.0,1.0,1.0,1.0,1.0,1.0,1.0,1.0,1.0,1.0,1.0,1.0,1.0,1.0,0.04247572815533981,1.0,1.0,1.0,1.0,1.0,1.0,1.0,1.0,1.0,1.0,1.0,1.0,0.9186893203883495,1.0,1.0,1.0,1.0,1.0,1.0,1.0,1.0,1.0,1.0,1.0,1.0,1.0,1.0,1.0,1.0,1.0,1.0,1.0,1.0,1.0,1.0,1.0,1.0,1.0,1.0,1.0,1.0,1.0,1.0,1.0,1.0,1.0,1.0,1.0,1.0,1.0,1.0,1.0,1.0,1.0,1.0,1.0,1.0,1.0,1.0,1.0,1.0,1.0,1.0,1.0,1.0,1.0,1.0,1.0,1.0,1.0,1.0,1.0,1.0,1.0,1.0,1.0,1.0,1.0,1.0,1.0,1.0,1.0,1.0,1.0,1.0,1.0,1.0,1.0,1.0,1.0,1.0,1.0,1.0,1.0,1.0,1.0,1.0,1.0,1.0,1.0,1.0,1.0,1.0,0.11407766990291263,1.0,1.0,1.0,1.0,1.0,1.0,1.0,1.0,1.0,1.0,1.0,1.0,1.0,1.0,1.0,1.0,1.0,1.0,1.0,1.0,1.0,1.0,1.0,1.0,1.0,1.0,1.0,1.0,1.0,1.0,1.0,1.0,1.0,1.0,0.3276699029126214,1.0,1.0,1.0,1.0,1.0,1.0,1.0,1.0,1.0,1.0,1.0,1.0,1.0,1.0,1.0,1.0,1.0,1.0,1.0,1.0,1.0,1.0,1.0,1.0,1.0,1.0,1.0,1.0,1.0,1.0,0.9635922330097088,1.0,1.0,1.0,1.0,1.0,1.0,1.0,1.0,1.0,1.0,1.0,1.0,1.0,1.0,1.0,1.0,1.0,1.0,1.0,1.0,1.0,1.0,1.0,1.0,1.0,1.0,1.0,1.0,1.0,1.0,1.0,1.0,1.0,1.0,1.0,1.0,1.0,1.0,1.0,1.0,1.0,1.0,1.0,1.0,1.0,1.0,1.0,1.0,1.0,1.0,1.0,1.0,1.0,1.0,1.0,1.0,1.0,1.0,1.0,1.0,1.0,1.0,1.0,1.0,1.0,1.0,1.0,1.0,1.0,1.0,1.0,1.0,1.0,1.0,1.0,1.0,1.0,1.0,1.0,1.0,1.0,1.0,1.0,1.0,1.0,1.0,0.0825242718446602,1.0,1.0,1.0,1.0,0.9927184466019418,1.0,1.0,1.0,1.0,1.0,1.0,1.0,1.0,1.0,1.0,1.0,1.0,1.0,1.0,1.0,1.0,1.0,0.9053398058252428,1.0,1.0,1.0,1.0,1.0,1.0,1.0,1.0,1.0,1.0,1.0,1.0,1.0,1.0,1.0,1.0,1.0,1.0,1.0,1.0,1.0,1.0,1.0,1.0,1.0,1.0,1.0,1.0,1.0,1.0,1.0,1.0,1.0,1.0,1.0,1.0,1.0,1.0,1.0,1.0,1.0,1.0,1.0,1.0,1.0,1.0,1.0,1.0,1.0,1.0,1.0,1.0,1.0,1.0,1.0,1.0,1.0,1.0,1.0,1.0,1.0,1.0,0.9963592233009708,1.0,1.0,1.0,1.0,1.0,1.0,1.0,1.0,1.0,1.0,1.0,1.0,1.0,1.0,1.0,1.0,1.0,1.0,1.0,1.0,1.0,1.0,1.0,1.0,1.0,1.0,1.0,1.0,1.0,1.0,0.06310679611650485,1.0,1.0,1.0,1.0,1.0,1.0,1.0,1.0,1.0,1.0,1.0,1.0,1.0,1.0,1.0,1.0,1.0,1.0,1.0,0.6043689320388349,1.0,1.0,1.0,1.0,1.0,1.0,1.0,1.0,1.0,1.0,1.0,1.0,0.07281553398058252,1.0,1.0,1.0,1.0,1.0,1.0,1.0,1.0,1.0,1.0,1.0,1.0,1.0,0.9563106796116505,0.25485436893203883,1.0,1.0,1.0,1.0,1.0,1.0,1.0,1.0,1.0,1.0,1.0,1.0,1.0,1.0,1.0,1.0,1.0,1.0,1.0,1.0,1.0,1.0,1.0,1.0,1.0,1.0,1.0,1.0,1.0,1.0,1.0,1.0,0.14684466019417475,1.0,1.0,1.0,1.0,1.0,1.0,1.0,1.0,1.0,1.0,1.0,1.0,1.0,1.0,1.0,1.0,1.0,1.0,1.0,1.0,1.0,1.0,1.0,1.0,1.0,1.0,1.0,1.0,1.0,1.0,1.0,1.0,1.0,1.0,1.0,1.0,1.0,1.0,1.0,1.0,1.0,1.0,1.0,1.0,1.0,1.0,1.0,1.0,1.0],\"xaxis\":\"x\",\"yaxis\":\"y\",\"type\":\"histogram\"},{\"alignmentgroup\":\"True\",\"bingroup\":\"x\",\"hovertemplate\":\"label=0.0\\u003cbr\\u003eaccuracy=%{x}\\u003cbr\\u003ecount=%{y}\\u003cextra\\u003e\\u003c\\u002fextra\\u003e\",\"legendgroup\":\"0.0\",\"marker\":{\"color\":\"#EF553B\",\"pattern\":{\"shape\":\"\"}},\"name\":\"0.0\",\"offsetgroup\":\"0.0\",\"orientation\":\"v\",\"showlegend\":true,\"x\":[0.9405339805825242,0.9150485436893204,0.9271844660194175,0.9684466019417476,0.9587378640776699,0.9283980582524272,0.7281553398058253,0.9587378640776699,0.10072815533980582,0.0,0.9550970873786407,0.904126213592233,0.9575242718446602,0.8822815533980582,0.06796116504854369,0.9587378640776699,0.0,0.0036407766990291263,0.0,0.9550970873786407,0.22572815533980584,0.8143203883495146,0.9053398058252428,0.9466019417475728,0.16019417475728157,0.8483009708737864,0.0,0.8252427184466019,0.6589805825242718,0.0,0.9672330097087378,0.9550970873786407,0.9308252427184466,0.9320388349514563,0.0,0.9514563106796117,0.9575242718446602,0.941747572815534,0.9138349514563107,0.9368932038834952,0.5655339805825242,0.9587378640776699,0.8325242718446602,0.2621359223300971,0.9223300970873787,0.7305825242718447,0.30461165048543687,0.912621359223301,0.904126213592233,0.8919902912621359,0.9684466019417476,0.9381067961165048,0.0,0.7754854368932039,0.0,0.28519417475728154,0.8786407766990292,0.9478155339805825,0.6237864077669902,0.5546116504854369,0.9283980582524272,0.6504854368932039,0.4866504854368932,0.9368932038834952,0.1395631067961165,0.9344660194174758,0.5048543689320388,0.9283980582524272,0.9502427184466019,0.9368932038834952,0.779126213592233,0.9259708737864077,0.9611650485436893,0.0,0.1808252427184466,0.0,0.9514563106796117,0.0,0.0,0.01699029126213592,0.9575242718446602,0.7597087378640777,0.9283980582524272,0.9296116504854369,0.0,0.8713592233009708,0.8944174757281553,0.8616504854368932,0.12985436893203883,0.0,0.27184466019417475,0.0,0.13470873786407767,0.4029126213592233,0.9405339805825242,0.14563106796116504,0.308252427184466,0.9611650485436893,0.9368932038834952,0.404126213592233,0.8859223300970874,0.9296116504854369,0.8883495145631068,0.061893203883495146,0.9016990291262136,0.9514563106796117,0.9405339805825242,0.8725728155339806,0.9368932038834952,0.9271844660194175,0.0,0.8507281553398058,0.9466019417475728,0.9587378640776699,0.9296116504854369,0.9587378640776699,0.0,0.0703883495145631,0.9271844660194175,0.8992718446601942,0.2803398058252427,0.816747572815534,0.0,0.9587378640776699,0.9611650485436893,0.904126213592233,0.0,0.9223300970873787,0.962378640776699,0.20388349514563106,0.9283980582524272,0.9308252427184466,0.962378640776699,0.3118932038834951,0.9283980582524272,0.9441747572815534,0.662621359223301,0.9587378640776699,0.9575242718446602,0.9259708737864077,0.0,0.0,0.5327669902912622,0.8228155339805825,0.9393203883495146,0.10436893203883495,0.7160194174757282,0.9283980582524272,0.0024271844660194173,0.9283980582524272,0.9368932038834952,0.7548543689320388,0.9466019417475728,0.8786407766990292,0.7851941747572816,0.9441747572815534,0.904126213592233,0.3058252427184466,0.0,0.0,0.9393203883495146,0.9308252427184466,0.9283980582524272,0.9344660194174758,0.904126213592233,0.9441747572815534,0.0,0.0012135922330097086,0.9393203883495146,0.0,0.8774271844660194,0.4308252427184466,0.0,0.0012135922330097086,0.9550970873786407,0.9053398058252428,0.0,0.8519417475728155,0.9320388349514563,0.8689320388349514,0.0,0.0,0.8604368932038835,0.9053398058252428,0.9672330097087378,0.9283980582524272,0.7949029126213593,0.0,0.904126213592233,0.0012135922330097086,0.9138349514563107,0.0,0.8919902912621359,0.0,0.9466019417475728,0.904126213592233,0.8701456310679612,0.9611650485436893,0.933252427184466,0.0,0.970873786407767,0.9356796116504854,0.8774271844660194,0.9635922330097088,0.9514563106796117,0.9550970873786407,0.9684466019417476,0.025485436893203883,0.9441747572815534,0.6953883495145631,0.0,0.9283980582524272,0.0,0.5788834951456311,0.9635922330097088,0.9575242718446602,0.8786407766990292,0.75,0.9283980582524272,0.9587378640776699,0.9575242718446602,0.2669902912621359,0.8701456310679612,0.9538834951456311,0.9441747572815534,0.0,0.0,0.9271844660194175,0.8519417475728155,0.9320388349514563,0.0,0.0,0.9453883495145631,0.5339805825242718,0.9453883495145631,0.0,0.9150485436893204,0.8701456310679612,0.5473300970873787,0.9611650485436893,0.0,0.9368932038834952,0.9150485436893204,0.9053398058252428,0.0,0.9575242718446602,0.9283980582524272,0.9199029126213593,0.3131067961165049,0.9223300970873787,0.9283980582524272,0.9393203883495146,0.8616504854368932,0.9296116504854369,0.9053398058252428,0.9283980582524272,0.9065533980582524,0.8555825242718447,0.9186893203883495,0.9648058252427184,0.9283980582524272,0.9296116504854369,0.9283980582524272,0.9271844660194175,0.9308252427184466,0.8507281553398058,0.8470873786407767,0.8470873786407767,0.0,0.9368932038834952,0.0036407766990291263,0.9283980582524272,0.8288834951456311,0.9405339805825242,0.7706310679611651,0.9575242718446602,0.9368932038834952,0.03640776699029126,0.9393203883495146,0.0,0.962378640776699,0.34951456310679613,0.9563106796116505,0.8810679611650486,0.7815533980582524,0.0,0.0,0.9393203883495146,0.0,0.8810679611650486,0.0,0.0,0.837378640776699,0.0,0.0,0.27305825242718446,0.8337378640776699,0.2111650485436893,0.9393203883495146,0.0,0.8434466019417476,0.9587378640776699,0.9587378640776699,0.32038834951456313,0.9053398058252428,0.06432038834951456,0.0,0.0,0.9393203883495146,0.9138349514563107,0.9344660194174758,0.9575242718446602,0.9611650485436893,0.15655339805825244,0.0,0.12014563106796117,0.9514563106796117,0.0,0.0,0.9296116504854369,0.9029126213592233,0.13228155339805825,0.0,0.9368932038834952,0.0,0.904126213592233,0.0,0.6322815533980582,0.0,0.9138349514563107,0.7111650485436893,0.7220873786407767,0.0,0.9271844660194175,0.6565533980582524,0.7803398058252428,0.9514563106796117,0.9405339805825242,0.0,0.9587378640776699,0.8871359223300971,0.9138349514563107,0.0,0.8944174757281553,0.8919902912621359,0.0,0.9393203883495146,0.941747572815534,0.5691747572815534,0.8640776699029126,0.912621359223301,0.9611650485436893,0.9283980582524272,0.9283980582524272,0.9587378640776699,0.38106796116504854,0.9393203883495146,0.9259708737864077,0.9538834951456311,0.1650485436893204,0.9235436893203883,0.0,0.8410194174757282,0.9223300970873787,0.8774271844660194,0.9211165048543689,0.9514563106796117,0.9271844660194175,0.9478155339805825,0.904126213592233,0.7269417475728155,0.9296116504854369,0.46480582524271846,0.2669902912621359,0.9247572815533981,0.9502427184466019,0.9514563106796117,0.9053398058252428,0.9684466019417476,0.9393203883495146,0.9611650485436893,0.0,0.3313106796116505,0.9587378640776699,0.0,0.912621359223301,0.0024271844660194173,0.9393203883495146,0.9356796116504854,0.9308252427184466,0.0,0.0,0.2354368932038835,0.9053398058252428,0.904126213592233,0.962378640776699,0.9441747572815534,0.9368932038834952,0.9550970873786407,0.01820388349514563,0.0,0.9575242718446602,0.0,0.3883495145631068,0.8798543689320388,0.1662621359223301,0.0,0.0,0.9271844660194175,0.3483009708737864,0.9514563106796117,0.0,0.9138349514563107,0.9053398058252428,0.9138349514563107,0.0,0.41019417475728154,0.9150485436893204,0.8713592233009708,0.009708737864077669,0.39441747572815533,0.9684466019417476,0.9283980582524272,0.0,0.787621359223301,0.18567961165048544,0.9368932038834952,0.4587378640776699,0.712378640776699,0.13713592233009708,0.8895631067961165,0.9235436893203883,0.0,0.9271844660194175,0.9393203883495146,0.5898058252427184,0.9368932038834952,0.6783980582524272,0.6941747572815534,0.8604368932038835,0.9575242718446602,0.9174757281553398,0.9283980582524272,0.904126213592233,0.0012135922330097086,0.06310679611650485,0.5983009708737864,0.8713592233009708,0.8737864077669902,0.0,0.5861650485436893,0.9138349514563107,0.0,0.866504854368932,0.0,0.0,0.9368932038834952,0.03519417475728155,0.17475728155339806,0.9016990291262136,0.9393203883495146,0.7196601941747572,0.9138349514563107,0.9320388349514563,0.9587378640776699,0.9575242718446602,0.9344660194174758,0.5036407766990292,0.8470873786407767,0.9247572815533981,0.8932038834951457,0.9381067961165048,0.9101941747572816,0.9344660194174758,0.0,0.2912621359223301,0.19174757281553398,0.9381067961165048,0.9162621359223301,0.9259708737864077,0.0,0.904126213592233,0.5206310679611651,0.0,0.0,0.1407766990291262,0.9296116504854369,0.3131067961165049,0.9441747572815534,0.0,0.9283980582524272,0.9101941747572816,0.9308252427184466,0.0,0.8810679611650486,0.9320388349514563,0.9599514563106796,0.9283980582524272,0.9308252427184466,0.0,0.23786407766990292,0.9684466019417476,0.9441747572815534,0.0,0.0,0.9587378640776699,0.0,0.8713592233009708,0.8956310679611651,0.25606796116504854,0.8725728155339806,0.8216019417475728,0.9138349514563107,0.9575242718446602,0.9587378640776699,0.2633495145631068,0.8531553398058253,0.9138349514563107,0.9138349514563107,0.9393203883495146,0.9271844660194175,0.7900485436893204,0.7924757281553398,0.7378640776699029,0.021844660194174758,0.8992718446601942,0.0,0.15048543689320387,0.0,0.0,0.9271844660194175,0.9368932038834952,0.9587378640776699,0.9441747572815534,0.0,0.07645631067961164,0.0,0.44660194174757284,0.904126213592233,0.3470873786407767,0.8786407766990292,0.912621359223301,0.9235436893203883,0.9575242718446602,0.0,0.9381067961165048,0.8689320388349514,0.0,0.24393203883495146,0.9247572815533981,0.9405339805825242,0.7694174757281553,0.9356796116504854,0.9514563106796117,0.0,0.01699029126213592,0.9587378640776699,0.0,0.0,0.8652912621359223,0.0,0.0,0.9162621359223301,0.08859223300970874,0.0,0.9283980582524272,0.0,0.9356796116504854,0.0,0.9283980582524272,0.9466019417475728,0.9563106796116505,0.37014563106796117,0.9381067961165048,0.279126213592233,0.5230582524271845,0.9587378640776699,0.0,0.7281553398058253,0.8555825242718447,0.1929611650485437,0.8470873786407767,0.8907766990291263,0.9587378640776699,0.9344660194174758,0.0036407766990291263,0.941747572815534,0.9381067961165048,0.9283980582524272,0.9016990291262136,0.8968446601941747,0.9393203883495146,0.9283980582524272,0.8774271844660194,0.9575242718446602,0.962378640776699,0.8701456310679612,0.8434466019417476,0.0,0.0,0.0,0.9138349514563107,0.9429611650485437,0.9611650485436893,0.9381067961165048,0.03762135922330097,0.9684466019417476,0.6796116504854369,0.9344660194174758,0.8555825242718447,0.0,0.014563106796116505,0.0,0.8883495145631068,0.8531553398058253,0.7900485436893204,0.9587378640776699,0.8907766990291263,0.0,0.9138349514563107,0.0,0.9223300970873787,0.014563106796116505,0.023058252427184466,0.9053398058252428,0.9308252427184466,0.0,0.8883495145631068,0.0,0.0,0.9308252427184466,0.21237864077669902,0.9611650485436893,0.9441747572815534,0.9550970873786407,0.9575242718446602,0.941747572815534,0.0,0.9368932038834952,0.24393203883495146,0.2512135922330097,0.9393203883495146,0.9635922330097088,0.9381067961165048,0.0,0.9466019417475728,0.0,0.9550970873786407,0.7827669902912622,0.8531553398058253,0.9381067961165048,0.4393203883495146,0.9587378640776699,0.1553398058252427,0.9575242718446602,0.1407766990291262,0.7172330097087378,0.904126213592233,0.9587378640776699,0.0,0.625,0.0,0.8507281553398058,0.0,0.8725728155339806,0.9587378640776699,0.9283980582524272,0.9344660194174758,0.9757281553398058,0.9271844660194175,0.9587378640776699,0.9429611650485437,0.8992718446601942,0.816747572815534,0.9344660194174758,0.8871359223300971,0.9296116504854369,0.9648058252427184,0.0,0.9393203883495146,0.0,0.0,0.7293689320388349,0.8118932038834952,0.0,0.0,0.0,0.9587378640776699,0.0012135922330097086,0.9611650485436893,0.9393203883495146,0.9356796116504854,0.8798543689320388,0.9550970873786407,0.9466019417475728,0.9368932038834952,0.9599514563106796,0.0,0.8871359223300971,0.9405339805825242,0.7742718446601942,0.9441747572815534,0.9550970873786407,0.9283980582524272,0.933252427184466,0.6225728155339806,0.962378640776699,0.9575242718446602,0.9393203883495146,0.125,0.9550970873786407,0.0,0.8701456310679612,0.9283980582524272,0.8798543689320388,0.9393203883495146,0.9150485436893204,0.009708737864077669,0.0,0.9405339805825242,0.0,0.9575242718446602,0.9575242718446602,0.9283980582524272,0.9405339805825242,0.0970873786407767,0.0,0.9308252427184466,0.9502427184466019,0.0,0.3859223300970874,0.9344660194174758,0.9550970873786407,0.9393203883495146,0.06067961165048544,0.9526699029126213,0.15898058252427186,0.9053398058252428,0.9138349514563107,0.8919902912621359,0.904126213592233,0.9150485436893204,0.9271844660194175,0.7148058252427184,0.9587378640776699,0.0,0.9575242718446602,0.0,0.9526699029126213,0.4344660194174757,0.055825242718446605,0.9186893203883495,0.9575242718446602,0.9271844660194175,0.0,0.17354368932038836,0.8919902912621359,0.8798543689320388,0.9308252427184466,0.9283980582524272,0.0,0.941747572815534,0.0970873786407767,0.41383495145631066,0.5121359223300971,0.0,0.0,0.06432038834951456,0.5885922330097088,0.18567961165048544,0.9174757281553398,0.9138349514563107,0.8944174757281553,0.0,0.0970873786407767,0.9393203883495146,0.0,0.4016990291262136,0.8919902912621359,0.44660194174757284,0.9283980582524272,0.24514563106796117,0.0,0.9308252427184466,0.508495145631068,0.933252427184466,0.0,0.3143203883495146,0.8859223300970874,0.0,0.9575242718446602,0.0,0.904126213592233,0.9320388349514563,0.19053398058252427,0.12257281553398058,0.9393203883495146,0.32038834951456313,0.7111650485436893,0.0,0.9368932038834952,0.9368932038834952,0.904126213592233,0.03155339805825243,0.3640776699029126,0.9296116504854369,0.8919902912621359,0.9575242718446602,0.009708737864077669,0.9466019417475728,0.720873786407767,0.0703883495145631,0.9283980582524272,0.8895631067961165,0.9526699029126213,0.9514563106796117,0.9271844660194175,0.9283980582524272,0.0,0.9283980582524272,0.4963592233009709,0.9502427184466019,0.7063106796116505,0.9575242718446602,0.5436893203883495,0.7293689320388349,0.8737864077669902,0.8883495145631068,0.8871359223300971,0.9223300970873787,0.9320388349514563,0.8919902912621359,0.1529126213592233,0.8992718446601942,0.7111650485436893,0.9381067961165048,0.9575242718446602,0.019417475728155338,0.8434466019417476,0.023058252427184466,0.9490291262135923,0.0,0.9138349514563107,0.9514563106796117,0.8470873786407767,0.10558252427184465,0.941747572815534,0.5752427184466019,0.0,0.17111650485436894,0.9575242718446602,0.9393203883495146,0.1383495145631068,0.13228155339805825,0.0,0.9575242718446602,0.8883495145631068,0.04975728155339806,0.7366504854368932,0.9611650485436893,0.941747572815534,0.9247572815533981,0.9271844660194175,0.0,0.9393203883495146,0.9101941747572816,0.11529126213592233,0.0,0.8737864077669902,0.9053398058252428,0.0,0.0,0.5169902912621359,0.9466019417475728,0.9296116504854369,0.40048543689320387,0.12378640776699029,0.9150485436893204,0.8349514563106796,0.9587378640776699,0.0,0.6286407766990292,0.9162621359223301,0.0,0.9247572815533981,0.9053398058252428,0.3058252427184466,0.962378640776699,0.8980582524271845,0.9053398058252428,0.9150485436893204,0.9611650485436893,0.0,0.9575242718446602,0.9587378640776699,0.9271844660194175,0.0,0.9053398058252428,0.0,0.9283980582524272,0.9211165048543689,0.9283980582524272,0.9368932038834952,0.7621359223300971,0.9393203883495146,0.9138349514563107,0.912621359223301,0.5800970873786407,0.0,0.0,0.9283980582524272,0.06310679611650485,0.8446601941747572,0.0,0.8895631067961165,0.8337378640776699,0.9138349514563107,0.9453883495145631,0.7754854368932039,0.9368932038834952,0.0,0.7657766990291263,0.9368932038834952,0.9053398058252428,0.9138349514563107,0.0,0.9150485436893204,0.16140776699029127,0.9223300970873787,0.9283980582524272,0.9138349514563107,0.9575242718446602,0.0,0.9344660194174758,0.9296116504854369,0.8483009708737864,0.0,0.3106796116504854,0.0,0.0,0.9344660194174758,0.9259708737864077,0.9441747572815534,0.9368932038834952,0.6868932038834952,0.9393203883495146,0.0,0.9575242718446602,0.9271844660194175,0.9393203883495146,0.9356796116504854,0.006067961165048544,0.0,0.012135922330097087,0.0,0.8446601941747572,0.9368932038834952,0.9368932038834952,0.9114077669902912,0.9150485436893204,0.9053398058252428,0.941747572815534,0.8822815533980582,0.38349514563106796,0.0,0.9587378640776699,0.20509708737864077,0.912621359223301,0.9381067961165048,0.9283980582524272,0.8240291262135923,0.941747572815534,0.0,0.0,0.9053398058252428,0.9138349514563107,0.941747572815534,0.9635922330097088,0.9296116504854369,0.9466019417475728,0.6577669902912622,0.8919902912621359,0.904126213592233,0.8883495145631068,0.8689320388349514,0.9405339805825242,0.44538834951456313,0.9587378640776699,0.9138349514563107,0.0,0.0,0.9368932038834952,0.8968446601941747,0.8871359223300971,0.9478155339805825,0.9393203883495146,0.9563106796116505,0.7378640776699029,0.9587378640776699,0.0,0.9393203883495146,0.9138349514563107,0.0,0.0,0.8883495145631068,0.9514563106796117,0.41504854368932037,0.0,0.9271844660194175,0.9587378640776699,0.9138349514563107,0.9308252427184466,0.9247572815533981,0.9356796116504854,0.7645631067961165,0.8883495145631068,0.27063106796116504,0.933252427184466,0.34951456310679613,0.9296116504854369,0.0,0.9053398058252428,0.933252427184466,0.8932038834951457,0.9283980582524272,0.0012135922330097086,0.0,0.0,0.0,0.0,0.8798543689320388,0.9587378640776699,0.9247572815533981,0.8762135922330098,0.375,0.9223300970873787,0.9575242718446602,0.0970873786407767,0.9174757281553398,0.8992718446601942,0.0,0.9587378640776699,0.9587378640776699,0.9550970873786407,0.9344660194174758,0.8907766990291263,0.5230582524271845,0.9308252427184466,0.9271844660194175,0.345873786407767,0.0,0.013349514563106795,0.0,0.00849514563106796,0.9393203883495146,0.4587378640776699,0.9053398058252428,0.9587378640776699,0.9526699029126213,0.9575242718446602,0.9211165048543689,0.9271844660194175,0.0,0.0,0.0036407766990291263,0.8555825242718447,0.0048543689320388345,0.9344660194174758,0.6856796116504854,0.0,0.9441747572815534,0.0,0.9393203883495146,0.904126213592233,0.9199029126213593,0.9393203883495146,0.0,0.8762135922330098,0.39927184466019416,0.8919902912621359,0.1383495145631068,0.9587378640776699,0.9502427184466019,0.0,0.308252427184466,0.9393203883495146,0.9053398058252428,0.8313106796116505,0.9356796116504854,0.9611650485436893,0.0,0.9053398058252428,0.9223300970873787,0.9587378640776699,0.9271844660194175,0.904126213592233,0.8567961165048543,0.9271844660194175,0.0,0.9344660194174758,0.0,0.9393203883495146,0.9381067961165048,0.0,0.8786407766990292,0.941747572815534,0.9453883495145631,0.9393203883495146,0.0,0.9344660194174758,0.9283980582524272,0.24029126213592233,0.9611650485436893,0.9575242718446602,0.33616504854368934,0.8956310679611651,0.9368932038834952,0.9259708737864077,0.9283980582524272,0.9563106796116505,0.3325242718446602,0.9441747572815534,0.8907766990291263,0.7669902912621359,0.23907766990291263,0.03398058252427184,0.8919902912621359,0.03762135922330097,0.0012135922330097086,0.9587378640776699,0.9381067961165048,0.0,0.9259708737864077,0.9587378640776699,0.8737864077669902,0.0,0.8774271844660194,0.36650485436893204,0.8604368932038835,0.9368932038834952,0.941747572815534,0.0,0.0,0.0,0.0,0.9550970873786407,0.8810679611650486,0.0,0.9308252427184466,0.9587378640776699,0.9393203883495146,0.8895631067961165,0.9368932038834952,0.8980582524271845,0.9053398058252428,0.9199029126213593,0.0,0.8737864077669902,0.032766990291262135,0.9186893203883495,0.8919902912621359,0.8762135922330098,0.03762135922330097,0.06796116504854369,0.9308252427184466,0.0012135922330097086,0.0,0.9283980582524272,0.9587378640776699,0.9550970873786407,0.9550970873786407,0.0,0.0,0.0,0.0,0.904126213592233,0.0,0.8713592233009708,0.9283980582524272],\"xaxis\":\"x\",\"yaxis\":\"y\",\"type\":\"histogram\"}],                        {\"template\":{\"data\":{\"histogram2dcontour\":[{\"type\":\"histogram2dcontour\",\"colorbar\":{\"outlinewidth\":0,\"ticks\":\"\"},\"colorscale\":[[0.0,\"#0d0887\"],[0.1111111111111111,\"#46039f\"],[0.2222222222222222,\"#7201a8\"],[0.3333333333333333,\"#9c179e\"],[0.4444444444444444,\"#bd3786\"],[0.5555555555555556,\"#d8576b\"],[0.6666666666666666,\"#ed7953\"],[0.7777777777777778,\"#fb9f3a\"],[0.8888888888888888,\"#fdca26\"],[1.0,\"#f0f921\"]]}],\"choropleth\":[{\"type\":\"choropleth\",\"colorbar\":{\"outlinewidth\":0,\"ticks\":\"\"}}],\"histogram2d\":[{\"type\":\"histogram2d\",\"colorbar\":{\"outlinewidth\":0,\"ticks\":\"\"},\"colorscale\":[[0.0,\"#0d0887\"],[0.1111111111111111,\"#46039f\"],[0.2222222222222222,\"#7201a8\"],[0.3333333333333333,\"#9c179e\"],[0.4444444444444444,\"#bd3786\"],[0.5555555555555556,\"#d8576b\"],[0.6666666666666666,\"#ed7953\"],[0.7777777777777778,\"#fb9f3a\"],[0.8888888888888888,\"#fdca26\"],[1.0,\"#f0f921\"]]}],\"heatmap\":[{\"type\":\"heatmap\",\"colorbar\":{\"outlinewidth\":0,\"ticks\":\"\"},\"colorscale\":[[0.0,\"#0d0887\"],[0.1111111111111111,\"#46039f\"],[0.2222222222222222,\"#7201a8\"],[0.3333333333333333,\"#9c179e\"],[0.4444444444444444,\"#bd3786\"],[0.5555555555555556,\"#d8576b\"],[0.6666666666666666,\"#ed7953\"],[0.7777777777777778,\"#fb9f3a\"],[0.8888888888888888,\"#fdca26\"],[1.0,\"#f0f921\"]]}],\"heatmapgl\":[{\"type\":\"heatmapgl\",\"colorbar\":{\"outlinewidth\":0,\"ticks\":\"\"},\"colorscale\":[[0.0,\"#0d0887\"],[0.1111111111111111,\"#46039f\"],[0.2222222222222222,\"#7201a8\"],[0.3333333333333333,\"#9c179e\"],[0.4444444444444444,\"#bd3786\"],[0.5555555555555556,\"#d8576b\"],[0.6666666666666666,\"#ed7953\"],[0.7777777777777778,\"#fb9f3a\"],[0.8888888888888888,\"#fdca26\"],[1.0,\"#f0f921\"]]}],\"contourcarpet\":[{\"type\":\"contourcarpet\",\"colorbar\":{\"outlinewidth\":0,\"ticks\":\"\"}}],\"contour\":[{\"type\":\"contour\",\"colorbar\":{\"outlinewidth\":0,\"ticks\":\"\"},\"colorscale\":[[0.0,\"#0d0887\"],[0.1111111111111111,\"#46039f\"],[0.2222222222222222,\"#7201a8\"],[0.3333333333333333,\"#9c179e\"],[0.4444444444444444,\"#bd3786\"],[0.5555555555555556,\"#d8576b\"],[0.6666666666666666,\"#ed7953\"],[0.7777777777777778,\"#fb9f3a\"],[0.8888888888888888,\"#fdca26\"],[1.0,\"#f0f921\"]]}],\"surface\":[{\"type\":\"surface\",\"colorbar\":{\"outlinewidth\":0,\"ticks\":\"\"},\"colorscale\":[[0.0,\"#0d0887\"],[0.1111111111111111,\"#46039f\"],[0.2222222222222222,\"#7201a8\"],[0.3333333333333333,\"#9c179e\"],[0.4444444444444444,\"#bd3786\"],[0.5555555555555556,\"#d8576b\"],[0.6666666666666666,\"#ed7953\"],[0.7777777777777778,\"#fb9f3a\"],[0.8888888888888888,\"#fdca26\"],[1.0,\"#f0f921\"]]}],\"mesh3d\":[{\"type\":\"mesh3d\",\"colorbar\":{\"outlinewidth\":0,\"ticks\":\"\"}}],\"scatter\":[{\"fillpattern\":{\"fillmode\":\"overlay\",\"size\":10,\"solidity\":0.2},\"type\":\"scatter\"}],\"parcoords\":[{\"type\":\"parcoords\",\"line\":{\"colorbar\":{\"outlinewidth\":0,\"ticks\":\"\"}}}],\"scatterpolargl\":[{\"type\":\"scatterpolargl\",\"marker\":{\"colorbar\":{\"outlinewidth\":0,\"ticks\":\"\"}}}],\"bar\":[{\"error_x\":{\"color\":\"#2a3f5f\"},\"error_y\":{\"color\":\"#2a3f5f\"},\"marker\":{\"line\":{\"color\":\"#E5ECF6\",\"width\":0.5},\"pattern\":{\"fillmode\":\"overlay\",\"size\":10,\"solidity\":0.2}},\"type\":\"bar\"}],\"scattergeo\":[{\"type\":\"scattergeo\",\"marker\":{\"colorbar\":{\"outlinewidth\":0,\"ticks\":\"\"}}}],\"scatterpolar\":[{\"type\":\"scatterpolar\",\"marker\":{\"colorbar\":{\"outlinewidth\":0,\"ticks\":\"\"}}}],\"histogram\":[{\"marker\":{\"pattern\":{\"fillmode\":\"overlay\",\"size\":10,\"solidity\":0.2}},\"type\":\"histogram\"}],\"scattergl\":[{\"type\":\"scattergl\",\"marker\":{\"colorbar\":{\"outlinewidth\":0,\"ticks\":\"\"}}}],\"scatter3d\":[{\"type\":\"scatter3d\",\"line\":{\"colorbar\":{\"outlinewidth\":0,\"ticks\":\"\"}},\"marker\":{\"colorbar\":{\"outlinewidth\":0,\"ticks\":\"\"}}}],\"scattermapbox\":[{\"type\":\"scattermapbox\",\"marker\":{\"colorbar\":{\"outlinewidth\":0,\"ticks\":\"\"}}}],\"scatterternary\":[{\"type\":\"scatterternary\",\"marker\":{\"colorbar\":{\"outlinewidth\":0,\"ticks\":\"\"}}}],\"scattercarpet\":[{\"type\":\"scattercarpet\",\"marker\":{\"colorbar\":{\"outlinewidth\":0,\"ticks\":\"\"}}}],\"carpet\":[{\"aaxis\":{\"endlinecolor\":\"#2a3f5f\",\"gridcolor\":\"white\",\"linecolor\":\"white\",\"minorgridcolor\":\"white\",\"startlinecolor\":\"#2a3f5f\"},\"baxis\":{\"endlinecolor\":\"#2a3f5f\",\"gridcolor\":\"white\",\"linecolor\":\"white\",\"minorgridcolor\":\"white\",\"startlinecolor\":\"#2a3f5f\"},\"type\":\"carpet\"}],\"table\":[{\"cells\":{\"fill\":{\"color\":\"#EBF0F8\"},\"line\":{\"color\":\"white\"}},\"header\":{\"fill\":{\"color\":\"#C8D4E3\"},\"line\":{\"color\":\"white\"}},\"type\":\"table\"}],\"barpolar\":[{\"marker\":{\"line\":{\"color\":\"#E5ECF6\",\"width\":0.5},\"pattern\":{\"fillmode\":\"overlay\",\"size\":10,\"solidity\":0.2}},\"type\":\"barpolar\"}],\"pie\":[{\"automargin\":true,\"type\":\"pie\"}]},\"layout\":{\"autotypenumbers\":\"strict\",\"colorway\":[\"#636efa\",\"#EF553B\",\"#00cc96\",\"#ab63fa\",\"#FFA15A\",\"#19d3f3\",\"#FF6692\",\"#B6E880\",\"#FF97FF\",\"#FECB52\"],\"font\":{\"color\":\"#2a3f5f\"},\"hovermode\":\"closest\",\"hoverlabel\":{\"align\":\"left\"},\"paper_bgcolor\":\"white\",\"plot_bgcolor\":\"#E5ECF6\",\"polar\":{\"bgcolor\":\"#E5ECF6\",\"angularaxis\":{\"gridcolor\":\"white\",\"linecolor\":\"white\",\"ticks\":\"\"},\"radialaxis\":{\"gridcolor\":\"white\",\"linecolor\":\"white\",\"ticks\":\"\"}},\"ternary\":{\"bgcolor\":\"#E5ECF6\",\"aaxis\":{\"gridcolor\":\"white\",\"linecolor\":\"white\",\"ticks\":\"\"},\"baxis\":{\"gridcolor\":\"white\",\"linecolor\":\"white\",\"ticks\":\"\"},\"caxis\":{\"gridcolor\":\"white\",\"linecolor\":\"white\",\"ticks\":\"\"}},\"coloraxis\":{\"colorbar\":{\"outlinewidth\":0,\"ticks\":\"\"}},\"colorscale\":{\"sequential\":[[0.0,\"#0d0887\"],[0.1111111111111111,\"#46039f\"],[0.2222222222222222,\"#7201a8\"],[0.3333333333333333,\"#9c179e\"],[0.4444444444444444,\"#bd3786\"],[0.5555555555555556,\"#d8576b\"],[0.6666666666666666,\"#ed7953\"],[0.7777777777777778,\"#fb9f3a\"],[0.8888888888888888,\"#fdca26\"],[1.0,\"#f0f921\"]],\"sequentialminus\":[[0.0,\"#0d0887\"],[0.1111111111111111,\"#46039f\"],[0.2222222222222222,\"#7201a8\"],[0.3333333333333333,\"#9c179e\"],[0.4444444444444444,\"#bd3786\"],[0.5555555555555556,\"#d8576b\"],[0.6666666666666666,\"#ed7953\"],[0.7777777777777778,\"#fb9f3a\"],[0.8888888888888888,\"#fdca26\"],[1.0,\"#f0f921\"]],\"diverging\":[[0,\"#8e0152\"],[0.1,\"#c51b7d\"],[0.2,\"#de77ae\"],[0.3,\"#f1b6da\"],[0.4,\"#fde0ef\"],[0.5,\"#f7f7f7\"],[0.6,\"#e6f5d0\"],[0.7,\"#b8e186\"],[0.8,\"#7fbc41\"],[0.9,\"#4d9221\"],[1,\"#276419\"]]},\"xaxis\":{\"gridcolor\":\"white\",\"linecolor\":\"white\",\"ticks\":\"\",\"title\":{\"standoff\":15},\"zerolinecolor\":\"white\",\"automargin\":true,\"zerolinewidth\":2},\"yaxis\":{\"gridcolor\":\"white\",\"linecolor\":\"white\",\"ticks\":\"\",\"title\":{\"standoff\":15},\"zerolinecolor\":\"white\",\"automargin\":true,\"zerolinewidth\":2},\"scene\":{\"xaxis\":{\"backgroundcolor\":\"#E5ECF6\",\"gridcolor\":\"white\",\"linecolor\":\"white\",\"showbackground\":true,\"ticks\":\"\",\"zerolinecolor\":\"white\",\"gridwidth\":2},\"yaxis\":{\"backgroundcolor\":\"#E5ECF6\",\"gridcolor\":\"white\",\"linecolor\":\"white\",\"showbackground\":true,\"ticks\":\"\",\"zerolinecolor\":\"white\",\"gridwidth\":2},\"zaxis\":{\"backgroundcolor\":\"#E5ECF6\",\"gridcolor\":\"white\",\"linecolor\":\"white\",\"showbackground\":true,\"ticks\":\"\",\"zerolinecolor\":\"white\",\"gridwidth\":2}},\"shapedefaults\":{\"line\":{\"color\":\"#2a3f5f\"}},\"annotationdefaults\":{\"arrowcolor\":\"#2a3f5f\",\"arrowhead\":0,\"arrowwidth\":1},\"geo\":{\"bgcolor\":\"white\",\"landcolor\":\"#E5ECF6\",\"subunitcolor\":\"white\",\"showland\":true,\"showlakes\":true,\"lakecolor\":\"white\"},\"title\":{\"x\":0.05},\"mapbox\":{\"style\":\"light\"}}},\"xaxis\":{\"anchor\":\"y\",\"domain\":[0.0,1.0],\"title\":{\"text\":\"accuracy\"}},\"yaxis\":{\"anchor\":\"x\",\"domain\":[0.0,1.0],\"title\":{\"text\":\"count\"},\"type\":\"log\"},\"legend\":{\"title\":{\"text\":\"label\"},\"tracegroupgap\":0},\"margin\":{\"t\":60},\"barmode\":\"relative\"},                        {\"responsive\": true}                    ).then(function(){\n",
       "                            \n",
       "var gd = document.getElementById('a611d400-613a-4e26-9752-2ca57fd7565a');\n",
       "var x = new MutationObserver(function (mutations, observer) {{\n",
       "        var display = window.getComputedStyle(gd).display;\n",
       "        if (!display || display === 'none') {{\n",
       "            console.log([gd, 'removed!']);\n",
       "            Plotly.purge(gd);\n",
       "            observer.disconnect();\n",
       "        }}\n",
       "}});\n",
       "\n",
       "// Listen for the removal of the full notebook cells\n",
       "var notebookContainer = gd.closest('#notebook-container');\n",
       "if (notebookContainer) {{\n",
       "    x.observe(notebookContainer, {childList: true});\n",
       "}}\n",
       "\n",
       "// Listen for the clearing of the current output cell\n",
       "var outputEl = gd.closest('.output');\n",
       "if (outputEl) {{\n",
       "    x.observe(outputEl, {childList: true});\n",
       "}}\n",
       "\n",
       "                        })                };                            </script>        </div>\n",
       "</body>\n",
       "</html>"
      ]
     },
     "metadata": {},
     "output_type": "display_data"
    }
   ],
   "source": [
    "px.histogram(selector.validation_results_, x='accuracy', color='label', log_y=True)"
   ]
  },
  {
   "cell_type": "markdown",
   "metadata": {},
   "source": [
    "# Generate perturbation conditions"
   ]
  },
  {
   "cell_type": "code",
   "execution_count": 24,
   "metadata": {
    "execution": {
     "iopub.execute_input": "2025-02-08T03:48:44.829770Z",
     "iopub.status.busy": "2025-02-08T03:48:44.829555Z",
     "iopub.status.idle": "2025-02-08T03:48:44.834124Z",
     "shell.execute_reply": "2025-02-08T03:48:44.833317Z",
     "shell.execute_reply.started": "2025-02-08T03:48:44.829751Z"
    },
    "trusted": true
   },
   "outputs": [],
   "source": [
    "def generate_perturbations(genes_iterable, generate_double_perts=True):\n",
    "    # Prepare a list of all perturbation conditions\n",
    "    single_perts = [[gene] for gene in genes_iterable]\n",
    "    if generate_double_perts:\n",
    "        double_perts = [(gene1, gene2) for gene1, gene2 in combinations(genes_iterable, 2)]\n",
    "    else:\n",
    "        double_perts = []\n",
    "    all_perts = (single_perts + double_perts)  # Replicate each perturbation three times\n",
    "\n",
    "    return all_perts\n",
    "\n",
    "perturbations_to_predict = generate_perturbations(selector.selected_features_, generate_double_perts=False)"
   ]
  },
  {
   "cell_type": "code",
   "execution_count": 25,
   "metadata": {
    "execution": {
     "iopub.execute_input": "2025-02-08T03:48:44.835316Z",
     "iopub.status.busy": "2025-02-08T03:48:44.834996Z",
     "iopub.status.idle": "2025-02-08T03:48:44.857910Z",
     "shell.execute_reply": "2025-02-08T03:48:44.857112Z",
     "shell.execute_reply.started": "2025-02-08T03:48:44.835288Z"
    },
    "trusted": true
   },
   "outputs": [
    {
     "data": {
      "text/plain": [
       "100"
      ]
     },
     "execution_count": 25,
     "metadata": {},
     "output_type": "execute_result"
    }
   ],
   "source": [
    "len(perturbations_to_predict)"
   ]
  },
  {
   "cell_type": "markdown",
   "metadata": {},
   "source": [
    "# Initialize pretrained GEARS model & dataloader"
   ]
  },
  {
   "cell_type": "code",
   "execution_count": 26,
   "metadata": {
    "execution": {
     "iopub.execute_input": "2025-02-08T03:48:44.858887Z",
     "iopub.status.busy": "2025-02-08T03:48:44.858669Z",
     "iopub.status.idle": "2025-02-08T03:48:44.871423Z",
     "shell.execute_reply": "2025-02-08T03:48:44.870593Z",
     "shell.execute_reply.started": "2025-02-08T03:48:44.858868Z"
    },
    "trusted": true
   },
   "outputs": [],
   "source": [
    "gears_data_dir = f\"GEARS_data\"\n",
    "os.makedirs(gears_data_dir, exist_ok=True)"
   ]
  },
  {
   "cell_type": "code",
   "execution_count": 27,
   "metadata": {
    "execution": {
     "iopub.execute_input": "2025-02-08T03:48:44.872515Z",
     "iopub.status.busy": "2025-02-08T03:48:44.872244Z",
     "iopub.status.idle": "2025-02-08T03:48:46.582011Z",
     "shell.execute_reply": "2025-02-08T03:48:46.581364Z",
     "shell.execute_reply.started": "2025-02-08T03:48:44.872486Z"
    },
    "trusted": true
   },
   "outputs": [
    {
     "name": "stderr",
     "output_type": "stream",
     "text": [
      "Downloading...\n",
      "100%|██████████| 8.50M/8.50M [00:00<00:00, 12.1MiB/s]\n"
     ]
    },
    {
     "data": {
      "text/plain": [
       "{'hidden_size': 64,\n",
       " 'num_go_gnn_layers': 1,\n",
       " 'num_gene_gnn_layers': 1,\n",
       " 'decoder_hidden_size': 16,\n",
       " 'num_similar_genes_go_graph': 20,\n",
       " 'num_similar_genes_co_express_graph': 20,\n",
       " 'coexpress_threshold': 0.4,\n",
       " 'uncertainty': False,\n",
       " 'uncertainty_reg': 1,\n",
       " 'direction_lambda': 0.1,\n",
       " 'G_go': tensor([[   0,    0,    0,  ..., 9649, 9669, 9693],\n",
       "         [   0,  126,  514,  ..., 9649, 9669, 9693]]),\n",
       " 'G_go_weight': tensor([1.0000, 0.1739, 0.1600,  ..., 1.0000, 1.0000, 1.0000]),\n",
       " 'G_coexpress': tensor([[   0,    1,    2,  ..., 5050, 5052, 5053],\n",
       "         [   0,    1,    2,  ..., 5050, 5052, 5053]]),\n",
       " 'G_coexpress_weight': tensor([1.0000, 0.9998, 0.9998,  ..., 1.0000, 1.0000, 1.0000]),\n",
       " 'device': 'cuda:6',\n",
       " 'num_genes': 5054,\n",
       " 'num_perts': 9853,\n",
       " 'no_perturb': False}"
      ]
     },
     "execution_count": 27,
     "metadata": {},
     "output_type": "execute_result"
    }
   ],
   "source": [
    "# Download pretrained GEARS model (Norman et al. 2019 dataset)\n",
    "dataverse_download('https://dataverse.harvard.edu/api/access/datafile/10457098', f'{gears_data_dir}/model.zip')\n",
    "\n",
    "# Extract and set up model directory\n",
    "with ZipFile(f'{gears_data_dir}/model.zip', 'r') as zip:\n",
    "    zip.extractall(path = f'{gears_data_dir}/model')\n",
    "del zip\n",
    "\n",
    "# Load pretrained model config\n",
    "pretrainedConfig = pickle.loads(open(f'{gears_data_dir}/model/model_ckpt/config.pkl', 'rb').read())\n",
    "pretrainedConfig"
   ]
  },
  {
   "cell_type": "code",
   "execution_count": 28,
   "metadata": {
    "execution": {
     "iopub.execute_input": "2025-02-08T03:48:46.583122Z",
     "iopub.status.busy": "2025-02-08T03:48:46.582813Z",
     "iopub.status.idle": "2025-02-08T03:48:46.587321Z",
     "shell.execute_reply": "2025-02-08T03:48:46.586511Z",
     "shell.execute_reply.started": "2025-02-08T03:48:46.583093Z"
    },
    "trusted": true
   },
   "outputs": [],
   "source": [
    "# GEARS does not define the nonzero gene idx for unperturbed test data, so we need to do it manually\n",
    "\n",
    "def adata_define_nonzero_gene_idx(adata):\n",
    "    import scipy.sparse as sp\n",
    "    # Use scipy.sparse.find to get non-zero entries (rows, cols, values)\n",
    "    _, non_zero_cols, _ = sp.find(adata.X)\n",
    "    # Get unique columns with non-zero entries\n",
    "    unique_non_zero_cols = np.unique(non_zero_cols)\n",
    "    # Map these indices to gene names\n",
    "    non_zeros_gene_idx = {adata.var_names[idx]: idx for idx in unique_non_zero_cols}\n",
    "    # Store the result\n",
    "    adata.uns['non_zeros_gene_idx'] = non_zeros_gene_idx"
   ]
  },
  {
   "cell_type": "code",
   "execution_count": 29,
   "metadata": {
    "execution": {
     "iopub.execute_input": "2025-02-08T03:48:46.588372Z",
     "iopub.status.busy": "2025-02-08T03:48:46.588014Z",
     "iopub.status.idle": "2025-02-08T03:49:02.523616Z",
     "shell.execute_reply": "2025-02-08T03:49:02.522765Z",
     "shell.execute_reply.started": "2025-02-08T03:48:46.588349Z"
    },
    "trusted": true
   },
   "outputs": [
    {
     "name": "stderr",
     "output_type": "stream",
     "text": [
      "Downloading...\n",
      "100%|██████████| 9.46M/9.46M [00:00<00:00, 11.0MiB/s]\n",
      "Downloading...\n",
      "100%|██████████| 559k/559k [00:00<00:00, 1.62MiB/s]\n",
      "Creating pyg object for each cell in the data...\n",
      "Creating dataset file...\n",
      "100%|██████████| 1/1 [00:01<00:00,  1.94s/it]\n",
      "Done!\n",
      "Saving new dataset pyg object at GEARS_data/aml_scrna_embeddings/aml_scrna_embeddings/data_pyg/cell_graphs.pkl\n",
      "Done!\n",
      "Creating new splits....\n",
      "Saving new splits at GEARS_data/aml_scrna_embeddings/aml_scrna_embeddings/splits/aml_scrna_embeddings_no_split_1_0.75.pkl\n",
      "Done!\n",
      "Creating dataloaders....\n",
      "Dataloaders created...\n"
     ]
    }
   ],
   "source": [
    "aml_data = PertData(f'{gears_data_dir}/aml_scrna_embeddings')\n",
    "combined_adata.X = csr_matrix(combined_adata.X)\n",
    "adata_define_nonzero_gene_idx(combined_adata)\n",
    "aml_data.new_data_process(dataset_name='aml_scrna_embeddings', adata=combined_adata, skip_calc_de=True)\n",
    "aml_data.prepare_split(split='no_split')\n",
    "\n",
    "aml_data.dataloader = aml_data.get_dataloader(batch_size=1)\n",
    "# Convert condition boolean mask to numpy array\n",
    "combined_adata.obs['condition'] = combined_adata.obs['condition'].astype('str')"
   ]
  },
  {
   "cell_type": "code",
   "execution_count": 30,
   "metadata": {
    "execution": {
     "iopub.execute_input": "2025-02-08T03:49:02.524890Z",
     "iopub.status.busy": "2025-02-08T03:49:02.524576Z",
     "iopub.status.idle": "2025-02-08T03:49:02.532905Z",
     "shell.execute_reply": "2025-02-08T03:49:02.532074Z",
     "shell.execute_reply.started": "2025-02-08T03:49:02.524866Z"
    },
    "trusted": true
   },
   "outputs": [],
   "source": [
    "def GEARS_patched_init_(self, pert_data, \n",
    "                 device = 'cuda',\n",
    "                 weight_bias_track = False, \n",
    "                 proj_name = 'GEARS', \n",
    "                 exp_name = 'GEARS'):\n",
    "        \"\"\"\n",
    "        Initialize GEARS model\n",
    "\n",
    "        Parameters\n",
    "        ----------\n",
    "        pert_data: PertData object\n",
    "            dataloader for perturbation data\n",
    "        device: str\n",
    "            Device to run the model on. Default: 'cuda'\n",
    "        weight_bias_track: bool\n",
    "            Whether to track performance on wandb. Default: False\n",
    "        proj_name: str\n",
    "            Project name for wandb. Default: 'GEARS'\n",
    "        exp_name: str\n",
    "            Experiment name for wandb. Default: 'GEARS'\n",
    "\n",
    "        Returns\n",
    "        -------\n",
    "        None\n",
    "\n",
    "        \"\"\"\n",
    "        import torch\n",
    "        self.weight_bias_track = weight_bias_track\n",
    "        \n",
    "        if self.weight_bias_track:\n",
    "            import wandb\n",
    "            wandb.init(project=proj_name, name=exp_name)  \n",
    "            self.wandb = wandb\n",
    "        else:\n",
    "            self.wandb = None\n",
    "        \n",
    "        self.device = device\n",
    "        self.config = None\n",
    "        \n",
    "        self.dataloader = pert_data.dataloader\n",
    "        self.adata = pert_data.adata\n",
    "        self.node_map = pert_data.node_map\n",
    "        self.node_map_pert = pert_data.node_map_pert\n",
    "        self.data_path = pert_data.data_path\n",
    "        self.dataset_name = pert_data.dataset_name\n",
    "        self.split = pert_data.split\n",
    "        self.seed = pert_data.seed\n",
    "        self.train_gene_set_size = pert_data.train_gene_set_size\n",
    "        self.set2conditions = pert_data.set2conditions\n",
    "        self.subgroup = pert_data.subgroup\n",
    "        self.gene_list = pert_data.gene_names.values.tolist()\n",
    "        self.pert_list = pert_data.pert_names.tolist()\n",
    "        self.num_genes = len(self.gene_list)\n",
    "        self.num_perts = len(self.pert_list)\n",
    "        self.default_pert_graph = pert_data.default_pert_graph\n",
    "        self.saved_pred = {}\n",
    "        self.saved_logvar_sum = {}\n",
    "        \n",
    "        ctrl_mask = (self.adata.obs.condition == 'ctrl').to_numpy()\n",
    "        self._ctrl_expression = torch.tensor(  # Assign to a regular attribute\n",
    "                np.mean(self.adata.X[ctrl_mask], axis=0)\n",
    "            ).reshape(-1,).to(self.device)\n",
    "        pert_full_id2pert = dict(self.adata.obs[['condition_name', 'condition']].values)\n",
    "        self.dict_filter = {pert_full_id2pert[i]: j for i, j in\n",
    "                            self.adata.uns['non_zeros_gene_idx'].items() if\n",
    "                            i in pert_full_id2pert}\n",
    "        self.ctrl_adata = self.adata[self.adata.obs['condition'] == 'ctrl']\n",
    "        \n",
    "        gene_dict = {g:i for i,g in enumerate(self.gene_list)}\n",
    "        self.pert2gene = {p: gene_dict[pert] for p, pert in\n",
    "                          enumerate(self.pert_list) if pert in self.gene_list}"
   ]
  },
  {
   "cell_type": "code",
   "execution_count": null,
   "metadata": {
    "execution": {
     "execution_failed": "2025-02-08T04:03:44.542Z",
     "iopub.execute_input": "2025-02-08T03:49:02.534180Z",
     "iopub.status.busy": "2025-02-08T03:49:02.533901Z"
    },
    "trusted": true
   },
   "outputs": [
    {
     "name": "stdout",
     "output_type": "stream",
     "text": [
      "Running predictions for 17749 cells using batch_size=1\n",
      "\n",
      "Gene Availability Check:\n",
      "Available genes: 72/100\n",
      "\n",
      "Available genes:\n",
      "['ANXA1', 'IRF2BP2', 'VAMP8', 'TPP1', 'TAGLN2', 'CTSC', 'GSN', 'CD68', 'CYBA', 'LMNA', 'PRAME', 'RPS7', 'COMT', 'PFDN5', 'PRSS57', 'LST1', 'TPT1', 'CST3', 'HOXB4', 'LRRFIP1', 'TMSB4X', 'EGFL7', 'GRN', 'SRGN', 'SH3BGRL3', 'MRPL33', 'C1QTNF4', 'GAPDH', 'CORO1A', 'ACTB', 'ETS2', 'METTL7A', 'CFD', 'ITM2B', 'PPP1R18', 'RPS9', 'RPL18A', 'CD99', 'PLD3', 'CITED2', 'MYL6', 'COX6A1', 'IER2', 'TIMP1', 'CAPZA1', 'PDLIM1', 'HHEX', 'ACTG1', 'SRSF5', 'PAFAH1B2', 'RUNX1T1', 'UBASH3B', 'IQGAP1', 'LGALS1', 'CTSB', 'APLP2', 'MAPKAPK3', 'PRR13', 'SMYD3', 'MYL12A', 'AIF1', 'PTTG1IP', 'PYCARD', 'KDM5B', 'UQCR11', 'RNASET2', 'TPM3', 'GTSF1', 'CLIC1', 'ALDOA', 'TYROBP', 'MGST1']\n",
      "\n",
      "Unavailable genes:\n",
      "['RSRP1', 'CXorf21', 'JAML', 'MARCKS', 'MALAT1', 'C1orf186', 'ALDH3B1', 'CD74', 'CD36', 'RGS18', 'IL3RA', 'HLA-DRB1', 'FCN1', 'S100A8', 'S100A9', 'ITGB2', 'CAV1', 'XIST', 'HCST', 'HOXB-AS3', 'ITGAX', 'EVI2A', 'LGALS3', 'PLEK', 'NEAT1', 'HLA-DRA', 'CXCL8', 'ATP8B4']\n",
      "\n",
      "Proceeding with 72 valid perturbations\n"
     ]
    },
    {
     "name": "stderr",
     "output_type": "stream",
     "text": [
      "Baseline predictions:  52%|█████▏    | 9229/17749 [06:52<05:55, 23.98it/s] "
     ]
    }
   ],
   "source": [
    "from gears import GEARS\n",
    "import torch\n",
    "\n",
    "def check_available_perturbations(gears_wrapper, perturbations_to_predict):\n",
    "    \"\"\"\n",
    "    Check which genes from perturbations_to_predict are available in GEARS pert list.\n",
    "    \n",
    "    Args:\n",
    "        gears_wrapper: GEARS model instance\n",
    "        perturbations_to_predict: List of perturbations to check\n",
    "    \n",
    "    Returns:\n",
    "        tuple: (available_perts, unavailable_perts)\n",
    "    \"\"\"\n",
    "    available_perts = []\n",
    "    unavailable_perts = []\n",
    "    \n",
    "    # Flatten the perturbations list and get unique genes\n",
    "    all_genes = set()\n",
    "    for pert in perturbations_to_predict:\n",
    "        if isinstance(pert, (list, tuple)):\n",
    "            all_genes.update(pert)\n",
    "        else:\n",
    "            all_genes.add(pert)\n",
    "    \n",
    "    # Check each gene\n",
    "    for gene in all_genes:\n",
    "        if gene in gears_wrapper.pert_list:\n",
    "            available_perts.append(gene)\n",
    "        else:\n",
    "            unavailable_perts.append(gene)\n",
    "    \n",
    "    print(f\"\\nGene Availability Check:\")\n",
    "    print(f\"Available genes: {len(available_perts)}/{len(all_genes)}\")\n",
    "    print(\"\\nAvailable genes:\")\n",
    "    print(available_perts)\n",
    "    print(\"\\nUnavailable genes:\")\n",
    "    print(unavailable_perts)\n",
    "    \n",
    "    return available_perts, unavailable_perts\n",
    "\n",
    "\n",
    "def run_inference(aml_data, perturbations_to_predict):\n",
    "    \"\"\"\n",
    "    Run GEARS inference using existing batch size configuration.\n",
    "    \n",
    "    Args:\n",
    "        aml_data: Prepared PertData object with existing batch_size\n",
    "        perturbations_to_predict: List of perturbations to predict\n",
    "    \"\"\"\n",
    "    from scipy.stats import pearsonr, spearmanr\n",
    "    from types import MethodType\n",
    "    \n",
    "    n_cells = len(aml_data.adata)\n",
    "    batch_size = aml_data.dataloader['test_loader'].batch_size\n",
    "    print(f\"Running predictions for {n_cells} cells using batch_size={batch_size}\")\n",
    "\n",
    "    # Define the ctrl_expression property to return the attribute\n",
    "    def ctrl_expression_property(self):\n",
    "        return self._ctrl_expression\n",
    "\n",
    "    GEARS.ctrl_expression = property(ctrl_expression_property)\n",
    "\n",
    "    # Monkey patch the __init__ method\n",
    "    GEARS.__init__ = GEARS_patched_init_\n",
    "\n",
    "    # Load model for inference\n",
    "    gears_wrapper = GEARS(\n",
    "        aml_data,\n",
    "        device='cpu',# 'cuda' if torch.cuda.is_available() else 'mps' if torch.backends.mps.is_available() else 'cpu',\n",
    "        weight_bias_track=False\n",
    "    )\n",
    "    gears_wrapper.load_pretrained(f'{gears_data_dir}/model/model_ckpt')\n",
    "    gears_wrapper.model.eval()\n",
    "\n",
    "     # Check available perturbations before running predictions\n",
    "    available_perts, unavailable_perts = check_available_perturbations(gears_wrapper, perturbations_to_predict)\n",
    "    \n",
    "    # Filter perturbations to only include available ones\n",
    "    filtered_perturbations = [pert for pert in perturbations_to_predict \n",
    "                            if all(gene in available_perts for gene in (pert if isinstance(pert, (list, tuple)) else [pert]))]\n",
    "    \n",
    "    if not filtered_perturbations:\n",
    "        raise ValueError(\"No valid perturbations available for prediction!\")\n",
    "    \n",
    "    print(f\"\\nProceeding with {len(filtered_perturbations)} valid perturbations\")\n",
    "    \n",
    "    # Get cell IDs and original expression\n",
    "    cell_ids = aml_data.adata.obs_names\n",
    "    original_expression = aml_data.adata.X.toarray() if issparse(aml_data.adata.X) else aml_data.adata.X\n",
    "    \n",
    "    predictions = {}\n",
    "    with torch.no_grad():\n",
    "        # Process baseline (no perturbation) in batches\n",
    "        baseline_preds = []\n",
    "        for i in tqdm(range(0, n_cells, batch_size), desc=\"Baseline predictions\"):\n",
    "            batch_end = min(i + batch_size, n_cells)\n",
    "            batch_size_actual = batch_end - i\n",
    "            batch_preds = gears_wrapper.predict([[] for _ in range(batch_size_actual)])\n",
    "            baseline_preds.append(batch_preds[''])  # no perturbation is empty string\n",
    "        \n",
    "        predictions['no_perturbation'] = baseline_preds\n",
    "        \n",
    "        # Calculate baseline metrics for each cell\n",
    "        baseline_metrics = pd.DataFrame(index=cell_ids)\n",
    "        baseline_metrics['mse'] = np.mean((original_expression - baseline_preds) ** 2, axis=1)\n",
    "        baseline_metrics['pearson'] = [\n",
    "            pearsonr(original_expression[i], baseline_preds[i])[0] \n",
    "            for i in range(n_cells)\n",
    "        ]\n",
    "        baseline_metrics['spearman'] = [\n",
    "            spearmanr(original_expression[i], baseline_preds[i])[0]\n",
    "            for i in range(n_cells)\n",
    "        ]\n",
    "        \n",
    "        # Get predictions for all perturbations\n",
    "        # Accumulate predictions across all cells\n",
    "        # We'll use a dictionary where each key is a perturbation (the key returned by .predict) and \n",
    "        # its value is the list of prediction arrays from each batch.\n",
    "    #     all_batch_preds = {}\n",
    "        \n",
    "    #     for i in tqdm(range(0, n_cells, batch_size), desc=\"Predicting perturbations\"):\n",
    "    #         # Call .predict on the list of filtered perturbations for the current batch\n",
    "    #         batch_preds = gears_wrapper.predict(filtered_perturbations)\n",
    "    #         for key, preds in batch_preds.items():\n",
    "    #             # If this key is being encountered for the first time, initialize the list.\n",
    "    #             if key not in all_batch_preds:\n",
    "    #                 all_batch_preds[key] = [preds]\n",
    "    #             else:\n",
    "    #                 all_batch_preds[key].append(preds)\n",
    "    \n",
    "    # # Concatenate predictions for each perturbation (each key) across batch axis (axis=0)\n",
    "    # predictions = { key: val for key, val in (all_batch_preds | predictions).items() }\n",
    "    \n",
    "    # # Create predictions df with cell IDs from the observation table in aml_data.adata\n",
    "    # cell_ids = aml_data.adata.obs_names\n",
    "    # predictions_df = pd.DataFrame(predictions, index=cell_ids)\n",
    "    predictions_df = None\n",
    "    \n",
    "    print(\"\\nBaseline Prediction Performance:\")\n",
    "    print(f\"Mean MSE: {baseline_metrics['mse'].mean():.4f} (±{baseline_metrics['mse'].std():.4f})\")\n",
    "    print(f\"Mean Pearson: {baseline_metrics['pearson'].mean():.4f} (±{baseline_metrics['pearson'].std():.4f})\")\n",
    "    print(f\"Mean Spearman: {baseline_metrics['spearman'].mean():.4f} (±{baseline_metrics['spearman'].std():.4f})\")\n",
    "    \n",
    "    # Add percentile rankings\n",
    "    for metric in ['mse', 'pearson', 'spearman']:\n",
    "        baseline_metrics[f'{metric}_percentile'] = baseline_metrics[metric].rank(pct=True)\n",
    "    \n",
    "    \n",
    "    return predictions_df, baseline_metrics, filtered_perturbations, gears_wrapper\n",
    "\n",
    "predictions_df, baseline_metrics, filtered_perturbations, gears_wrapper = run_inference(aml_data, perturbations_to_predict)\n",
    "\n",
    "# Find cells with best/worst predictions\n",
    "best_predicted = baseline_metrics.nsmallest(5, 'mse')\n",
    "worst_predicted = baseline_metrics.nlargest(5, 'mse')\n",
    "\n",
    "# Get perturbation effects relative to baseline\n",
    "def get_perturbation_effect(predictions_df, pert):\n",
    "    return predictions_df[pert] - predictions_df['no_perturbation']\n",
    "\n",
    "# Example: Calculate effect size for a perturbation\n",
    "# pert_effect = get_perturbation_effect(predictions_df, str(filtered_perturbations[0][0]))\n",
    "\n",
    "# Analyze cells with different baseline prediction quality\n",
    "good_cells = baseline_metrics[baseline_metrics['mse_percentile'] < 0.1].index\n",
    "poor_cells = baseline_metrics[baseline_metrics['mse_percentile'] > 0.9].index\n",
    "\n",
    "# good_cell_predictions = predictions_df.loc[good_cells]\n",
    "# poor_cell_predictions = predictions_df.loc[poor_cells]"
   ]
  },
  {
   "cell_type": "code",
   "execution_count": null,
   "metadata": {
    "execution": {
     "execution_failed": "2025-02-08T04:03:44.543Z"
    },
    "trusted": true
   },
   "outputs": [],
   "source": [
    "# # Get the metrics for good cells\n",
    "# good_cells_metrics = baseline_metrics.loc[good_cells]\n",
    "\n",
    "# # Find the worst performing cell among good cells (highest MSE)\n",
    "# worst_of_good = good_cells_metrics.nlargest(1, 'mse')\n",
    "\n",
    "# print(\"Metrics for worst-performing cell among good cells:\")\n",
    "# print(f\"Cell ID: {worst_of_good.index[0]}\")\n",
    "# print(f\"MSE: {worst_of_good['mse'].iloc[0]:.6f}\")\n",
    "# print(f\"Pearson correlation: {worst_of_good['pearson'].iloc[0]:.6f}\")\n",
    "# print(f\"Spearman correlation: {worst_of_good['spearman'].iloc[0]:.6f}\")\n",
    "# print(f\"MSE percentile (overall): {worst_of_good['mse_percentile'].iloc[0]:.6f}\")"
   ]
  },
  {
   "cell_type": "code",
   "execution_count": null,
   "metadata": {
    "execution": {
     "execution_failed": "2025-02-08T04:03:44.542Z"
    },
    "trusted": true
   },
   "outputs": [],
   "source": [
    "# best_of_good = good_cells_metrics.nsmallest(1, 'mse')\n",
    "\n",
    "# print(\"Metrics for best-performing cell among good cells:\")\n",
    "# print(f\"Cell ID: {best_of_good.index[0]}\")\n",
    "# print(f\"MSE: {best_of_good['mse'].iloc[0]:.6f}\")\n",
    "# print(f\"Pearson correlation: {best_of_good['pearson'].iloc[0]:.6f}\")\n",
    "# print(f\"Spearman correlation: {best_of_good['spearman'].iloc[0]:.6f}\")\n",
    "# print(f\"MSE percentile (overall): {best_of_good['mse_percentile'].iloc[0]:.6f}\")"
   ]
  },
  {
   "cell_type": "code",
   "execution_count": null,
   "metadata": {
    "execution": {
     "execution_failed": "2025-02-08T04:03:44.542Z"
    },
    "trusted": true
   },
   "outputs": [],
   "source": [
    "# import matplotlib.pyplot as plt\n",
    "# import seaborn as sns\n",
    "# import numpy as np\n",
    "\n",
    "# # Get the cell ID of interest\n",
    "# cell_ids = best_of_good.index\n",
    "\n",
    "# # Get actual and predicted values for this cell\n",
    "# actual_values = aml_data.adata[cell_ids].X.toarray() if issparse(aml_data.adata.X) else aml_data.adata[cell_ids].X\n",
    "# # predicted_values = predictions_df.loc[cell_id, 'no_perturbation']\n",
    "\n",
    "# # Create a DataFrame for easier plotting\n",
    "# comparison_df = pd.DataFrame({\n",
    "#     'Actual': np.mean(actual_values, axis=0),\n",
    "#     # 'Predicted': predicted_values,\n",
    "#     'Gene': aml_data.adata.var_names\n",
    "# })\n",
    "\n",
    "# # Alternative approach to categorize expression levels\n",
    "# expression_quantiles = comparison_df['Actual'].quantile([0.25, 0.5, 0.75])\n",
    "# comparison_df['Expression_Level'] = 'Very Low'\n",
    "# comparison_df.loc[comparison_df['Actual'] > expression_quantiles[0.25], 'Expression_Level'] = 'Low'\n",
    "# comparison_df.loc[comparison_df['Actual'] > expression_quantiles[0.5], 'Expression_Level'] = 'Medium'\n",
    "# comparison_df.loc[comparison_df['Actual'] > expression_quantiles[0.75], 'Expression_Level'] = 'High'\n",
    "\n",
    "# # # Create a figure with multiple subplots\n",
    "# # fig, (ax1, ax2) = plt.subplots(1, 2, figsize=(20, 10))\n",
    "\n",
    "# # # 1. Scatter plot with expression levels colored\n",
    "# # sns.scatterplot(data=comparison_df, \n",
    "# #                 x='Actual', \n",
    "# #                 y='Predicted', \n",
    "# #                 hue='Expression_Level',\n",
    "# #                 alpha=0.6,\n",
    "# #                 ax=ax1)\n",
    "# # ax1.plot([min(actual_values), max(actual_values)], \n",
    "# #          [min(actual_values), max(actual_values)], \n",
    "# #          'r--', label='Perfect Prediction')\n",
    "# # ax1.set_title(f'Actual vs Predicted Values\\nPearson: {best_of_good[\"pearson\"].iloc[0]:.3f}, Spearman: {best_of_good[\"spearman\"].iloc[0]:.3f}')\n",
    "# # ax1.set_xlabel('Actual Expression')\n",
    "# # ax1.set_ylabel('Predicted Expression')\n",
    "\n",
    "# # # 2. Rank scatter plot\n",
    "# # actual_ranks = comparison_df['Actual'].rank()\n",
    "# # predicted_ranks = comparison_df['Predicted'].rank()\n",
    "# # sns.scatterplot(x=actual_ranks, \n",
    "# #                 y=predicted_ranks, \n",
    "# #                 hue=comparison_df['Expression_Level'],\n",
    "# #                 alpha=0.6,\n",
    "# #                 ax=ax2)\n",
    "# # ax2.plot([min(actual_ranks), max(actual_ranks)], \n",
    "# #          [min(actual_ranks), max(actual_ranks)], \n",
    "# #          'r--', label='Perfect Rank Agreement')\n",
    "# # ax2.set_title('Rank Comparison\\n(Shows Spearman Correlation)')\n",
    "# # ax2.set_xlabel('Actual Expression Rank')\n",
    "# # ax2.set_ylabel('Predicted Expression Rank')\n",
    "\n",
    "# # plt.tight_layout()\n",
    "\n",
    "# # # 3. Additional analysis of outliers and expression levels\n",
    "# # print(\"\\nAnalysis of Prediction Quality by Expression Level:\")\n",
    "# # for level in ['Very Low', 'Low', 'Medium', 'High']:\n",
    "# #     level_df = comparison_df[comparison_df['Expression_Level'] == level]\n",
    "# #     if len(level_df) > 1:  # Need at least 2 points for correlation\n",
    "# #         pearson = pearsonr(level_df['Actual'], level_df['Predicted'])[0]\n",
    "# #         spearman = spearmanr(level_df['Actual'], level_df['Predicted'])[0]\n",
    "# #         mean_expr = level_df['Actual'].mean()\n",
    "# #         print(f\"\\n{level} Expression Genes:\")\n",
    "# #         print(f\"Number of genes: {len(level_df)}\")\n",
    "# #         print(f\"Mean expression: {mean_expr:.3f}\")\n",
    "# #         print(f\"Pearson correlation: {pearson:.3f}\")\n",
    "# #         print(f\"Spearman correlation: {spearman:.3f}\")\n",
    "\n",
    "# # # 4. Find the top 10 most discrepant predictions\n",
    "# # comparison_df['Absolute_Error'] = abs(comparison_df['Actual'] - comparison_df['Predicted'])\n",
    "# # print(\"\\nTop 10 Most Discrepant Predictions:\")\n",
    "# # print(comparison_df.nlargest(10, 'Absolute_Error')[['Gene', 'Actual', 'Predicted', 'Absolute_Error', 'Expression_Level']])\n",
    "\n",
    "# # # 5. Additional statistics about zero expression genes\n",
    "# # zero_expr_count = (comparison_df['Actual'] == 0).sum()\n",
    "# # zero_pred_count = (comparison_df['Predicted'] == 0).sum()\n",
    "# # print(f\"\\nZero Expression Statistics:\")\n",
    "# # print(f\"Number of genes with zero actual expression: {zero_expr_count}\")\n",
    "# # print(f\"Number of genes with zero predicted expression: {zero_pred_count}\")"
   ]
  },
  {
   "cell_type": "code",
   "execution_count": null,
   "metadata": {
    "execution": {
     "execution_failed": "2025-02-08T04:03:44.542Z"
    },
    "trusted": true
   },
   "outputs": [],
   "source": [
    "# comparison_df"
   ]
  },
  {
   "cell_type": "markdown",
   "metadata": {},
   "source": [
    "# Perturbation"
   ]
  },
  {
   "cell_type": "code",
   "execution_count": null,
   "metadata": {
    "execution": {
     "execution_failed": "2025-02-08T04:03:44.543Z"
    },
    "trusted": true
   },
   "outputs": [],
   "source": [
    "def reinit_gears(self):\n",
    "        \"\"\"Reinitialize the GEARS model\"\"\"\n",
    "        # Define the ctrl_expression property to return the attribute\n",
    "        def ctrl_expression_property(self):\n",
    "            return self._ctrl_expression\n",
    "\n",
    "        GEARS.ctrl_expression = property(ctrl_expression_property)\n",
    "\n",
    "        def GEARS_patched_init_(self, pert_data, \n",
    "                 device = 'cuda',\n",
    "                 weight_bias_track = False, \n",
    "                 proj_name = 'GEARS', \n",
    "                 exp_name = 'GEARS'):\n",
    "            \"\"\"\n",
    "            Initialize GEARS model\n",
    "\n",
    "            Parameters\n",
    "            ----------\n",
    "            pert_data: PertData object\n",
    "                dataloader for perturbation data\n",
    "            device: str\n",
    "                Device to run the model on. Default: 'cuda'\n",
    "            weight_bias_track: bool\n",
    "                Whether to track performance on wandb. Default: False\n",
    "            proj_name: str\n",
    "                Project name for wandb. Default: 'GEARS'\n",
    "            exp_name: str\n",
    "                Experiment name for wandb. Default: 'GEARS'\n",
    "\n",
    "            Returns\n",
    "            -------\n",
    "            None\n",
    "\n",
    "            \"\"\"\n",
    "            import torch\n",
    "            self.weight_bias_track = weight_bias_track\n",
    "            \n",
    "            if self.weight_bias_track:\n",
    "                import wandb\n",
    "                wandb.init(project=proj_name, name=exp_name)  \n",
    "                self.wandb = wandb\n",
    "            else:\n",
    "                self.wandb = None\n",
    "            \n",
    "            self.device = device\n",
    "            self.config = None\n",
    "            \n",
    "            self.dataloader = pert_data.dataloader\n",
    "            self.adata = pert_data.adata\n",
    "            self.node_map = pert_data.node_map\n",
    "            self.node_map_pert = pert_data.node_map_pert\n",
    "            self.data_path = pert_data.data_path\n",
    "            self.dataset_name = pert_data.dataset_name\n",
    "            self.split = pert_data.split\n",
    "            self.seed = pert_data.seed\n",
    "            self.train_gene_set_size = pert_data.train_gene_set_size\n",
    "            self.set2conditions = pert_data.set2conditions\n",
    "            self.subgroup = pert_data.subgroup\n",
    "            self.gene_list = pert_data.gene_names.values.tolist()\n",
    "            self.pert_list = pert_data.pert_names.tolist()\n",
    "            self.num_genes = len(self.gene_list)\n",
    "            self.num_perts = len(self.pert_list)\n",
    "            self.default_pert_graph = pert_data.default_pert_graph\n",
    "            self.saved_pred = {}\n",
    "            self.saved_logvar_sum = {}\n",
    "            \n",
    "            ctrl_mask = (self.adata.obs.condition == 'ctrl').to_numpy()\n",
    "            self._ctrl_expression = torch.tensor(  # Assign to a regular attribute\n",
    "                    np.mean(self.adata.X[ctrl_mask], axis=0)\n",
    "                ).reshape(-1,).to(self.device)\n",
    "            pert_full_id2pert = dict(self.adata.obs[['condition_name', 'condition']].values)\n",
    "            self.dict_filter = {pert_full_id2pert[i]: j for i, j in\n",
    "                                self.adata.uns['non_zeros_gene_idx'].items() if\n",
    "                                i in pert_full_id2pert}\n",
    "            self.ctrl_adata = self.adata[self.adata.obs['condition'] == 'ctrl']\n",
    "            \n",
    "            gene_dict = {g:i for i,g in enumerate(self.gene_list)}\n",
    "            self.pert2gene = {p: gene_dict[pert] for p, pert in\n",
    "                            enumerate(self.pert_list) if pert in self.gene_list}\n",
    "\n",
    "        # Monkey patch the __init__ method\n",
    "        GEARS.__init__ = GEARS_patched_init_\n",
    "\n",
    "        # Load model for inference\n",
    "        gears_wrapper = GEARS(\n",
    "            self.original_pert_data,\n",
    "            device='cuda' if torch.cuda.is_available() else 'mps' if torch.backends.mps.is_available() else 'cpu',\n",
    "            weight_bias_track=False\n",
    "        )\n",
    "        gears_wrapper.load_pretrained(self.gears_data_dir)\n",
    "        gears_wrapper.model.eval()\n",
    "\n",
    "        torch.cuda.empty_cache()\n",
    "        if torch.backends.mps.is_available():\n",
    "            torch.mps.empty_cache()\n",
    "\n",
    "        return gears_wrapper"
   ]
  },
  {
   "cell_type": "code",
   "execution_count": null,
   "metadata": {
    "execution": {
     "execution_failed": "2025-02-08T04:03:44.543Z"
    },
    "trusted": true
   },
   "outputs": [],
   "source": [
    "import torch\n",
    "import perturbation_evaluator\n",
    "\n",
    "import importlib\n",
    "# Reload the module to apply local changes\n",
    "importlib.reload(perturbation_evaluator)\n",
    "\n",
    "# Get the list of upregulated genes from the filtered AnnData.\n",
    "upregulated_genes = combined_adata_upregulated.var_names\n",
    "\n",
    "# Create a mapping from gene name to index based on aml_data.adata.\n",
    "gene_to_index = {gene: i for i, gene in enumerate(aml_data.adata.var_names)}\n",
    "\n",
    "# Now, for each upregulated gene, get its index from aml_data.adata.\n",
    "gene_subset = [gene_to_index[gene] for gene in upregulated_genes if gene in gene_to_index]\n",
    "\n",
    "print(f\"Found indices for {len(gene_subset)} genes out of {len(upregulated_genes)} upregulated genes.\")"
   ]
  },
  {
   "cell_type": "code",
   "execution_count": null,
   "metadata": {
    "execution": {
     "execution_failed": "2025-02-08T04:03:44.543Z"
    },
    "trusted": true
   },
   "outputs": [],
   "source": [
    "device = 'cuda' if torch.cuda.is_available() else 'cpu'\n",
    "\n",
    "# Extract cell states for all these good cells.\n",
    "sorted_adata = aml_data.adata[good_cells].copy()\n",
    "\n",
    "# Convert sorted_adata to a dense array so that cells can be sorted by their overall expression.\n",
    "if issparse(sorted_adata.X):\n",
    "    X_array = sorted_adata.X.toarray()\n",
    "else:\n",
    "    X_array = sorted_adata.X\n",
    "\n",
    "# Sort the cells by total expression (row sum)\n",
    "X_tensor = torch.tensor(X_array)\n",
    "_, sort_idx = torch.sort(X_tensor.sum(dim=1), descending=False)\n",
    "\n",
    "# Reorder the cells by sorted indices\n",
    "sorted_adata = sorted_adata[sort_idx.numpy()]\n",
    "\n",
    "# Separate the good cells into normal and malignant subsets based on 'PredictionRefined'\n",
    "healthy_adata = sorted_adata[sorted_adata.obs['PredictionRefined'] == 'normal']\n",
    "cancer_adata = sorted_adata[sorted_adata.obs['PredictionRefined'] == 'malignant']"
   ]
  },
  {
   "cell_type": "code",
   "execution_count": null,
   "metadata": {
    "trusted": true
   },
   "outputs": [],
   "source": [
    "import pickle\n",
    "import pandas as pd\n",
    "from datetime import datetime\n",
    "\n",
    "def save_evaluation_results(evaluation_results, filename_prefix=\"evaluation_results\", save_pickle=False):\n",
    "    \"\"\"\n",
    "    Save evaluation results to CSV (and optionally as a pickle file).\n",
    "\n",
    "    Parameters\n",
    "    ----------\n",
    "    evaluation_results : list\n",
    "        A list of evaluation result objects. Each result should have at least the following:\n",
    "            - result.perturbation : an object (converted to a string for saving)\n",
    "            - result.scores : a dict with keys:\n",
    "                   'baseline_classifier', 'classifier', 'wasserstein', 'stability', 'density', 'total'\n",
    "    filename_prefix : str, optional\n",
    "        Prefix for the output filenames (default: \"evaluation_results\").\n",
    "    save_pickle : bool, optional\n",
    "        Whether to also save the raw evaluation results as a pickle file (default: False).\n",
    "\n",
    "    Returns\n",
    "    -------\n",
    "    tuple:\n",
    "        csv_filename (str): Filename of the saved CSV file.\n",
    "        pickle_filename (str or None): Filename of the saved pickle file if save_pickle is True; otherwise, None.\n",
    "    \"\"\"\n",
    "    # Create a timestamp that will be appended to the filename\n",
    "    timestamp = datetime.now().strftime(\"%Y%m%d_%H%M%S\")\n",
    "\n",
    "    # Prepare a list of dictionaries from the results\n",
    "    results_list = []\n",
    "    for result in evaluation_results:\n",
    "        result_dict = {\n",
    "            'perturbation': str(result.perturbation),\n",
    "            'baseline_classifier': result.scores.get('baseline_classifier', None),\n",
    "            'classifier_score': result.scores.get('classifier', None),\n",
    "            'wasserstein': result.scores.get('wasserstein', None),\n",
    "            'stability': result.scores.get('stability', None),\n",
    "            'density': result.scores.get('density', None),\n",
    "            'total_score': result.scores.get('total', None)\n",
    "        }\n",
    "        results_list.append(result_dict)\n",
    "\n",
    "    # Convert the list to a DataFrame\n",
    "    results_df = pd.DataFrame(results_list)\n",
    "\n",
    "    # Save the DataFrame to a CSV file\n",
    "    csv_filename = f\"{filename_prefix}_{timestamp}.csv\"\n",
    "    results_df.to_csv(csv_filename, index=False)\n",
    "\n",
    "    # Optionally, also save the raw evaluation results as a pickle file\n",
    "    pickle_filename = None\n",
    "    if save_pickle:\n",
    "        pickle_filename = f\"{filename_prefix}_{timestamp}.pkl\"\n",
    "        with open(pickle_filename, \"wb\") as f:\n",
    "            pickle.dump(evaluation_results, f)\n",
    "\n",
    "    # Report the saved filenames\n",
    "    print(\"Results saved to:\")\n",
    "    if save_pickle:\n",
    "        print(f\"1. {pickle_filename}\")\n",
    "        print(f\"2. {csv_filename}\")\n",
    "    else:\n",
    "        print(csv_filename)\n",
    "\n",
    "    return csv_filename, pickle_filename"
   ]
  },
  {
   "cell_type": "code",
   "execution_count": null,
   "metadata": {
    "trusted": true
   },
   "outputs": [],
   "source": [
    "def extract_perturbations_by_classifier_change(evaluation_results, scenario=\"healthy_to_aml\"):\n",
    "    \"\"\"\n",
    "    Extract perturbations from evaluation results based on the change in classifier score relative to baseline.\n",
    "    \n",
    "    This version expects evaluation_results to be a pandas DataFrame (for example, loaded from the CSV file).\n",
    "    \n",
    "    Parameters\n",
    "    ----------\n",
    "    evaluation_results : pd.DataFrame\n",
    "        A DataFrame of evaluation results with at least the following columns:\n",
    "            - 'perturbation'\n",
    "            - 'baseline_classifier'\n",
    "            - 'classifier'\n",
    "    scenario : str, optional\n",
    "        The scenario to use for selecting perturbations. Options are:\n",
    "          - \"healthy_to_aml\": Select perturbations that increase the classifier score over the baseline\n",
    "                              (i.e. push healthy cells into an AML-like state).\n",
    "          - \"aml_to_healthy\": Select perturbations that decrease the classifier score below the baseline\n",
    "                              (i.e. push AML cells toward a healthy state).\n",
    "    \n",
    "    Returns\n",
    "    -------\n",
    "    selected_perturbations : list\n",
    "        A list of perturbation identifiers (as they were saved in the CSV) that satisfy the condition.\n",
    "    \"\"\"\n",
    "    import pandas as pd\n",
    "\n",
    "    if scenario not in [\"healthy_to_aml\", \"aml_to_healthy\"]:\n",
    "        raise ValueError(\"Scenario must be one of 'healthy_to_aml' or 'aml_to_healthy'.\")\n",
    "\n",
    "    selected_perturbations = []\n",
    "    for idx, row in evaluation_results.iterrows():\n",
    "        baseline = row.get('baseline_classifier')\n",
    "        new_score = row.get('classifier')\n",
    "        # Skip if we cannot find either score (or if they're NaN)\n",
    "        if pd.isna(baseline) or pd.isna(new_score):\n",
    "            continue\n",
    "\n",
    "        if scenario == \"healthy_to_aml\" and new_score > 0.5:\n",
    "            selected_perturbations.append(row['perturbation'])\n",
    "        elif scenario == \"aml_to_healthy\" and new_score < 0.5:\n",
    "            selected_perturbations.append(row['perturbation'])\n",
    "\n",
    "    return selected_perturbations[:100]"
   ]
  },
  {
   "cell_type": "markdown",
   "metadata": {},
   "source": [
    "## healthy -> AML"
   ]
  },
  {
   "cell_type": "code",
   "execution_count": null,
   "metadata": {
    "execution": {
     "execution_failed": "2025-02-08T04:03:44.543Z"
    },
    "trusted": true
   },
   "outputs": [],
   "source": [
    "aml_LoF_genes = ['TP53', 'RUNX1', 'CEBPA', 'TET2', 'SPI1', 'GATA2', 'IKZF1', 'IRF8', 'DNMT3A', 'PHLPP1', 'PHLPP2', 'FLT3', 'NPM1', 'IDH1', 'IDH2', 'ASXL1', 'CBL']\n",
    "cancer_driving_perturbations = generate_perturbations(\n",
    "    list(set(gears_wrapper.pert_list) & set(aml_LoF_genes))\n",
    ")\n",
    "len(cancer_driving_perturbations)\n",
    "print(f\"Number of cancer driving perturbations: {len(cancer_driving_perturbations)}\")\n",
    "cancer_driving_perturbations"
   ]
  },
  {
   "cell_type": "code",
   "execution_count": null,
   "metadata": {
    "trusted": true
   },
   "outputs": [],
   "source": [
    "all_perturbations = generate_perturbations(list(set(gears_wrapper.pert_list) & set(healthy_adata.var.index.tolist())), generate_double_perts=False)"
   ]
  },
  {
   "cell_type": "code",
   "execution_count": null,
   "metadata": {
    "execution": {
     "execution_failed": "2025-02-08T03:34:56.521Z",
     "iopub.execute_input": "2025-02-08T03:21:29.966778Z",
     "iopub.status.busy": "2025-02-08T03:21:29.966522Z"
    },
    "trusted": true
   },
   "outputs": [
    {
     "name": "stderr",
     "output_type": "stream",
     "text": [
      "Found local copy...\n",
      "Found local copy...\n",
      "Creating pyg object for each cell in the data...\n",
      "Creating dataset file...\n",
      "100%|██████████| 1/1 [00:00<00:00, 20.23it/s]\n",
      "Done!\n",
      "Saving new dataset pyg object at GEARS_data/model/pert_data/single_cell/data_pyg/cell_graphs.pkl\n",
      "Done!\n",
      "Local copy of split is detected. Loading...\n",
      "Done!\n",
      "Creating dataloaders....\n",
      "Dataloaders created...\n"
     ]
    },
    {
     "name": "stdout",
     "output_type": "stream",
     "text": [
      "here1\n"
     ]
    },
    {
     "name": "stderr",
     "output_type": "stream",
     "text": [
      "Evaluating perturbations:  95%|█████████▌| 2915/3055 [12:40<14:14,  6.10s/it]"
     ]
    }
   ],
   "source": [
    "def evaluate_perturbations(perturbation_list, scenario=\"aml_to_healthy\", results_filename=\"healthyToAML\"):\n",
    "    \"\"\"\n",
    "    Evaluate perturbations using the generator-based evaluator and immediately write results to CSV.\n",
    "    \n",
    "    Parameters:\n",
    "        perturbation_list (list): List of candidate perturbations.\n",
    "        scenario (str, optional): Scenario to use.\n",
    "                                  For example, \"aml_to_healthy\" means perturb healthy cells toward an AML-like state.\n",
    "        results_filename (str, optional): Prefix for the CSV file to be written.\n",
    "    \n",
    "    Returns:\n",
    "        csv_filename (str): The name of the CSV file that was written.\n",
    "    \"\"\"\n",
    "    import csv\n",
    "    from datetime import datetime\n",
    "\n",
    "    # Determine which AnnData to use as the current (baseline) state.\n",
    "    current_adata = healthy_adata if scenario == 'aml_to_healthy' else cancer_adata\n",
    "\n",
    "    evaluator = perturbation_evaluator.PerturbationEvaluator(\n",
    "        classifier=selector,\n",
    "        reference_state=cancer_adata if scenario == 'aml_to_healthy' else healthy_adata,\n",
    "        device=device,\n",
    "        invert_classifier_score=False,\n",
    "        gears_data_dir=f\"{gears_data_dir}/model\",\n",
    "        gene_subset=gene_subset,\n",
    "        template_adata=combined_adata\n",
    "    )\n",
    "    \n",
    "    # Use the generator-based evaluation method to process perturbations in chunks.\n",
    "    results_gen = evaluator.evaluate_perturbations_generator(current_adata, perturbation_list, chunk_size=100)\n",
    "    \n",
    "    # Create a CSV filename with an appended timestamp.\n",
    "    timestamp = datetime.now().strftime(\"%Y%m%d_%H%M%S\")\n",
    "    csv_filename = f\"{results_filename}_{timestamp}.csv\"\n",
    "    \n",
    "    # Open the CSV file for writing and write a header.\n",
    "    with open(csv_filename, \"w\", newline=\"\") as csvfile:\n",
    "        writer = csv.writer(csvfile)\n",
    "        header = [\"perturbation\", \"baseline_classifier\", \"classifier\", \"wasserstein\", \"stability\", \"density\", \"total\"]\n",
    "        writer.writerow(header)\n",
    "        \n",
    "        # Iterate over each result from the generator and write it to the CSV.\n",
    "        for result in results_gen:\n",
    "            scores = result.scores\n",
    "            row = [\n",
    "                result.perturbation,\n",
    "                scores.get(\"baseline_classifier\", None),\n",
    "                scores.get(\"classifier\", None),\n",
    "                scores.get(\"wasserstein\", None),\n",
    "                scores.get(\"stability\", None),\n",
    "                scores.get(\"density\", None),\n",
    "                scores.get(\"total\", None)\n",
    "            ]\n",
    "            writer.writerow(row)\n",
    "    \n",
    "    print(f\"Results saved to {csv_filename}\")\n",
    "    return csv_filename"
   ]
  },
  {
   "cell_type": "code",
   "execution_count": null,
   "metadata": {
    "trusted": true
   },
   "outputs": [],
   "source": [
    "evaluation_result_path = evaluate_perturbations(all_perturbations, \n",
    "                                                results_filename=\"healthyToAML_allCases_allPerts\")\n",
    "\n",
    "# Load the CSV file containing the evaluation results.\n",
    "results_df = pd.read_csv(evaluation_result_path)\n",
    "\n",
    "if not results_df.empty:\n",
    "    print(\"Perturbation Evaluation Results:\")\n",
    "    for idx, row in results_df.iterrows():\n",
    "        print(f\"\\nPerturbation #{idx+1}:\")\n",
    "        print(f\"  Perturbation: {row['perturbation']}\")\n",
    "        print(f\"  Baseline Classifier Score: {float(row['baseline_classifier']):.4f}\")\n",
    "        print(f\"  Predicted Classifier Score: {float(row['classifier']):.4f}\")\n",
    "        print(f\"  Wasserstein Distance: {float(row['wasserstein']):.4f}\")\n",
    "        print(f\"  Stability: {float(row['stability']):.4f}\")\n",
    "        print(f\"  Density: {float(row['density']):.4f}\")\n",
    "        print(f\"  Total Score: {float(row['total']):.4f}\")\n",
    "else:\n",
    "    print(\"No valid perturbations found.\")"
   ]
  },
  {
   "cell_type": "code",
   "execution_count": null,
   "metadata": {
    "trusted": true
   },
   "outputs": [],
   "source": [
    "selected_perturbations = extract_perturbations_by_classifier_change(results_df)\n",
    "evaluation_results = evaluate_perturbations(generate_perturbations([pert[0] for pert in selected_perturbations], generate_double_perts=True), \n",
    "                                            results_filename=\"healthyToAML_allCases_selectedPerts\")\n",
    "# Print results for each evaluation result in the list.\n",
    "if evaluation_results:\n",
    "    print(\"Perturbation Evaluation Results:\")\n",
    "    for idx, result in enumerate(evaluation_results, start=1):\n",
    "        print(f\"\\nPerturbation #{idx}:\")\n",
    "        print(f\"  Perturbation: {result.perturbation}\")\n",
    "        print(f\"  Baseline Classifier Score: {result.scores['baseline_classifier']:.4f}\")\n",
    "        print(f\"  Predicted Classifier Score: {result.scores['classifier']:.4f}\")\n",
    "        print(f\"  Wasserstein Distance: {result.scores['wasserstein']:.4f}\")\n",
    "        print(f\"  Stability: {result.scores['stability']:.4f}\")\n",
    "        print(f\"  Density: {result.scores['density']:.4f}\")\n",
    "        print(f\"  Total Score: {result.scores['total']:.4f}\")\n",
    "else:\n",
    "    print(\"No valid perturbations found.\")\n",
    "\n",
    "del evaluation_results"
   ]
  },
  {
   "cell_type": "markdown",
   "metadata": {},
   "source": [
    "### per-individual perturbations"
   ]
  },
  {
   "cell_type": "code",
   "execution_count": 60,
   "metadata": {
    "execution": {
     "iopub.execute_input": "2025-02-08T00:53:12.485249Z",
     "iopub.status.busy": "2025-02-08T00:53:12.484953Z",
     "iopub.status.idle": "2025-02-08T00:53:12.751639Z",
     "shell.execute_reply": "2025-02-08T00:53:12.750588Z",
     "shell.execute_reply.started": "2025-02-08T00:53:12.485223Z"
    },
    "trusted": true
   },
   "outputs": [
    {
     "name": "stdout",
     "output_type": "stream",
     "text": [
      "Created 12 patient-specific AML AnnData objects.\n"
     ]
    },
    {
     "ename": "NameError",
     "evalue": "name 'PerturbationEvaluator' is not defined",
     "output_type": "error",
     "traceback": [
      "\u001b[0;31m---------------------------------------------------------------------------\u001b[0m",
      "\u001b[0;31mNameError\u001b[0m                                 Traceback (most recent call last)",
      "\u001b[0;32m<ipython-input-60-08f37fd79035>\u001b[0m in \u001b[0;36m<cell line: 11>\u001b[0;34m()\u001b[0m\n\u001b[1;32m     10\u001b[0m \u001b[0mevaluators_by_patient\u001b[0m \u001b[0;34m=\u001b[0m \u001b[0;34m{\u001b[0m\u001b[0;34m}\u001b[0m\u001b[0;34m\u001b[0m\u001b[0;34m\u001b[0m\u001b[0m\n\u001b[1;32m     11\u001b[0m \u001b[0;32mfor\u001b[0m \u001b[0mpid\u001b[0m\u001b[0;34m,\u001b[0m \u001b[0mpatient_adata\u001b[0m \u001b[0;32min\u001b[0m \u001b[0mpatient_specific_cancer_adata\u001b[0m\u001b[0;34m.\u001b[0m\u001b[0mitems\u001b[0m\u001b[0;34m(\u001b[0m\u001b[0;34m)\u001b[0m\u001b[0;34m:\u001b[0m\u001b[0;34m\u001b[0m\u001b[0;34m\u001b[0m\u001b[0m\n\u001b[0;32m---> 12\u001b[0;31m     evaluator = PerturbationEvaluator(\n\u001b[0m\u001b[1;32m     13\u001b[0m         \u001b[0mclassifier\u001b[0m\u001b[0;34m=\u001b[0m\u001b[0mselector\u001b[0m\u001b[0;34m,\u001b[0m\u001b[0;34m\u001b[0m\u001b[0;34m\u001b[0m\u001b[0m\n\u001b[1;32m     14\u001b[0m         \u001b[0mreference_state\u001b[0m\u001b[0;34m=\u001b[0m\u001b[0mpatient_adata\u001b[0m\u001b[0;34m,\u001b[0m  \u001b[0;31m# each evaluator compares to the patient's AML profile\u001b[0m\u001b[0;34m\u001b[0m\u001b[0;34m\u001b[0m\u001b[0m\n",
      "\u001b[0;31mNameError\u001b[0m: name 'PerturbationEvaluator' is not defined"
     ]
    }
   ],
   "source": [
    "# First, prepare patient-specific datasets and train patient-specific classifiers\n",
    "patient_specific_classifiers = {}\n",
    "patient_specific_cancer_adata = {}\n",
    "\n",
    "# Split cancer data by patient\n",
    "for i, pid in enumerate(cancer_adata.obs['patient_id'].unique()):\n",
    "    # Get this patient's AML cells\n",
    "    patient_adata = cancer_adata[cancer_adata.obs['patient_id'] == pid].copy()\n",
    "    patient_specific_cancer_adata[pid] = patient_adata\n",
    "    \n",
    "    # Create expression dataframe for this patient's cells and all control cells\n",
    "    patient_expr_df = pd.DataFrame(\n",
    "        np.vstack([\n",
    "            patient_adata.X.toarray() if issparse(patient_adata.X) else patient_adata.X,\n",
    "            healthy_adata.X.toarray() if issparse(healthy_adata.X) else healthy_adata.X\n",
    "        ]),\n",
    "        columns=patient_adata.var_names\n",
    "    )\n",
    "    \n",
    "    # Create labels (1 for patient's AML cells, 0 for control cells)\n",
    "    patient_labels = pd.Series(\n",
    "        [1] * patient_adata.n_obs + [0] * healthy_adata.n_obs,\n",
    "        index=range(len(patient_expr_df))\n",
    "    )\n",
    "    \n",
    "    # Train a patient-specific classifier\n",
    "    print(f\"\\nTraining classifier for patient {pid}...\")\n",
    "    patient_selector = BayesianFeatureSelector(\n",
    "        unique_id=hash(pid) % 10000,  # Create a unique ID based on patient ID\n",
    "        verbose=True,\n",
    "        lr=0.0001,\n",
    "        max_features=1000,\n",
    "        base_sensitivity=0.05,\n",
    "        base_cumulative_density_threshold=0.05\n",
    "    )\n",
    "    patient_selector.fit(patient_expr_df, patient_labels)\n",
    "    patient_specific_classifiers[pid] = patient_selector\n",
    "\n",
    "# Now create patient-specific evaluators using the patient-specific classifiers\n",
    "evaluators_by_patient = {}\n",
    "for pid, patient_adata in patient_specific_cancer_adata.items():\n",
    "    evaluator = perturbation_evaluator.PerturbationEvaluator(\n",
    "        classifier=patient_specific_classifiers[pid],  # Use patient-specific classifier\n",
    "        reference_state=patient_adata,\n",
    "        device=device,\n",
    "        invert_classifier_score=True,\n",
    "        gears_data_dir=f\"{gears_data_dir}/model\",\n",
    "        template_adata=patient_adata\n",
    "    )\n",
    "    evaluators_by_patient[pid] = evaluator\n",
    "\n",
    "print(\"\\nCreated per-patient evaluators with patient-specific classifiers.\")"
   ]
  },
  {
   "cell_type": "code",
   "execution_count": 86,
   "metadata": {},
   "outputs": [
    {
     "name": "stderr",
     "output_type": "stream",
     "text": [
      "Found local copy...\n"
     ]
    },
    {
     "name": "stdout",
     "output_type": "stream",
     "text": [
      "\n",
      "Evaluating perturbations for patient AML420B-D0 ...\n"
     ]
    },
    {
     "name": "stderr",
     "output_type": "stream",
     "text": [
      "Found local copy...\n",
      "Creating pyg object for each cell in the data...\n",
      "Creating dataset file...\n",
      "100%|██████████| 1/1 [00:00<00:00, 18.80it/s]\n",
      "Done!\n",
      "Saving new dataset pyg object at GEARS_data/model/pert_data/single_cell/data_pyg/cell_graphs.pkl\n",
      "Done!\n",
      "Local copy of split is detected. Loading...\n",
      "Done!\n",
      "Creating dataloaders....\n",
      "Dataloaders created...\n"
     ]
    },
    {
     "name": "stdout",
     "output_type": "stream",
     "text": [
      "here1\n"
     ]
    },
    {
     "name": "stderr",
     "output_type": "stream",
     "text": [
      "Evaluating perturbations: 100%|██████████| 105/105 [02:25<00:00,  1.38s/it]\n",
      "Found local copy...\n"
     ]
    },
    {
     "name": "stdout",
     "output_type": "stream",
     "text": [
      "\n",
      "Evaluating perturbations for patient AML1012-D0 ...\n"
     ]
    },
    {
     "name": "stderr",
     "output_type": "stream",
     "text": [
      "Found local copy...\n",
      "Creating pyg object for each cell in the data...\n",
      "Creating dataset file...\n",
      "100%|██████████| 1/1 [00:00<00:00, 21.88it/s]\n",
      "Done!\n",
      "Saving new dataset pyg object at GEARS_data/model/pert_data/single_cell/data_pyg/cell_graphs.pkl\n",
      "Done!\n",
      "Local copy of split is detected. Loading...\n",
      "Done!\n",
      "Creating dataloaders....\n",
      "Dataloaders created...\n"
     ]
    },
    {
     "name": "stdout",
     "output_type": "stream",
     "text": [
      "here1\n"
     ]
    },
    {
     "name": "stderr",
     "output_type": "stream",
     "text": [
      "Evaluating perturbations: 100%|██████████| 105/105 [02:25<00:00,  1.39s/it]\n",
      "Found local copy...\n"
     ]
    },
    {
     "name": "stdout",
     "output_type": "stream",
     "text": [
      "\n",
      "Evaluating perturbations for patient AML916-D0 ...\n"
     ]
    },
    {
     "name": "stderr",
     "output_type": "stream",
     "text": [
      "Found local copy...\n",
      "Creating pyg object for each cell in the data...\n",
      "Creating dataset file...\n",
      "100%|██████████| 1/1 [00:00<00:00, 23.07it/s]\n",
      "Done!\n",
      "Saving new dataset pyg object at GEARS_data/model/pert_data/single_cell/data_pyg/cell_graphs.pkl\n",
      "Done!\n",
      "Local copy of split is detected. Loading...\n",
      "Done!\n",
      "Creating dataloaders....\n",
      "Dataloaders created...\n"
     ]
    },
    {
     "name": "stdout",
     "output_type": "stream",
     "text": [
      "here1\n"
     ]
    },
    {
     "name": "stderr",
     "output_type": "stream",
     "text": [
      "Evaluating perturbations: 100%|██████████| 105/105 [02:53<00:00,  1.65s/it]\n",
      "Found local copy...\n"
     ]
    },
    {
     "name": "stdout",
     "output_type": "stream",
     "text": [
      "\n",
      "Evaluating perturbations for patient AML921A-D0 ...\n"
     ]
    },
    {
     "name": "stderr",
     "output_type": "stream",
     "text": [
      "Found local copy...\n",
      "Creating pyg object for each cell in the data...\n",
      "Creating dataset file...\n",
      "100%|██████████| 1/1 [00:00<00:00, 21.69it/s]\n",
      "Done!\n",
      "Saving new dataset pyg object at GEARS_data/model/pert_data/single_cell/data_pyg/cell_graphs.pkl\n",
      "Done!\n",
      "Local copy of split is detected. Loading...\n",
      "Done!\n",
      "Creating dataloaders....\n",
      "Dataloaders created...\n"
     ]
    },
    {
     "name": "stdout",
     "output_type": "stream",
     "text": [
      "here1\n"
     ]
    },
    {
     "name": "stderr",
     "output_type": "stream",
     "text": [
      "Evaluating perturbations: 100%|██████████| 105/105 [02:58<00:00,  1.70s/it]\n",
      "Found local copy...\n"
     ]
    },
    {
     "name": "stdout",
     "output_type": "stream",
     "text": [
      "\n",
      "Evaluating perturbations for patient AML328-D0 ...\n"
     ]
    },
    {
     "name": "stderr",
     "output_type": "stream",
     "text": [
      "Found local copy...\n",
      "Creating pyg object for each cell in the data...\n",
      "Creating dataset file...\n",
      "100%|██████████| 1/1 [00:00<00:00, 21.60it/s]\n",
      "Done!\n",
      "Saving new dataset pyg object at GEARS_data/model/pert_data/single_cell/data_pyg/cell_graphs.pkl\n",
      "Done!\n",
      "Local copy of split is detected. Loading...\n",
      "Done!\n",
      "Creating dataloaders....\n",
      "Dataloaders created...\n"
     ]
    },
    {
     "name": "stdout",
     "output_type": "stream",
     "text": [
      "here1\n"
     ]
    },
    {
     "name": "stderr",
     "output_type": "stream",
     "text": [
      "Evaluating perturbations: 100%|██████████| 105/105 [02:44<00:00,  1.57s/it]\n",
      "Found local copy...\n"
     ]
    },
    {
     "name": "stdout",
     "output_type": "stream",
     "text": [
      "\n",
      "Evaluating perturbations for patient AML870-D0 ...\n"
     ]
    },
    {
     "name": "stderr",
     "output_type": "stream",
     "text": [
      "Found local copy...\n",
      "Creating pyg object for each cell in the data...\n",
      "Creating dataset file...\n",
      "100%|██████████| 1/1 [00:00<00:00, 23.00it/s]\n",
      "Done!\n",
      "Saving new dataset pyg object at GEARS_data/model/pert_data/single_cell/data_pyg/cell_graphs.pkl\n",
      "Done!\n",
      "Local copy of split is detected. Loading...\n",
      "Done!\n",
      "Creating dataloaders....\n",
      "Dataloaders created...\n"
     ]
    },
    {
     "name": "stdout",
     "output_type": "stream",
     "text": [
      "here1\n"
     ]
    },
    {
     "name": "stderr",
     "output_type": "stream",
     "text": [
      "Evaluating perturbations: 100%|██████████| 105/105 [03:22<00:00,  1.93s/it]\n",
      "Found local copy...\n"
     ]
    },
    {
     "name": "stdout",
     "output_type": "stream",
     "text": [
      "\n",
      "Evaluating perturbations for patient AML329-D0 ...\n"
     ]
    },
    {
     "name": "stderr",
     "output_type": "stream",
     "text": [
      "Found local copy...\n",
      "Creating pyg object for each cell in the data...\n",
      "Creating dataset file...\n",
      "100%|██████████| 1/1 [00:00<00:00, 20.07it/s]\n",
      "Done!\n",
      "Saving new dataset pyg object at GEARS_data/model/pert_data/single_cell/data_pyg/cell_graphs.pkl\n",
      "Done!\n",
      "Local copy of split is detected. Loading...\n",
      "Done!\n",
      "Creating dataloaders....\n",
      "Dataloaders created...\n"
     ]
    },
    {
     "name": "stdout",
     "output_type": "stream",
     "text": [
      "here1\n"
     ]
    },
    {
     "name": "stderr",
     "output_type": "stream",
     "text": [
      "Evaluating perturbations: 100%|██████████| 105/105 [02:52<00:00,  1.64s/it]\n",
      "Found local copy...\n"
     ]
    },
    {
     "name": "stdout",
     "output_type": "stream",
     "text": [
      "\n",
      "Evaluating perturbations for patient AML210A-D0 ...\n"
     ]
    },
    {
     "name": "stderr",
     "output_type": "stream",
     "text": [
      "Found local copy...\n",
      "Creating pyg object for each cell in the data...\n",
      "Creating dataset file...\n",
      "100%|██████████| 1/1 [00:00<00:00, 21.56it/s]\n",
      "Done!\n",
      "Saving new dataset pyg object at GEARS_data/model/pert_data/single_cell/data_pyg/cell_graphs.pkl\n",
      "Done!\n",
      "Local copy of split is detected. Loading...\n",
      "Done!\n",
      "Creating dataloaders....\n",
      "Dataloaders created...\n"
     ]
    },
    {
     "name": "stdout",
     "output_type": "stream",
     "text": [
      "here1\n"
     ]
    },
    {
     "name": "stderr",
     "output_type": "stream",
     "text": [
      "Evaluating perturbations: 100%|██████████| 105/105 [02:49<00:00,  1.62s/it]\n",
      "Found local copy...\n"
     ]
    },
    {
     "name": "stdout",
     "output_type": "stream",
     "text": [
      "\n",
      "Evaluating perturbations for patient AML475-D0 ...\n"
     ]
    },
    {
     "name": "stderr",
     "output_type": "stream",
     "text": [
      "Found local copy...\n",
      "Creating pyg object for each cell in the data...\n",
      "Creating dataset file...\n",
      "100%|██████████| 1/1 [00:00<00:00, 18.90it/s]\n",
      "Done!\n",
      "Saving new dataset pyg object at GEARS_data/model/pert_data/single_cell/data_pyg/cell_graphs.pkl\n",
      "Done!\n",
      "Local copy of split is detected. Loading...\n",
      "Done!\n",
      "Creating dataloaders....\n",
      "Dataloaders created...\n"
     ]
    },
    {
     "name": "stdout",
     "output_type": "stream",
     "text": [
      "here1\n"
     ]
    },
    {
     "name": "stderr",
     "output_type": "stream",
     "text": [
      "Evaluating perturbations: 100%|██████████| 105/105 [03:07<00:00,  1.79s/it]\n",
      "Found local copy...\n"
     ]
    },
    {
     "name": "stdout",
     "output_type": "stream",
     "text": [
      "\n",
      "Evaluating perturbations for patient AML556-D0 ...\n"
     ]
    },
    {
     "name": "stderr",
     "output_type": "stream",
     "text": [
      "Found local copy...\n",
      "Creating pyg object for each cell in the data...\n",
      "Creating dataset file...\n",
      "100%|██████████| 1/1 [00:00<00:00, 21.81it/s]\n",
      "Done!\n",
      "Saving new dataset pyg object at GEARS_data/model/pert_data/single_cell/data_pyg/cell_graphs.pkl\n",
      "Done!\n",
      "Local copy of split is detected. Loading...\n",
      "Done!\n",
      "Creating dataloaders....\n",
      "Dataloaders created...\n"
     ]
    },
    {
     "name": "stdout",
     "output_type": "stream",
     "text": [
      "here1\n"
     ]
    },
    {
     "name": "stderr",
     "output_type": "stream",
     "text": [
      "Evaluating perturbations: 100%|██████████| 105/105 [02:44<00:00,  1.56s/it]\n",
      "Found local copy...\n"
     ]
    },
    {
     "name": "stdout",
     "output_type": "stream",
     "text": [
      "\n",
      "Evaluating perturbations for patient AML707B-D0 ...\n"
     ]
    },
    {
     "name": "stderr",
     "output_type": "stream",
     "text": [
      "Found local copy...\n",
      "Creating pyg object for each cell in the data...\n",
      "Creating dataset file...\n",
      "100%|██████████| 1/1 [00:00<00:00, 23.61it/s]\n",
      "Done!\n",
      "Saving new dataset pyg object at GEARS_data/model/pert_data/single_cell/data_pyg/cell_graphs.pkl\n",
      "Done!\n",
      "Local copy of split is detected. Loading...\n",
      "Done!\n",
      "Creating dataloaders....\n",
      "Dataloaders created...\n"
     ]
    },
    {
     "name": "stdout",
     "output_type": "stream",
     "text": [
      "here1\n"
     ]
    },
    {
     "name": "stderr",
     "output_type": "stream",
     "text": [
      "Evaluating perturbations: 100%|██████████| 105/105 [02:45<00:00,  1.57s/it]\n",
      "Found local copy...\n"
     ]
    },
    {
     "name": "stdout",
     "output_type": "stream",
     "text": [
      "\n",
      "Evaluating perturbations for patient AML419A-D0 ...\n"
     ]
    },
    {
     "name": "stderr",
     "output_type": "stream",
     "text": [
      "Found local copy...\n",
      "Creating pyg object for each cell in the data...\n",
      "Creating dataset file...\n",
      "100%|██████████| 1/1 [00:00<00:00, 22.38it/s]\n",
      "Done!\n",
      "Saving new dataset pyg object at GEARS_data/model/pert_data/single_cell/data_pyg/cell_graphs.pkl\n",
      "Done!\n",
      "Local copy of split is detected. Loading...\n",
      "Done!\n",
      "Creating dataloaders....\n",
      "Dataloaders created...\n"
     ]
    },
    {
     "name": "stdout",
     "output_type": "stream",
     "text": [
      "here1\n"
     ]
    },
    {
     "name": "stderr",
     "output_type": "stream",
     "text": [
      "Evaluating perturbations:  90%|████████▉ | 94/105 [02:20<00:16,  1.49s/it]\n"
     ]
    },
    {
     "ename": "KeyboardInterrupt",
     "evalue": "",
     "output_type": "error",
     "traceback": [
      "\u001b[0;31m---------------------------------------------------------------------------\u001b[0m",
      "\u001b[0;31mKeyboardInterrupt\u001b[0m                         Traceback (most recent call last)",
      "Cell \u001b[0;32mIn[86], line 8\u001b[0m\n\u001b[1;32m      6\u001b[0m \u001b[38;5;28;01mfor\u001b[39;00m pid, evaluator \u001b[38;5;129;01min\u001b[39;00m evaluators_by_patient\u001b[38;5;241m.\u001b[39mitems():\n\u001b[1;32m      7\u001b[0m     \u001b[38;5;28mprint\u001b[39m(\u001b[38;5;124mf\u001b[39m\u001b[38;5;124m\"\u001b[39m\u001b[38;5;130;01m\\n\u001b[39;00m\u001b[38;5;124mEvaluating perturbations for patient \u001b[39m\u001b[38;5;132;01m{\u001b[39;00mpid\u001b[38;5;132;01m}\u001b[39;00m\u001b[38;5;124m ...\u001b[39m\u001b[38;5;124m\"\u001b[39m)\n\u001b[0;32m----> 8\u001b[0m     results \u001b[38;5;241m=\u001b[39m \u001b[43mevaluator\u001b[49m\u001b[38;5;241;43m.\u001b[39;49m\u001b[43mevaluate_perturbations\u001b[49m\u001b[43m(\u001b[49m\u001b[43mhealthy_adata\u001b[49m\u001b[43m,\u001b[49m\u001b[43m \u001b[49m\u001b[43mcancer_driving_perturbations\u001b[49m\u001b[43m)\u001b[49m\n\u001b[1;32m      9\u001b[0m     evaluation_results_by_patient[pid] \u001b[38;5;241m=\u001b[39m results\n",
      "File \u001b[0;32m~/Documents/ML-AML/perturbation_evaluator.py:289\u001b[0m, in \u001b[0;36mPerturbationEvaluator.evaluate_perturbations\u001b[0;34m(self, current_adata, perturbations)\u001b[0m\n\u001b[1;32m    283\u001b[0m pred_state \u001b[38;5;241m=\u001b[39m torch\u001b[38;5;241m.\u001b[39mtensor(\n\u001b[1;32m    284\u001b[0m     np\u001b[38;5;241m.\u001b[39mmean(p_out\u001b[38;5;241m.\u001b[39mdetach()\u001b[38;5;241m.\u001b[39mcpu()\u001b[38;5;241m.\u001b[39mnumpy(), axis\u001b[38;5;241m=\u001b[39m\u001b[38;5;241m0\u001b[39m),\n\u001b[1;32m    285\u001b[0m     device\u001b[38;5;241m=\u001b[39mgears_instance\u001b[38;5;241m.\u001b[39mdevice\n\u001b[1;32m    286\u001b[0m )\n\u001b[1;32m    288\u001b[0m \u001b[38;5;66;03m# Compute scores for the perturbed state.\u001b[39;00m\n\u001b[0;32m--> 289\u001b[0m scores \u001b[38;5;241m=\u001b[39m \u001b[38;5;28;43mself\u001b[39;49m\u001b[38;5;241;43m.\u001b[39;49m\u001b[43mcompute_state_score\u001b[49m\u001b[43m(\u001b[49m\u001b[43mpred_state\u001b[49m\u001b[43m)\u001b[49m\n\u001b[1;32m    290\u001b[0m \u001b[38;5;66;03m# Add the classifier baseline from the unperturbed state.\u001b[39;00m\n\u001b[1;32m    291\u001b[0m scores[\u001b[38;5;124m'\u001b[39m\u001b[38;5;124mbaseline_classifier\u001b[39m\u001b[38;5;124m'\u001b[39m] \u001b[38;5;241m=\u001b[39m baseline_classifier_score\n",
      "File \u001b[0;32m~/Documents/ML-AML/perturbation_evaluator.py:148\u001b[0m, in \u001b[0;36mPerturbationEvaluator.compute_state_score\u001b[0;34m(self, state)\u001b[0m\n\u001b[1;32m    143\u001b[0m \u001b[38;5;250m\u001b[39m\u001b[38;5;124;03m\"\"\"\u001b[39;00m\n\u001b[1;32m    144\u001b[0m \u001b[38;5;124;03mCompute a score for the given state.\u001b[39;00m\n\u001b[1;32m    145\u001b[0m \u001b[38;5;124;03m\"\"\"\u001b[39;00m\n\u001b[1;32m    146\u001b[0m \u001b[38;5;28;01mwith\u001b[39;00m torch\u001b[38;5;241m.\u001b[39mno_grad():\n\u001b[1;32m    147\u001b[0m     \u001b[38;5;66;03m# Wasserstein-based score.\u001b[39;00m\n\u001b[0;32m--> 148\u001b[0m     w_distance \u001b[38;5;241m=\u001b[39m \u001b[38;5;28;43mself\u001b[39;49m\u001b[38;5;241;43m.\u001b[39;49m\u001b[43mcompute_wasserstein_distance\u001b[49m\u001b[43m(\u001b[49m\u001b[43mstate\u001b[49m\u001b[43m)\u001b[49m\n\u001b[1;32m    149\u001b[0m     w_score \u001b[38;5;241m=\u001b[39m torch\u001b[38;5;241m.\u001b[39mexp(\u001b[38;5;241m-\u001b[39mw_distance \u001b[38;5;241m/\u001b[39m \u001b[38;5;241m10\u001b[39m)\u001b[38;5;241m.\u001b[39mitem()\n\u001b[1;32m    151\u001b[0m     \u001b[38;5;66;03m# Stability score using a sigmoid transform on z-scores.\u001b[39;00m\n",
      "File \u001b[0;32m~/Documents/ML-AML/perturbation_evaluator.py:139\u001b[0m, in \u001b[0;36mPerturbationEvaluator.compute_wasserstein_distance\u001b[0;34m(self, state)\u001b[0m\n\u001b[1;32m    137\u001b[0m \u001b[38;5;28;01mwith\u001b[39;00m torch\u001b[38;5;241m.\u001b[39mno_grad():\n\u001b[1;32m    138\u001b[0m     state_r \u001b[38;5;241m=\u001b[39m state \u001b[38;5;28;01mif\u001b[39;00m state\u001b[38;5;241m.\u001b[39mdim() \u001b[38;5;241m==\u001b[39m \u001b[38;5;241m2\u001b[39m \u001b[38;5;28;01melse\u001b[39;00m state\u001b[38;5;241m.\u001b[39munsqueeze(\u001b[38;5;241m0\u001b[39m)\n\u001b[0;32m--> 139\u001b[0m     state_quantiles \u001b[38;5;241m=\u001b[39m \u001b[38;5;28;43mself\u001b[39;49m\u001b[38;5;241;43m.\u001b[39;49m\u001b[43m_compute_marginal_quantiles\u001b[49m\u001b[43m(\u001b[49m\u001b[43mstate_r\u001b[49m\u001b[43m)\u001b[49m\n\u001b[1;32m    140\u001b[0m     \u001b[38;5;28;01mreturn\u001b[39;00m torch\u001b[38;5;241m.\u001b[39mmean(torch\u001b[38;5;241m.\u001b[39mabs(state_quantiles \u001b[38;5;241m-\u001b[39m \u001b[38;5;28mself\u001b[39m\u001b[38;5;241m.\u001b[39mref_quantiles))\n",
      "File \u001b[0;32m~/Documents/ML-AML/perturbation_evaluator.py:134\u001b[0m, in \u001b[0;36mPerturbationEvaluator._compute_marginal_quantiles\u001b[0;34m(self, data)\u001b[0m\n\u001b[1;32m    132\u001b[0m \u001b[38;5;28;01mdef\u001b[39;00m\u001b[38;5;250m \u001b[39m\u001b[38;5;21m_compute_marginal_quantiles\u001b[39m(\u001b[38;5;28mself\u001b[39m, data: torch\u001b[38;5;241m.\u001b[39mTensor) \u001b[38;5;241m-\u001b[39m\u001b[38;5;241m>\u001b[39m torch\u001b[38;5;241m.\u001b[39mTensor:\n\u001b[1;32m    133\u001b[0m     quantile_points \u001b[38;5;241m=\u001b[39m torch\u001b[38;5;241m.\u001b[39mlinspace(\u001b[38;5;241m0\u001b[39m, \u001b[38;5;241m1\u001b[39m, \u001b[38;5;28mself\u001b[39m\u001b[38;5;241m.\u001b[39mn_quantiles, device\u001b[38;5;241m=\u001b[39m\u001b[38;5;28mself\u001b[39m\u001b[38;5;241m.\u001b[39mdevice)\n\u001b[0;32m--> 134\u001b[0m     \u001b[38;5;28;01mreturn\u001b[39;00m \u001b[43mtorch\u001b[49m\u001b[38;5;241;43m.\u001b[39;49m\u001b[43mquantile\u001b[49m\u001b[43m(\u001b[49m\u001b[43mdata\u001b[49m\u001b[43m,\u001b[49m\u001b[43m \u001b[49m\u001b[43mquantile_points\u001b[49m\u001b[43m,\u001b[49m\u001b[43m \u001b[49m\u001b[43mdim\u001b[49m\u001b[38;5;241;43m=\u001b[39;49m\u001b[38;5;241;43m0\u001b[39;49m\u001b[43m)\u001b[49m\n",
      "\u001b[0;31mKeyboardInterrupt\u001b[0m: "
     ]
    }
   ],
   "source": [
    "# Perform perturbation evaluation for each patient using the generator-based evaluation.\n",
    "# Here, we apply the perturbations to healthy_adata (as our baseline state), letting each evaluator\n",
    "# compute scores based on how the healthy cells, after perturbation, compare to that patient's AML reference.\n",
    "evaluation_results_by_patient = {}\n",
    "\n",
    "for pid, evaluator in evaluators_by_patient.items():\n",
    "    print(f\"\\nEvaluating perturbations for patient {pid} ...\")\n",
    "    \n",
    "    # Evaluate all candidate perturbations, streaming results directly to CSV.\n",
    "    csv_all = evaluate_perturbations(\n",
    "        perturbation_list=all_perturbations,\n",
    "        scenario=\"aml_to_healthy\",\n",
    "        results_filename=f\"{pid}_allPerts\"\n",
    "    )\n",
    "    \n",
    "    # Store the CSV filename (or, if desired, load the CSV into a DataFrame).\n",
    "    evaluation_results_by_patient[pid] = csv_all\n",
    "    print(f\"All-perturbation results for patient {pid} saved to {csv_all}\")\n",
    "    \n",
    "    # Load the CSV to extract selected perturbations.\n",
    "    df_all = pd.read_csv(csv_all)\n",
    "    # Depending on your extract_perturbations_by_classifier_change function,\n",
    "    # you might need it to work on a DataFrame (one option is to convert the DataFrame rows into a list).\n",
    "    selected_perturbations = extract_perturbations_by_classifier_change(df_all)\n",
    "    \n",
    "    # Generate the list of (double) perturbations for selected ones.\n",
    "    # (Assuming generate_perturbations accepts a list of perturbations as input.)\n",
    "    selected_perts = generate_perturbations(\n",
    "        [pert[0] for pert in selected_perturbations],\n",
    "        generate_double_perts=True\n",
    "    )\n",
    "    \n",
    "    # Evaluate the selected perturbations using the generator-based method.\n",
    "    csv_selected = evaluate_perturbations(\n",
    "        perturbation_list=selected_perts,\n",
    "        scenario=\"aml_to_healthy\",\n",
    "        results_filename=f\"{pid}_selectedPerts\"\n",
    "    )\n",
    "    print(f\"Selected perturbation results for patient {pid} saved to {csv_selected}\")"
   ]
  },
  {
   "cell_type": "code",
   "execution_count": null,
   "metadata": {},
   "outputs": [],
   "source": [
    "# Summarize the best perturbation (highest composite total score) per patient.\n",
    "import pandas as pd\n",
    "\n",
    "summary_records = []\n",
    "for pid, results in evaluation_results_by_patient.items():\n",
    "    if results:  # if any valid perturbation evaluation is returned\n",
    "        best_result = results[0]  # results are sorted in descending order of total score\n",
    "        summary_records.append({\n",
    "            'patient_id': pid,\n",
    "            'best_perturbation': best_result.perturbation,\n",
    "            'total_score': best_result.scores['total'],\n",
    "            'classifier_score': best_result.scores['classifier'],\n",
    "            'wasserstein': best_result.scores['wasserstein'],\n",
    "            'stability': best_result.scores['stability'],\n",
    "            'density': best_result.scores['density']\n",
    "        })\n",
    "\n",
    "summary_df = pd.DataFrame(summary_records)\n",
    "\n",
    "print(\"\\nBest perturbations per patient:\")\n",
    "print(summary_df)"
   ]
  },
  {
   "cell_type": "markdown",
   "metadata": {},
   "source": [
    "## AML -> healthy"
   ]
  },
  {
   "cell_type": "code",
   "execution_count": 53,
   "metadata": {
    "execution": {
     "iopub.execute_input": "2025-02-08T00:42:01.035254Z",
     "iopub.status.busy": "2025-02-08T00:42:01.034953Z",
     "iopub.status.idle": "2025-02-08T00:42:01.041221Z",
     "shell.execute_reply": "2025-02-08T00:42:01.040378Z",
     "shell.execute_reply.started": "2025-02-08T00:42:01.035226Z"
    },
    "trusted": true
   },
   "outputs": [
    {
     "data": {
      "text/plain": [
       "2850"
      ]
     },
     "execution_count": 53,
     "metadata": {},
     "output_type": "execute_result"
    }
   ],
   "source": [
    "len(generate_perturbations(filtered_perturbations))"
   ]
  },
  {
   "cell_type": "code",
   "execution_count": 59,
   "metadata": {
    "execution": {
     "iopub.execute_input": "2025-02-08T00:52:44.941577Z",
     "iopub.status.busy": "2025-02-08T00:52:44.941254Z",
     "iopub.status.idle": "2025-02-08T00:52:44.967411Z",
     "shell.execute_reply": "2025-02-08T00:52:44.966289Z",
     "shell.execute_reply.started": "2025-02-08T00:52:44.941551Z"
    },
    "trusted": true
   },
   "outputs": [
    {
     "ename": "NameError",
     "evalue": "name 'patient_adata' is not defined",
     "output_type": "error",
     "traceback": [
      "\u001b[0;31m---------------------------------------------------------------------------\u001b[0m",
      "\u001b[0;31mNameError\u001b[0m                                 Traceback (most recent call last)",
      "\u001b[0;32m<ipython-input-59-c0be9d609beb>\u001b[0m in \u001b[0;36m<cell line: 4>\u001b[0;34m()\u001b[0m\n\u001b[1;32m      9\u001b[0m     \u001b[0mgears_data_dir\u001b[0m\u001b[0;34m=\u001b[0m\u001b[0;34mf\"{gears_data_dir}/model\"\u001b[0m\u001b[0;34m,\u001b[0m\u001b[0;34m\u001b[0m\u001b[0;34m\u001b[0m\u001b[0m\n\u001b[1;32m     10\u001b[0m     \u001b[0mgene_subset\u001b[0m\u001b[0;34m=\u001b[0m\u001b[0mgene_subset\u001b[0m\u001b[0;34m,\u001b[0m\u001b[0;34m\u001b[0m\u001b[0;34m\u001b[0m\u001b[0m\n\u001b[0;32m---> 11\u001b[0;31m     \u001b[0mtemplate_adata\u001b[0m\u001b[0;34m=\u001b[0m\u001b[0mpatient_adata\u001b[0m\u001b[0;34m\u001b[0m\u001b[0;34m\u001b[0m\u001b[0m\n\u001b[0m\u001b[1;32m     12\u001b[0m )\n\u001b[1;32m     13\u001b[0m \u001b[0;31m# Evaluate all the candidate perturbations in a single batched call.\u001b[0m\u001b[0;34m\u001b[0m\u001b[0;34m\u001b[0m\u001b[0m\n",
      "\u001b[0;31mNameError\u001b[0m: name 'patient_adata' is not defined"
     ]
    }
   ],
   "source": [
    "# Instantiate the evaluator.\n",
    "# Here, since we perturb healthy cells into an AML state (i.e., higher classifier scores are desirable),\n",
    "# we set invert_classifier_score=False.\n",
    "evaluator = perturbation_evaluator.PerturbationEvaluator(\n",
    "    classifier=selector,\n",
    "    reference_state=healthy_adata,  # optional: your healthy reference states\n",
    "    device=device,\n",
    "    invert_classifier_score=True,\n",
    "    gears_data_dir=f\"{gears_data_dir}/model\",\n",
    "    gene_subset=gene_subset,\n",
    "    template_adata=patient_adata\n",
    ")\n",
    "# Evaluate all the candidate perturbations in a single batched call.\n",
    "evaluation_results = evaluator.evaluate_perturbations(cancer_adata, generate_perturbations(filtered_perturbations))\n",
    "\n",
    "# Sort the evaluation results by the total score (highest score first)\n",
    "evaluation_results.sort(key=lambda x: x.scores['total'], reverse=True)\n",
    "\n",
    "if evaluation_results:\n",
    "    best_result = evaluation_results[0]\n",
    "    print(\"\\nBest Single-Step Perturbation:\")\n",
    "    print(f\"Perturbation: {best_result.perturbation}\")\n",
    "    print(f\"Baseline Classifier Score: {best_result.scores['baseline_classifier']:.4f}\")\n",
    "    print(f\"Classifier Score: {best_result.scores['classifier']:.4f}\")\n",
    "    print(f\"Wasserstein Distance: {best_result.scores['wasserstein']:.4f}\")\n",
    "    print(f\"Stability: {best_result.scores['stability']:.4f}\")\n",
    "    print(f\"Density: {best_result.scores['density']:.4f}\")\n",
    "    print(f\"Total Score: {best_result.scores['total']:.4f}\")\n",
    "else:\n",
    "    print(\"No valid perturbations found.\")"
   ]
  },
  {
   "cell_type": "code",
   "execution_count": null,
   "metadata": {},
   "outputs": [],
   "source": [
    "del gears_wrapper\n",
    "gears_wrapper = reinit_gears(aml_data)"
   ]
  },
  {
   "cell_type": "code",
   "execution_count": 81,
   "metadata": {},
   "outputs": [
    {
     "data": {
      "text/plain": [
       "Index(['AML707B-D0_AACATTACGTTA-0', 'AML707B-D0_AACCGCCAAAGA-0',\n",
       "       'AML707B-D0_AAGGCCGGTGCA-0', 'AML707B-D0_ACCCGGAGATCC-0',\n",
       "       'AML707B-D0_ACCGCGGACTCT-0', 'AML707B-D0_ACTGTTTCCCAT-0',\n",
       "       'AML707B-D0_ACTTAGACACGC-0', 'AML707B-D0_ACTTTCAGCCAN-0',\n",
       "       'AML707B-D0_AGACGCGGTTCG-0', 'AML707B-D0_AGCGCCCGCACT-0',\n",
       "       ...\n",
       "       'BM5-34p_GGCCCCTAGCAG-19', 'BM5-34p_GGCGAGGCGAGT-19',\n",
       "       'BM5-34p_GGGATGACAATA-19', 'BM5-34p_TATGGGAACCGC-19',\n",
       "       'BM5-34p_TCACTTGATTAC-19', 'BM5-34p_TGATGGCAGACC-19',\n",
       "       'BM5-34p_TTCACCAGGACG-19', 'BM5-34p_TTTCATTATAGC-19',\n",
       "       'BM5-34p_CACATTTTAGAA-19', 'BM5-34p_GACCCCCCGTGA-19'],\n",
       "      dtype='object', name='Cell', length=1774)"
      ]
     },
     "execution_count": 81,
     "metadata": {},
     "output_type": "execute_result"
    }
   ],
   "source": [
    "good_cells"
   ]
  },
  {
   "cell_type": "code",
   "execution_count": 82,
   "metadata": {},
   "outputs": [
    {
     "name": "stdout",
     "output_type": "stream",
     "text": [
      "Number of unique patients: 16\n",
      "\n",
      "Cells per patient:\n",
      "AML921A-D0    526\n",
      "BM5-34p       226\n",
      "AML1012-D0    224\n",
      "AML707B-D0    119\n",
      "BM3           107\n",
      "AML328-D0     103\n",
      "AML556-D0     101\n",
      "AML916-D0      97\n",
      "BM4            86\n",
      "AML329-D0      51\n",
      "AML420B-D0     49\n",
      "AML210A-D0     35\n",
      "AML870-D0      25\n",
      "AML419A-D0     17\n",
      "AML475-D0       7\n",
      "BM1             1\n",
      "Name: count, dtype: int64\n"
     ]
    }
   ],
   "source": [
    "def count_patients_and_cells(good_cells):\n",
    "    \"\"\"\n",
    "    Given a pandas Index of cell IDs (with the first substring before '_' representing the patient ID),\n",
    "    returns the number of unique patients and a Pandas Series with the number of cells per patient.\n",
    "    \n",
    "    Parameters:\n",
    "        good_cells (pd.Index): Cell IDs\n",
    "    \n",
    "    Returns:\n",
    "        num_patients (int): Number of unique patients\n",
    "        cells_per_patient (pd.Series): Count of cells per patient\n",
    "    \"\"\"\n",
    "    # Extract the patient ID from each cell id\n",
    "    patient_ids = [cell.split('_')[0] for cell in good_cells]\n",
    "    \n",
    "    # Count cells per patient using value_counts\n",
    "    cells_per_patient = pd.Series(patient_ids).value_counts()\n",
    "    \n",
    "    # Number of unique patients\n",
    "    num_patients = cells_per_patient.shape[0]\n",
    "    \n",
    "    return num_patients, cells_per_patient\n",
    "\n",
    "num_patients, cells_per_patient = count_patients_and_cells(good_cells)\n",
    "print(f\"Number of unique patients: {num_patients}\\n\")\n",
    "print(\"Cells per patient:\")\n",
    "print(cells_per_patient)"
   ]
  },
  {
   "cell_type": "code",
   "execution_count": null,
   "metadata": {},
   "outputs": [],
   "source": []
  }
 ],
 "metadata": {
  "kaggle": {
   "accelerator": "gpu",
   "dataSources": [
    {
     "datasetId": 6598422,
     "sourceId": 10655575,
     "sourceType": "datasetVersion"
    },
    {
     "datasetId": 6588857,
     "sourceId": 10700491,
     "sourceType": "datasetVersion"
    }
   ],
   "isGpuEnabled": true,
   "isInternetEnabled": true,
   "language": "python",
   "sourceType": "notebook"
  },
  "kernelspec": {
   "display_name": "Python 3",
   "language": "python",
   "name": "python3"
  },
  "language_info": {
   "codemirror_mode": {
    "name": "ipython",
    "version": 3
   },
   "file_extension": ".py",
   "mimetype": "text/x-python",
   "name": "python",
   "nbconvert_exporter": "python",
   "pygments_lexer": "ipython3",
   "version": "3.10.12"
  }
 },
 "nbformat": 4,
 "nbformat_minor": 4
}
