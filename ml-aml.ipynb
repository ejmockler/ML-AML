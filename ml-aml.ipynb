{
 "cells": [
  {
   "cell_type": "code",
   "execution_count": 4,
   "metadata": {
    "execution": {
     "iopub.execute_input": "2025-02-08T03:35:18.301704Z",
     "iopub.status.busy": "2025-02-08T03:35:18.301404Z",
     "iopub.status.idle": "2025-02-08T03:35:36.780848Z",
     "shell.execute_reply": "2025-02-08T03:35:36.779860Z",
     "shell.execute_reply.started": "2025-02-08T03:35:18.301677Z"
    },
    "trusted": true
   },
   "outputs": [
    {
     "name": "stdout",
     "output_type": "stream",
     "text": [
      "Requirement already satisfied: geoparse in ./venv/lib/python3.11/site-packages (2.0.4)\n",
      "Requirement already satisfied: torch_geometric in ./venv/lib/python3.11/site-packages (2.6.1)\n",
      "Requirement already satisfied: cell-gears in ./venv/lib/python3.11/site-packages (0.1.2)\n",
      "Requirement already satisfied: pyro-ppl in ./venv/lib/python3.11/site-packages (1.9.1)\n",
      "Requirement already satisfied: mlflow in ./venv/lib/python3.11/site-packages (2.20.1)\n",
      "Requirement already satisfied: numpy>=1.7 in ./venv/lib/python3.11/site-packages (from geoparse) (2.1.3)\n",
      "Requirement already satisfied: pandas>=0.17 in ./venv/lib/python3.11/site-packages (from geoparse) (2.2.3)\n",
      "Requirement already satisfied: requests>=2.21.0 in ./venv/lib/python3.11/site-packages (from geoparse) (2.32.3)\n",
      "Requirement already satisfied: tqdm>=4.31.1 in ./venv/lib/python3.11/site-packages (from geoparse) (4.67.1)\n",
      "Requirement already satisfied: aiohttp in ./venv/lib/python3.11/site-packages (from torch_geometric) (3.11.11)\n",
      "Requirement already satisfied: fsspec in ./venv/lib/python3.11/site-packages (from torch_geometric) (2024.12.0)\n",
      "Requirement already satisfied: jinja2 in ./venv/lib/python3.11/site-packages (from torch_geometric) (3.1.5)\n",
      "Requirement already satisfied: psutil>=5.8.0 in ./venv/lib/python3.11/site-packages (from torch_geometric) (6.1.1)\n",
      "Requirement already satisfied: pyparsing in ./venv/lib/python3.11/site-packages (from torch_geometric) (3.2.1)\n",
      "Requirement already satisfied: scikit-learn in ./venv/lib/python3.11/site-packages (from cell-gears) (1.6.1)\n",
      "Requirement already satisfied: torch in ./venv/lib/python3.11/site-packages (from cell-gears) (2.5.1)\n",
      "Requirement already satisfied: scanpy in ./venv/lib/python3.11/site-packages (from cell-gears) (1.10.4)\n",
      "Requirement already satisfied: networkx in ./venv/lib/python3.11/site-packages (from cell-gears) (3.4.2)\n",
      "Requirement already satisfied: dcor in ./venv/lib/python3.11/site-packages (from cell-gears) (0.6)\n",
      "Requirement already satisfied: opt-einsum>=2.3.2 in ./venv/lib/python3.11/site-packages (from pyro-ppl) (3.4.0)\n",
      "Requirement already satisfied: pyro-api>=0.1.1 in ./venv/lib/python3.11/site-packages (from pyro-ppl) (0.1.2)\n",
      "Requirement already satisfied: mlflow-skinny==2.20.1 in ./venv/lib/python3.11/site-packages (from mlflow) (2.20.1)\n",
      "Requirement already satisfied: Flask<4 in ./venv/lib/python3.11/site-packages (from mlflow) (3.1.0)\n",
      "Requirement already satisfied: alembic!=1.10.0,<2 in ./venv/lib/python3.11/site-packages (from mlflow) (1.14.1)\n",
      "Requirement already satisfied: docker<8,>=4.0.0 in ./venv/lib/python3.11/site-packages (from mlflow) (7.1.0)\n",
      "Requirement already satisfied: graphene<4 in ./venv/lib/python3.11/site-packages (from mlflow) (3.4.3)\n",
      "Requirement already satisfied: gunicorn<24 in ./venv/lib/python3.11/site-packages (from mlflow) (23.0.0)\n",
      "Requirement already satisfied: markdown<4,>=3.3 in ./venv/lib/python3.11/site-packages (from mlflow) (3.7)\n",
      "Requirement already satisfied: matplotlib<4 in ./venv/lib/python3.11/site-packages (from mlflow) (3.10.0)\n",
      "Requirement already satisfied: pyarrow<19,>=4.0.0 in ./venv/lib/python3.11/site-packages (from mlflow) (18.1.0)\n",
      "Requirement already satisfied: scipy<2 in ./venv/lib/python3.11/site-packages (from mlflow) (1.15.1)\n",
      "Requirement already satisfied: sqlalchemy<3,>=1.4.0 in ./venv/lib/python3.11/site-packages (from mlflow) (2.0.37)\n",
      "Requirement already satisfied: cachetools<6,>=5.0.0 in ./venv/lib/python3.11/site-packages (from mlflow-skinny==2.20.1->mlflow) (5.5.1)\n",
      "Requirement already satisfied: click<9,>=7.0 in ./venv/lib/python3.11/site-packages (from mlflow-skinny==2.20.1->mlflow) (8.1.8)\n",
      "Requirement already satisfied: cloudpickle<4 in ./venv/lib/python3.11/site-packages (from mlflow-skinny==2.20.1->mlflow) (3.1.1)\n",
      "Requirement already satisfied: databricks-sdk<1,>=0.20.0 in ./venv/lib/python3.11/site-packages (from mlflow-skinny==2.20.1->mlflow) (0.42.0)\n",
      "Requirement already satisfied: gitpython<4,>=3.1.9 in ./venv/lib/python3.11/site-packages (from mlflow-skinny==2.20.1->mlflow) (3.1.44)\n",
      "Requirement already satisfied: importlib_metadata!=4.7.0,<9,>=3.7.0 in ./venv/lib/python3.11/site-packages (from mlflow-skinny==2.20.1->mlflow) (8.5.0)\n",
      "Requirement already satisfied: opentelemetry-api<3,>=1.9.0 in ./venv/lib/python3.11/site-packages (from mlflow-skinny==2.20.1->mlflow) (1.29.0)\n",
      "Requirement already satisfied: opentelemetry-sdk<3,>=1.9.0 in ./venv/lib/python3.11/site-packages (from mlflow-skinny==2.20.1->mlflow) (1.29.0)\n",
      "Requirement already satisfied: packaging<25 in ./venv/lib/python3.11/site-packages (from mlflow-skinny==2.20.1->mlflow) (24.2)\n",
      "Requirement already satisfied: protobuf<6,>=3.12.0 in ./venv/lib/python3.11/site-packages (from mlflow-skinny==2.20.1->mlflow) (5.29.3)\n",
      "Requirement already satisfied: pydantic<3,>=1.0 in ./venv/lib/python3.11/site-packages (from mlflow-skinny==2.20.1->mlflow) (2.10.6)\n",
      "Requirement already satisfied: pyyaml<7,>=5.1 in ./venv/lib/python3.11/site-packages (from mlflow-skinny==2.20.1->mlflow) (6.0.2)\n",
      "Requirement already satisfied: sqlparse<1,>=0.4.0 in ./venv/lib/python3.11/site-packages (from mlflow-skinny==2.20.1->mlflow) (0.5.3)\n",
      "Requirement already satisfied: typing-extensions<5,>=4.0.0 in ./venv/lib/python3.11/site-packages (from mlflow-skinny==2.20.1->mlflow) (4.12.2)\n",
      "Requirement already satisfied: Mako in ./venv/lib/python3.11/site-packages (from alembic!=1.10.0,<2->mlflow) (1.3.8)\n",
      "Requirement already satisfied: urllib3>=1.26.0 in ./venv/lib/python3.11/site-packages (from docker<8,>=4.0.0->mlflow) (2.3.0)\n",
      "Requirement already satisfied: Werkzeug>=3.1 in ./venv/lib/python3.11/site-packages (from Flask<4->mlflow) (3.1.3)\n",
      "Requirement already satisfied: itsdangerous>=2.2 in ./venv/lib/python3.11/site-packages (from Flask<4->mlflow) (2.2.0)\n",
      "Requirement already satisfied: blinker>=1.9 in ./venv/lib/python3.11/site-packages (from Flask<4->mlflow) (1.9.0)\n",
      "Requirement already satisfied: graphql-core<3.3,>=3.1 in ./venv/lib/python3.11/site-packages (from graphene<4->mlflow) (3.2.6)\n",
      "Requirement already satisfied: graphql-relay<3.3,>=3.1 in ./venv/lib/python3.11/site-packages (from graphene<4->mlflow) (3.2.0)\n",
      "Requirement already satisfied: python-dateutil<3,>=2.7.0 in ./venv/lib/python3.11/site-packages (from graphene<4->mlflow) (2.9.0.post0)\n",
      "Requirement already satisfied: MarkupSafe>=2.0 in ./venv/lib/python3.11/site-packages (from jinja2->torch_geometric) (3.0.2)\n",
      "Requirement already satisfied: contourpy>=1.0.1 in ./venv/lib/python3.11/site-packages (from matplotlib<4->mlflow) (1.3.1)\n",
      "Requirement already satisfied: cycler>=0.10 in ./venv/lib/python3.11/site-packages (from matplotlib<4->mlflow) (0.12.1)\n",
      "Requirement already satisfied: fonttools>=4.22.0 in ./venv/lib/python3.11/site-packages (from matplotlib<4->mlflow) (4.55.8)\n",
      "Requirement already satisfied: kiwisolver>=1.3.1 in ./venv/lib/python3.11/site-packages (from matplotlib<4->mlflow) (1.4.8)\n",
      "Requirement already satisfied: pillow>=8 in ./venv/lib/python3.11/site-packages (from matplotlib<4->mlflow) (11.1.0)\n",
      "Requirement already satisfied: pytz>=2020.1 in ./venv/lib/python3.11/site-packages (from pandas>=0.17->geoparse) (2025.1)\n",
      "Requirement already satisfied: tzdata>=2022.7 in ./venv/lib/python3.11/site-packages (from pandas>=0.17->geoparse) (2025.1)\n",
      "Requirement already satisfied: charset-normalizer<4,>=2 in ./venv/lib/python3.11/site-packages (from requests>=2.21.0->geoparse) (3.4.1)\n",
      "Requirement already satisfied: idna<4,>=2.5 in ./venv/lib/python3.11/site-packages (from requests>=2.21.0->geoparse) (3.10)\n",
      "Requirement already satisfied: certifi>=2017.4.17 in ./venv/lib/python3.11/site-packages (from requests>=2.21.0->geoparse) (2025.1.31)\n",
      "Requirement already satisfied: joblib>=1.2.0 in ./venv/lib/python3.11/site-packages (from scikit-learn->cell-gears) (1.4.2)\n",
      "Requirement already satisfied: threadpoolctl>=3.1.0 in ./venv/lib/python3.11/site-packages (from scikit-learn->cell-gears) (3.5.0)\n",
      "Requirement already satisfied: filelock in ./venv/lib/python3.11/site-packages (from torch->cell-gears) (3.17.0)\n",
      "Requirement already satisfied: sympy==1.13.1 in ./venv/lib/python3.11/site-packages (from torch->cell-gears) (1.13.1)\n",
      "Requirement already satisfied: mpmath<1.4,>=1.1.0 in ./venv/lib/python3.11/site-packages (from sympy==1.13.1->torch->cell-gears) (1.3.0)\n",
      "Requirement already satisfied: aiohappyeyeballs>=2.3.0 in ./venv/lib/python3.11/site-packages (from aiohttp->torch_geometric) (2.4.4)\n",
      "Requirement already satisfied: aiosignal>=1.1.2 in ./venv/lib/python3.11/site-packages (from aiohttp->torch_geometric) (1.3.2)\n",
      "Requirement already satisfied: attrs>=17.3.0 in ./venv/lib/python3.11/site-packages (from aiohttp->torch_geometric) (25.1.0)\n",
      "Requirement already satisfied: frozenlist>=1.1.1 in ./venv/lib/python3.11/site-packages (from aiohttp->torch_geometric) (1.5.0)\n",
      "Requirement already satisfied: multidict<7.0,>=4.5 in ./venv/lib/python3.11/site-packages (from aiohttp->torch_geometric) (6.1.0)\n",
      "Requirement already satisfied: propcache>=0.2.0 in ./venv/lib/python3.11/site-packages (from aiohttp->torch_geometric) (0.2.1)\n",
      "Requirement already satisfied: yarl<2.0,>=1.17.0 in ./venv/lib/python3.11/site-packages (from aiohttp->torch_geometric) (1.18.3)\n",
      "Requirement already satisfied: numba>=0.51 in ./venv/lib/python3.11/site-packages (from dcor->cell-gears) (0.61.0)\n",
      "Requirement already satisfied: anndata>=0.8 in ./venv/lib/python3.11/site-packages (from scanpy->cell-gears) (0.10.5)\n",
      "Requirement already satisfied: h5py>=3.6 in ./venv/lib/python3.11/site-packages (from scanpy->cell-gears) (3.12.1)\n",
      "Requirement already satisfied: legacy-api-wrap>=1.4 in ./venv/lib/python3.11/site-packages (from scanpy->cell-gears) (1.4.1)\n",
      "Requirement already satisfied: natsort in ./venv/lib/python3.11/site-packages (from scanpy->cell-gears) (8.4.0)\n",
      "Requirement already satisfied: patsy!=1.0.0 in ./venv/lib/python3.11/site-packages (from scanpy->cell-gears) (1.0.1)\n",
      "Requirement already satisfied: pynndescent>=0.5 in ./venv/lib/python3.11/site-packages (from scanpy->cell-gears) (0.5.13)\n",
      "Requirement already satisfied: seaborn>=0.13 in ./venv/lib/python3.11/site-packages (from scanpy->cell-gears) (0.13.2)\n",
      "Requirement already satisfied: session-info in ./venv/lib/python3.11/site-packages (from scanpy->cell-gears) (1.0.0)\n",
      "Requirement already satisfied: statsmodels>=0.13 in ./venv/lib/python3.11/site-packages (from scanpy->cell-gears) (0.14.4)\n",
      "Requirement already satisfied: umap-learn!=0.5.0,>=0.5 in ./venv/lib/python3.11/site-packages (from scanpy->cell-gears) (0.5.7)\n",
      "Requirement already satisfied: array-api-compat in ./venv/lib/python3.11/site-packages (from anndata>=0.8->scanpy->cell-gears) (1.10.0)\n",
      "Requirement already satisfied: google-auth~=2.0 in ./venv/lib/python3.11/site-packages (from databricks-sdk<1,>=0.20.0->mlflow-skinny==2.20.1->mlflow) (2.38.0)\n",
      "Requirement already satisfied: gitdb<5,>=4.0.1 in ./venv/lib/python3.11/site-packages (from gitpython<4,>=3.1.9->mlflow-skinny==2.20.1->mlflow) (4.0.12)\n",
      "Requirement already satisfied: zipp>=3.20 in ./venv/lib/python3.11/site-packages (from importlib_metadata!=4.7.0,<9,>=3.7.0->mlflow-skinny==2.20.1->mlflow) (3.21.0)\n",
      "Requirement already satisfied: llvmlite<0.45,>=0.44.0dev0 in ./venv/lib/python3.11/site-packages (from numba>=0.51->dcor->cell-gears) (0.44.0)\n",
      "Requirement already satisfied: deprecated>=1.2.6 in ./venv/lib/python3.11/site-packages (from opentelemetry-api<3,>=1.9.0->mlflow-skinny==2.20.1->mlflow) (1.2.18)\n",
      "Requirement already satisfied: opentelemetry-semantic-conventions==0.50b0 in ./venv/lib/python3.11/site-packages (from opentelemetry-sdk<3,>=1.9.0->mlflow-skinny==2.20.1->mlflow) (0.50b0)\n",
      "Requirement already satisfied: annotated-types>=0.6.0 in ./venv/lib/python3.11/site-packages (from pydantic<3,>=1.0->mlflow-skinny==2.20.1->mlflow) (0.7.0)\n",
      "Requirement already satisfied: pydantic-core==2.27.2 in ./venv/lib/python3.11/site-packages (from pydantic<3,>=1.0->mlflow-skinny==2.20.1->mlflow) (2.27.2)\n",
      "Requirement already satisfied: six>=1.5 in ./venv/lib/python3.11/site-packages (from python-dateutil<3,>=2.7.0->graphene<4->mlflow) (1.17.0)\n",
      "Requirement already satisfied: stdlib_list in ./venv/lib/python3.11/site-packages (from session-info->scanpy->cell-gears) (0.11.0)\n",
      "Requirement already satisfied: wrapt<2,>=1.10 in ./venv/lib/python3.11/site-packages (from deprecated>=1.2.6->opentelemetry-api<3,>=1.9.0->mlflow-skinny==2.20.1->mlflow) (1.17.2)\n",
      "Requirement already satisfied: smmap<6,>=3.0.1 in ./venv/lib/python3.11/site-packages (from gitdb<5,>=4.0.1->gitpython<4,>=3.1.9->mlflow-skinny==2.20.1->mlflow) (5.0.2)\n",
      "Requirement already satisfied: pyasn1-modules>=0.2.1 in ./venv/lib/python3.11/site-packages (from google-auth~=2.0->databricks-sdk<1,>=0.20.0->mlflow-skinny==2.20.1->mlflow) (0.4.1)\n",
      "Requirement already satisfied: rsa<5,>=3.1.4 in ./venv/lib/python3.11/site-packages (from google-auth~=2.0->databricks-sdk<1,>=0.20.0->mlflow-skinny==2.20.1->mlflow) (4.9)\n",
      "Requirement already satisfied: pyasn1<0.7.0,>=0.4.6 in ./venv/lib/python3.11/site-packages (from pyasn1-modules>=0.2.1->google-auth~=2.0->databricks-sdk<1,>=0.20.0->mlflow-skinny==2.20.1->mlflow) (0.6.1)\n",
      "\n",
      "\u001b[1m[\u001b[0m\u001b[34;49mnotice\u001b[0m\u001b[1;39;49m]\u001b[0m\u001b[39;49m A new release of pip is available: \u001b[0m\u001b[31;49m24.0\u001b[0m\u001b[39;49m -> \u001b[0m\u001b[32;49m25.0.1\u001b[0m\n",
      "\u001b[1m[\u001b[0m\u001b[34;49mnotice\u001b[0m\u001b[1;39;49m]\u001b[0m\u001b[39;49m To update, run: \u001b[0m\u001b[32;49mpip install --upgrade pip\u001b[0m\n",
      "Note: you may need to restart the kernel to use updated packages.\n"
     ]
    }
   ],
   "source": [
    "%pip install geoparse torch_geometric cell-gears pyro-ppl mlflow harmonypy"
   ]
  },
  {
   "cell_type": "code",
   "execution_count": 5,
   "metadata": {
    "execution": {
     "iopub.execute_input": "2025-02-08T03:35:36.782673Z",
     "iopub.status.busy": "2025-02-08T03:35:36.782331Z",
     "iopub.status.idle": "2025-02-08T03:36:24.653733Z",
     "shell.execute_reply": "2025-02-08T03:36:24.653084Z",
     "shell.execute_reply.started": "2025-02-08T03:35:36.782646Z"
    },
    "trusted": true
   },
   "outputs": [],
   "source": [
    "import GEOparse\n",
    "import os\n",
    "import sys\n",
    "# sys.path.append('/kaggle/input/gears-perturbation-optimizer')\n",
    "import anndata as ad\n",
    "import pandas as pd\n",
    "import gzip\n",
    "from tqdm import tqdm\n",
    "from gears.utils import dataverse_download\n",
    "from gears import PertData\n",
    "import scanpy as sc\n",
    "from feature_selection import BayesianFeatureSelector\n",
    "import plotly.express as px\n",
    "from itertools import combinations\n",
    "from zipfile import ZipFile\n",
    "from scipy.sparse import csr_matrix, issparse\n",
    "from scipy.stats import pearsonr, spearmanr\n",
    "import numpy as np\n",
    "import pickle"
   ]
  },
  {
   "cell_type": "markdown",
   "metadata": {},
   "source": [
    "# Download AML scRNA dataset\n",
    "https://pubmed.ncbi.nlm.nih.gov/30827681/"
   ]
  },
  {
   "cell_type": "code",
   "execution_count": 6,
   "metadata": {
    "execution": {
     "iopub.execute_input": "2025-02-08T03:36:24.655839Z",
     "iopub.status.busy": "2025-02-08T03:36:24.655169Z",
     "iopub.status.idle": "2025-02-08T03:36:25.944216Z",
     "shell.execute_reply": "2025-02-08T03:36:25.943617Z",
     "shell.execute_reply.started": "2025-02-08T03:36:24.655814Z"
    },
    "trusted": true
   },
   "outputs": [
    {
     "name": "stderr",
     "output_type": "stream",
     "text": [
      "04-Apr-2025 13:19:11 DEBUG utils - Directory ./ already exists. Skipping.\n",
      "04-Apr-2025 13:19:11 INFO GEOparse - File already exist: using local version.\n",
      "04-Apr-2025 13:19:11 INFO GEOparse - Parsing ./GSE116256_family.soft.gz: \n",
      "04-Apr-2025 13:19:11 DEBUG GEOparse - DATABASE: GeoMiame\n",
      "04-Apr-2025 13:19:11 DEBUG GEOparse - SERIES: GSE116256\n",
      "04-Apr-2025 13:19:11 DEBUG GEOparse - PLATFORM: GPL18573\n",
      "04-Apr-2025 13:19:11 DEBUG GEOparse - PLATFORM: GPL24106\n",
      "04-Apr-2025 13:19:11 DEBUG GEOparse - SAMPLE: GSM3587923\n",
      "04-Apr-2025 13:19:11 DEBUG GEOparse - SAMPLE: GSM3587924\n",
      "04-Apr-2025 13:19:11 DEBUG GEOparse - SAMPLE: GSM3587925\n",
      "04-Apr-2025 13:19:11 DEBUG GEOparse - SAMPLE: GSM3587926\n",
      "04-Apr-2025 13:19:11 DEBUG GEOparse - SAMPLE: GSM3587927\n",
      "04-Apr-2025 13:19:11 DEBUG GEOparse - SAMPLE: GSM3587928\n",
      "04-Apr-2025 13:19:11 DEBUG GEOparse - SAMPLE: GSM3587929\n",
      "04-Apr-2025 13:19:11 DEBUG GEOparse - SAMPLE: GSM3587930\n",
      "04-Apr-2025 13:19:11 DEBUG GEOparse - SAMPLE: GSM3587931\n",
      "04-Apr-2025 13:19:11 DEBUG GEOparse - SAMPLE: GSM3587932\n",
      "04-Apr-2025 13:19:11 DEBUG GEOparse - SAMPLE: GSM3587933\n",
      "04-Apr-2025 13:19:11 DEBUG GEOparse - SAMPLE: GSM3587934\n",
      "04-Apr-2025 13:19:11 DEBUG GEOparse - SAMPLE: GSM3587935\n",
      "04-Apr-2025 13:19:11 DEBUG GEOparse - SAMPLE: GSM3587936\n",
      "04-Apr-2025 13:19:11 DEBUG GEOparse - SAMPLE: GSM3587937\n",
      "04-Apr-2025 13:19:11 DEBUG GEOparse - SAMPLE: GSM3587938\n",
      "04-Apr-2025 13:19:11 DEBUG GEOparse - SAMPLE: GSM3587939\n",
      "04-Apr-2025 13:19:11 DEBUG GEOparse - SAMPLE: GSM3587940\n",
      "04-Apr-2025 13:19:11 DEBUG GEOparse - SAMPLE: GSM3587941\n",
      "04-Apr-2025 13:19:11 DEBUG GEOparse - SAMPLE: GSM3587942\n",
      "04-Apr-2025 13:19:11 DEBUG GEOparse - SAMPLE: GSM3587943\n",
      "04-Apr-2025 13:19:11 DEBUG GEOparse - SAMPLE: GSM3587944\n",
      "04-Apr-2025 13:19:11 DEBUG GEOparse - SAMPLE: GSM3587945\n",
      "04-Apr-2025 13:19:11 DEBUG GEOparse - SAMPLE: GSM3587946\n",
      "04-Apr-2025 13:19:11 DEBUG GEOparse - SAMPLE: GSM3587947\n",
      "04-Apr-2025 13:19:11 DEBUG GEOparse - SAMPLE: GSM3587948\n",
      "04-Apr-2025 13:19:11 DEBUG GEOparse - SAMPLE: GSM3587949\n",
      "04-Apr-2025 13:19:11 DEBUG GEOparse - SAMPLE: GSM3587950\n",
      "04-Apr-2025 13:19:11 DEBUG GEOparse - SAMPLE: GSM3587951\n",
      "04-Apr-2025 13:19:11 DEBUG GEOparse - SAMPLE: GSM3587952\n",
      "04-Apr-2025 13:19:11 DEBUG GEOparse - SAMPLE: GSM3587953\n",
      "04-Apr-2025 13:19:11 DEBUG GEOparse - SAMPLE: GSM3587954\n",
      "04-Apr-2025 13:19:11 DEBUG GEOparse - SAMPLE: GSM3587955\n",
      "04-Apr-2025 13:19:11 DEBUG GEOparse - SAMPLE: GSM3587956\n",
      "04-Apr-2025 13:19:11 DEBUG GEOparse - SAMPLE: GSM3587957\n",
      "04-Apr-2025 13:19:11 DEBUG GEOparse - SAMPLE: GSM3587958\n",
      "04-Apr-2025 13:19:11 DEBUG GEOparse - SAMPLE: GSM3587959\n",
      "04-Apr-2025 13:19:11 DEBUG GEOparse - SAMPLE: GSM3587960\n",
      "04-Apr-2025 13:19:11 DEBUG GEOparse - SAMPLE: GSM3587961\n",
      "04-Apr-2025 13:19:11 DEBUG GEOparse - SAMPLE: GSM3587962\n",
      "04-Apr-2025 13:19:11 DEBUG GEOparse - SAMPLE: GSM3587963\n",
      "04-Apr-2025 13:19:11 DEBUG GEOparse - SAMPLE: GSM3587964\n",
      "04-Apr-2025 13:19:11 DEBUG GEOparse - SAMPLE: GSM3587965\n",
      "04-Apr-2025 13:19:11 DEBUG GEOparse - SAMPLE: GSM3587966\n",
      "04-Apr-2025 13:19:11 DEBUG GEOparse - SAMPLE: GSM3587967\n",
      "04-Apr-2025 13:19:11 DEBUG GEOparse - SAMPLE: GSM3587968\n",
      "04-Apr-2025 13:19:11 DEBUG GEOparse - SAMPLE: GSM3587969\n",
      "04-Apr-2025 13:19:11 DEBUG GEOparse - SAMPLE: GSM3587970\n",
      "04-Apr-2025 13:19:11 DEBUG GEOparse - SAMPLE: GSM3587971\n",
      "04-Apr-2025 13:19:11 DEBUG GEOparse - SAMPLE: GSM3587972\n",
      "04-Apr-2025 13:19:11 DEBUG GEOparse - SAMPLE: GSM3587973\n",
      "04-Apr-2025 13:19:11 DEBUG GEOparse - SAMPLE: GSM3587974\n",
      "04-Apr-2025 13:19:11 DEBUG GEOparse - SAMPLE: GSM3587975\n",
      "04-Apr-2025 13:19:11 DEBUG GEOparse - SAMPLE: GSM3587976\n",
      "04-Apr-2025 13:19:11 DEBUG GEOparse - SAMPLE: GSM3587977\n",
      "04-Apr-2025 13:19:11 DEBUG GEOparse - SAMPLE: GSM3587978\n",
      "04-Apr-2025 13:19:11 DEBUG GEOparse - SAMPLE: GSM3587979\n",
      "04-Apr-2025 13:19:11 DEBUG GEOparse - SAMPLE: GSM3587980\n",
      "04-Apr-2025 13:19:11 DEBUG GEOparse - SAMPLE: GSM3587981\n",
      "04-Apr-2025 13:19:11 DEBUG GEOparse - SAMPLE: GSM3587982\n",
      "04-Apr-2025 13:19:11 DEBUG GEOparse - SAMPLE: GSM3587983\n",
      "04-Apr-2025 13:19:11 DEBUG GEOparse - SAMPLE: GSM3587984\n",
      "04-Apr-2025 13:19:11 DEBUG GEOparse - SAMPLE: GSM3587985\n",
      "04-Apr-2025 13:19:11 DEBUG GEOparse - SAMPLE: GSM3587986\n",
      "04-Apr-2025 13:19:11 DEBUG GEOparse - SAMPLE: GSM3587987\n",
      "04-Apr-2025 13:19:11 DEBUG GEOparse - SAMPLE: GSM3587988\n",
      "04-Apr-2025 13:19:11 DEBUG GEOparse - SAMPLE: GSM3587989\n",
      "04-Apr-2025 13:19:11 DEBUG GEOparse - SAMPLE: GSM3587990\n",
      "04-Apr-2025 13:19:11 DEBUG GEOparse - SAMPLE: GSM3587991\n",
      "04-Apr-2025 13:19:11 DEBUG GEOparse - SAMPLE: GSM3587992\n",
      "04-Apr-2025 13:19:11 DEBUG GEOparse - SAMPLE: GSM3587993\n",
      "04-Apr-2025 13:19:11 DEBUG GEOparse - SAMPLE: GSM3587994\n",
      "04-Apr-2025 13:19:11 DEBUG GEOparse - SAMPLE: GSM3587995\n",
      "04-Apr-2025 13:19:11 DEBUG GEOparse - SAMPLE: GSM3587996\n",
      "04-Apr-2025 13:19:11 DEBUG GEOparse - SAMPLE: GSM3587997\n",
      "04-Apr-2025 13:19:11 DEBUG GEOparse - SAMPLE: GSM3587998\n",
      "04-Apr-2025 13:19:11 DEBUG GEOparse - SAMPLE: GSM3587999\n",
      "04-Apr-2025 13:19:11 DEBUG GEOparse - SAMPLE: GSM3588000\n",
      "04-Apr-2025 13:19:11 DEBUG GEOparse - SAMPLE: GSM3588001\n",
      "04-Apr-2025 13:19:11 DEBUG GEOparse - SAMPLE: GSM3588002\n",
      "04-Apr-2025 13:19:11 DEBUG GEOparse - SAMPLE: GSM3588003\n",
      "04-Apr-2025 13:19:11 DEBUG GEOparse - SAMPLE: GSM3588004\n",
      "04-Apr-2025 13:19:11 DEBUG GEOparse - SAMPLE: GSM3588005\n"
     ]
    }
   ],
   "source": [
    "scRNA_aml = GEOparse.get_GEO(geo=\"GSE116256\")\n",
    "scrna_dataDir = f\"scrna_data\"\n",
    "os.makedirs(scrna_dataDir, exist_ok=True)"
   ]
  },
  {
   "cell_type": "code",
   "execution_count": 7,
   "metadata": {
    "execution": {
     "iopub.execute_input": "2025-02-08T03:36:25.945568Z",
     "iopub.status.busy": "2025-02-08T03:36:25.945352Z",
     "iopub.status.idle": "2025-02-08T03:38:30.298207Z",
     "shell.execute_reply": "2025-02-08T03:38:30.297411Z",
     "shell.execute_reply.started": "2025-02-08T03:36:25.945548Z"
    },
    "trusted": true
   },
   "outputs": [
    {
     "name": "stderr",
     "output_type": "stream",
     "text": [
      "04-Apr-2025 13:19:11 DEBUG utils - Directory /Users/noot/Documents/ML-AML/scrna_data/Supp_GSM3587923_AML1012-D0 already exists. Skipping.\n",
      "04-Apr-2025 13:19:11 INFO downloader - File /Users/noot/Documents/ML-AML/scrna_data/Supp_GSM3587923_AML1012-D0/GSM3587923_AML1012-D0.dem.txt.gz already exist. Use force=True if you would like to overwrite it.\n",
      "04-Apr-2025 13:19:11 DEBUG utils - Directory /Users/noot/Documents/ML-AML/scrna_data/Supp_GSM3587924_AML1012-D0-anno already exists. Skipping.\n",
      "04-Apr-2025 13:19:11 INFO downloader - File /Users/noot/Documents/ML-AML/scrna_data/Supp_GSM3587924_AML1012-D0-anno/GSM3587924_AML1012-D0.anno.txt.gz already exist. Use force=True if you would like to overwrite it.\n",
      "04-Apr-2025 13:19:11 DEBUG utils - Directory /Users/noot/Documents/ML-AML/scrna_data/Supp_GSM3587925_AML210A-D0 already exists. Skipping.\n",
      "04-Apr-2025 13:19:11 INFO downloader - File /Users/noot/Documents/ML-AML/scrna_data/Supp_GSM3587925_AML210A-D0/GSM3587925_AML210A-D0.dem.txt.gz already exist. Use force=True if you would like to overwrite it.\n",
      "04-Apr-2025 13:19:11 DEBUG utils - Directory /Users/noot/Documents/ML-AML/scrna_data/Supp_GSM3587926_AML210A-D0-anno already exists. Skipping.\n",
      "04-Apr-2025 13:19:11 INFO downloader - File /Users/noot/Documents/ML-AML/scrna_data/Supp_GSM3587926_AML210A-D0-anno/GSM3587926_AML210A-D0.anno.txt.gz already exist. Use force=True if you would like to overwrite it.\n",
      "04-Apr-2025 13:19:11 DEBUG utils - Directory /Users/noot/Documents/ML-AML/scrna_data/Supp_GSM3587927_AML314-D0 already exists. Skipping.\n",
      "04-Apr-2025 13:19:11 INFO downloader - File /Users/noot/Documents/ML-AML/scrna_data/Supp_GSM3587927_AML314-D0/GSM3587927_AML314-D0.dem.txt.gz already exist. Use force=True if you would like to overwrite it.\n",
      "04-Apr-2025 13:19:11 DEBUG utils - Directory /Users/noot/Documents/ML-AML/scrna_data/Supp_GSM3587928_AML314-D0-anno already exists. Skipping.\n",
      "04-Apr-2025 13:19:11 INFO downloader - File /Users/noot/Documents/ML-AML/scrna_data/Supp_GSM3587928_AML314-D0-anno/GSM3587928_AML314-D0.anno.txt.gz already exist. Use force=True if you would like to overwrite it.\n",
      "04-Apr-2025 13:19:11 DEBUG utils - Directory /Users/noot/Documents/ML-AML/scrna_data/Supp_GSM3587929_AML314-D31 already exists. Skipping.\n",
      "04-Apr-2025 13:19:11 INFO downloader - File /Users/noot/Documents/ML-AML/scrna_data/Supp_GSM3587929_AML314-D31/GSM3587929_AML314-D31.dem.txt.gz already exist. Use force=True if you would like to overwrite it.\n",
      "04-Apr-2025 13:19:11 DEBUG utils - Directory /Users/noot/Documents/ML-AML/scrna_data/Supp_GSM3587930_AML314-D31-anno already exists. Skipping.\n",
      "04-Apr-2025 13:19:11 INFO downloader - File /Users/noot/Documents/ML-AML/scrna_data/Supp_GSM3587930_AML314-D31-anno/GSM3587930_AML314-D31.anno.txt.gz already exist. Use force=True if you would like to overwrite it.\n",
      "04-Apr-2025 13:19:11 DEBUG utils - Directory /Users/noot/Documents/ML-AML/scrna_data/Supp_GSM3587931_AML328-D0 already exists. Skipping.\n",
      "04-Apr-2025 13:19:11 INFO downloader - File /Users/noot/Documents/ML-AML/scrna_data/Supp_GSM3587931_AML328-D0/GSM3587931_AML328-D0.dem.txt.gz already exist. Use force=True if you would like to overwrite it.\n",
      "04-Apr-2025 13:19:11 DEBUG utils - Directory /Users/noot/Documents/ML-AML/scrna_data/Supp_GSM3587932_AML328-D0-anno already exists. Skipping.\n",
      "04-Apr-2025 13:19:11 INFO downloader - File /Users/noot/Documents/ML-AML/scrna_data/Supp_GSM3587932_AML328-D0-anno/GSM3587932_AML328-D0.anno.txt.gz already exist. Use force=True if you would like to overwrite it.\n",
      "04-Apr-2025 13:19:11 DEBUG utils - Directory /Users/noot/Documents/ML-AML/scrna_data/Supp_GSM3587933_AML328-D113 already exists. Skipping.\n",
      "04-Apr-2025 13:19:11 INFO downloader - File /Users/noot/Documents/ML-AML/scrna_data/Supp_GSM3587933_AML328-D113/GSM3587933_AML328-D113.dem.txt.gz already exist. Use force=True if you would like to overwrite it.\n",
      "04-Apr-2025 13:19:11 DEBUG utils - Directory /Users/noot/Documents/ML-AML/scrna_data/Supp_GSM3587934_AML328-D113-anno already exists. Skipping.\n",
      "04-Apr-2025 13:19:11 INFO downloader - File /Users/noot/Documents/ML-AML/scrna_data/Supp_GSM3587934_AML328-D113-anno/GSM3587934_AML328-D113.anno.txt.gz already exist. Use force=True if you would like to overwrite it.\n",
      "04-Apr-2025 13:19:11 DEBUG utils - Directory /Users/noot/Documents/ML-AML/scrna_data/Supp_GSM3587935_AML328-D171 already exists. Skipping.\n",
      "04-Apr-2025 13:19:11 INFO downloader - File /Users/noot/Documents/ML-AML/scrna_data/Supp_GSM3587935_AML328-D171/GSM3587935_AML328-D171.dem.txt.gz already exist. Use force=True if you would like to overwrite it.\n",
      "04-Apr-2025 13:19:11 DEBUG utils - Directory /Users/noot/Documents/ML-AML/scrna_data/Supp_GSM3587936_AML328-D171-anno already exists. Skipping.\n",
      "04-Apr-2025 13:19:11 INFO downloader - File /Users/noot/Documents/ML-AML/scrna_data/Supp_GSM3587936_AML328-D171-anno/GSM3587936_AML328-D171.anno.txt.gz already exist. Use force=True if you would like to overwrite it.\n",
      "04-Apr-2025 13:19:11 DEBUG utils - Directory /Users/noot/Documents/ML-AML/scrna_data/Supp_GSM3587937_AML328-D29 already exists. Skipping.\n",
      "04-Apr-2025 13:19:11 INFO downloader - File /Users/noot/Documents/ML-AML/scrna_data/Supp_GSM3587937_AML328-D29/GSM3587937_AML328-D29.dem.txt.gz already exist. Use force=True if you would like to overwrite it.\n",
      "04-Apr-2025 13:19:11 DEBUG utils - Directory /Users/noot/Documents/ML-AML/scrna_data/Supp_GSM3587938_AML328-D29-anno already exists. Skipping.\n",
      "04-Apr-2025 13:19:11 INFO downloader - File /Users/noot/Documents/ML-AML/scrna_data/Supp_GSM3587938_AML328-D29-anno/GSM3587938_AML328-D29.anno.txt.gz already exist. Use force=True if you would like to overwrite it.\n",
      "04-Apr-2025 13:19:11 DEBUG utils - Directory /Users/noot/Documents/ML-AML/scrna_data/Supp_GSM3587939_AML328-nanopore already exists. Skipping.\n",
      "04-Apr-2025 13:19:11 INFO downloader - File /Users/noot/Documents/ML-AML/scrna_data/Supp_GSM3587939_AML328-nanopore/GSM3587939_AML328.nanopore.txt.gz already exist. Use force=True if you would like to overwrite it.\n",
      "04-Apr-2025 13:19:11 DEBUG utils - Directory /Users/noot/Documents/ML-AML/scrna_data/Supp_GSM3587940_AML329-D0 already exists. Skipping.\n",
      "04-Apr-2025 13:19:11 INFO downloader - File /Users/noot/Documents/ML-AML/scrna_data/Supp_GSM3587940_AML329-D0/GSM3587940_AML329-D0.dem.txt.gz already exist. Use force=True if you would like to overwrite it.\n",
      "04-Apr-2025 13:19:11 DEBUG utils - Directory /Users/noot/Documents/ML-AML/scrna_data/Supp_GSM3587941_AML329-D0-anno already exists. Skipping.\n",
      "04-Apr-2025 13:19:11 INFO downloader - File /Users/noot/Documents/ML-AML/scrna_data/Supp_GSM3587941_AML329-D0-anno/GSM3587941_AML329-D0.anno.txt.gz already exist. Use force=True if you would like to overwrite it.\n",
      "04-Apr-2025 13:19:11 DEBUG utils - Directory /Users/noot/Documents/ML-AML/scrna_data/Supp_GSM3587942_AML329-D20 already exists. Skipping.\n",
      "04-Apr-2025 13:19:11 INFO downloader - File /Users/noot/Documents/ML-AML/scrna_data/Supp_GSM3587942_AML329-D20/GSM3587942_AML329-D20.dem.txt.gz already exist. Use force=True if you would like to overwrite it.\n",
      "04-Apr-2025 13:19:11 DEBUG utils - Directory /Users/noot/Documents/ML-AML/scrna_data/Supp_GSM3587943_AML329-D20-anno already exists. Skipping.\n",
      "04-Apr-2025 13:19:11 INFO downloader - File /Users/noot/Documents/ML-AML/scrna_data/Supp_GSM3587943_AML329-D20-anno/GSM3587943_AML329-D20.anno.txt.gz already exist. Use force=True if you would like to overwrite it.\n",
      "04-Apr-2025 13:19:11 DEBUG utils - Directory /Users/noot/Documents/ML-AML/scrna_data/Supp_GSM3587944_AML329-D37 already exists. Skipping.\n",
      "04-Apr-2025 13:19:11 INFO downloader - File /Users/noot/Documents/ML-AML/scrna_data/Supp_GSM3587944_AML329-D37/GSM3587944_AML329-D37.dem.txt.gz already exist. Use force=True if you would like to overwrite it.\n",
      "04-Apr-2025 13:19:11 DEBUG utils - Directory /Users/noot/Documents/ML-AML/scrna_data/Supp_GSM3587945_AML329-D37-anno already exists. Skipping.\n",
      "04-Apr-2025 13:19:11 INFO downloader - File /Users/noot/Documents/ML-AML/scrna_data/Supp_GSM3587945_AML329-D37-anno/GSM3587945_AML329-D37.anno.txt.gz already exist. Use force=True if you would like to overwrite it.\n",
      "04-Apr-2025 13:19:11 DEBUG utils - Directory /Users/noot/Documents/ML-AML/scrna_data/Supp_GSM3587946_AML371-D0 already exists. Skipping.\n",
      "04-Apr-2025 13:19:11 INFO downloader - File /Users/noot/Documents/ML-AML/scrna_data/Supp_GSM3587946_AML371-D0/GSM3587946_AML371-D0.dem.txt.gz already exist. Use force=True if you would like to overwrite it.\n",
      "04-Apr-2025 13:19:11 DEBUG utils - Directory /Users/noot/Documents/ML-AML/scrna_data/Supp_GSM3587947_AML371-D0-anno already exists. Skipping.\n",
      "04-Apr-2025 13:19:11 INFO downloader - File /Users/noot/Documents/ML-AML/scrna_data/Supp_GSM3587947_AML371-D0-anno/GSM3587947_AML371-D0.anno.txt.gz already exist. Use force=True if you would like to overwrite it.\n",
      "04-Apr-2025 13:19:11 DEBUG utils - Directory /Users/noot/Documents/ML-AML/scrna_data/Supp_GSM3587948_AML371-D34 already exists. Skipping.\n",
      "04-Apr-2025 13:19:11 INFO downloader - File /Users/noot/Documents/ML-AML/scrna_data/Supp_GSM3587948_AML371-D34/GSM3587948_AML371-D34.dem.txt.gz already exist. Use force=True if you would like to overwrite it.\n",
      "04-Apr-2025 13:19:11 DEBUG utils - Directory /Users/noot/Documents/ML-AML/scrna_data/Supp_GSM3587949_AML371-D34-anno already exists. Skipping.\n",
      "04-Apr-2025 13:19:11 INFO downloader - File /Users/noot/Documents/ML-AML/scrna_data/Supp_GSM3587949_AML371-D34-anno/GSM3587949_AML371-D34.anno.txt.gz already exist. Use force=True if you would like to overwrite it.\n",
      "04-Apr-2025 13:19:11 DEBUG utils - Directory /Users/noot/Documents/ML-AML/scrna_data/Supp_GSM3587950_AML419A-D0 already exists. Skipping.\n",
      "04-Apr-2025 13:19:11 INFO downloader - File /Users/noot/Documents/ML-AML/scrna_data/Supp_GSM3587950_AML419A-D0/GSM3587950_AML419A-D0.dem.txt.gz already exist. Use force=True if you would like to overwrite it.\n",
      "04-Apr-2025 13:19:11 DEBUG utils - Directory /Users/noot/Documents/ML-AML/scrna_data/Supp_GSM3587951_AML419A-D0-anno already exists. Skipping.\n",
      "04-Apr-2025 13:19:11 INFO downloader - File /Users/noot/Documents/ML-AML/scrna_data/Supp_GSM3587951_AML419A-D0-anno/GSM3587951_AML419A-D0.anno.txt.gz already exist. Use force=True if you would like to overwrite it.\n",
      "04-Apr-2025 13:19:11 DEBUG utils - Directory /Users/noot/Documents/ML-AML/scrna_data/Supp_GSM3587952_AML419A-nanopore already exists. Skipping.\n",
      "04-Apr-2025 13:19:11 INFO downloader - File /Users/noot/Documents/ML-AML/scrna_data/Supp_GSM3587952_AML419A-nanopore/GSM3587952_AML419A.nanopore.txt.gz already exist. Use force=True if you would like to overwrite it.\n",
      "04-Apr-2025 13:19:11 DEBUG utils - Directory /Users/noot/Documents/ML-AML/scrna_data/Supp_GSM3587953_AML420B-D0 already exists. Skipping.\n",
      "04-Apr-2025 13:19:11 INFO downloader - File /Users/noot/Documents/ML-AML/scrna_data/Supp_GSM3587953_AML420B-D0/GSM3587953_AML420B-D0.dem.txt.gz already exist. Use force=True if you would like to overwrite it.\n",
      "04-Apr-2025 13:19:11 DEBUG utils - Directory /Users/noot/Documents/ML-AML/scrna_data/Supp_GSM3587954_AML420B-D0-anno already exists. Skipping.\n",
      "04-Apr-2025 13:19:11 INFO downloader - File /Users/noot/Documents/ML-AML/scrna_data/Supp_GSM3587954_AML420B-D0-anno/GSM3587954_AML420B-D0.anno.txt.gz already exist. Use force=True if you would like to overwrite it.\n",
      "04-Apr-2025 13:19:11 DEBUG utils - Directory /Users/noot/Documents/ML-AML/scrna_data/Supp_GSM3587955_AML420B-D14 already exists. Skipping.\n",
      "04-Apr-2025 13:19:11 INFO downloader - File /Users/noot/Documents/ML-AML/scrna_data/Supp_GSM3587955_AML420B-D14/GSM3587955_AML420B-D14.dem.txt.gz already exist. Use force=True if you would like to overwrite it.\n",
      "04-Apr-2025 13:19:11 DEBUG utils - Directory /Users/noot/Documents/ML-AML/scrna_data/Supp_GSM3587956_AML420B-D14-anno already exists. Skipping.\n",
      "04-Apr-2025 13:19:11 INFO downloader - File /Users/noot/Documents/ML-AML/scrna_data/Supp_GSM3587956_AML420B-D14-anno/GSM3587956_AML420B-D14.anno.txt.gz already exist. Use force=True if you would like to overwrite it.\n",
      "04-Apr-2025 13:19:11 DEBUG utils - Directory /Users/noot/Documents/ML-AML/scrna_data/Supp_GSM3587957_AML420B-D35 already exists. Skipping.\n",
      "04-Apr-2025 13:19:11 INFO downloader - File /Users/noot/Documents/ML-AML/scrna_data/Supp_GSM3587957_AML420B-D35/GSM3587957_AML420B-D35.dem.txt.gz already exist. Use force=True if you would like to overwrite it.\n",
      "04-Apr-2025 13:19:11 DEBUG utils - Directory /Users/noot/Documents/ML-AML/scrna_data/Supp_GSM3587958_AML420B-D35-anno already exists. Skipping.\n",
      "04-Apr-2025 13:19:11 INFO downloader - File /Users/noot/Documents/ML-AML/scrna_data/Supp_GSM3587958_AML420B-D35-anno/GSM3587958_AML420B-D35.anno.txt.gz already exist. Use force=True if you would like to overwrite it.\n",
      "04-Apr-2025 13:19:11 DEBUG utils - Directory /Users/noot/Documents/ML-AML/scrna_data/Supp_GSM3587959_AML475-D0 already exists. Skipping.\n",
      "04-Apr-2025 13:19:11 INFO downloader - File /Users/noot/Documents/ML-AML/scrna_data/Supp_GSM3587959_AML475-D0/GSM3587959_AML475-D0.dem.txt.gz already exist. Use force=True if you would like to overwrite it.\n",
      "04-Apr-2025 13:19:11 DEBUG utils - Directory /Users/noot/Documents/ML-AML/scrna_data/Supp_GSM3587960_AML475-D0-anno already exists. Skipping.\n",
      "04-Apr-2025 13:19:11 INFO downloader - File /Users/noot/Documents/ML-AML/scrna_data/Supp_GSM3587960_AML475-D0-anno/GSM3587960_AML475-D0.anno.txt.gz already exist. Use force=True if you would like to overwrite it.\n",
      "04-Apr-2025 13:19:11 DEBUG utils - Directory /Users/noot/Documents/ML-AML/scrna_data/Supp_GSM3587961_AML475-D29 already exists. Skipping.\n",
      "04-Apr-2025 13:19:11 INFO downloader - File /Users/noot/Documents/ML-AML/scrna_data/Supp_GSM3587961_AML475-D29/GSM3587961_AML475-D29.dem.txt.gz already exist. Use force=True if you would like to overwrite it.\n",
      "04-Apr-2025 13:19:11 DEBUG utils - Directory /Users/noot/Documents/ML-AML/scrna_data/Supp_GSM3587962_AML475-D29-anno already exists. Skipping.\n",
      "04-Apr-2025 13:19:11 INFO downloader - File /Users/noot/Documents/ML-AML/scrna_data/Supp_GSM3587962_AML475-D29-anno/GSM3587962_AML475-D29.anno.txt.gz already exist. Use force=True if you would like to overwrite it.\n",
      "04-Apr-2025 13:19:11 DEBUG utils - Directory /Users/noot/Documents/ML-AML/scrna_data/Supp_GSM3587963_AML556-D0 already exists. Skipping.\n",
      "04-Apr-2025 13:19:11 INFO downloader - File /Users/noot/Documents/ML-AML/scrna_data/Supp_GSM3587963_AML556-D0/GSM3587963_AML556-D0.dem.txt.gz already exist. Use force=True if you would like to overwrite it.\n",
      "04-Apr-2025 13:19:11 DEBUG utils - Directory /Users/noot/Documents/ML-AML/scrna_data/Supp_GSM3587964_AML556-D0-anno already exists. Skipping.\n",
      "04-Apr-2025 13:19:11 INFO downloader - File /Users/noot/Documents/ML-AML/scrna_data/Supp_GSM3587964_AML556-D0-anno/GSM3587964_AML556-D0.anno.txt.gz already exist. Use force=True if you would like to overwrite it.\n",
      "04-Apr-2025 13:19:11 DEBUG utils - Directory /Users/noot/Documents/ML-AML/scrna_data/Supp_GSM3587965_AML556-D15 already exists. Skipping.\n",
      "04-Apr-2025 13:19:11 INFO downloader - File /Users/noot/Documents/ML-AML/scrna_data/Supp_GSM3587965_AML556-D15/GSM3587965_AML556-D15.dem.txt.gz already exist. Use force=True if you would like to overwrite it.\n",
      "04-Apr-2025 13:19:11 DEBUG utils - Directory /Users/noot/Documents/ML-AML/scrna_data/Supp_GSM3587966_AML556-D15-anno already exists. Skipping.\n",
      "04-Apr-2025 13:19:11 INFO downloader - File /Users/noot/Documents/ML-AML/scrna_data/Supp_GSM3587966_AML556-D15-anno/GSM3587966_AML556-D15.anno.txt.gz already exist. Use force=True if you would like to overwrite it.\n",
      "04-Apr-2025 13:19:11 DEBUG utils - Directory /Users/noot/Documents/ML-AML/scrna_data/Supp_GSM3587967_AML556-D31 already exists. Skipping.\n",
      "04-Apr-2025 13:19:11 INFO downloader - File /Users/noot/Documents/ML-AML/scrna_data/Supp_GSM3587967_AML556-D31/GSM3587967_AML556-D31.dem.txt.gz already exist. Use force=True if you would like to overwrite it.\n",
      "04-Apr-2025 13:19:11 DEBUG utils - Directory /Users/noot/Documents/ML-AML/scrna_data/Supp_GSM3587968_AML556-D31-anno already exists. Skipping.\n",
      "04-Apr-2025 13:19:11 INFO downloader - File /Users/noot/Documents/ML-AML/scrna_data/Supp_GSM3587968_AML556-D31-anno/GSM3587968_AML556-D31.anno.txt.gz already exist. Use force=True if you would like to overwrite it.\n",
      "04-Apr-2025 13:19:11 DEBUG utils - Directory /Users/noot/Documents/ML-AML/scrna_data/Supp_GSM3587969_AML707B-D0 already exists. Skipping.\n",
      "04-Apr-2025 13:19:11 INFO downloader - File /Users/noot/Documents/ML-AML/scrna_data/Supp_GSM3587969_AML707B-D0/GSM3587969_AML707B-D0.dem.txt.gz already exist. Use force=True if you would like to overwrite it.\n",
      "04-Apr-2025 13:19:11 DEBUG utils - Directory /Users/noot/Documents/ML-AML/scrna_data/Supp_GSM3587970_AML707B-D0-anno already exists. Skipping.\n",
      "04-Apr-2025 13:19:11 INFO downloader - File /Users/noot/Documents/ML-AML/scrna_data/Supp_GSM3587970_AML707B-D0-anno/GSM3587970_AML707B-D0.anno.txt.gz already exist. Use force=True if you would like to overwrite it.\n",
      "04-Apr-2025 13:19:11 DEBUG utils - Directory /Users/noot/Documents/ML-AML/scrna_data/Supp_GSM3587971_AML707B-D113 already exists. Skipping.\n",
      "04-Apr-2025 13:19:11 INFO downloader - File /Users/noot/Documents/ML-AML/scrna_data/Supp_GSM3587971_AML707B-D113/GSM3587971_AML707B-D113.dem.txt.gz already exist. Use force=True if you would like to overwrite it.\n",
      "04-Apr-2025 13:19:11 DEBUG utils - Directory /Users/noot/Documents/ML-AML/scrna_data/Supp_GSM3587972_AML707B-D113-anno already exists. Skipping.\n",
      "04-Apr-2025 13:19:11 INFO downloader - File /Users/noot/Documents/ML-AML/scrna_data/Supp_GSM3587972_AML707B-D113-anno/GSM3587972_AML707B-D113.anno.txt.gz already exist. Use force=True if you would like to overwrite it.\n",
      "04-Apr-2025 13:19:11 DEBUG utils - Directory /Users/noot/Documents/ML-AML/scrna_data/Supp_GSM3587973_AML707B-D18 already exists. Skipping.\n",
      "04-Apr-2025 13:19:11 INFO downloader - File /Users/noot/Documents/ML-AML/scrna_data/Supp_GSM3587973_AML707B-D18/GSM3587973_AML707B-D18.dem.txt.gz already exist. Use force=True if you would like to overwrite it.\n",
      "04-Apr-2025 13:19:11 DEBUG utils - Directory /Users/noot/Documents/ML-AML/scrna_data/Supp_GSM3587974_AML707B-D18-anno already exists. Skipping.\n",
      "04-Apr-2025 13:19:11 INFO downloader - File /Users/noot/Documents/ML-AML/scrna_data/Supp_GSM3587974_AML707B-D18-anno/GSM3587974_AML707B-D18.anno.txt.gz already exist. Use force=True if you would like to overwrite it.\n",
      "04-Apr-2025 13:19:11 DEBUG utils - Directory /Users/noot/Documents/ML-AML/scrna_data/Supp_GSM3587975_AML707B-D41 already exists. Skipping.\n",
      "04-Apr-2025 13:19:11 INFO downloader - File /Users/noot/Documents/ML-AML/scrna_data/Supp_GSM3587975_AML707B-D41/GSM3587975_AML707B-D41.dem.txt.gz already exist. Use force=True if you would like to overwrite it.\n",
      "04-Apr-2025 13:19:11 DEBUG utils - Directory /Users/noot/Documents/ML-AML/scrna_data/Supp_GSM3587976_AML707B-D41-anno already exists. Skipping.\n",
      "04-Apr-2025 13:19:11 INFO downloader - File /Users/noot/Documents/ML-AML/scrna_data/Supp_GSM3587976_AML707B-D41-anno/GSM3587976_AML707B-D41.anno.txt.gz already exist. Use force=True if you would like to overwrite it.\n",
      "04-Apr-2025 13:19:11 DEBUG utils - Directory /Users/noot/Documents/ML-AML/scrna_data/Supp_GSM3587977_AML707B-D97 already exists. Skipping.\n",
      "04-Apr-2025 13:19:11 INFO downloader - File /Users/noot/Documents/ML-AML/scrna_data/Supp_GSM3587977_AML707B-D97/GSM3587977_AML707B-D97.dem.txt.gz already exist. Use force=True if you would like to overwrite it.\n",
      "04-Apr-2025 13:19:11 DEBUG utils - Directory /Users/noot/Documents/ML-AML/scrna_data/Supp_GSM3587978_AML707B-D97-anno already exists. Skipping.\n",
      "04-Apr-2025 13:19:11 INFO downloader - File /Users/noot/Documents/ML-AML/scrna_data/Supp_GSM3587978_AML707B-D97-anno/GSM3587978_AML707B-D97.anno.txt.gz already exist. Use force=True if you would like to overwrite it.\n",
      "04-Apr-2025 13:19:11 DEBUG utils - Directory /Users/noot/Documents/ML-AML/scrna_data/Supp_GSM3587979_AML707B-nanopore already exists. Skipping.\n",
      "04-Apr-2025 13:19:11 INFO downloader - File /Users/noot/Documents/ML-AML/scrna_data/Supp_GSM3587979_AML707B-nanopore/GSM3587979_AML707B.nanopore.txt.gz already exist. Use force=True if you would like to overwrite it.\n",
      "04-Apr-2025 13:19:11 DEBUG utils - Directory /Users/noot/Documents/ML-AML/scrna_data/Supp_GSM3587980_AML722B-D0 already exists. Skipping.\n",
      "04-Apr-2025 13:19:11 INFO downloader - File /Users/noot/Documents/ML-AML/scrna_data/Supp_GSM3587980_AML722B-D0/GSM3587980_AML722B-D0.dem.txt.gz already exist. Use force=True if you would like to overwrite it.\n",
      "04-Apr-2025 13:19:11 DEBUG utils - Directory /Users/noot/Documents/ML-AML/scrna_data/Supp_GSM3587981_AML722B-D0-anno already exists. Skipping.\n",
      "04-Apr-2025 13:19:12 INFO downloader - File /Users/noot/Documents/ML-AML/scrna_data/Supp_GSM3587981_AML722B-D0-anno/GSM3587981_AML722B-D0.anno.txt.gz already exist. Use force=True if you would like to overwrite it.\n",
      "04-Apr-2025 13:19:12 DEBUG utils - Directory /Users/noot/Documents/ML-AML/scrna_data/Supp_GSM3587982_AML722B-D49 already exists. Skipping.\n",
      "04-Apr-2025 13:19:12 INFO downloader - File /Users/noot/Documents/ML-AML/scrna_data/Supp_GSM3587982_AML722B-D49/GSM3587982_AML722B-D49.dem.txt.gz already exist. Use force=True if you would like to overwrite it.\n",
      "04-Apr-2025 13:19:12 DEBUG utils - Directory /Users/noot/Documents/ML-AML/scrna_data/Supp_GSM3587983_AML722B-D49-anno already exists. Skipping.\n",
      "04-Apr-2025 13:19:12 INFO downloader - File /Users/noot/Documents/ML-AML/scrna_data/Supp_GSM3587983_AML722B-D49-anno/GSM3587983_AML722B-D49.anno.txt.gz already exist. Use force=True if you would like to overwrite it.\n",
      "04-Apr-2025 13:19:12 DEBUG utils - Directory /Users/noot/Documents/ML-AML/scrna_data/Supp_GSM3587984_AML870-D0 already exists. Skipping.\n",
      "04-Apr-2025 13:19:12 INFO downloader - File /Users/noot/Documents/ML-AML/scrna_data/Supp_GSM3587984_AML870-D0/GSM3587984_AML870-D0.dem.txt.gz already exist. Use force=True if you would like to overwrite it.\n",
      "04-Apr-2025 13:19:12 DEBUG utils - Directory /Users/noot/Documents/ML-AML/scrna_data/Supp_GSM3587985_AML870-D0-anno already exists. Skipping.\n",
      "04-Apr-2025 13:19:12 INFO downloader - File /Users/noot/Documents/ML-AML/scrna_data/Supp_GSM3587985_AML870-D0-anno/GSM3587985_AML870-D0.anno.txt.gz already exist. Use force=True if you would like to overwrite it.\n",
      "04-Apr-2025 13:19:12 DEBUG utils - Directory /Users/noot/Documents/ML-AML/scrna_data/Supp_GSM3587986_AML870-D14 already exists. Skipping.\n",
      "04-Apr-2025 13:19:12 INFO downloader - File /Users/noot/Documents/ML-AML/scrna_data/Supp_GSM3587986_AML870-D14/GSM3587986_AML870-D14.dem.txt.gz already exist. Use force=True if you would like to overwrite it.\n",
      "04-Apr-2025 13:19:12 DEBUG utils - Directory /Users/noot/Documents/ML-AML/scrna_data/Supp_GSM3587987_AML870-D14-anno already exists. Skipping.\n",
      "04-Apr-2025 13:19:12 INFO downloader - File /Users/noot/Documents/ML-AML/scrna_data/Supp_GSM3587987_AML870-D14-anno/GSM3587987_AML870-D14.anno.txt.gz already exist. Use force=True if you would like to overwrite it.\n",
      "04-Apr-2025 13:19:12 DEBUG utils - Directory /Users/noot/Documents/ML-AML/scrna_data/Supp_GSM3587988_AML916-D0 already exists. Skipping.\n",
      "04-Apr-2025 13:19:12 INFO downloader - File /Users/noot/Documents/ML-AML/scrna_data/Supp_GSM3587988_AML916-D0/GSM3587988_AML916-D0.dem.txt.gz already exist. Use force=True if you would like to overwrite it.\n",
      "04-Apr-2025 13:19:12 DEBUG utils - Directory /Users/noot/Documents/ML-AML/scrna_data/Supp_GSM3587989_AML916-D0-anno already exists. Skipping.\n",
      "04-Apr-2025 13:19:12 INFO downloader - File /Users/noot/Documents/ML-AML/scrna_data/Supp_GSM3587989_AML916-D0-anno/GSM3587989_AML916-D0.anno.txt.gz already exist. Use force=True if you would like to overwrite it.\n",
      "04-Apr-2025 13:19:12 DEBUG utils - Directory /Users/noot/Documents/ML-AML/scrna_data/Supp_GSM3587990_AML921A-D0 already exists. Skipping.\n",
      "04-Apr-2025 13:19:12 INFO downloader - File /Users/noot/Documents/ML-AML/scrna_data/Supp_GSM3587990_AML921A-D0/GSM3587990_AML921A-D0.dem.txt.gz already exist. Use force=True if you would like to overwrite it.\n",
      "04-Apr-2025 13:19:12 DEBUG utils - Directory /Users/noot/Documents/ML-AML/scrna_data/Supp_GSM3587991_AML921A-D0-anno already exists. Skipping.\n",
      "04-Apr-2025 13:19:12 INFO downloader - File /Users/noot/Documents/ML-AML/scrna_data/Supp_GSM3587991_AML921A-D0-anno/GSM3587991_AML921A-D0.anno.txt.gz already exist. Use force=True if you would like to overwrite it.\n",
      "04-Apr-2025 13:19:12 DEBUG utils - Directory /Users/noot/Documents/ML-AML/scrna_data/Supp_GSM3587992_AML997-D0 already exists. Skipping.\n",
      "04-Apr-2025 13:19:12 INFO downloader - File /Users/noot/Documents/ML-AML/scrna_data/Supp_GSM3587992_AML997-D0/GSM3587992_AML997-D0.dem.txt.gz already exist. Use force=True if you would like to overwrite it.\n",
      "04-Apr-2025 13:19:12 DEBUG utils - Directory /Users/noot/Documents/ML-AML/scrna_data/Supp_GSM3587993_AML997-D0-anno already exists. Skipping.\n",
      "04-Apr-2025 13:19:12 INFO downloader - File /Users/noot/Documents/ML-AML/scrna_data/Supp_GSM3587993_AML997-D0-anno/GSM3587993_AML997-D0.anno.txt.gz already exist. Use force=True if you would like to overwrite it.\n",
      "04-Apr-2025 13:19:12 DEBUG utils - Directory /Users/noot/Documents/ML-AML/scrna_data/Supp_GSM3587994_AML997-D35 already exists. Skipping.\n",
      "04-Apr-2025 13:19:12 INFO downloader - File /Users/noot/Documents/ML-AML/scrna_data/Supp_GSM3587994_AML997-D35/GSM3587994_AML997-D35.dem.txt.gz already exist. Use force=True if you would like to overwrite it.\n",
      "04-Apr-2025 13:19:12 DEBUG utils - Directory /Users/noot/Documents/ML-AML/scrna_data/Supp_GSM3587995_AML997-D35-anno already exists. Skipping.\n",
      "04-Apr-2025 13:19:12 INFO downloader - File /Users/noot/Documents/ML-AML/scrna_data/Supp_GSM3587995_AML997-D35-anno/GSM3587995_AML997-D35.anno.txt.gz already exist. Use force=True if you would like to overwrite it.\n",
      "04-Apr-2025 13:19:12 DEBUG utils - Directory /Users/noot/Documents/ML-AML/scrna_data/Supp_GSM3587996_BM1 already exists. Skipping.\n",
      "04-Apr-2025 13:19:12 INFO downloader - File /Users/noot/Documents/ML-AML/scrna_data/Supp_GSM3587996_BM1/GSM3587996_BM1.anno.txt.gz already exist. Use force=True if you would like to overwrite it.\n",
      "04-Apr-2025 13:19:12 INFO downloader - File /Users/noot/Documents/ML-AML/scrna_data/Supp_GSM3587996_BM1/GSM3587996_BM1.dem.txt.gz already exist. Use force=True if you would like to overwrite it.\n",
      "04-Apr-2025 13:19:12 DEBUG utils - Directory /Users/noot/Documents/ML-AML/scrna_data/Supp_GSM3587997_BM2 already exists. Skipping.\n",
      "04-Apr-2025 13:19:12 INFO downloader - File /Users/noot/Documents/ML-AML/scrna_data/Supp_GSM3587997_BM2/GSM3587997_BM2.anno.txt.gz already exist. Use force=True if you would like to overwrite it.\n",
      "04-Apr-2025 13:19:12 INFO downloader - File /Users/noot/Documents/ML-AML/scrna_data/Supp_GSM3587997_BM2/GSM3587997_BM2.dem.txt.gz already exist. Use force=True if you would like to overwrite it.\n",
      "04-Apr-2025 13:19:12 DEBUG utils - Directory /Users/noot/Documents/ML-AML/scrna_data/Supp_GSM3587998_BM3 already exists. Skipping.\n",
      "04-Apr-2025 13:19:12 INFO downloader - File /Users/noot/Documents/ML-AML/scrna_data/Supp_GSM3587998_BM3/GSM3587998_BM3.dem.txt.gz already exist. Use force=True if you would like to overwrite it.\n",
      "04-Apr-2025 13:19:12 DEBUG utils - Directory /Users/noot/Documents/ML-AML/scrna_data/Supp_GSM3587999_BM3-anno already exists. Skipping.\n",
      "04-Apr-2025 13:19:12 INFO downloader - File /Users/noot/Documents/ML-AML/scrna_data/Supp_GSM3587999_BM3-anno/GSM3587999_BM3.anno.txt.gz already exist. Use force=True if you would like to overwrite it.\n",
      "04-Apr-2025 13:19:12 DEBUG utils - Directory /Users/noot/Documents/ML-AML/scrna_data/Supp_GSM3588000_BM4 already exists. Skipping.\n",
      "04-Apr-2025 13:19:12 INFO downloader - File /Users/noot/Documents/ML-AML/scrna_data/Supp_GSM3588000_BM4/GSM3588000_BM4.dem.txt.gz already exist. Use force=True if you would like to overwrite it.\n",
      "04-Apr-2025 13:19:12 DEBUG utils - Directory /Users/noot/Documents/ML-AML/scrna_data/Supp_GSM3588001_BM4-anno already exists. Skipping.\n",
      "04-Apr-2025 13:19:12 INFO downloader - File /Users/noot/Documents/ML-AML/scrna_data/Supp_GSM3588001_BM4-anno/GSM3588001_BM4.anno.txt.gz already exist. Use force=True if you would like to overwrite it.\n",
      "04-Apr-2025 13:19:12 DEBUG utils - Directory /Users/noot/Documents/ML-AML/scrna_data/Supp_GSM3588002_BM5-34p already exists. Skipping.\n",
      "04-Apr-2025 13:19:12 INFO downloader - File /Users/noot/Documents/ML-AML/scrna_data/Supp_GSM3588002_BM5-34p/GSM3588002_BM5-34p.anno.txt.gz already exist. Use force=True if you would like to overwrite it.\n",
      "04-Apr-2025 13:19:12 INFO downloader - File /Users/noot/Documents/ML-AML/scrna_data/Supp_GSM3588002_BM5-34p/GSM3588002_BM5-34p.dem.txt.gz already exist. Use force=True if you would like to overwrite it.\n",
      "04-Apr-2025 13:19:12 DEBUG utils - Directory /Users/noot/Documents/ML-AML/scrna_data/Supp_GSM3588003_BM5-34p38n already exists. Skipping.\n",
      "04-Apr-2025 13:19:12 INFO downloader - File /Users/noot/Documents/ML-AML/scrna_data/Supp_GSM3588003_BM5-34p38n/GSM3588003_BM5-34p38n.anno.txt.gz already exist. Use force=True if you would like to overwrite it.\n",
      "04-Apr-2025 13:19:12 INFO downloader - File /Users/noot/Documents/ML-AML/scrna_data/Supp_GSM3588003_BM5-34p38n/GSM3588003_BM5-34p38n.dem.txt.gz already exist. Use force=True if you would like to overwrite it.\n",
      "04-Apr-2025 13:19:12 DEBUG utils - Directory /Users/noot/Documents/ML-AML/scrna_data/Supp_GSM3588004_MUTZ3 already exists. Skipping.\n",
      "04-Apr-2025 13:19:12 INFO downloader - File /Users/noot/Documents/ML-AML/scrna_data/Supp_GSM3588004_MUTZ3/GSM3588004_MUTZ3.anno.txt.gz already exist. Use force=True if you would like to overwrite it.\n",
      "04-Apr-2025 13:19:12 INFO downloader - File /Users/noot/Documents/ML-AML/scrna_data/Supp_GSM3588004_MUTZ3/GSM3588004_MUTZ3.dem.txt.gz already exist. Use force=True if you would like to overwrite it.\n",
      "04-Apr-2025 13:19:12 DEBUG utils - Directory /Users/noot/Documents/ML-AML/scrna_data/Supp_GSM3588005_OCI-AML3 already exists. Skipping.\n",
      "04-Apr-2025 13:19:12 INFO downloader - File /Users/noot/Documents/ML-AML/scrna_data/Supp_GSM3588005_OCI-AML3/GSM3588005_OCI-AML3.anno.txt.gz already exist. Use force=True if you would like to overwrite it.\n",
      "04-Apr-2025 13:19:12 INFO downloader - File /Users/noot/Documents/ML-AML/scrna_data/Supp_GSM3588005_OCI-AML3/GSM3588005_OCI-AML3.dem.txt.gz already exist. Use force=True if you would like to overwrite it.\n"
     ]
    }
   ],
   "source": [
    "for i, (gsm_name, gsm) in enumerate(scRNA_aml.gsms.items()):\n",
    "  gsm.download_supplementary_files(download_sra=False, email='emockler@ucsc.edu', directory=scrna_dataDir)"
   ]
  },
  {
   "cell_type": "markdown",
   "metadata": {},
   "source": [
    "# Load AML scRNA dataset"
   ]
  },
  {
   "cell_type": "code",
   "execution_count": 8,
   "metadata": {
    "execution": {
     "iopub.execute_input": "2025-02-08T03:38:30.299375Z",
     "iopub.status.busy": "2025-02-08T03:38:30.299126Z",
     "iopub.status.idle": "2025-02-08T03:38:30.314417Z",
     "shell.execute_reply": "2025-02-08T03:38:30.313630Z",
     "shell.execute_reply.started": "2025-02-08T03:38:30.299342Z"
    },
    "trusted": true
   },
   "outputs": [
    {
     "name": "stdout",
     "output_type": "stream",
     "text": [
      "Identified 35 AML samples, 6 control samples, and 2 AML cell lines.\n",
      "AML Samples: dict_keys(['AML707B-D113', 'AML371-D34', 'AML329-D37', 'AML475-D0', 'AML314-D31', 'AML328-D113', 'AML328-D0', 'AML329-D0', 'AML997-D35', 'AML707B-D97', 'AML420B-D35', 'AML314-D0', 'AML475-D29', 'AML419A-D0', 'AML707B-D41', 'AML329-D20', 'AML328-D171', 'AML916-D0', 'AML870-D14', 'AML722B-D0', 'AML556-D31', 'AML210A-D0', 'AML371-D0', 'AML420B-D14', 'AML420B-D0', 'AML997-D0', 'AML722B-D49', 'AML707B-D18', 'AML328-D29', 'AML556-D15', 'AML870-D0', 'AML707B-D0', 'AML556-D0', 'AML1012-D0', 'AML921A-D0'])\n",
      "Control Samples: dict_keys(['BM4', 'BM1', 'BM3', 'BM5-34p', 'BM2', 'BM5-34p38n'])\n",
      "AML Cell Lines: dict_keys(['MUTZ3', 'OCI-AML3'])\n"
     ]
    }
   ],
   "source": [
    "def load_gzipped_txt(file_path):\n",
    "    with gzip.open(file_path, 'rt') as f:\n",
    "        df = pd.read_csv(f, sep='\\t', index_col=0)\n",
    "    return df\n",
    "\n",
    "def load_anndata(dem_path, anno_path=None, condition=None, cell_type=None):\n",
    "    dem_df = load_gzipped_txt(dem_path)\n",
    "    var_df = pd.DataFrame(index=dem_df.index)\n",
    "    var_df['gene_name'] = var_df.index\n",
    "\n",
    "    if anno_path and os.path.exists(anno_path):\n",
    "        anno_df = load_gzipped_txt(anno_path)\n",
    "        anno_df['condition'] = 'ctrl'\n",
    "        anno_df = anno_df.rename(columns={'CellType': 'cell_type'})\n",
    "        adata = ad.AnnData(X=dem_df.T, obs=anno_df, var=var_df)\n",
    "    else:\n",
    "        raise ValueError(f\"Annotation file {anno_path} not found for {dem_path}\")\n",
    "\n",
    "    return adata\n",
    "\n",
    "visited_folders = set()\n",
    "\n",
    "aml_dict = {}\n",
    "control_dict = {}\n",
    "aml_cell_lines_dict = {}\n",
    "\n",
    "data_folders = os.listdir(scrna_dataDir)\n",
    "\n",
    "for folder in data_folders:\n",
    "    if \"nanopore\" in folder:\n",
    "        visited_folders.add(folder)\n",
    "        continue\n",
    "    \n",
    "    folder_path = os.path.join(scrna_dataDir, folder)\n",
    "    if os.path.isdir(folder_path) and folder not in visited_folders:\n",
    "        sample_id = folder.split('_')[-1].replace('-anno', '')\n",
    "        geo_id = folder.split('_')[1]\n",
    "        base_fileName = f\"{geo_id}_{sample_id}\"\n",
    "        \n",
    "        dem_file = os.path.join(folder_path, f\"{base_fileName}.dem.txt.gz\")\n",
    "        anno_file = os.path.join(folder_path, f\"{base_fileName}.anno.txt.gz\")\n",
    "            \n",
    "        if not os.path.exists(anno_file):\n",
    "            for potential_anno_folder in data_folders:\n",
    "                if potential_anno_folder.endswith(f\"{sample_id}-anno\"):\n",
    "                    anno_folder_path = os.path.join(scrna_dataDir, potential_anno_folder)\n",
    "                    anno_geo_id = potential_anno_folder.split('_')[1]\n",
    "                    potential_anno_file = os.path.join(anno_folder_path, f\"{anno_geo_id}_{sample_id}.anno.txt.gz\")\n",
    "                    if os.path.exists(potential_anno_file):\n",
    "                        anno_file = potential_anno_file\n",
    "                        visited_folders.add(potential_anno_folder)\n",
    "                        break\n",
    "        \n",
    "        if not os.path.exists(dem_file):\n",
    "            for potential_dem_folder in data_folders:\n",
    "                if potential_dem_folder.split('_')[-1] == sample_id and not potential_dem_folder.endswith('-anno'):\n",
    "                    dem_folder_path = os.path.join(scrna_dataDir, potential_dem_folder)\n",
    "                    dem_geo_id = potential_dem_folder.split('_')[1]\n",
    "                    potential_dem_file = os.path.join(dem_folder_path, f\"{dem_geo_id}_{sample_id}.dem.txt.gz\")\n",
    "                    if os.path.exists(potential_dem_file):\n",
    "                        dem_file = potential_dem_file\n",
    "                        visited_folders.add(potential_dem_folder)\n",
    "                        break\n",
    "\n",
    "        if dem_file and anno_file:\n",
    "            if sample_id.startswith('BM'):\n",
    "                sample_type = 'control'\n",
    "            elif sample_id in ['MUTZ3', 'OCI-AML3']:\n",
    "                sample_type = 'cell_line'\n",
    "            else:\n",
    "                sample_type = 'aml'\n",
    "                \n",
    "            sample_info = {'dem_path': dem_file, 'anno_path': anno_file}\n",
    "            \n",
    "            if sample_type == 'aml':\n",
    "                aml_dict[sample_id] = sample_info\n",
    "            elif sample_type == 'control':\n",
    "                control_dict[sample_id] = sample_info\n",
    "            elif sample_type == 'cell_line':\n",
    "                aml_cell_lines_dict[sample_id] = sample_info\n",
    "            \n",
    "            visited_folders.add(folder)\n",
    "\n",
    "print(f\"Identified {len(aml_dict)} AML samples, {len(control_dict)} control samples, and {len(aml_cell_lines_dict)} AML cell lines.\")\n",
    "print(\"AML Samples:\", aml_dict.keys())\n",
    "print(\"Control Samples:\", control_dict.keys())\n",
    "print(\"AML Cell Lines:\", aml_cell_lines_dict.keys())"
   ]
  },
  {
   "cell_type": "code",
   "execution_count": 49,
   "metadata": {
    "execution": {
     "iopub.execute_input": "2025-02-08T03:38:30.315656Z",
     "iopub.status.busy": "2025-02-08T03:38:30.315358Z",
     "iopub.status.idle": "2025-02-08T03:38:30.333333Z",
     "shell.execute_reply": "2025-02-08T03:38:30.332570Z",
     "shell.execute_reply.started": "2025-02-08T03:38:30.315628Z"
    },
    "trusted": true
   },
   "outputs": [
    {
     "name": "stdout",
     "output_type": "stream",
     "text": [
      "Unique AML samples (16):\n",
      "AML1012: ['AML1012-D0']\n",
      "AML210A: ['AML210A-D0']\n",
      "AML314: ['AML314-D0', 'AML314-D31']\n",
      "AML328: ['AML328-D0', 'AML328-D113', 'AML328-D171', 'AML328-D29']\n",
      "AML329: ['AML329-D0', 'AML329-D20', 'AML329-D37']\n",
      "AML371: ['AML371-D0', 'AML371-D34']\n",
      "AML419A: ['AML419A-D0']\n",
      "AML420B: ['AML420B-D0', 'AML420B-D14', 'AML420B-D35']\n",
      "AML475: ['AML475-D0', 'AML475-D29']\n",
      "AML556: ['AML556-D0', 'AML556-D15', 'AML556-D31']\n",
      "AML707B: ['AML707B-D0', 'AML707B-D113', 'AML707B-D18', 'AML707B-D41', 'AML707B-D97']\n",
      "AML722B: ['AML722B-D0', 'AML722B-D49']\n",
      "AML870: ['AML870-D0', 'AML870-D14']\n",
      "AML916: ['AML916-D0']\n",
      "AML921A: ['AML921A-D0']\n",
      "AML997: ['AML997-D0', 'AML997-D35']\n",
      "\n",
      "Unique control samples (5):\n",
      "BM1: ['BM1']\n",
      "BM2: ['BM2']\n",
      "BM3: ['BM3']\n",
      "BM4: ['BM4']\n",
      "BM5: ['BM5-34p', 'BM5-34p38n']\n"
     ]
    }
   ],
   "source": [
    "# Get unique AML samples\n",
    "unique_aml_map = {}\n",
    "unique_control_map = {}\n",
    "\n",
    "# Group AML samples by base ID\n",
    "for sample_id in aml_dict.keys():\n",
    "    base_id = sample_id.split('-')[0]\n",
    "    if base_id not in unique_aml_map:\n",
    "        unique_aml_map[base_id] = []\n",
    "    unique_aml_map[base_id].append(sample_id)\n",
    "\n",
    "# Group control samples by base ID\n",
    "for sample_id in control_dict.keys():\n",
    "    base_id = sample_id.split('-')[0]\n",
    "    if base_id not in unique_control_map:\n",
    "        unique_control_map[base_id] = []\n",
    "    unique_control_map[base_id].append(sample_id)\n",
    "\n",
    "print(f\"Unique AML samples ({len(unique_aml_map)}):\")\n",
    "for base_id, samples in sorted(unique_aml_map.items()):\n",
    "    print(f\"{base_id}: {sorted(samples)}\")\n",
    "\n",
    "print(f\"\\nUnique control samples ({len(unique_control_map)}):\")\n",
    "for base_id, samples in sorted(unique_control_map.items()):\n",
    "    print(f\"{base_id}: {sorted(samples)}\")"
   ]
  },
  {
   "cell_type": "code",
   "execution_count": 50,
   "metadata": {
    "execution": {
     "iopub.execute_input": "2025-02-08T03:38:30.334510Z",
     "iopub.status.busy": "2025-02-08T03:38:30.334229Z",
     "iopub.status.idle": "2025-02-08T03:38:30.350029Z",
     "shell.execute_reply": "2025-02-08T03:38:30.349342Z",
     "shell.execute_reply.started": "2025-02-08T03:38:30.334480Z"
    },
    "trusted": true
   },
   "outputs": [
    {
     "name": "stdout",
     "output_type": "stream",
     "text": [
      "Selected AML samples (16):\n",
      "AML1012: AML1012-D0\n",
      "AML210A: AML210A-D0\n",
      "AML314: AML314-D0\n",
      "AML328: AML328-D0\n",
      "AML329: AML329-D0\n",
      "AML371: AML371-D0\n",
      "AML419A: AML419A-D0\n",
      "AML420B: AML420B-D0\n",
      "AML475: AML475-D0\n",
      "AML556: AML556-D0\n",
      "AML707B: AML707B-D0\n",
      "AML722B: AML722B-D0\n",
      "AML870: AML870-D0\n",
      "AML916: AML916-D0\n",
      "AML921A: AML921A-D0\n",
      "AML997: AML997-D0\n",
      "\n",
      "Selected control samples (5):\n",
      "BM1: BM1\n",
      "BM2: BM2\n",
      "BM3: BM3\n",
      "BM4: BM4\n",
      "BM5: BM5-34p\n"
     ]
    }
   ],
   "source": [
    "# Create dictionaries for unique samples, taking the first alphabetically\n",
    "unique_aml_samples = {base_id: min(samples) for base_id, samples in unique_aml_map.items()}\n",
    "unique_control_samples = {base_id: min(samples) for base_id, samples in unique_control_map.items()}\n",
    "\n",
    "print(f\"Selected AML samples ({len(unique_aml_samples)}):\")\n",
    "for base_id, sample in sorted(unique_aml_samples.items()):\n",
    "    print(f\"{base_id}: {sample}\")\n",
    "\n",
    "print(f\"\\nSelected control samples ({len(unique_control_samples)}):\")\n",
    "for base_id, sample in sorted(unique_control_samples.items()):\n",
    "    print(f\"{base_id}: {sample}\")"
   ]
  },
  {
   "cell_type": "code",
   "execution_count": 51,
   "metadata": {
    "execution": {
     "iopub.execute_input": "2025-02-08T03:38:30.352564Z",
     "iopub.status.busy": "2025-02-08T03:38:30.352362Z",
     "iopub.status.idle": "2025-02-08T03:38:30.362427Z",
     "shell.execute_reply": "2025-02-08T03:38:30.361623Z",
     "shell.execute_reply.started": "2025-02-08T03:38:30.352547Z"
    },
    "trusted": true
   },
   "outputs": [],
   "source": [
    "unique_aml_ids = list(unique_aml_samples.values())\n",
    "unique_control_ids = list(unique_control_samples.values())\n",
    "filtered_aml_dict = {key: aml_dict[key] for key in unique_aml_ids}\n",
    "filtered_control_dict = {key: control_dict[key] for key in unique_control_ids}\n"
   ]
  },
  {
   "cell_type": "markdown",
   "metadata": {},
   "source": [
    "# Load gene set used to train GEARS"
   ]
  },
  {
   "cell_type": "code",
   "execution_count": 52,
   "metadata": {
    "execution": {
     "iopub.execute_input": "2025-02-08T03:38:30.363942Z",
     "iopub.status.busy": "2025-02-08T03:38:30.363751Z",
     "iopub.status.idle": "2025-02-08T03:40:02.610710Z",
     "shell.execute_reply": "2025-02-08T03:40:02.609762Z",
     "shell.execute_reply.started": "2025-02-08T03:38:30.363925Z"
    },
    "trusted": true
   },
   "outputs": [
    {
     "name": "stderr",
     "output_type": "stream",
     "text": [
      "Found local copy...\n"
     ]
    }
   ],
   "source": [
    "if not os.path.exists(f\"scrna_data/norman_umi_go\"):\n",
    "  if not os.path.exists(f\"scrna_data/norman_umi_go.tar.gz\"):\n",
    "    # Dataloaders used for training\n",
    "    dataverse_download('https://dataverse.harvard.edu/api/access/datafile/6979957', 'norman_umi_go.tar.gz')\n",
    "  ## Extract and set up dataloader directory\n",
    "  import tarfile\n",
    "  with tarfile.open('norman_umi_go.tar.gz', 'r:gz') as tar:\n",
    "      tar.extractall()\n",
    "      tar.close()\n",
    "  del tar\n",
    "\n",
    "# load AnnData with genes list\n",
    "adata_path = os.path.join('norman_umi_go', 'perturb_processed.h5ad')\n",
    "trained_adata = sc.read_h5ad(adata_path)\n",
    "trained_genes = trained_adata.var.gene_name.to_list()\n",
    "del trained_adata"
   ]
  },
  {
   "cell_type": "code",
   "execution_count": 53,
   "metadata": {
    "execution": {
     "iopub.execute_input": "2025-02-08T03:40:02.612707Z",
     "iopub.status.busy": "2025-02-08T03:40:02.612391Z",
     "iopub.status.idle": "2025-02-08T03:40:02.616971Z",
     "shell.execute_reply": "2025-02-08T03:40:02.616284Z",
     "shell.execute_reply.started": "2025-02-08T03:40:02.612676Z"
    },
    "trusted": true
   },
   "outputs": [
    {
     "name": "stdout",
     "output_type": "stream",
     "text": [
      "5054 total pretrained genes\n"
     ]
    }
   ],
   "source": [
    "print(f\"{len(trained_genes)} total pretrained genes\")"
   ]
  },
  {
   "cell_type": "markdown",
   "metadata": {},
   "source": [
    "# Normalize expression data"
   ]
  },
  {
   "cell_type": "code",
   "execution_count": 54,
   "metadata": {
    "execution": {
     "iopub.execute_input": "2025-02-08T03:40:02.617913Z",
     "iopub.status.busy": "2025-02-08T03:40:02.617690Z",
     "iopub.status.idle": "2025-02-08T03:40:03.916393Z",
     "shell.execute_reply": "2025-02-08T03:40:03.915359Z",
     "shell.execute_reply.started": "2025-02-08T03:40:02.617893Z"
    },
    "trusted": true
   },
   "outputs": [],
   "source": [
    "def normalize_data(adata):\n",
    "    # GEARS needs constant dimensionality for gene expression vector \n",
    "    # 0-counts will be flagged in GEARS PertData preprocessing \n",
    "    # 1. Filter genes by minimum counts\n",
    "    # sc.pp.filter_genes(adata, min_counts=2)\n",
    "\n",
    "    # 2. Normalize total counts per cell\n",
    "    sc.pp.normalize_total(adata)\n",
    "\n",
    "    # 3. Log transform the data\n",
    "    sc.pp.log1p(adata)\n",
    "\n",
    "\n",
    "def build_anndata(sampleID, paths):\n",
    "    adata = load_anndata(paths['dem_path'], paths['anno_path'])\n",
    "    \n",
    "    # Ensure every gene in trained_genes is in adata\n",
    "    trained_genes_set = set(trained_genes)\n",
    "    adata_genes_set = set(adata.var_names)\n",
    "\n",
    "    missing_genes = list(trained_genes_set - adata_genes_set)\n",
    "\n",
    "    if missing_genes:\n",
    "        # Create a zero matrix for missing genes\n",
    "        zeros = pd.DataFrame(0, index=adata.obs_names, columns=missing_genes)\n",
    "        # Create an AnnData object for the missing genes\n",
    "        missing_genes_adata = ad.AnnData(X=zeros.values, \n",
    "                                         obs=adata.obs.copy(), \n",
    "                                         var=pd.DataFrame(index=missing_genes))\n",
    "        missing_genes_adata.var['gene_name'] = missing_genes\n",
    "\n",
    "        # Concatenate with original adata\n",
    "        complete_adata = ad.concat([adata, missing_genes_adata], axis=1)\n",
    "        complete_adata.obs = adata.obs.copy()\n",
    "        del adata\n",
    "    # Reorder genes to match trained_genes order\n",
    "    complete_adata = complete_adata[:, trained_genes]\n",
    "    \n",
    "    # Normalize and preprocess data\n",
    "    normalize_data(complete_adata)\n",
    "\n",
    "    # Add sample_id to obs\n",
    "    complete_adata.obs['sample_id'] = sampleID\n",
    "\n",
    "    return complete_adata"
   ]
  },
  {
   "cell_type": "code",
   "execution_count": 55,
   "metadata": {
    "execution": {
     "iopub.execute_input": "2025-02-08T03:40:03.917533Z",
     "iopub.status.busy": "2025-02-08T03:40:03.917233Z",
     "iopub.status.idle": "2025-02-08T03:40:04.983520Z",
     "shell.execute_reply": "2025-02-08T03:40:04.982741Z",
     "shell.execute_reply.started": "2025-02-08T03:40:03.917504Z"
    },
    "trusted": true
   },
   "outputs": [],
   "source": [
    "def load_and_combine_samples(sample_dict, aml_keys):\n",
    "    combined_adata_list = []\n",
    "    sample_to_batch = {}\n",
    "    batch_to_sample = {}\n",
    "\n",
    "    # Load and preprocess all samples\n",
    "    for batch_id, (sample_id, paths) in enumerate(tqdm(sample_dict.items())):\n",
    "        # Use the existing build_anndata function which loads, aligns genes, and normalizes\n",
    "        adata = build_anndata(sample_id, paths)\n",
    "        adata.obs['sample_type'] = 'case' if sample_id in aml_keys else 'healthy'\n",
    "\n",
    "        # Filter cells based on PredictionRefined and sample type\n",
    "        # This filtering happens *before* combining and correction\n",
    "        if 'PredictionRefined' in adata.obs.columns:\n",
    "            mask = ((adata.obs['sample_type'] == 'case') & (adata.obs['PredictionRefined'] == 'malignant')) | \\\n",
    "                  ((adata.obs['sample_type'] == 'healthy') & (adata.obs['PredictionRefined'] == 'normal'))\n",
    "            # Ensure mask length matches current adata after potential gene filtering/padding in build_anndata\n",
    "            if len(mask) == adata.n_obs:\n",
    "                 adata = adata[mask].copy() # Use .copy() to avoid view warnings\n",
    "            else:\n",
    "                 print(f\"Warning: Mask length mismatch for sample {sample_id}. Skipping filtering for this sample.\")\n",
    "\n",
    "        # Store batch info before concatenation\n",
    "        adata.obs['batch_id_str'] = str(batch_id) # Store as string for combat compatibility if needed\n",
    "\n",
    "        combined_adata_list.append(adata)\n",
    "        sample_to_batch[sample_id] = batch_id\n",
    "        batch_to_sample[str(batch_id)] = sample_id\n",
    "\n",
    "    # Combine all samples\n",
    "    # Check if there are AnnData objects to concatenate\n",
    "    if not combined_adata_list:\n",
    "        print(\"Warning: No data to combine.\")\n",
    "        return None, None\n",
    "\n",
    "    if len(combined_adata_list) == 1:\n",
    "         combined_adata = combined_adata_list[0]\n",
    "         # Add batch column manually if only one sample\n",
    "         combined_adata.obs['batch'] = combined_adata.obs['batch_id_str']\n",
    "    else:\n",
    "        combined_adata = combined_adata_list[0].concatenate(\n",
    "            *combined_adata_list[1:],\n",
    "            batch_key='batch', # This adds the 'batch' column with numeric IDs 0, 1, 2...\n",
    "            index_unique=None # Allow duplicate cell indices if necessary, add sample prefix later if needed\n",
    "        )\n",
    "\n",
    "    # Ensure batch column exists and is categorical for combat\n",
    "    if 'batch' in combined_adata.obs:\n",
    "        combined_adata.obs['batch'] = combined_adata.obs['batch'].astype('category')\n",
    "    else:\n",
    "        print(\"Error: 'batch' column not created during concatenation.\")\n",
    "        # Handle error appropriately, maybe assign from batch_id_str if available\n",
    "\n",
    "    print(\"Data loading and combining finished.\")\n",
    "    return combined_adata, batch_to_sample"
   ]
  },
  {
   "cell_type": "code",
   "execution_count": 56,
   "metadata": {
    "execution": {
     "iopub.execute_input": "2025-02-08T03:40:04.984625Z",
     "iopub.status.busy": "2025-02-08T03:40:04.984367Z",
     "iopub.status.idle": "2025-02-08T03:40:43.527567Z",
     "shell.execute_reply": "2025-02-08T03:40:43.526662Z",
     "shell.execute_reply.started": "2025-02-08T03:40:04.984602Z"
    },
    "trusted": true
   },
   "outputs": [
    {
     "name": "stderr",
     "output_type": "stream",
     "text": [
      "100%|██████████| 21/21 [00:21<00:00,  1.05s/it]\n"
     ]
    },
    {
     "name": "stdout",
     "output_type": "stream",
     "text": [
      "Data loading and combining finished.\n"
     ]
    }
   ],
   "source": [
    "aml_keys = list((filtered_aml_dict).keys())\n",
    "control_keys = list(filtered_control_dict.keys())\n",
    "\n",
    "# Call the renamed function\n",
    "combined_adata, batch_to_sample = load_and_combine_samples(\n",
    "    filtered_aml_dict | filtered_control_dict, aml_keys\n",
    ")\n",
    "\n",
    "# Store the raw log-normalized data before correction if needed later\n",
    "if combined_adata is not None:\n",
    "    combined_adata.layers['lognorm_unadjusted'] = combined_adata.X.copy()\n"
   ]
  },
  {
   "cell_type": "code",
   "execution_count": 64,
   "metadata": {},
   "outputs": [
    {
     "name": "stdout",
     "output_type": "stream",
     "text": [
      "Number of genes upregulated in malignant cells (using corrected data): 2035\n"
     ]
    }
   ],
   "source": [
    "if combined_adata is not None:\n",
    "    # Create masks for malignant and healthy cells (using original annotations)\n",
    "    malignant_mask = combined_adata.obs['PredictionRefined'] == 'malignant'\n",
    "    healthy_mask = combined_adata.obs['PredictionRefined'] == 'normal'\n",
    "\n",
    "    # Use the batch-corrected expression matrix (combined_adata.X)\n",
    "    # Check if data exists for both groups\n",
    "    if malignant_mask.sum() > 0 and healthy_mask.sum() > 0:\n",
    "        if issparse(combined_adata.X):\n",
    "            # Calculate means directly on sparse matrix slices if possible, or convert slices\n",
    "            malignant_means = np.array(combined_adata[malignant_mask, :].X.mean(axis=0)).flatten()\n",
    "            healthy_means = np.array(combined_adata[healthy_mask, :].X.mean(axis=0)).flatten()\n",
    "        else:\n",
    "            malignant_means = combined_adata[malignant_mask, :].X.mean(axis=0)\n",
    "            healthy_means = combined_adata[healthy_mask, :].X.mean(axis=0)\n",
    "\n",
    "        # Identify genes with increased expression in malignant cells based on corrected data\n",
    "        upregulated_bool = malignant_means > healthy_means\n",
    "        upregulated_genes = combined_adata.var_names[upregulated_bool]\n",
    "\n",
    "        print(f\"Number of genes upregulated in malignant cells (using corrected data): {len(upregulated_genes)}\")\n",
    "\n",
    "        # Create a new AnnData object that retains only the upregulated genes\n",
    "        # This subset uses the corrected expression data by default\n",
    "        combined_adata_upregulated = combined_adata[:, upregulated_genes].copy()\n",
    "    else:\n",
    "        print(\"Warning: Not enough cells in malignant or healthy groups to compare means.\")\n",
    "        combined_adata_upregulated = None # Indicate failure\n",
    "else:\n",
    "    print(\"Skipping DE analysis: combined_adata is None.\")\n",
    "    combined_adata_upregulated = None"
   ]
  },
  {
   "cell_type": "code",
   "execution_count": 70,
   "metadata": {},
   "outputs": [
    {
     "name": "stdout",
     "output_type": "stream",
     "text": [
      "Running PCA...\n",
      "PCA complete.\n"
     ]
    }
   ],
   "source": [
    "# Cell [26]\n",
    "print(\"Running PCA...\")\n",
    "# Note: Using svd_solver='arpack' for reproducibility with potential future changes in default solvers\n",
    "sc.tl.pca(combined_adata_upregulated, svd_solver='arpack')\n",
    "print(\"PCA complete.\")"
   ]
  },
  {
   "cell_type": "code",
   "execution_count": 74,
   "metadata": {},
   "outputs": [
    {
     "name": "stderr",
     "output_type": "stream",
     "text": [
      "2025-04-04 21:29:15,030 - harmonypy - INFO - Computing initial centroids with sklearn.KMeans...\n"
     ]
    },
    {
     "name": "stdout",
     "output_type": "stream",
     "text": [
      "Running Harmony batch correction...\n"
     ]
    },
    {
     "name": "stderr",
     "output_type": "stream",
     "text": [
      "2025-04-04 21:29:16,430 - harmonypy - INFO - sklearn.KMeans initialization complete.\n",
      "2025-04-04 21:29:16,476 - harmonypy - INFO - Iteration 1 of 10\n",
      "2025-04-04 21:29:18,521 - harmonypy - INFO - Iteration 2 of 10\n",
      "2025-04-04 21:29:20,646 - harmonypy - INFO - Iteration 3 of 10\n",
      "2025-04-04 21:29:22,972 - harmonypy - INFO - Iteration 4 of 10\n",
      "2025-04-04 21:29:25,439 - harmonypy - INFO - Converged after 4 iterations\n"
     ]
    },
    {
     "name": "stdout",
     "output_type": "stream",
     "text": [
      "Harmony batch correction complete.\n",
      "KeysView(AxisArrays with keys: X_umap, X_pca, X_pca_harmony)\n"
     ]
    },
    {
     "data": {
      "text/plain": [
       "AnnData object with n_obs × n_vars = 17749 × 2035\n",
       "    obs: 'NumberOfReads', 'AlignedToGenome', 'AlignedToTranscriptome', 'TranscriptomeUMIs', 'NumberOfGenes', 'CyclingScore', 'CyclingBinary', 'MutTranscripts', 'WtTranscripts', 'PredictionRF2', 'PredictionRefined', 'cell_type', 'Score_HSC', 'Score_Prog', 'Score_GMP', 'Score_ProMono', 'Score_Mono', 'Score_cDC', 'Score_pDC', 'Score_earlyEry', 'Score_lateEry', 'Score_ProB', 'Score_B', 'Score_Plasma', 'Score_T', 'Score_CTL', 'Score_NK', 'NanoporeTranscripts', 'condition', 'sample_id', 'sample_type', 'batch_id_str', 'batch'\n",
       "    var: 'gene_name'\n",
       "    uns: 'neighbors', 'umap', 'batch_colors', 'PredictionRefined_colors', 'pca'\n",
       "    obsm: 'X_umap', 'X_pca', 'X_pca_harmony'\n",
       "    varm: 'PCs'\n",
       "    layers: 'lognorm_unadjusted'\n",
       "    obsp: 'distances', 'connectivities'"
      ]
     },
     "execution_count": 74,
     "metadata": {},
     "output_type": "execute_result"
    }
   ],
   "source": [
    "# Integrate batches using Harmony\n",
    "print(\"Running Harmony batch correction...\")\n",
    "sc.external.pp.harmony_integrate(combined_adata_upregulated, key='sample_id', basis='X_pca', adjusted_basis='X_pca_harmony')\n",
    "print(\"Harmony batch correction complete.\")\n",
    "\n",
    "# Optional: Check the result\n",
    "print(combined_adata_upregulated.obsm.keys()) # Should now include 'X_pca_harmony'\n",
    "\n",
    "combined_adata_upregulated"
   ]
  },
  {
   "cell_type": "code",
   "execution_count": 80,
   "metadata": {},
   "outputs": [
    {
     "data": {
      "image/png": "[encoded data removed]",
      "text/plain": [
       "<Figure size 1200x500 with 2 Axes>"
      ]
     },
     "metadata": {},
     "output_type": "display_data"
    }
   ],
   "source": [
    "import scanpy as sc\n",
    "import matplotlib.pyplot as plt\n",
    "\n",
    "# Calculate neighbors and UMAP on combined_adata\n",
    "# Note: If BBKNN was run, neighbors might already exist. Check first.\n",
    "if 'neighbors' not in combined_adata.uns:\n",
    "    sc.pp.neighbors(combined_adata, n_neighbors=15, use_rep='X_pca_harmony') # Or use existing PCA if available\n",
    "if 'umap' not in combined_adata.obsm:\n",
    "    sc.tl.umap(combined_adata)\n",
    "\n",
    "# Plot UMAP colored by batch and PredictionRefined/sample_type\n",
    "fig, axes = plt.subplots(1, 2, figsize=(12, 5))\n",
    "sc.pl.umap(combined_adata, color='batch', ax=axes[0], show=False, title='Batch')\n",
    "sc.pl.umap(combined_adata, color='PredictionRefined', ax=axes[1], show=False, title='PredictionRefined') # Or 'sample_type'\n",
    "plt.tight_layout()\n",
    "plt.show()"
   ]
  },
  {
   "cell_type": "code",
   "execution_count": 81,
   "metadata": {},
   "outputs": [
    {
     "data": {
      "text/plain": [
       "AnnData object with n_obs × n_vars = 17749 × 2035\n",
       "    obs: 'NumberOfReads', 'AlignedToGenome', 'AlignedToTranscriptome', 'TranscriptomeUMIs', 'NumberOfGenes', 'CyclingScore', 'CyclingBinary', 'MutTranscripts', 'WtTranscripts', 'PredictionRF2', 'PredictionRefined', 'cell_type', 'Score_HSC', 'Score_Prog', 'Score_GMP', 'Score_ProMono', 'Score_Mono', 'Score_cDC', 'Score_pDC', 'Score_earlyEry', 'Score_lateEry', 'Score_ProB', 'Score_B', 'Score_Plasma', 'Score_T', 'Score_CTL', 'Score_NK', 'NanoporeTranscripts', 'condition', 'sample_id', 'sample_type', 'batch_id_str', 'batch'\n",
       "    var: 'gene_name'\n",
       "    uns: 'neighbors', 'umap', 'batch_colors', 'PredictionRefined_colors', 'pca'\n",
       "    obsm: 'X_umap', 'X_pca', 'X_pca_harmony'\n",
       "    varm: 'PCs'\n",
       "    layers: 'lognorm_unadjusted'\n",
       "    obsp: 'distances', 'connectivities'"
      ]
     },
     "execution_count": 81,
     "metadata": {},
     "output_type": "execute_result"
    }
   ],
   "source": [
    "combined_adata_upregulated"
   ]
  },
  {
   "cell_type": "markdown",
   "metadata": {},
   "source": [
    "# Feature selection"
   ]
  },
  {
   "cell_type": "code",
   "execution_count": 82,
   "metadata": {
    "execution": {
     "iopub.execute_input": "2025-02-08T03:40:44.011294Z",
     "iopub.status.busy": "2025-02-08T03:40:44.011103Z",
     "iopub.status.idle": "2025-02-08T03:40:44.024759Z",
     "shell.execute_reply": "2025-02-08T03:40:44.023993Z",
     "shell.execute_reply.started": "2025-02-08T03:40:44.011277Z"
    },
    "trusted": true
   },
   "outputs": [
    {
     "data": {
      "text/plain": [
       "<module 'feature_selection' from '/Users/noot/Documents/ML-AML/feature_selection.py'>"
      ]
     },
     "execution_count": 82,
     "metadata": {},
     "output_type": "execute_result"
    }
   ],
   "source": [
    "import importlib\n",
    "import feature_selection\n",
    "\n",
    "# Reload the module to apply local changes\n",
    "importlib.reload(feature_selection)"
   ]
  },
  {
   "cell_type": "code",
   "execution_count": 83,
   "metadata": {
    "execution": {
     "iopub.execute_input": "2025-02-08T03:40:44.025963Z",
     "iopub.status.busy": "2025-02-08T03:40:44.025676Z",
     "iopub.status.idle": "2025-02-08T03:48:43.372393Z",
     "shell.execute_reply": "2025-02-08T03:48:43.371433Z",
     "shell.execute_reply.started": "2025-02-08T03:40:44.025934Z"
    },
    "trusted": true
   },
   "outputs": [
    {
     "name": "stdout",
     "output_type": "stream",
     "text": [
      "Instantiating BayesianFeatureSelector...\n",
      "Using CPU.\n",
      "Selector instantiated with unique_id: 1743827618\n"
     ]
    }
   ],
   "source": [
    "# Cell 29 - Instantiate Selector\n",
    "import time\n",
    "\n",
    "if combined_adata_upregulated is not None:\n",
    "    print(\"Instantiating BayesianFeatureSelector...\")\n",
    "    # Generate a unique ID for this run, e.g., using a timestamp\n",
    "    run_id = str(int(time.time()))\n",
    "\n",
    "    # Instantiate the selector with its required ID and other parameters\n",
    "    selector = BayesianFeatureSelector(\n",
    "        unique_id=run_id,\n",
    "        num_iterations=1000, # Keep original notebook params or adjust\n",
    "        lr=1e-3,\n",
    "        credible_interval=0.9,\n",
    "        num_samples=1000,\n",
    "        batch_size=256,\n",
    "        verbose=True, # Set to True for progress\n",
    "        patience=20,\n",
    "        max_features=200, # From feature_selection.py, adjust if needed\n",
    "        use_mlflow=False # Set to True if using MLflow\n",
    "        # Add other params like k_neighbors if defaults are not desired\n",
    "    )\n",
    "    print(f\"Selector instantiated with unique_id: {run_id}\")\n",
    "\n",
    "    # Prepare data for fitting: features (X) and target (y)\n",
    "    # Using the batch-corrected data from combined_adata_upregulated\n",
    "    expr_df = pd.DataFrame(combined_adata_upregulated.X,\n",
    "                           columns=combined_adata_upregulated.var_names,\n",
    "                           index=combined_adata_upregulated.obs_names)\n",
    "\n",
    "    # Target variable: 'PredictionRefined' mapped to 0/1\n",
    "    y_series = combined_adata_upregulated.obs['PredictionRefined'].map({'malignant': 1, 'normal': 0})\n",
    "    # Ensure y_series index matches expr_df index\n",
    "    y_series = y_series.reindex(expr_df.index)\n",
    "\n",
    "    # Check for NaN values introduced by mapping or reindexing\n",
    "    if y_series.isnull().any():\n",
    "        print(\"Warning: NaN values found in target series after mapping/reindexing. Dropping corresponding samples.\")\n",
    "        nan_indices = y_series[y_series.isnull()].index\n",
    "        expr_df = expr_df.drop(index=nan_indices)\n",
    "        y_series = y_series.drop(index=nan_indices)\n",
    "        print(f\"Removed {len(nan_indices)} samples with NaN target.\")\n",
    "\n",
    "else:\n",
    "    print(\"Skipping Feature Selector instantiation: combined_adata_upregulated is None.\")\n",
    "    selector = None\n",
    "    expr_df = None\n",
    "    y_series = None\n"
   ]
  },
  {
   "cell_type": "code",
   "execution_count": 84,
   "metadata": {},
   "outputs": [
    {
     "name": "stdout",
     "output_type": "stream",
     "text": [
      "Fitting BayesianFeatureSelector...\n"
     ]
    },
    {
     "name": "stderr",
     "output_type": "stream",
     "text": [
      "Training:   7%|██▌                                   | 66/1000 [00:29<07:00,  2.22iter/s, train_loss=13.5770, val_loss=13.6833, acc=0.9313, f1=0.9467]\n"
     ]
    },
    {
     "name": "stdout",
     "output_type": "stream",
     "text": [
      "Early stopping triggered.\n",
      "Feature selection fitting finished in 36.92 seconds.\n"
     ]
    },
    {
     "data": {
      "image/png": "[encoded data removed]",
      "text/plain": [
       "<Figure size 1200x1000 with 2 Axes>"
      ]
     },
     "metadata": {},
     "output_type": "display_data"
    }
   ],
   "source": [
    "if selector is not None and expr_df is not None and y_series is not None:\n",
    "    print(\"Fitting BayesianFeatureSelector...\")\n",
    "    start_time = time.time()\n",
    "    # Fit the selector using the prepared DataFrame and Series\n",
    "    selector.fit(expr_df, y_series)\n",
    "    end_time = time.time()\n",
    "    print(f\"Feature selection fitting finished in {end_time - start_time:.2f} seconds.\")\n",
    "else:\n",
    "    print(\"Skipping feature selection fitting: selector, expr_df, or y_series is None.\")\n"
   ]
  },
  {
   "cell_type": "code",
   "execution_count": 85,
   "metadata": {
    "execution": {
     "iopub.execute_input": "2025-02-08T03:48:43.374289Z",
     "iopub.status.busy": "2025-02-08T03:48:43.373311Z",
     "iopub.status.idle": "2025-02-08T03:48:43.379855Z",
     "shell.execute_reply": "2025-02-08T03:48:43.379130Z",
     "shell.execute_reply.started": "2025-02-08T03:48:43.374262Z"
    },
    "trusted": true
   },
   "outputs": [
    {
     "name": "stdout",
     "output_type": "stream",
     "text": [
      "Selected 12 features.\n",
      "Feature statistics table generated.\n"
     ]
    }
   ],
   "source": [
    "if selector is not None and hasattr(selector, 'selected_features_'):\n",
    "    selected_features = selector.selected_features_\n",
    "    print(f\"Selected {len(selected_features)} features.\")\n",
    "    # Optional: Display the selected feature names\n",
    "    # print(selected_features)\n",
    "\n",
    "    # You might also want to access the feature statistics table if generated\n",
    "    if hasattr(selector, 'feature_stats'):\n",
    "         feature_stats_df = selector.feature_stats\n",
    "         print(\"Feature statistics table generated.\")\n",
    "         # print(feature_stats_df.head())\n",
    "    if hasattr(selector, 'tail_fig'):\n",
    "         # Display the figure if desired and not logged to mlflow\n",
    "         # from IPython.display import display\n",
    "         # display(selector.tail_fig)\n",
    "         pass # Figure is available in selector.tail_fig\n",
    "else:\n",
    "    print(\"Skipping feature extraction: selector not fitted or 'selected_features_' attribute missing.\")\n",
    "    selected_features = None\n",
    "    feature_stats_df = None"
   ]
  },
  {
   "cell_type": "code",
   "execution_count": 86,
   "metadata": {
    "execution": {
     "iopub.execute_input": "2025-02-08T03:48:43.421512Z",
     "iopub.status.busy": "2025-02-08T03:48:43.421249Z",
     "iopub.status.idle": "2025-02-08T03:48:43.433068Z",
     "shell.execute_reply": "2025-02-08T03:48:43.432427Z",
     "shell.execute_reply.started": "2025-02-08T03:48:43.421485Z"
    },
    "trusted": true
   },
   "outputs": [
    {
     "data": {
      "text/html": [
       "<div>\n",
       "<style scoped>\n",
       "    .dataframe tbody tr th:only-of-type {\n",
       "        vertical-align: middle;\n",
       "    }\n",
       "\n",
       "    .dataframe tbody tr th {\n",
       "        vertical-align: top;\n",
       "    }\n",
       "\n",
       "    .dataframe thead th {\n",
       "        text-align: right;\n",
       "    }\n",
       "</style>\n",
       "<table border=\"1\" class=\"dataframe\">\n",
       "  <thead>\n",
       "    <tr style=\"text-align: right;\">\n",
       "      <th></th>\n",
       "      <th>label</th>\n",
       "      <th>sum_correct</th>\n",
       "      <th>count</th>\n",
       "      <th>accuracy</th>\n",
       "      <th>accuracy_std</th>\n",
       "      <th>draw_count</th>\n",
       "      <th>avg_prediction</th>\n",
       "      <th>prediction_std</th>\n",
       "    </tr>\n",
       "  </thead>\n",
       "  <tbody>\n",
       "    <tr>\n",
       "      <th>AML921A-D0_CCGCAAAACTGG</th>\n",
       "      <td>1.0</td>\n",
       "      <td>67</td>\n",
       "      <td>67</td>\n",
       "      <td>1.000000</td>\n",
       "      <td>0.000000</td>\n",
       "      <td>67</td>\n",
       "      <td>1.000000</td>\n",
       "      <td>0.000000</td>\n",
       "    </tr>\n",
       "    <tr>\n",
       "      <th>AML921A-D0_ATCGGCACGAGT</th>\n",
       "      <td>1.0</td>\n",
       "      <td>67</td>\n",
       "      <td>67</td>\n",
       "      <td>1.000000</td>\n",
       "      <td>0.000000</td>\n",
       "      <td>67</td>\n",
       "      <td>1.000000</td>\n",
       "      <td>0.000000</td>\n",
       "    </tr>\n",
       "    <tr>\n",
       "      <th>AML556-D0_GGGAAGTAAGAG</th>\n",
       "      <td>1.0</td>\n",
       "      <td>67</td>\n",
       "      <td>67</td>\n",
       "      <td>1.000000</td>\n",
       "      <td>0.000000</td>\n",
       "      <td>67</td>\n",
       "      <td>1.000000</td>\n",
       "      <td>0.000000</td>\n",
       "    </tr>\n",
       "    <tr>\n",
       "      <th>BM4_GAGGCATAGTGA</th>\n",
       "      <td>0.0</td>\n",
       "      <td>67</td>\n",
       "      <td>67</td>\n",
       "      <td>1.000000</td>\n",
       "      <td>0.000000</td>\n",
       "      <td>67</td>\n",
       "      <td>0.000000</td>\n",
       "      <td>0.000000</td>\n",
       "    </tr>\n",
       "    <tr>\n",
       "      <th>AML419A-D0_GTTCCGCCTAGG</th>\n",
       "      <td>1.0</td>\n",
       "      <td>66</td>\n",
       "      <td>67</td>\n",
       "      <td>0.985075</td>\n",
       "      <td>0.014814</td>\n",
       "      <td>67</td>\n",
       "      <td>0.985075</td>\n",
       "      <td>0.121254</td>\n",
       "    </tr>\n",
       "    <tr>\n",
       "      <th>...</th>\n",
       "      <td>...</td>\n",
       "      <td>...</td>\n",
       "      <td>...</td>\n",
       "      <td>...</td>\n",
       "      <td>...</td>\n",
       "      <td>...</td>\n",
       "      <td>...</td>\n",
       "      <td>...</td>\n",
       "    </tr>\n",
       "    <tr>\n",
       "      <th>AML707B-D0_ATAGGTGACGCN</th>\n",
       "      <td>1.0</td>\n",
       "      <td>67</td>\n",
       "      <td>67</td>\n",
       "      <td>1.000000</td>\n",
       "      <td>0.000000</td>\n",
       "      <td>67</td>\n",
       "      <td>1.000000</td>\n",
       "      <td>0.000000</td>\n",
       "    </tr>\n",
       "    <tr>\n",
       "      <th>AML921A-D0_CGCGCCTGGAGG</th>\n",
       "      <td>1.0</td>\n",
       "      <td>67</td>\n",
       "      <td>67</td>\n",
       "      <td>1.000000</td>\n",
       "      <td>0.000000</td>\n",
       "      <td>67</td>\n",
       "      <td>1.000000</td>\n",
       "      <td>0.000000</td>\n",
       "    </tr>\n",
       "    <tr>\n",
       "      <th>BM5-34p_CTACTCGGATTA</th>\n",
       "      <td>0.0</td>\n",
       "      <td>64</td>\n",
       "      <td>67</td>\n",
       "      <td>0.955224</td>\n",
       "      <td>0.025266</td>\n",
       "      <td>67</td>\n",
       "      <td>0.044776</td>\n",
       "      <td>0.206812</td>\n",
       "    </tr>\n",
       "    <tr>\n",
       "      <th>BM4_GATGACCACACG</th>\n",
       "      <td>0.0</td>\n",
       "      <td>12</td>\n",
       "      <td>67</td>\n",
       "      <td>0.179104</td>\n",
       "      <td>0.046845</td>\n",
       "      <td>67</td>\n",
       "      <td>0.820896</td>\n",
       "      <td>0.383440</td>\n",
       "    </tr>\n",
       "    <tr>\n",
       "      <th>AML420B-D0_AGTGAACGGGTA</th>\n",
       "      <td>1.0</td>\n",
       "      <td>1</td>\n",
       "      <td>67</td>\n",
       "      <td>0.014925</td>\n",
       "      <td>0.014814</td>\n",
       "      <td>67</td>\n",
       "      <td>0.014925</td>\n",
       "      <td>0.121254</td>\n",
       "    </tr>\n",
       "  </tbody>\n",
       "</table>\n",
       "<p>3550 rows × 8 columns</p>\n",
       "</div>"
      ],
      "text/plain": [
       "                         label  sum_correct  count  accuracy  accuracy_std  \\\n",
       "AML921A-D0_CCGCAAAACTGG    1.0           67     67  1.000000      0.000000   \n",
       "AML921A-D0_ATCGGCACGAGT    1.0           67     67  1.000000      0.000000   \n",
       "AML556-D0_GGGAAGTAAGAG     1.0           67     67  1.000000      0.000000   \n",
       "BM4_GAGGCATAGTGA           0.0           67     67  1.000000      0.000000   \n",
       "AML419A-D0_GTTCCGCCTAGG    1.0           66     67  0.985075      0.014814   \n",
       "...                        ...          ...    ...       ...           ...   \n",
       "AML707B-D0_ATAGGTGACGCN    1.0           67     67  1.000000      0.000000   \n",
       "AML921A-D0_CGCGCCTGGAGG    1.0           67     67  1.000000      0.000000   \n",
       "BM5-34p_CTACTCGGATTA       0.0           64     67  0.955224      0.025266   \n",
       "BM4_GATGACCACACG           0.0           12     67  0.179104      0.046845   \n",
       "AML420B-D0_AGTGAACGGGTA    1.0            1     67  0.014925      0.014814   \n",
       "\n",
       "                         draw_count  avg_prediction  prediction_std  \n",
       "AML921A-D0_CCGCAAAACTGG          67        1.000000        0.000000  \n",
       "AML921A-D0_ATCGGCACGAGT          67        1.000000        0.000000  \n",
       "AML556-D0_GGGAAGTAAGAG           67        1.000000        0.000000  \n",
       "BM4_GAGGCATAGTGA                 67        0.000000        0.000000  \n",
       "AML419A-D0_GTTCCGCCTAGG          67        0.985075        0.121254  \n",
       "...                             ...             ...             ...  \n",
       "AML707B-D0_ATAGGTGACGCN          67        1.000000        0.000000  \n",
       "AML921A-D0_CGCGCCTGGAGG          67        1.000000        0.000000  \n",
       "BM5-34p_CTACTCGGATTA             67        0.044776        0.206812  \n",
       "BM4_GATGACCACACG                 67        0.820896        0.383440  \n",
       "AML420B-D0_AGTGAACGGGTA          67        0.014925        0.121254  \n",
       "\n",
       "[3550 rows x 8 columns]"
      ]
     },
     "execution_count": 86,
     "metadata": {},
     "output_type": "execute_result"
    }
   ],
   "source": [
    "selector.validation_results_"
   ]
  },
  {
   "cell_type": "code",
   "execution_count": 88,
   "metadata": {
    "execution": {
     "iopub.execute_input": "2025-02-08T03:48:43.436604Z",
     "iopub.status.busy": "2025-02-08T03:48:43.436399Z",
     "iopub.status.idle": "2025-02-08T03:48:44.827953Z",
     "shell.execute_reply": "2025-02-08T03:48:44.827183Z",
     "shell.execute_reply.started": "2025-02-08T03:48:43.436587Z"
    },
    "trusted": true
   },
   "outputs": [
    {
     "data": {
      "application/vnd.plotly.v1+json": {
       "config": {
        "plotlyServerURL": "https://plot.ly"
       },
       "data": [
        {
         "bingroup": "x",
         "hovertemplate": "label=1.0<br>accuracy=%{x}<br>count=%{y}<extra></extra>",
         "legendgroup": "1.0",
         "marker": {
          "color": "#636efa",
          "pattern": {
           "shape": ""
          }
         },
         "name": "1.0",
         "orientation": "v",
         "showlegend": true,
         "type": "histogram",
         "x": {
          "bdata": "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",
          "dtype": "f8"
         },
         "xaxis": "x",
         "yaxis": "y"
        },
        {
         "bingroup": "x",
         "hovertemplate": "label=0.0<br>accuracy=%{x}<br>count=%{y}<extra></extra>",
         "legendgroup": "0.0",
         "marker": {
          "color": "#EF553B",
          "pattern": {
           "shape": ""
          }
         },
         "name": "0.0",
         "orientation": "v",
         "showlegend": true,
         "type": "histogram",
         "x": {
          "bdata": "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",
          "dtype": "f8"
         },
         "xaxis": "x",
         "yaxis": "y"
        }
       ],
       "layout": {
        "barmode": "relative",
        "legend": {
         "title": {
          "text": "label"
         },
         "tracegroupgap": 0
        },
        "margin": {
         "t": 60
        },
        "template": {
         "data": {
          "bar": [
           {
            "error_x": {
             "color": "#2a3f5f"
            },
            "error_y": {
             "color": "#2a3f5f"
            },
            "marker": {
             "line": {
              "color": "#E5ECF6",
              "width": 0.5
             },
             "pattern": {
              "fillmode": "overlay",
              "size": 10,
              "solidity": 0.2
             }
            },
            "type": "bar"
           }
          ],
          "barpolar": [
           {
            "marker": {
             "line": {
              "color": "#E5ECF6",
              "width": 0.5
             },
             "pattern": {
              "fillmode": "overlay",
              "size": 10,
              "solidity": 0.2
             }
            },
            "type": "barpolar"
           }
          ],
          "carpet": [
           {
            "aaxis": {
             "endlinecolor": "#2a3f5f",
             "gridcolor": "white",
             "linecolor": "white",
             "minorgridcolor": "white",
             "startlinecolor": "#2a3f5f"
            },
            "baxis": {
             "endlinecolor": "#2a3f5f",
             "gridcolor": "white",
             "linecolor": "white",
             "minorgridcolor": "white",
             "startlinecolor": "#2a3f5f"
            },
            "type": "carpet"
           }
          ],
          "choropleth": [
           {
            "colorbar": {
             "outlinewidth": 0,
             "ticks": ""
            },
            "type": "choropleth"
           }
          ],
          "contour": [
           {
            "colorbar": {
             "outlinewidth": 0,
             "ticks": ""
            },
            "colorscale": [
             [
              0,
              "#0d0887"
             ],
             [
              0.1111111111111111,
              "#46039f"
             ],
             [
              0.2222222222222222,
              "#7201a8"
             ],
             [
              0.3333333333333333,
              "#9c179e"
             ],
             [
              0.4444444444444444,
              "#bd3786"
             ],
             [
              0.5555555555555556,
              "#d8576b"
             ],
             [
              0.6666666666666666,
              "#ed7953"
             ],
             [
              0.7777777777777778,
              "#fb9f3a"
             ],
             [
              0.8888888888888888,
              "#fdca26"
             ],
             [
              1,
              "#f0f921"
             ]
            ],
            "type": "contour"
           }
          ],
          "contourcarpet": [
           {
            "colorbar": {
             "outlinewidth": 0,
             "ticks": ""
            },
            "type": "contourcarpet"
           }
          ],
          "heatmap": [
           {
            "colorbar": {
             "outlinewidth": 0,
             "ticks": ""
            },
            "colorscale": [
             [
              0,
              "#0d0887"
             ],
             [
              0.1111111111111111,
              "#46039f"
             ],
             [
              0.2222222222222222,
              "#7201a8"
             ],
             [
              0.3333333333333333,
              "#9c179e"
             ],
             [
              0.4444444444444444,
              "#bd3786"
             ],
             [
              0.5555555555555556,
              "#d8576b"
             ],
             [
              0.6666666666666666,
              "#ed7953"
             ],
             [
              0.7777777777777778,
              "#fb9f3a"
             ],
             [
              0.8888888888888888,
              "#fdca26"
             ],
             [
              1,
              "#f0f921"
             ]
            ],
            "type": "heatmap"
           }
          ],
          "histogram": [
           {
            "marker": {
             "pattern": {
              "fillmode": "overlay",
              "size": 10,
              "solidity": 0.2
             }
            },
            "type": "histogram"
           }
          ],
          "histogram2d": [
           {
            "colorbar": {
             "outlinewidth": 0,
             "ticks": ""
            },
            "colorscale": [
             [
              0,
              "#0d0887"
             ],
             [
              0.1111111111111111,
              "#46039f"
             ],
             [
              0.2222222222222222,
              "#7201a8"
             ],
             [
              0.3333333333333333,
              "#9c179e"
             ],
             [
              0.4444444444444444,
              "#bd3786"
             ],
             [
              0.5555555555555556,
              "#d8576b"
             ],
             [
              0.6666666666666666,
              "#ed7953"
             ],
             [
              0.7777777777777778,
              "#fb9f3a"
             ],
             [
              0.8888888888888888,
              "#fdca26"
             ],
             [
              1,
              "#f0f921"
             ]
            ],
            "type": "histogram2d"
           }
          ],
          "histogram2dcontour": [
           {
            "colorbar": {
             "outlinewidth": 0,
             "ticks": ""
            },
            "colorscale": [
             [
              0,
              "#0d0887"
             ],
             [
              0.1111111111111111,
              "#46039f"
             ],
             [
              0.2222222222222222,
              "#7201a8"
             ],
             [
              0.3333333333333333,
              "#9c179e"
             ],
             [
              0.4444444444444444,
              "#bd3786"
             ],
             [
              0.5555555555555556,
              "#d8576b"
             ],
             [
              0.6666666666666666,
              "#ed7953"
             ],
             [
              0.7777777777777778,
              "#fb9f3a"
             ],
             [
              0.8888888888888888,
              "#fdca26"
             ],
             [
              1,
              "#f0f921"
             ]
            ],
            "type": "histogram2dcontour"
           }
          ],
          "mesh3d": [
           {
            "colorbar": {
             "outlinewidth": 0,
             "ticks": ""
            },
            "type": "mesh3d"
           }
          ],
          "parcoords": [
           {
            "line": {
             "colorbar": {
              "outlinewidth": 0,
              "ticks": ""
             }
            },
            "type": "parcoords"
           }
          ],
          "pie": [
           {
            "automargin": true,
            "type": "pie"
           }
          ],
          "scatter": [
           {
            "fillpattern": {
             "fillmode": "overlay",
             "size": 10,
             "solidity": 0.2
            },
            "type": "scatter"
           }
          ],
          "scatter3d": [
           {
            "line": {
             "colorbar": {
              "outlinewidth": 0,
              "ticks": ""
             }
            },
            "marker": {
             "colorbar": {
              "outlinewidth": 0,
              "ticks": ""
             }
            },
            "type": "scatter3d"
           }
          ],
          "scattercarpet": [
           {
            "marker": {
             "colorbar": {
              "outlinewidth": 0,
              "ticks": ""
             }
            },
            "type": "scattercarpet"
           }
          ],
          "scattergeo": [
           {
            "marker": {
             "colorbar": {
              "outlinewidth": 0,
              "ticks": ""
             }
            },
            "type": "scattergeo"
           }
          ],
          "scattergl": [
           {
            "marker": {
             "colorbar": {
              "outlinewidth": 0,
              "ticks": ""
             }
            },
            "type": "scattergl"
           }
          ],
          "scattermap": [
           {
            "marker": {
             "colorbar": {
              "outlinewidth": 0,
              "ticks": ""
             }
            },
            "type": "scattermap"
           }
          ],
          "scattermapbox": [
           {
            "marker": {
             "colorbar": {
              "outlinewidth": 0,
              "ticks": ""
             }
            },
            "type": "scattermapbox"
           }
          ],
          "scatterpolar": [
           {
            "marker": {
             "colorbar": {
              "outlinewidth": 0,
              "ticks": ""
             }
            },
            "type": "scatterpolar"
           }
          ],
          "scatterpolargl": [
           {
            "marker": {
             "colorbar": {
              "outlinewidth": 0,
              "ticks": ""
             }
            },
            "type": "scatterpolargl"
           }
          ],
          "scatterternary": [
           {
            "marker": {
             "colorbar": {
              "outlinewidth": 0,
              "ticks": ""
             }
            },
            "type": "scatterternary"
           }
          ],
          "surface": [
           {
            "colorbar": {
             "outlinewidth": 0,
             "ticks": ""
            },
            "colorscale": [
             [
              0,
              "#0d0887"
             ],
             [
              0.1111111111111111,
              "#46039f"
             ],
             [
              0.2222222222222222,
              "#7201a8"
             ],
             [
              0.3333333333333333,
              "#9c179e"
             ],
             [
              0.4444444444444444,
              "#bd3786"
             ],
             [
              0.5555555555555556,
              "#d8576b"
             ],
             [
              0.6666666666666666,
              "#ed7953"
             ],
             [
              0.7777777777777778,
              "#fb9f3a"
             ],
             [
              0.8888888888888888,
              "#fdca26"
             ],
             [
              1,
              "#f0f921"
             ]
            ],
            "type": "surface"
           }
          ],
          "table": [
           {
            "cells": {
             "fill": {
              "color": "#EBF0F8"
             },
             "line": {
              "color": "white"
             }
            },
            "header": {
             "fill": {
              "color": "#C8D4E3"
             },
             "line": {
              "color": "white"
             }
            },
            "type": "table"
           }
          ]
         },
         "layout": {
          "annotationdefaults": {
           "arrowcolor": "#2a3f5f",
           "arrowhead": 0,
           "arrowwidth": 1
          },
          "autotypenumbers": "strict",
          "coloraxis": {
           "colorbar": {
            "outlinewidth": 0,
            "ticks": ""
           }
          },
          "colorscale": {
           "diverging": [
            [
             0,
             "#8e0152"
            ],
            [
             0.1,
             "#c51b7d"
            ],
            [
             0.2,
             "#de77ae"
            ],
            [
             0.3,
             "#f1b6da"
            ],
            [
             0.4,
             "#fde0ef"
            ],
            [
             0.5,
             "#f7f7f7"
            ],
            [
             0.6,
             "#e6f5d0"
            ],
            [
             0.7,
             "#b8e186"
            ],
            [
             0.8,
             "#7fbc41"
            ],
            [
             0.9,
             "#4d9221"
            ],
            [
             1,
             "#276419"
            ]
           ],
           "sequential": [
            [
             0,
             "#0d0887"
            ],
            [
             0.1111111111111111,
             "#46039f"
            ],
            [
             0.2222222222222222,
             "#7201a8"
            ],
            [
             0.3333333333333333,
             "#9c179e"
            ],
            [
             0.4444444444444444,
             "#bd3786"
            ],
            [
             0.5555555555555556,
             "#d8576b"
            ],
            [
             0.6666666666666666,
             "#ed7953"
            ],
            [
             0.7777777777777778,
             "#fb9f3a"
            ],
            [
             0.8888888888888888,
             "#fdca26"
            ],
            [
             1,
             "#f0f921"
            ]
           ],
           "sequentialminus": [
            [
             0,
             "#0d0887"
            ],
            [
             0.1111111111111111,
             "#46039f"
            ],
            [
             0.2222222222222222,
             "#7201a8"
            ],
            [
             0.3333333333333333,
             "#9c179e"
            ],
            [
             0.4444444444444444,
             "#bd3786"
            ],
            [
             0.5555555555555556,
             "#d8576b"
            ],
            [
             0.6666666666666666,
             "#ed7953"
            ],
            [
             0.7777777777777778,
             "#fb9f3a"
            ],
            [
             0.8888888888888888,
             "#fdca26"
            ],
            [
             1,
             "#f0f921"
            ]
           ]
          },
          "colorway": [
           "#636efa",
           "#EF553B",
           "#00cc96",
           "#ab63fa",
           "#FFA15A",
           "#19d3f3",
           "#FF6692",
           "#B6E880",
           "#FF97FF",
           "#FECB52"
          ],
          "font": {
           "color": "#2a3f5f"
          },
          "geo": {
           "bgcolor": "white",
           "lakecolor": "white",
           "landcolor": "#E5ECF6",
           "showlakes": true,
           "showland": true,
           "subunitcolor": "white"
          },
          "hoverlabel": {
           "align": "left"
          },
          "hovermode": "closest",
          "mapbox": {
           "style": "light"
          },
          "paper_bgcolor": "white",
          "plot_bgcolor": "#E5ECF6",
          "polar": {
           "angularaxis": {
            "gridcolor": "white",
            "linecolor": "white",
            "ticks": ""
           },
           "bgcolor": "#E5ECF6",
           "radialaxis": {
            "gridcolor": "white",
            "linecolor": "white",
            "ticks": ""
           }
          },
          "scene": {
           "xaxis": {
            "backgroundcolor": "#E5ECF6",
            "gridcolor": "white",
            "gridwidth": 2,
            "linecolor": "white",
            "showbackground": true,
            "ticks": "",
            "zerolinecolor": "white"
           },
           "yaxis": {
            "backgroundcolor": "#E5ECF6",
            "gridcolor": "white",
            "gridwidth": 2,
            "linecolor": "white",
            "showbackground": true,
            "ticks": "",
            "zerolinecolor": "white"
           },
           "zaxis": {
            "backgroundcolor": "#E5ECF6",
            "gridcolor": "white",
            "gridwidth": 2,
            "linecolor": "white",
            "showbackground": true,
            "ticks": "",
            "zerolinecolor": "white"
           }
          },
          "shapedefaults": {
           "line": {
            "color": "#2a3f5f"
           }
          },
          "ternary": {
           "aaxis": {
            "gridcolor": "white",
            "linecolor": "white",
            "ticks": ""
           },
           "baxis": {
            "gridcolor": "white",
            "linecolor": "white",
            "ticks": ""
           },
           "bgcolor": "#E5ECF6",
           "caxis": {
            "gridcolor": "white",
            "linecolor": "white",
            "ticks": ""
           }
          },
          "title": {
           "x": 0.05
          },
          "xaxis": {
           "automargin": true,
           "gridcolor": "white",
           "linecolor": "white",
           "ticks": "",
           "title": {
            "standoff": 15
           },
           "zerolinecolor": "white",
           "zerolinewidth": 2
          },
          "yaxis": {
           "automargin": true,
           "gridcolor": "white",
           "linecolor": "white",
           "ticks": "",
           "title": {
            "standoff": 15
           },
           "zerolinecolor": "white",
           "zerolinewidth": 2
          }
         }
        },
        "xaxis": {
         "anchor": "y",
         "domain": [
          0,
          1
         ],
         "title": {
          "text": "accuracy"
         }
        },
        "yaxis": {
         "anchor": "x",
         "domain": [
          0,
          1
         ],
         "title": {
          "text": "count"
         },
         "type": "log"
        }
       }
      }
     },
     "metadata": {},
     "output_type": "display_data"
    }
   ],
   "source": [
    "px.histogram(selector.validation_results_, x='accuracy', color='label', log_y=True)"
   ]
  },
  {
   "cell_type": "code",
   "execution_count": 93,
   "metadata": {},
   "outputs": [
    {
     "data": {
      "text/html": [
       "<div>\n",
       "<style scoped>\n",
       "    .dataframe tbody tr th:only-of-type {\n",
       "        vertical-align: middle;\n",
       "    }\n",
       "\n",
       "    .dataframe tbody tr th {\n",
       "        vertical-align: top;\n",
       "    }\n",
       "\n",
       "    .dataframe thead th {\n",
       "        text-align: right;\n",
       "    }\n",
       "</style>\n",
       "<table border=\"1\" class=\"dataframe\">\n",
       "  <thead>\n",
       "    <tr style=\"text-align: right;\">\n",
       "      <th></th>\n",
       "      <th>feature_name</th>\n",
       "      <th>beta_mean</th>\n",
       "      <th>beta_std</th>\n",
       "      <th>effect_size</th>\n",
       "      <th>is_selected</th>\n",
       "    </tr>\n",
       "  </thead>\n",
       "  <tbody>\n",
       "    <tr>\n",
       "      <th>1735</th>\n",
       "      <td>CFD</td>\n",
       "      <td>2.045730</td>\n",
       "      <td>0.428023</td>\n",
       "      <td>4.779485</td>\n",
       "      <td>True</td>\n",
       "    </tr>\n",
       "    <tr>\n",
       "      <th>1857</th>\n",
       "      <td>TYROBP</td>\n",
       "      <td>0.955543</td>\n",
       "      <td>0.392321</td>\n",
       "      <td>2.435615</td>\n",
       "      <td>True</td>\n",
       "    </tr>\n",
       "    <tr>\n",
       "      <th>552</th>\n",
       "      <td>CD74</td>\n",
       "      <td>0.639937</td>\n",
       "      <td>0.362157</td>\n",
       "      <td>1.767015</td>\n",
       "      <td>True</td>\n",
       "    </tr>\n",
       "    <tr>\n",
       "      <th>1985</th>\n",
       "      <td>LGALS1</td>\n",
       "      <td>0.377264</td>\n",
       "      <td>0.352098</td>\n",
       "      <td>1.071472</td>\n",
       "      <td>True</td>\n",
       "    </tr>\n",
       "    <tr>\n",
       "      <th>679</th>\n",
       "      <td>ACTB</td>\n",
       "      <td>-0.258530</td>\n",
       "      <td>0.260833</td>\n",
       "      <td>0.991173</td>\n",
       "      <td>True</td>\n",
       "    </tr>\n",
       "    <tr>\n",
       "      <th>...</th>\n",
       "      <td>...</td>\n",
       "      <td>...</td>\n",
       "      <td>...</td>\n",
       "      <td>...</td>\n",
       "      <td>...</td>\n",
       "    </tr>\n",
       "    <tr>\n",
       "      <th>63</th>\n",
       "      <td>AK2</td>\n",
       "      <td>-0.000070</td>\n",
       "      <td>0.333194</td>\n",
       "      <td>0.000211</td>\n",
       "      <td>False</td>\n",
       "    </tr>\n",
       "    <tr>\n",
       "      <th>1508</th>\n",
       "      <td>TCF25</td>\n",
       "      <td>-0.000060</td>\n",
       "      <td>0.337620</td>\n",
       "      <td>0.000179</td>\n",
       "      <td>False</td>\n",
       "    </tr>\n",
       "    <tr>\n",
       "      <th>1549</th>\n",
       "      <td>SEZ6</td>\n",
       "      <td>0.000042</td>\n",
       "      <td>0.352521</td>\n",
       "      <td>0.000119</td>\n",
       "      <td>False</td>\n",
       "    </tr>\n",
       "    <tr>\n",
       "      <th>1715</th>\n",
       "      <td>SNAI1</td>\n",
       "      <td>0.000022</td>\n",
       "      <td>0.361804</td>\n",
       "      <td>0.000060</td>\n",
       "      <td>False</td>\n",
       "    </tr>\n",
       "    <tr>\n",
       "      <th>1350</th>\n",
       "      <td>BMF</td>\n",
       "      <td>-0.000012</td>\n",
       "      <td>0.346607</td>\n",
       "      <td>0.000033</td>\n",
       "      <td>False</td>\n",
       "    </tr>\n",
       "  </tbody>\n",
       "</table>\n",
       "<p>2035 rows × 5 columns</p>\n",
       "</div>"
      ],
      "text/plain": [
       "     feature_name  beta_mean  beta_std  effect_size  is_selected\n",
       "1735          CFD   2.045730  0.428023     4.779485         True\n",
       "1857       TYROBP   0.955543  0.392321     2.435615         True\n",
       "552          CD74   0.639937  0.362157     1.767015         True\n",
       "1985       LGALS1   0.377264  0.352098     1.071472         True\n",
       "679          ACTB  -0.258530  0.260833     0.991173         True\n",
       "...           ...        ...       ...          ...          ...\n",
       "63            AK2  -0.000070  0.333194     0.000211        False\n",
       "1508        TCF25  -0.000060  0.337620     0.000179        False\n",
       "1549         SEZ6   0.000042  0.352521     0.000119        False\n",
       "1715        SNAI1   0.000022  0.361804     0.000060        False\n",
       "1350          BMF  -0.000012  0.346607     0.000033        False\n",
       "\n",
       "[2035 rows x 5 columns]"
      ]
     },
     "execution_count": 93,
     "metadata": {},
     "output_type": "execute_result"
    }
   ],
   "source": [
    "selector.feature_stats"
   ]
  },
  {
   "cell_type": "markdown",
   "metadata": {},
   "source": [
    "# Generate perturbation conditions"
   ]
  },
  {
   "cell_type": "code",
   "execution_count": 89,
   "metadata": {
    "execution": {
     "iopub.execute_input": "2025-02-08T03:48:44.829770Z",
     "iopub.status.busy": "2025-02-08T03:48:44.829555Z",
     "iopub.status.idle": "2025-02-08T03:48:44.834124Z",
     "shell.execute_reply": "2025-02-08T03:48:44.833317Z",
     "shell.execute_reply.started": "2025-02-08T03:48:44.829751Z"
    },
    "trusted": true
   },
   "outputs": [],
   "source": [
    "def generate_perturbations(genes_iterable, generate_double_perts=True):\n",
    "    # Prepare a list of all perturbation conditions\n",
    "    single_perts = [[gene] for gene in genes_iterable]\n",
    "    if generate_double_perts:\n",
    "        double_perts = [(gene1, gene2) for gene1, gene2 in combinations(genes_iterable, 2)]\n",
    "    else:\n",
    "        double_perts = []\n",
    "    all_perts = (single_perts + double_perts)  # Replicate each perturbation three times\n",
    "\n",
    "    return all_perts\n",
    "\n",
    "perturbations_wellClassified_features = # generate_perturbations(selector.selected_features_, generate_double_perts=False)"
   ]
  },
  {
   "cell_type": "code",
   "execution_count": 90,
   "metadata": {
    "execution": {
     "iopub.execute_input": "2025-02-08T03:48:44.835316Z",
     "iopub.status.busy": "2025-02-08T03:48:44.834996Z",
     "iopub.status.idle": "2025-02-08T03:48:44.857910Z",
     "shell.execute_reply": "2025-02-08T03:48:44.857112Z",
     "shell.execute_reply.started": "2025-02-08T03:48:44.835288Z"
    },
    "trusted": true
   },
   "outputs": [
    {
     "data": {
      "text/plain": [
       "12"
      ]
     },
     "execution_count": 90,
     "metadata": {},
     "output_type": "execute_result"
    }
   ],
   "source": [
    "len(perturbations_wellClassified_features)"
   ]
  },
  {
   "cell_type": "markdown",
   "metadata": {},
   "source": [
    "# Initialize pretrained GEARS model & dataloader"
   ]
  },
  {
   "cell_type": "code",
   "execution_count": 26,
   "metadata": {
    "execution": {
     "iopub.execute_input": "2025-02-08T03:48:44.858887Z",
     "iopub.status.busy": "2025-02-08T03:48:44.858669Z",
     "iopub.status.idle": "2025-02-08T03:48:44.871423Z",
     "shell.execute_reply": "2025-02-08T03:48:44.870593Z",
     "shell.execute_reply.started": "2025-02-08T03:48:44.858868Z"
    },
    "trusted": true
   },
   "outputs": [],
   "source": [
    "gears_data_dir = f\"GEARS_data\"\n",
    "os.makedirs(gears_data_dir, exist_ok=True)"
   ]
  },
  {
   "cell_type": "code",
   "execution_count": 27,
   "metadata": {
    "execution": {
     "iopub.execute_input": "2025-02-08T03:48:44.872515Z",
     "iopub.status.busy": "2025-02-08T03:48:44.872244Z",
     "iopub.status.idle": "2025-02-08T03:48:46.582011Z",
     "shell.execute_reply": "2025-02-08T03:48:46.581364Z",
     "shell.execute_reply.started": "2025-02-08T03:48:44.872486Z"
    },
    "trusted": true
   },
   "outputs": [
    {
     "name": "stderr",
     "output_type": "stream",
     "text": [
      "Downloading...\n",
      "100%|██████████| 8.50M/8.50M [00:00<00:00, 12.1MiB/s]\n"
     ]
    },
    {
     "data": {
      "text/plain": [
       "{'hidden_size': 64,\n",
       " 'num_go_gnn_layers': 1,\n",
       " 'num_gene_gnn_layers': 1,\n",
       " 'decoder_hidden_size': 16,\n",
       " 'num_similar_genes_go_graph': 20,\n",
       " 'num_similar_genes_co_express_graph': 20,\n",
       " 'coexpress_threshold': 0.4,\n",
       " 'uncertainty': False,\n",
       " 'uncertainty_reg': 1,\n",
       " 'direction_lambda': 0.1,\n",
       " 'G_go': tensor([[   0,    0,    0,  ..., 9649, 9669, 9693],\n",
       "         [   0,  126,  514,  ..., 9649, 9669, 9693]]),\n",
       " 'G_go_weight': tensor([1.0000, 0.1739, 0.1600,  ..., 1.0000, 1.0000, 1.0000]),\n",
       " 'G_coexpress': tensor([[   0,    1,    2,  ..., 5050, 5052, 5053],\n",
       "         [   0,    1,    2,  ..., 5050, 5052, 5053]]),\n",
       " 'G_coexpress_weight': tensor([1.0000, 0.9998, 0.9998,  ..., 1.0000, 1.0000, 1.0000]),\n",
       " 'device': 'cuda:6',\n",
       " 'num_genes': 5054,\n",
       " 'num_perts': 9853,\n",
       " 'no_perturb': False}"
      ]
     },
     "execution_count": 27,
     "metadata": {},
     "output_type": "execute_result"
    }
   ],
   "source": [
    "# Download pretrained GEARS model (Norman et al. 2019 dataset)\n",
    "dataverse_download('https://dataverse.harvard.edu/api/access/datafile/10457098', f'{gears_data_dir}/model.zip')\n",
    "\n",
    "# Extract and set up model directory\n",
    "with ZipFile(f'{gears_data_dir}/model.zip', 'r') as zip:\n",
    "    zip.extractall(path = f'{gears_data_dir}/model')\n",
    "del zip\n",
    "\n",
    "# Load pretrained model config\n",
    "pretrainedConfig = pickle.loads(open(f'{gears_data_dir}/model/model_ckpt/config.pkl', 'rb').read())\n",
    "pretrainedConfig"
   ]
  },
  {
   "cell_type": "code",
   "execution_count": 28,
   "metadata": {
    "execution": {
     "iopub.execute_input": "2025-02-08T03:48:46.583122Z",
     "iopub.status.busy": "2025-02-08T03:48:46.582813Z",
     "iopub.status.idle": "2025-02-08T03:48:46.587321Z",
     "shell.execute_reply": "2025-02-08T03:48:46.586511Z",
     "shell.execute_reply.started": "2025-02-08T03:48:46.583093Z"
    },
    "trusted": true
   },
   "outputs": [],
   "source": [
    "# GEARS does not define the nonzero gene idx for unperturbed test data, so we need to do it manually\n",
    "\n",
    "def adata_define_nonzero_gene_idx(adata):\n",
    "    import scipy.sparse as sp\n",
    "    # Use scipy.sparse.find to get non-zero entries (rows, cols, values)\n",
    "    _, non_zero_cols, _ = sp.find(adata.X)\n",
    "    # Get unique columns with non-zero entries\n",
    "    unique_non_zero_cols = np.unique(non_zero_cols)\n",
    "    # Map these indices to gene names\n",
    "    non_zeros_gene_idx = {adata.var_names[idx]: idx for idx in unique_non_zero_cols}\n",
    "    # Store the result\n",
    "    adata.uns['non_zeros_gene_idx'] = non_zeros_gene_idx"
   ]
  },
  {
   "cell_type": "code",
   "execution_count": 29,
   "metadata": {
    "execution": {
     "iopub.execute_input": "2025-02-08T03:48:46.588372Z",
     "iopub.status.busy": "2025-02-08T03:48:46.588014Z",
     "iopub.status.idle": "2025-02-08T03:49:02.523616Z",
     "shell.execute_reply": "2025-02-08T03:49:02.522765Z",
     "shell.execute_reply.started": "2025-02-08T03:48:46.588349Z"
    },
    "trusted": true
   },
   "outputs": [
    {
     "name": "stderr",
     "output_type": "stream",
     "text": [
      "Downloading...\n",
      "100%|██████████| 9.46M/9.46M [00:00<00:00, 11.0MiB/s]\n",
      "Downloading...\n",
      "100%|██████████| 559k/559k [00:00<00:00, 1.62MiB/s]\n",
      "Creating pyg object for each cell in the data...\n",
      "Creating dataset file...\n",
      "100%|██████████| 1/1 [00:01<00:00,  1.94s/it]\n",
      "Done!\n",
      "Saving new dataset pyg object at GEARS_data/aml_scrna_embeddings/aml_scrna_embeddings/data_pyg/cell_graphs.pkl\n",
      "Done!\n",
      "Creating new splits....\n",
      "Saving new splits at GEARS_data/aml_scrna_embeddings/aml_scrna_embeddings/splits/aml_scrna_embeddings_no_split_1_0.75.pkl\n",
      "Done!\n",
      "Creating dataloaders....\n",
      "Dataloaders created...\n"
     ]
    }
   ],
   "source": [
    "aml_data = PertData(f'{gears_data_dir}/aml_scrna_embeddings')\n",
    "combined_adata.X = csr_matrix(combined_adata.X)\n",
    "adata_define_nonzero_gene_idx(combined_adata)\n",
    "aml_data.new_data_process(dataset_name='aml_scrna_embeddings', adata=combined_adata, skip_calc_de=True)\n",
    "aml_data.prepare_split(split='no_split')\n",
    "\n",
    "aml_data.dataloader = aml_data.get_dataloader(batch_size=1)\n",
    "# Convert condition boolean mask to numpy array\n",
    "combined_adata.obs['condition'] = combined_adata.obs['condition'].astype('str')"
   ]
  },
  {
   "cell_type": "code",
   "execution_count": 30,
   "metadata": {
    "execution": {
     "iopub.execute_input": "2025-02-08T03:49:02.524890Z",
     "iopub.status.busy": "2025-02-08T03:49:02.524576Z",
     "iopub.status.idle": "2025-02-08T03:49:02.532905Z",
     "shell.execute_reply": "2025-02-08T03:49:02.532074Z",
     "shell.execute_reply.started": "2025-02-08T03:49:02.524866Z"
    },
    "trusted": true
   },
   "outputs": [],
   "source": [
    "def GEARS_patched_init_(self, pert_data, \n",
    "                 device = 'cuda',\n",
    "                 weight_bias_track = False, \n",
    "                 proj_name = 'GEARS', \n",
    "                 exp_name = 'GEARS'):\n",
    "        \"\"\"\n",
    "        Initialize GEARS model\n",
    "\n",
    "        Parameters\n",
    "        ----------\n",
    "        pert_data: PertData object\n",
    "            dataloader for perturbation data\n",
    "        device: str\n",
    "            Device to run the model on. Default: 'cuda'\n",
    "        weight_bias_track: bool\n",
    "            Whether to track performance on wandb. Default: False\n",
    "        proj_name: str\n",
    "            Project name for wandb. Default: 'GEARS'\n",
    "        exp_name: str\n",
    "            Experiment name for wandb. Default: 'GEARS'\n",
    "\n",
    "        Returns\n",
    "        -------\n",
    "        None\n",
    "\n",
    "        \"\"\"\n",
    "        import torch\n",
    "        self.weight_bias_track = weight_bias_track\n",
    "        \n",
    "        if self.weight_bias_track:\n",
    "            import wandb\n",
    "            wandb.init(project=proj_name, name=exp_name)  \n",
    "            self.wandb = wandb\n",
    "        else:\n",
    "            self.wandb = None\n",
    "        \n",
    "        self.device = device\n",
    "        self.config = None\n",
    "        \n",
    "        self.dataloader = pert_data.dataloader\n",
    "        self.adata = pert_data.adata\n",
    "        self.node_map = pert_data.node_map\n",
    "        self.node_map_pert = pert_data.node_map_pert\n",
    "        self.data_path = pert_data.data_path\n",
    "        self.dataset_name = pert_data.dataset_name\n",
    "        self.split = pert_data.split\n",
    "        self.seed = pert_data.seed\n",
    "        self.train_gene_set_size = pert_data.train_gene_set_size\n",
    "        self.set2conditions = pert_data.set2conditions\n",
    "        self.subgroup = pert_data.subgroup\n",
    "        self.gene_list = pert_data.gene_names.values.tolist()\n",
    "        self.pert_list = pert_data.pert_names.tolist()\n",
    "        self.num_genes = len(self.gene_list)\n",
    "        self.num_perts = len(self.pert_list)\n",
    "        self.default_pert_graph = pert_data.default_pert_graph\n",
    "        self.saved_pred = {}\n",
    "        self.saved_logvar_sum = {}\n",
    "        \n",
    "        ctrl_mask = (self.adata.obs.condition == 'ctrl').to_numpy()\n",
    "        self._ctrl_expression = torch.tensor(  # Assign to a regular attribute\n",
    "                np.mean(self.adata.X[ctrl_mask], axis=0)\n",
    "            ).reshape(-1,).to(self.device)\n",
    "        pert_full_id2pert = dict(self.adata.obs[['condition_name', 'condition']].values)\n",
    "        self.dict_filter = {pert_full_id2pert[i]: j for i, j in\n",
    "                            self.adata.uns['non_zeros_gene_idx'].items() if\n",
    "                            i in pert_full_id2pert}\n",
    "        self.ctrl_adata = self.adata[self.adata.obs['condition'] == 'ctrl']\n",
    "        \n",
    "        gene_dict = {g:i for i,g in enumerate(self.gene_list)}\n",
    "        self.pert2gene = {p: gene_dict[pert] for p, pert in\n",
    "                          enumerate(self.pert_list) if pert in self.gene_list}"
   ]
  },
  {
   "cell_type": "code",
   "execution_count": null,
   "metadata": {
    "execution": {
     "execution_failed": "2025-02-08T04:03:44.542Z",
     "iopub.execute_input": "2025-02-08T03:49:02.534180Z",
     "iopub.status.busy": "2025-02-08T03:49:02.533901Z"
    },
    "trusted": true
   },
   "outputs": [
    {
     "name": "stdout",
     "output_type": "stream",
     "text": [
      "Running predictions for 17749 cells using batch_size=1\n",
      "\n",
      "Gene Availability Check:\n",
      "Available genes: 72/100\n",
      "\n",
      "Available genes:\n",
      "['ANXA1', 'IRF2BP2', 'VAMP8', 'TPP1', 'TAGLN2', 'CTSC', 'GSN', 'CD68', 'CYBA', 'LMNA', 'PRAME', 'RPS7', 'COMT', 'PFDN5', 'PRSS57', 'LST1', 'TPT1', 'CST3', 'HOXB4', 'LRRFIP1', 'TMSB4X', 'EGFL7', 'GRN', 'SRGN', 'SH3BGRL3', 'MRPL33', 'C1QTNF4', 'GAPDH', 'CORO1A', 'ACTB', 'ETS2', 'METTL7A', 'CFD', 'ITM2B', 'PPP1R18', 'RPS9', 'RPL18A', 'CD99', 'PLD3', 'CITED2', 'MYL6', 'COX6A1', 'IER2', 'TIMP1', 'CAPZA1', 'PDLIM1', 'HHEX', 'ACTG1', 'SRSF5', 'PAFAH1B2', 'RUNX1T1', 'UBASH3B', 'IQGAP1', 'LGALS1', 'CTSB', 'APLP2', 'MAPKAPK3', 'PRR13', 'SMYD3', 'MYL12A', 'AIF1', 'PTTG1IP', 'PYCARD', 'KDM5B', 'UQCR11', 'RNASET2', 'TPM3', 'GTSF1', 'CLIC1', 'ALDOA', 'TYROBP', 'MGST1']\n",
      "\n",
      "Unavailable genes:\n",
      "['RSRP1', 'CXorf21', 'JAML', 'MARCKS', 'MALAT1', 'C1orf186', 'ALDH3B1', 'CD74', 'CD36', 'RGS18', 'IL3RA', 'HLA-DRB1', 'FCN1', 'S100A8', 'S100A9', 'ITGB2', 'CAV1', 'XIST', 'HCST', 'HOXB-AS3', 'ITGAX', 'EVI2A', 'LGALS3', 'PLEK', 'NEAT1', 'HLA-DRA', 'CXCL8', 'ATP8B4']\n",
      "\n",
      "Proceeding with 72 valid perturbations\n"
     ]
    },
    {
     "name": "stderr",
     "output_type": "stream",
     "text": [
      "Baseline predictions:  52%|█████▏    | 9229/17749 [06:52<05:55, 23.98it/s] "
     ]
    }
   ],
   "source": [
    "from gears import GEARS\n",
    "import torch\n",
    "\n",
    "def check_available_perturbations(gears_wrapper, perturbations_to_predict):\n",
    "    \"\"\"\n",
    "    Check which genes from perturbations_to_predict are available in GEARS pert list.\n",
    "    \n",
    "    Args:\n",
    "        gears_wrapper: GEARS model instance\n",
    "        perturbations_to_predict: List of perturbations to check\n",
    "    \n",
    "    Returns:\n",
    "        tuple: (available_perts, unavailable_perts)\n",
    "    \"\"\"\n",
    "    available_perts = []\n",
    "    unavailable_perts = []\n",
    "    \n",
    "    # Flatten the perturbations list and get unique genes\n",
    "    all_genes = set()\n",
    "    for pert in perturbations_to_predict:\n",
    "        if isinstance(pert, (list, tuple)):\n",
    "            all_genes.update(pert)\n",
    "        else:\n",
    "            all_genes.add(pert)\n",
    "    \n",
    "    # Check each gene\n",
    "    for gene in all_genes:\n",
    "        if gene in gears_wrapper.pert_list:\n",
    "            available_perts.append(gene)\n",
    "        else:\n",
    "            unavailable_perts.append(gene)\n",
    "    \n",
    "    print(f\"\\nGene Availability Check:\")\n",
    "    print(f\"Available genes: {len(available_perts)}/{len(all_genes)}\")\n",
    "    print(\"\\nAvailable genes:\")\n",
    "    print(available_perts)\n",
    "    print(\"\\nUnavailable genes:\")\n",
    "    print(unavailable_perts)\n",
    "    \n",
    "    return available_perts, unavailable_perts\n",
    "\n",
    "\n",
    "def run_inference(aml_data, perturbations_to_predict):\n",
    "    \"\"\"\n",
    "    Run GEARS inference using existing batch size configuration.\n",
    "    \n",
    "    Args:\n",
    "        aml_data: Prepared PertData object with existing batch_size\n",
    "        perturbations_to_predict: List of perturbations to predict\n",
    "    \"\"\"\n",
    "    from scipy.stats import pearsonr, spearmanr\n",
    "    from types import MethodType\n",
    "    \n",
    "    n_cells = len(aml_data.adata)\n",
    "    batch_size = aml_data.dataloader['test_loader'].batch_size\n",
    "    print(f\"Running predictions for {n_cells} cells using batch_size={batch_size}\")\n",
    "\n",
    "    # Define the ctrl_expression property to return the attribute\n",
    "    def ctrl_expression_property(self):\n",
    "        return self._ctrl_expression\n",
    "\n",
    "    GEARS.ctrl_expression = property(ctrl_expression_property)\n",
    "\n",
    "    # Monkey patch the __init__ method\n",
    "    GEARS.__init__ = GEARS_patched_init_\n",
    "\n",
    "    # Load model for inference\n",
    "    gears_wrapper = GEARS(\n",
    "        aml_data,\n",
    "        device='cpu',# 'cuda' if torch.cuda.is_available() else 'mps' if torch.backends.mps.is_available() else 'cpu',\n",
    "        weight_bias_track=False\n",
    "    )\n",
    "    gears_wrapper.load_pretrained(f'{gears_data_dir}/model/model_ckpt')\n",
    "    gears_wrapper.model.eval()\n",
    "\n",
    "     # Check available perturbations before running predictions\n",
    "    available_perts, unavailable_perts = check_available_perturbations(gears_wrapper, perturbations_to_predict)\n",
    "    \n",
    "    # Filter perturbations to only include available ones\n",
    "    filtered_perturbations = [pert for pert in perturbations_to_predict \n",
    "                            if all(gene in available_perts for gene in (pert if isinstance(pert, (list, tuple)) else [pert]))]\n",
    "    \n",
    "    if not filtered_perturbations:\n",
    "        raise ValueError(\"No valid perturbations available for prediction!\")\n",
    "    \n",
    "    print(f\"\\nProceeding with {len(filtered_perturbations)} valid perturbations\")\n",
    "    \n",
    "    # Get cell IDs and original expression\n",
    "    cell_ids = aml_data.adata.obs_names\n",
    "    original_expression = aml_data.adata.X.toarray() if issparse(aml_data.adata.X) else aml_data.adata.X\n",
    "    \n",
    "    predictions = {}\n",
    "    with torch.no_grad():\n",
    "        # Process baseline (no perturbation) in batches\n",
    "        baseline_preds = []\n",
    "        for i in tqdm(range(0, n_cells, batch_size), desc=\"Baseline predictions\"):\n",
    "            batch_end = min(i + batch_size, n_cells)\n",
    "            batch_size_actual = batch_end - i\n",
    "            batch_preds = gears_wrapper.predict([[] for _ in range(batch_size_actual)])\n",
    "            baseline_preds.append(batch_preds[''])  # no perturbation is empty string\n",
    "        \n",
    "        predictions['no_perturbation'] = baseline_preds\n",
    "        \n",
    "        # Calculate baseline metrics for each cell\n",
    "        baseline_metrics = pd.DataFrame(index=cell_ids)\n",
    "        baseline_metrics['mse'] = np.mean((original_expression - baseline_preds) ** 2, axis=1)\n",
    "        baseline_metrics['pearson'] = [\n",
    "            pearsonr(original_expression[i], baseline_preds[i])[0] \n",
    "            for i in range(n_cells)\n",
    "        ]\n",
    "        baseline_metrics['spearman'] = [\n",
    "            spearmanr(original_expression[i], baseline_preds[i])[0]\n",
    "            for i in range(n_cells)\n",
    "        ]\n",
    "        \n",
    "        # Get predictions for all perturbations\n",
    "        # Accumulate predictions across all cells\n",
    "        # We'll use a dictionary where each key is a perturbation (the key returned by .predict) and \n",
    "        # its value is the list of prediction arrays from each batch.\n",
    "    #     all_batch_preds = {}\n",
    "        \n",
    "    #     for i in tqdm(range(0, n_cells, batch_size), desc=\"Predicting perturbations\"):\n",
    "    #         # Call .predict on the list of filtered perturbations for the current batch\n",
    "    #         batch_preds = gears_wrapper.predict(filtered_perturbations)\n",
    "    #         for key, preds in batch_preds.items():\n",
    "    #             # If this key is being encountered for the first time, initialize the list.\n",
    "    #             if key not in all_batch_preds:\n",
    "    #                 all_batch_preds[key] = [preds]\n",
    "    #             else:\n",
    "    #                 all_batch_preds[key].append(preds)\n",
    "    \n",
    "    # # Concatenate predictions for each perturbation (each key) across batch axis (axis=0)\n",
    "    # predictions = { key: val for key, val in (all_batch_preds | predictions).items() }\n",
    "    \n",
    "    # # Create predictions df with cell IDs from the observation table in aml_data.adata\n",
    "    # cell_ids = aml_data.adata.obs_names\n",
    "    # predictions_df = pd.DataFrame(predictions, index=cell_ids)\n",
    "    predictions_df = None\n",
    "    \n",
    "    print(\"\\nBaseline Prediction Performance:\")\n",
    "    print(f\"Mean MSE: {baseline_metrics['mse'].mean():.4f} (±{baseline_metrics['mse'].std():.4f})\")\n",
    "    print(f\"Mean Pearson: {baseline_metrics['pearson'].mean():.4f} (±{baseline_metrics['pearson'].std():.4f})\")\n",
    "    print(f\"Mean Spearman: {baseline_metrics['spearman'].mean():.4f} (±{baseline_metrics['spearman'].std():.4f})\")\n",
    "    \n",
    "    # Add percentile rankings\n",
    "    for metric in ['mse', 'pearson', 'spearman']:\n",
    "        baseline_metrics[f'{metric}_percentile'] = baseline_metrics[metric].rank(pct=True)\n",
    "    \n",
    "    \n",
    "    return predictions_df, baseline_metrics, filtered_perturbations, gears_wrapper\n",
    "\n",
    "predictions_df, baseline_metrics, filtered_perturbations, gears_wrapper = run_inference(aml_data, perturbations_wellClassified_features)\n",
    "\n",
    "# Find cells with best/worst predictions\n",
    "best_predicted = baseline_metrics.nsmallest(5, 'mse')\n",
    "worst_predicted = baseline_metrics.nlargest(5, 'mse')\n",
    "\n",
    "# Get perturbation effects relative to baseline\n",
    "def get_perturbation_effect(predictions_df, pert):\n",
    "    return predictions_df[pert] - predictions_df['no_perturbation']\n",
    "\n",
    "# Example: Calculate effect size for a perturbation\n",
    "# pert_effect = get_perturbation_effect(predictions_df, str(filtered_perturbations[0][0]))\n",
    "\n",
    "# Analyze cells with different baseline prediction quality\n",
    "good_cells = baseline_metrics[baseline_metrics['mse_percentile'] < 0.1].index\n",
    "poor_cells = baseline_metrics[baseline_metrics['mse_percentile'] > 0.9].index\n",
    "\n",
    "# good_cell_predictions = predictions_df.loc[good_cells]\n",
    "# poor_cell_predictions = predictions_df.loc[poor_cells]"
   ]
  },
  {
   "cell_type": "code",
   "execution_count": null,
   "metadata": {
    "execution": {
     "execution_failed": "2025-02-08T04:03:44.543Z"
    },
    "trusted": true
   },
   "outputs": [],
   "source": [
    "# # Get the metrics for good cells\n",
    "# good_cells_metrics = baseline_metrics.loc[good_cells]\n",
    "\n",
    "# # Find the worst performing cell among good cells (highest MSE)\n",
    "# worst_of_good = good_cells_metrics.nlargest(1, 'mse')\n",
    "\n",
    "# print(\"Metrics for worst-performing cell among good cells:\")\n",
    "# print(f\"Cell ID: {worst_of_good.index[0]}\")\n",
    "# print(f\"MSE: {worst_of_good['mse'].iloc[0]:.6f}\")\n",
    "# print(f\"Pearson correlation: {worst_of_good['pearson'].iloc[0]:.6f}\")\n",
    "# print(f\"Spearman correlation: {worst_of_good['spearman'].iloc[0]:.6f}\")\n",
    "# print(f\"MSE percentile (overall): {worst_of_good['mse_percentile'].iloc[0]:.6f}\")"
   ]
  },
  {
   "cell_type": "code",
   "execution_count": null,
   "metadata": {
    "execution": {
     "execution_failed": "2025-02-08T04:03:44.542Z"
    },
    "trusted": true
   },
   "outputs": [],
   "source": [
    "# best_of_good = good_cells_metrics.nsmallest(1, 'mse')\n",
    "\n",
    "# print(\"Metrics for best-performing cell among good cells:\")\n",
    "# print(f\"Cell ID: {best_of_good.index[0]}\")\n",
    "# print(f\"MSE: {best_of_good['mse'].iloc[0]:.6f}\")\n",
    "# print(f\"Pearson correlation: {best_of_good['pearson'].iloc[0]:.6f}\")\n",
    "# print(f\"Spearman correlation: {best_of_good['spearman'].iloc[0]:.6f}\")\n",
    "# print(f\"MSE percentile (overall): {best_of_good['mse_percentile'].iloc[0]:.6f}\")"
   ]
  },
  {
   "cell_type": "code",
   "execution_count": null,
   "metadata": {
    "execution": {
     "execution_failed": "2025-02-08T04:03:44.542Z"
    },
    "trusted": true
   },
   "outputs": [],
   "source": [
    "# import matplotlib.pyplot as plt\n",
    "# import seaborn as sns\n",
    "# import numpy as np\n",
    "\n",
    "# # Get the cell ID of interest\n",
    "# cell_ids = best_of_good.index\n",
    "\n",
    "# # Get actual and predicted values for this cell\n",
    "# actual_values = aml_data.adata[cell_ids].X.toarray() if issparse(aml_data.adata.X) else aml_data.adata[cell_ids].X\n",
    "# # predicted_values = predictions_df.loc[cell_id, 'no_perturbation']\n",
    "\n",
    "# # Create a DataFrame for easier plotting\n",
    "# comparison_df = pd.DataFrame({\n",
    "#     'Actual': np.mean(actual_values, axis=0),\n",
    "#     # 'Predicted': predicted_values,\n",
    "#     'Gene': aml_data.adata.var_names\n",
    "# })\n",
    "\n",
    "# # Alternative approach to categorize expression levels\n",
    "# expression_quantiles = comparison_df['Actual'].quantile([0.25, 0.5, 0.75])\n",
    "# comparison_df['Expression_Level'] = 'Very Low'\n",
    "# comparison_df.loc[comparison_df['Actual'] > expression_quantiles[0.25], 'Expression_Level'] = 'Low'\n",
    "# comparison_df.loc[comparison_df['Actual'] > expression_quantiles[0.5], 'Expression_Level'] = 'Medium'\n",
    "# comparison_df.loc[comparison_df['Actual'] > expression_quantiles[0.75], 'Expression_Level'] = 'High'\n",
    "\n",
    "# # # Create a figure with multiple subplots\n",
    "# # fig, (ax1, ax2) = plt.subplots(1, 2, figsize=(20, 10))\n",
    "\n",
    "# # # 1. Scatter plot with expression levels colored\n",
    "# # sns.scatterplot(data=comparison_df, \n",
    "# #                 x='Actual', \n",
    "# #                 y='Predicted', \n",
    "# #                 hue='Expression_Level',\n",
    "# #                 alpha=0.6,\n",
    "# #                 ax=ax1)\n",
    "# # ax1.plot([min(actual_values), max(actual_values)], \n",
    "# #          [min(actual_values), max(actual_values)], \n",
    "# #          'r--', label='Perfect Prediction')\n",
    "# # ax1.set_title(f'Actual vs Predicted Values\\nPearson: {best_of_good[\"pearson\"].iloc[0]:.3f}, Spearman: {best_of_good[\"spearman\"].iloc[0]:.3f}')\n",
    "# # ax1.set_xlabel('Actual Expression')\n",
    "# # ax1.set_ylabel('Predicted Expression')\n",
    "\n",
    "# # # 2. Rank scatter plot\n",
    "# # actual_ranks = comparison_df['Actual'].rank()\n",
    "# # predicted_ranks = comparison_df['Predicted'].rank()\n",
    "# # sns.scatterplot(x=actual_ranks, \n",
    "# #                 y=predicted_ranks, \n",
    "# #                 hue=comparison_df['Expression_Level'],\n",
    "# #                 alpha=0.6,\n",
    "# #                 ax=ax2)\n",
    "# # ax2.plot([min(actual_ranks), max(actual_ranks)], \n",
    "# #          [min(actual_ranks), max(actual_ranks)], \n",
    "# #          'r--', label='Perfect Rank Agreement')\n",
    "# # ax2.set_title('Rank Comparison\\n(Shows Spearman Correlation)')\n",
    "# # ax2.set_xlabel('Actual Expression Rank')\n",
    "# # ax2.set_ylabel('Predicted Expression Rank')\n",
    "\n",
    "# # plt.tight_layout()\n",
    "\n",
    "# # # 3. Additional analysis of outliers and expression levels\n",
    "# # print(\"\\nAnalysis of Prediction Quality by Expression Level:\")\n",
    "# # for level in ['Very Low', 'Low', 'Medium', 'High']:\n",
    "# #     level_df = comparison_df[comparison_df['Expression_Level'] == level]\n",
    "# #     if len(level_df) > 1:  # Need at least 2 points for correlation\n",
    "# #         pearson = pearsonr(level_df['Actual'], level_df['Predicted'])[0]\n",
    "# #         spearman = spearmanr(level_df['Actual'], level_df['Predicted'])[0]\n",
    "# #         mean_expr = level_df['Actual'].mean()\n",
    "# #         print(f\"\\n{level} Expression Genes:\")\n",
    "# #         print(f\"Number of genes: {len(level_df)}\")\n",
    "# #         print(f\"Mean expression: {mean_expr:.3f}\")\n",
    "# #         print(f\"Pearson correlation: {pearson:.3f}\")\n",
    "# #         print(f\"Spearman correlation: {spearman:.3f}\")\n",
    "\n",
    "# # # 4. Find the top 10 most discrepant predictions\n",
    "# # comparison_df['Absolute_Error'] = abs(comparison_df['Actual'] - comparison_df['Predicted'])\n",
    "# # print(\"\\nTop 10 Most Discrepant Predictions:\")\n",
    "# # print(comparison_df.nlargest(10, 'Absolute_Error')[['Gene', 'Actual', 'Predicted', 'Absolute_Error', 'Expression_Level']])\n",
    "\n",
    "# # # 5. Additional statistics about zero expression genes\n",
    "# # zero_expr_count = (comparison_df['Actual'] == 0).sum()\n",
    "# # zero_pred_count = (comparison_df['Predicted'] == 0).sum()\n",
    "# # print(f\"\\nZero Expression Statistics:\")\n",
    "# # print(f\"Number of genes with zero actual expression: {zero_expr_count}\")\n",
    "# # print(f\"Number of genes with zero predicted expression: {zero_pred_count}\")"
   ]
  },
  {
   "cell_type": "code",
   "execution_count": null,
   "metadata": {
    "execution": {
     "execution_failed": "2025-02-08T04:03:44.542Z"
    },
    "trusted": true
   },
   "outputs": [],
   "source": [
    "# comparison_df"
   ]
  },
  {
   "cell_type": "markdown",
   "metadata": {},
   "source": [
    "# Perturbation"
   ]
  },
  {
   "cell_type": "code",
   "execution_count": null,
   "metadata": {
    "execution": {
     "execution_failed": "2025-02-08T04:03:44.543Z"
    },
    "trusted": true
   },
   "outputs": [],
   "source": [
    "def reinit_gears(self):\n",
    "        \"\"\"Reinitialize the GEARS model\"\"\"\n",
    "        # Define the ctrl_expression property to return the attribute\n",
    "        def ctrl_expression_property(self):\n",
    "            return self._ctrl_expression\n",
    "\n",
    "        GEARS.ctrl_expression = property(ctrl_expression_property)\n",
    "\n",
    "        def GEARS_patched_init_(self, pert_data, \n",
    "                 device = 'cuda',\n",
    "                 weight_bias_track = False, \n",
    "                 proj_name = 'GEARS', \n",
    "                 exp_name = 'GEARS'):\n",
    "            \"\"\"\n",
    "            Initialize GEARS model\n",
    "\n",
    "            Parameters\n",
    "            ----------\n",
    "            pert_data: PertData object\n",
    "                dataloader for perturbation data\n",
    "            device: str\n",
    "                Device to run the model on. Default: 'cuda'\n",
    "            weight_bias_track: bool\n",
    "                Whether to track performance on wandb. Default: False\n",
    "            proj_name: str\n",
    "                Project name for wandb. Default: 'GEARS'\n",
    "            exp_name: str\n",
    "                Experiment name for wandb. Default: 'GEARS'\n",
    "\n",
    "            Returns\n",
    "            -------\n",
    "            None\n",
    "\n",
    "            \"\"\"\n",
    "            import torch\n",
    "            self.weight_bias_track = weight_bias_track\n",
    "            \n",
    "            if self.weight_bias_track:\n",
    "                import wandb\n",
    "                wandb.init(project=proj_name, name=exp_name)  \n",
    "                self.wandb = wandb\n",
    "            else:\n",
    "                self.wandb = None\n",
    "            \n",
    "            self.device = device\n",
    "            self.config = None\n",
    "            \n",
    "            self.dataloader = pert_data.dataloader\n",
    "            self.adata = pert_data.adata\n",
    "            self.node_map = pert_data.node_map\n",
    "            self.node_map_pert = pert_data.node_map_pert\n",
    "            self.data_path = pert_data.data_path\n",
    "            self.dataset_name = pert_data.dataset_name\n",
    "            self.split = pert_data.split\n",
    "            self.seed = pert_data.seed\n",
    "            self.train_gene_set_size = pert_data.train_gene_set_size\n",
    "            self.set2conditions = pert_data.set2conditions\n",
    "            self.subgroup = pert_data.subgroup\n",
    "            self.gene_list = pert_data.gene_names.values.tolist()\n",
    "            self.pert_list = pert_data.pert_names.tolist()\n",
    "            self.num_genes = len(self.gene_list)\n",
    "            self.num_perts = len(self.pert_list)\n",
    "            self.default_pert_graph = pert_data.default_pert_graph\n",
    "            self.saved_pred = {}\n",
    "            self.saved_logvar_sum = {}\n",
    "            \n",
    "            ctrl_mask = (self.adata.obs.condition == 'ctrl').to_numpy()\n",
    "            self._ctrl_expression = torch.tensor(  # Assign to a regular attribute\n",
    "                    np.mean(self.adata.X[ctrl_mask], axis=0)\n",
    "                ).reshape(-1,).to(self.device)\n",
    "            pert_full_id2pert = dict(self.adata.obs[['condition_name', 'condition']].values)\n",
    "            self.dict_filter = {pert_full_id2pert[i]: j for i, j in\n",
    "                                self.adata.uns['non_zeros_gene_idx'].items() if\n",
    "                                i in pert_full_id2pert}\n",
    "            self.ctrl_adata = self.adata[self.adata.obs['condition'] == 'ctrl']\n",
    "            \n",
    "            gene_dict = {g:i for i,g in enumerate(self.gene_list)}\n",
    "            self.pert2gene = {p: gene_dict[pert] for p, pert in\n",
    "                            enumerate(self.pert_list) if pert in self.gene_list}\n",
    "\n",
    "        # Monkey patch the __init__ method\n",
    "        GEARS.__init__ = GEARS_patched_init_\n",
    "\n",
    "        # Load model for inference\n",
    "        gears_wrapper = GEARS(\n",
    "            self.original_pert_data,\n",
    "            device='cuda' if torch.cuda.is_available() else 'mps' if torch.backends.mps.is_available() else 'cpu',\n",
    "            weight_bias_track=False\n",
    "        )\n",
    "        gears_wrapper.load_pretrained(self.gears_data_dir)\n",
    "        gears_wrapper.model.eval()\n",
    "\n",
    "        torch.cuda.empty_cache()\n",
    "        if torch.backends.mps.is_available():\n",
    "            torch.mps.empty_cache()\n",
    "\n",
    "        return gears_wrapper"
   ]
  },
  {
   "cell_type": "code",
   "execution_count": null,
   "metadata": {
    "execution": {
     "execution_failed": "2025-02-08T04:03:44.543Z"
    },
    "trusted": true
   },
   "outputs": [],
   "source": [
    "import torch\n",
    "import perturbation_evaluator\n",
    "\n",
    "import importlib\n",
    "# Reload the module to apply local changes\n",
    "importlib.reload(perturbation_evaluator)\n",
    "\n",
    "# Get the list of upregulated genes from the filtered AnnData.\n",
    "upregulated_genes = combined_adata_upregulated.var_names\n",
    "\n",
    "# Create a mapping from gene name to index based on aml_data.adata.\n",
    "gene_to_index = {gene: i for i, gene in enumerate(aml_data.adata.var_names)}\n",
    "\n",
    "# Now, for each upregulated gene, get its index from aml_data.adata.\n",
    "gene_subset = [gene_to_index[gene] for gene in upregulated_genes if gene in gene_to_index]\n",
    "\n",
    "print(f\"Found indices for {len(gene_subset)} genes out of {len(upregulated_genes)} upregulated genes.\")"
   ]
  },
  {
   "cell_type": "code",
   "execution_count": null,
   "metadata": {
    "execution": {
     "execution_failed": "2025-02-08T04:03:44.543Z"
    },
    "trusted": true
   },
   "outputs": [],
   "source": [
    "device = 'cuda' if torch.cuda.is_available() else 'cpu'\n",
    "\n",
    "# Extract cell states for all these good cells.\n",
    "sorted_adata = aml_data.adata[good_cells].copy()\n",
    "\n",
    "# Convert sorted_adata to a dense array so that cells can be sorted by their overall expression.\n",
    "if issparse(sorted_adata.X):\n",
    "    X_array = sorted_adata.X.toarray()\n",
    "else:\n",
    "    X_array = sorted_adata.X\n",
    "\n",
    "# Sort the cells by total expression (row sum)\n",
    "X_tensor = torch.tensor(X_array)\n",
    "_, sort_idx = torch.sort(X_tensor.sum(dim=1), descending=False)\n",
    "\n",
    "# Reorder the cells by sorted indices\n",
    "sorted_adata = sorted_adata[sort_idx.numpy()]\n",
    "\n",
    "# Separate the good cells into normal and malignant subsets based on 'PredictionRefined'\n",
    "healthy_adata = sorted_adata[sorted_adata.obs['PredictionRefined'] == 'normal']\n",
    "cancer_adata = sorted_adata[sorted_adata.obs['PredictionRefined'] == 'malignant']"
   ]
  },
  {
   "cell_type": "code",
   "execution_count": null,
   "metadata": {
    "trusted": true
   },
   "outputs": [],
   "source": [
    "import pickle\n",
    "import pandas as pd\n",
    "from datetime import datetime\n",
    "\n",
    "def save_evaluation_results(evaluation_results, filename_prefix=\"evaluation_results\", save_pickle=False):\n",
    "    \"\"\"\n",
    "    Save evaluation results to CSV (and optionally as a pickle file).\n",
    "\n",
    "    Parameters\n",
    "    ----------\n",
    "    evaluation_results : list\n",
    "        A list of evaluation result objects. Each result should have at least the following:\n",
    "            - result.perturbation : an object (converted to a string for saving)\n",
    "            - result.scores : a dict with keys:\n",
    "                   'baseline_classifier', 'classifier', 'wasserstein', 'stability', 'density', 'total'\n",
    "    filename_prefix : str, optional\n",
    "        Prefix for the output filenames (default: \"evaluation_results\").\n",
    "    save_pickle : bool, optional\n",
    "        Whether to also save the raw evaluation results as a pickle file (default: False).\n",
    "\n",
    "    Returns\n",
    "    -------\n",
    "    tuple:\n",
    "        csv_filename (str): Filename of the saved CSV file.\n",
    "        pickle_filename (str or None): Filename of the saved pickle file if save_pickle is True; otherwise, None.\n",
    "    \"\"\"\n",
    "    # Create a timestamp that will be appended to the filename\n",
    "    timestamp = datetime.now().strftime(\"%Y%m%d_%H%M%S\")\n",
    "\n",
    "    # Prepare a list of dictionaries from the results\n",
    "    results_list = []\n",
    "    for result in evaluation_results:\n",
    "        result_dict = {\n",
    "            'perturbation': str(result.perturbation),\n",
    "            'baseline_classifier': result.scores.get('baseline_classifier', None),\n",
    "            'classifier_score': result.scores.get('classifier', None),\n",
    "            'wasserstein': result.scores.get('wasserstein', None),\n",
    "            'stability': result.scores.get('stability', None),\n",
    "            'density': result.scores.get('density', None),\n",
    "            'total_score': result.scores.get('total', None)\n",
    "        }\n",
    "        results_list.append(result_dict)\n",
    "\n",
    "    # Convert the list to a DataFrame\n",
    "    results_df = pd.DataFrame(results_list)\n",
    "\n",
    "    # Save the DataFrame to a CSV file\n",
    "    csv_filename = f\"{filename_prefix}_{timestamp}.csv\"\n",
    "    results_df.to_csv(csv_filename, index=False)\n",
    "\n",
    "    # Optionally, also save the raw evaluation results as a pickle file\n",
    "    pickle_filename = None\n",
    "    if save_pickle:\n",
    "        pickle_filename = f\"{filename_prefix}_{timestamp}.pkl\"\n",
    "        with open(pickle_filename, \"wb\") as f:\n",
    "            pickle.dump(evaluation_results, f)\n",
    "\n",
    "    # Report the saved filenames\n",
    "    print(\"Results saved to:\")\n",
    "    if save_pickle:\n",
    "        print(f\"1. {pickle_filename}\")\n",
    "        print(f\"2. {csv_filename}\")\n",
    "    else:\n",
    "        print(csv_filename)\n",
    "\n",
    "    return csv_filename, pickle_filename"
   ]
  },
  {
   "cell_type": "code",
   "execution_count": null,
   "metadata": {
    "trusted": true
   },
   "outputs": [],
   "source": [
    "def extract_perturbations_by_classifier_change(evaluation_results, scenario=\"healthy_to_aml\"):\n",
    "    \"\"\"\n",
    "    Extract perturbations from evaluation results based on the change in classifier score relative to baseline.\n",
    "    \n",
    "    This version expects evaluation_results to be a pandas DataFrame (for example, loaded from the CSV file).\n",
    "    \n",
    "    Parameters\n",
    "    ----------\n",
    "    evaluation_results : pd.DataFrame\n",
    "        A DataFrame of evaluation results with at least the following columns:\n",
    "            - 'perturbation'\n",
    "            - 'baseline_classifier'\n",
    "            - 'classifier'\n",
    "    scenario : str, optional\n",
    "        The scenario to use for selecting perturbations. Options are:\n",
    "          - \"healthy_to_aml\": Select perturbations that increase the classifier score over the baseline\n",
    "                              (i.e. push healthy cells into an AML-like state).\n",
    "          - \"aml_to_healthy\": Select perturbations that decrease the classifier score below the baseline\n",
    "                              (i.e. push AML cells toward a healthy state).\n",
    "    \n",
    "    Returns\n",
    "    -------\n",
    "    selected_perturbations : list\n",
    "        A list of perturbation identifiers (as they were saved in the CSV) that satisfy the condition.\n",
    "    \"\"\"\n",
    "    import pandas as pd\n",
    "\n",
    "    if scenario not in [\"healthy_to_aml\", \"aml_to_healthy\"]:\n",
    "        raise ValueError(\"Scenario must be one of 'healthy_to_aml' or 'aml_to_healthy'.\")\n",
    "\n",
    "    selected_perturbations = []\n",
    "    for idx, row in evaluation_results.iterrows():\n",
    "        baseline = row.get('baseline_classifier')\n",
    "        new_score = row.get('classifier')\n",
    "        # Skip if we cannot find either score (or if they're NaN)\n",
    "        if pd.isna(baseline) or pd.isna(new_score):\n",
    "            continue\n",
    "\n",
    "        if scenario == \"healthy_to_aml\" and new_score > 0.5:\n",
    "            selected_perturbations.append(row['perturbation'])\n",
    "        elif scenario == \"aml_to_healthy\" and new_score < 0.5:\n",
    "            selected_perturbations.append(row['perturbation'])\n",
    "\n",
    "    return selected_perturbations[:100]"
   ]
  },
  {
   "cell_type": "markdown",
   "metadata": {},
   "source": [
    "## healthy -> AML"
   ]
  },
  {
   "cell_type": "code",
   "execution_count": null,
   "metadata": {
    "execution": {
     "execution_failed": "2025-02-08T04:03:44.543Z"
    },
    "trusted": true
   },
   "outputs": [],
   "source": [
    "aml_LoF_genes = ['TP53', 'RUNX1', 'CEBPA', 'TET2', 'SPI1', 'GATA2', 'IKZF1', 'IRF8', 'DNMT3A', 'PHLPP1', 'PHLPP2', 'FLT3', 'NPM1', 'IDH1', 'IDH2', 'ASXL1', 'CBL']\n",
    "cancer_driving_perturbations = generate_perturbations(\n",
    "    list(set(gears_wrapper.pert_list) & set(aml_LoF_genes))\n",
    ")\n",
    "len(cancer_driving_perturbations)\n",
    "print(f\"Number of cancer driving perturbations: {len(cancer_driving_perturbations)}\")\n",
    "cancer_driving_perturbations"
   ]
  },
  {
   "cell_type": "code",
   "execution_count": null,
   "metadata": {
    "trusted": true
   },
   "outputs": [],
   "source": [
    "all_perturbations = generate_perturbations(list(set(gears_wrapper.pert_list) & set(healthy_adata.var.index.tolist())), generate_double_perts=False)"
   ]
  },
  {
   "cell_type": "code",
   "execution_count": null,
   "metadata": {
    "execution": {
     "execution_failed": "2025-02-08T03:34:56.521Z",
     "iopub.execute_input": "2025-02-08T03:21:29.966778Z",
     "iopub.status.busy": "2025-02-08T03:21:29.966522Z"
    },
    "trusted": true
   },
   "outputs": [
    {
     "name": "stderr",
     "output_type": "stream",
     "text": [
      "Found local copy...\n",
      "Found local copy...\n",
      "Creating pyg object for each cell in the data...\n",
      "Creating dataset file...\n",
      "100%|██████████| 1/1 [00:00<00:00, 20.23it/s]\n",
      "Done!\n",
      "Saving new dataset pyg object at GEARS_data/model/pert_data/single_cell/data_pyg/cell_graphs.pkl\n",
      "Done!\n",
      "Local copy of split is detected. Loading...\n",
      "Done!\n",
      "Creating dataloaders....\n",
      "Dataloaders created...\n"
     ]
    },
    {
     "name": "stdout",
     "output_type": "stream",
     "text": [
      "here1\n"
     ]
    },
    {
     "name": "stderr",
     "output_type": "stream",
     "text": [
      "Evaluating perturbations:  95%|█████████▌| 2915/3055 [12:40<14:14,  6.10s/it]"
     ]
    }
   ],
   "source": [
    "def evaluate_perturbations(perturbation_list, scenario=\"aml_to_healthy\", results_filename=\"healthyToAML\"):\n",
    "    \"\"\"\n",
    "    Evaluate perturbations using the generator-based evaluator and immediately write results to CSV.\n",
    "    \n",
    "    Parameters:\n",
    "        perturbation_list (list): List of candidate perturbations.\n",
    "        scenario (str, optional): Scenario to use.\n",
    "                                  For example, \"aml_to_healthy\" means perturb healthy cells toward an AML-like state.\n",
    "        results_filename (str, optional): Prefix for the CSV file to be written.\n",
    "    \n",
    "    Returns:\n",
    "        csv_filename (str): The name of the CSV file that was written.\n",
    "    \"\"\"\n",
    "    import csv\n",
    "    from datetime import datetime\n",
    "\n",
    "    # Determine which AnnData to use as the current (baseline) state.\n",
    "    current_adata = healthy_adata if scenario == 'aml_to_healthy' else cancer_adata\n",
    "\n",
    "    evaluator = perturbation_evaluator.PerturbationEvaluator(\n",
    "        classifier=selector,\n",
    "        reference_state=cancer_adata if scenario == 'aml_to_healthy' else healthy_adata,\n",
    "        device=device,\n",
    "        invert_classifier_score=False,\n",
    "        gears_data_dir=f\"{gears_data_dir}/model\",\n",
    "        gene_subset=gene_subset,\n",
    "        template_adata=combined_adata\n",
    "    )\n",
    "    \n",
    "    # Use the generator-based evaluation method to process perturbations in chunks.\n",
    "    results_gen = evaluator.evaluate_perturbations_generator(current_adata, perturbation_list, chunk_size=100)\n",
    "    \n",
    "    # Create a CSV filename with an appended timestamp.\n",
    "    timestamp = datetime.now().strftime(\"%Y%m%d_%H%M%S\")\n",
    "    csv_filename = f\"{results_filename}_{timestamp}.csv\"\n",
    "    \n",
    "    # Open the CSV file for writing and write a header.\n",
    "    with open(csv_filename, \"w\", newline=\"\") as csvfile:\n",
    "        writer = csv.writer(csvfile)\n",
    "        header = [\"perturbation\", \"baseline_classifier\", \"classifier\", \"wasserstein\", \"stability\", \"density\", \"total\"]\n",
    "        writer.writerow(header)\n",
    "        \n",
    "        # Iterate over each result from the generator and write it to the CSV.\n",
    "        for result in results_gen:\n",
    "            scores = result.scores\n",
    "            row = [\n",
    "                result.perturbation,\n",
    "                scores.get(\"baseline_classifier\", None),\n",
    "                scores.get(\"classifier\", None),\n",
    "                scores.get(\"wasserstein\", None),\n",
    "                scores.get(\"stability\", None),\n",
    "                scores.get(\"density\", None),\n",
    "                scores.get(\"total\", None)\n",
    "            ]\n",
    "            writer.writerow(row)\n",
    "    \n",
    "    print(f\"Results saved to {csv_filename}\")\n",
    "    return csv_filename"
   ]
  },
  {
   "cell_type": "code",
   "execution_count": null,
   "metadata": {
    "trusted": true
   },
   "outputs": [],
   "source": [
    "evaluation_result_path = evaluate_perturbations(all_perturbations, \n",
    "                                                results_filename=\"healthyToAML_allCases_allPerts\")\n",
    "\n",
    "# Load the CSV file containing the evaluation results.\n",
    "results_df = pd.read_csv(evaluation_result_path)\n",
    "\n",
    "if not results_df.empty:\n",
    "    print(\"Perturbation Evaluation Results:\")\n",
    "    for idx, row in results_df.iterrows():\n",
    "        print(f\"\\nPerturbation #{idx+1}:\")\n",
    "        print(f\"  Perturbation: {row['perturbation']}\")\n",
    "        print(f\"  Baseline Classifier Score: {float(row['baseline_classifier']):.4f}\")\n",
    "        print(f\"  Predicted Classifier Score: {float(row['classifier']):.4f}\")\n",
    "        print(f\"  Wasserstein Distance: {float(row['wasserstein']):.4f}\")\n",
    "        print(f\"  Stability: {float(row['stability']):.4f}\")\n",
    "        print(f\"  Density: {float(row['density']):.4f}\")\n",
    "        print(f\"  Total Score: {float(row['total']):.4f}\")\n",
    "else:\n",
    "    print(\"No valid perturbations found.\")"
   ]
  },
  {
   "cell_type": "code",
   "execution_count": null,
   "metadata": {
    "trusted": true
   },
   "outputs": [],
   "source": [
    "selected_perturbations = extract_perturbations_by_classifier_change(results_df)\n",
    "evaluation_results = evaluate_perturbations(generate_perturbations([pert[0] for pert in selected_perturbations], generate_double_perts=True), \n",
    "                                            results_filename=\"healthyToAML_allCases_selectedPerts\")\n",
    "# Print results for each evaluation result in the list.\n",
    "if evaluation_results:\n",
    "    print(\"Perturbation Evaluation Results:\")\n",
    "    for idx, result in enumerate(evaluation_results, start=1):\n",
    "        print(f\"\\nPerturbation #{idx}:\")\n",
    "        print(f\"  Perturbation: {result.perturbation}\")\n",
    "        print(f\"  Baseline Classifier Score: {result.scores['baseline_classifier']:.4f}\")\n",
    "        print(f\"  Predicted Classifier Score: {result.scores['classifier']:.4f}\")\n",
    "        print(f\"  Wasserstein Distance: {result.scores['wasserstein']:.4f}\")\n",
    "        print(f\"  Stability: {result.scores['stability']:.4f}\")\n",
    "        print(f\"  Density: {result.scores['density']:.4f}\")\n",
    "        print(f\"  Total Score: {result.scores['total']:.4f}\")\n",
    "else:\n",
    "    print(\"No valid perturbations found.\")\n",
    "\n",
    "del evaluation_results"
   ]
  },
  {
   "cell_type": "markdown",
   "metadata": {},
   "source": [
    "### per-individual perturbations"
   ]
  },
  {
   "cell_type": "code",
   "execution_count": 60,
   "metadata": {
    "execution": {
     "iopub.execute_input": "2025-02-08T00:53:12.485249Z",
     "iopub.status.busy": "2025-02-08T00:53:12.484953Z",
     "iopub.status.idle": "2025-02-08T00:53:12.751639Z",
     "shell.execute_reply": "2025-02-08T00:53:12.750588Z",
     "shell.execute_reply.started": "2025-02-08T00:53:12.485223Z"
    },
    "trusted": true
   },
   "outputs": [
    {
     "name": "stdout",
     "output_type": "stream",
     "text": [
      "Created 12 patient-specific AML AnnData objects.\n"
     ]
    },
    {
     "ename": "NameError",
     "evalue": "name 'PerturbationEvaluator' is not defined",
     "output_type": "error",
     "traceback": [
      "\u001b[0;31m---------------------------------------------------------------------------\u001b[0m",
      "\u001b[0;31mNameError\u001b[0m                                 Traceback (most recent call last)",
      "\u001b[0;32m<ipython-input-60-08f37fd79035>\u001b[0m in \u001b[0;36m<cell line: 11>\u001b[0;34m()\u001b[0m\n\u001b[1;32m     10\u001b[0m \u001b[0mevaluators_by_patient\u001b[0m \u001b[0;34m=\u001b[0m \u001b[0;34m{\u001b[0m\u001b[0;34m}\u001b[0m\u001b[0;34m\u001b[0m\u001b[0;34m\u001b[0m\u001b[0m\n\u001b[1;32m     11\u001b[0m \u001b[0;32mfor\u001b[0m \u001b[0mpid\u001b[0m\u001b[0;34m,\u001b[0m \u001b[0mpatient_adata\u001b[0m \u001b[0;32min\u001b[0m \u001b[0mpatient_specific_cancer_adata\u001b[0m\u001b[0;34m.\u001b[0m\u001b[0mitems\u001b[0m\u001b[0;34m(\u001b[0m\u001b[0;34m)\u001b[0m\u001b[0;34m:\u001b[0m\u001b[0;34m\u001b[0m\u001b[0;34m\u001b[0m\u001b[0m\n\u001b[0;32m---> 12\u001b[0;31m     evaluator = PerturbationEvaluator(\n\u001b[0m\u001b[1;32m     13\u001b[0m         \u001b[0mclassifier\u001b[0m\u001b[0;34m=\u001b[0m\u001b[0mselector\u001b[0m\u001b[0;34m,\u001b[0m\u001b[0;34m\u001b[0m\u001b[0;34m\u001b[0m\u001b[0m\n\u001b[1;32m     14\u001b[0m         \u001b[0mreference_state\u001b[0m\u001b[0;34m=\u001b[0m\u001b[0mpatient_adata\u001b[0m\u001b[0;34m,\u001b[0m  \u001b[0;31m# each evaluator compares to the patient's AML profile\u001b[0m\u001b[0;34m\u001b[0m\u001b[0;34m\u001b[0m\u001b[0m\n",
      "\u001b[0;31mNameError\u001b[0m: name 'PerturbationEvaluator' is not defined"
     ]
    }
   ],
   "source": [
    "# First, prepare patient-specific datasets and train patient-specific classifiers\n",
    "patient_specific_classifiers = {}\n",
    "patient_specific_cancer_adata = {}\n",
    "\n",
    "# Split cancer data by patient\n",
    "for i, pid in enumerate(cancer_adata.obs['patient_id'].unique()):\n",
    "    # Get this patient's AML cells\n",
    "    patient_adata = cancer_adata[cancer_adata.obs['patient_id'] == pid].copy()\n",
    "    patient_specific_cancer_adata[pid] = patient_adata\n",
    "    \n",
    "    # Create expression dataframe for this patient's cells and all control cells\n",
    "    patient_expr_df = pd.DataFrame(\n",
    "        np.vstack([\n",
    "            patient_adata.X.toarray() if issparse(patient_adata.X) else patient_adata.X,\n",
    "            healthy_adata.X.toarray() if issparse(healthy_adata.X) else healthy_adata.X\n",
    "        ]),\n",
    "        columns=patient_adata.var_names\n",
    "    )\n",
    "    \n",
    "    # Create labels (1 for patient's AML cells, 0 for control cells)\n",
    "    patient_labels = pd.Series(\n",
    "        [1] * patient_adata.n_obs + [0] * healthy_adata.n_obs,\n",
    "        index=range(len(patient_expr_df))\n",
    "    )\n",
    "    \n",
    "    # Train a patient-specific classifier\n",
    "    print(f\"\\nTraining classifier for patient {pid}...\")\n",
    "    patient_selector = BayesianFeatureSelector(\n",
    "        unique_id=hash(pid) % 10000,  # Create a unique ID based on patient ID\n",
    "        verbose=True,\n",
    "        lr=0.0001,\n",
    "        max_features=1000,\n",
    "        base_sensitivity=0.05,\n",
    "        base_cumulative_density_threshold=0.05\n",
    "    )\n",
    "    patient_selector.fit(patient_expr_df, patient_labels)\n",
    "    patient_specific_classifiers[pid] = patient_selector\n",
    "\n",
    "# Now create patient-specific evaluators using the patient-specific classifiers\n",
    "evaluators_by_patient = {}\n",
    "for pid, patient_adata in patient_specific_cancer_adata.items():\n",
    "    evaluator = perturbation_evaluator.PerturbationEvaluator(\n",
    "        classifier=patient_specific_classifiers[pid],  # Use patient-specific classifier\n",
    "        reference_state=patient_adata,\n",
    "        device=device,\n",
    "        invert_classifier_score=True,\n",
    "        gears_data_dir=f\"{gears_data_dir}/model\",\n",
    "        template_adata=patient_adata\n",
    "    )\n",
    "    evaluators_by_patient[pid] = evaluator\n",
    "\n",
    "print(\"\\nCreated per-patient evaluators with patient-specific classifiers.\")"
   ]
  },
  {
   "cell_type": "code",
   "execution_count": 86,
   "metadata": {},
   "outputs": [
    {
     "name": "stderr",
     "output_type": "stream",
     "text": [
      "Found local copy...\n"
     ]
    },
    {
     "name": "stdout",
     "output_type": "stream",
     "text": [
      "\n",
      "Evaluating perturbations for patient AML420B-D0 ...\n"
     ]
    },
    {
     "name": "stderr",
     "output_type": "stream",
     "text": [
      "Found local copy...\n",
      "Creating pyg object for each cell in the data...\n",
      "Creating dataset file...\n",
      "100%|██████████| 1/1 [00:00<00:00, 18.80it/s]\n",
      "Done!\n",
      "Saving new dataset pyg object at GEARS_data/model/pert_data/single_cell/data_pyg/cell_graphs.pkl\n",
      "Done!\n",
      "Local copy of split is detected. Loading...\n",
      "Done!\n",
      "Creating dataloaders....\n",
      "Dataloaders created...\n"
     ]
    },
    {
     "name": "stdout",
     "output_type": "stream",
     "text": [
      "here1\n"
     ]
    },
    {
     "name": "stderr",
     "output_type": "stream",
     "text": [
      "Evaluating perturbations: 100%|██████████| 105/105 [02:25<00:00,  1.38s/it]\n",
      "Found local copy...\n"
     ]
    },
    {
     "name": "stdout",
     "output_type": "stream",
     "text": [
      "\n",
      "Evaluating perturbations for patient AML1012-D0 ...\n"
     ]
    },
    {
     "name": "stderr",
     "output_type": "stream",
     "text": [
      "Found local copy...\n",
      "Creating pyg object for each cell in the data...\n",
      "Creating dataset file...\n",
      "100%|██████████| 1/1 [00:00<00:00, 21.88it/s]\n",
      "Done!\n",
      "Saving new dataset pyg object at GEARS_data/model/pert_data/single_cell/data_pyg/cell_graphs.pkl\n",
      "Done!\n",
      "Local copy of split is detected. Loading...\n",
      "Done!\n",
      "Creating dataloaders....\n",
      "Dataloaders created...\n"
     ]
    },
    {
     "name": "stdout",
     "output_type": "stream",
     "text": [
      "here1\n"
     ]
    },
    {
     "name": "stderr",
     "output_type": "stream",
     "text": [
      "Evaluating perturbations: 100%|██████████| 105/105 [02:25<00:00,  1.39s/it]\n",
      "Found local copy...\n"
     ]
    },
    {
     "name": "stdout",
     "output_type": "stream",
     "text": [
      "\n",
      "Evaluating perturbations for patient AML916-D0 ...\n"
     ]
    },
    {
     "name": "stderr",
     "output_type": "stream",
     "text": [
      "Found local copy...\n",
      "Creating pyg object for each cell in the data...\n",
      "Creating dataset file...\n",
      "100%|██████████| 1/1 [00:00<00:00, 23.07it/s]\n",
      "Done!\n",
      "Saving new dataset pyg object at GEARS_data/model/pert_data/single_cell/data_pyg/cell_graphs.pkl\n",
      "Done!\n",
      "Local copy of split is detected. Loading...\n",
      "Done!\n",
      "Creating dataloaders....\n",
      "Dataloaders created...\n"
     ]
    },
    {
     "name": "stdout",
     "output_type": "stream",
     "text": [
      "here1\n"
     ]
    },
    {
     "name": "stderr",
     "output_type": "stream",
     "text": [
      "Evaluating perturbations: 100%|██████████| 105/105 [02:53<00:00,  1.65s/it]\n",
      "Found local copy...\n"
     ]
    },
    {
     "name": "stdout",
     "output_type": "stream",
     "text": [
      "\n",
      "Evaluating perturbations for patient AML921A-D0 ...\n"
     ]
    },
    {
     "name": "stderr",
     "output_type": "stream",
     "text": [
      "Found local copy...\n",
      "Creating pyg object for each cell in the data...\n",
      "Creating dataset file...\n",
      "100%|██████████| 1/1 [00:00<00:00, 21.69it/s]\n",
      "Done!\n",
      "Saving new dataset pyg object at GEARS_data/model/pert_data/single_cell/data_pyg/cell_graphs.pkl\n",
      "Done!\n",
      "Local copy of split is detected. Loading...\n",
      "Done!\n",
      "Creating dataloaders....\n",
      "Dataloaders created...\n"
     ]
    },
    {
     "name": "stdout",
     "output_type": "stream",
     "text": [
      "here1\n"
     ]
    },
    {
     "name": "stderr",
     "output_type": "stream",
     "text": [
      "Evaluating perturbations: 100%|██████████| 105/105 [02:58<00:00,  1.70s/it]\n",
      "Found local copy...\n"
     ]
    },
    {
     "name": "stdout",
     "output_type": "stream",
     "text": [
      "\n",
      "Evaluating perturbations for patient AML328-D0 ...\n"
     ]
    },
    {
     "name": "stderr",
     "output_type": "stream",
     "text": [
      "Found local copy...\n",
      "Creating pyg object for each cell in the data...\n",
      "Creating dataset file...\n",
      "100%|██████████| 1/1 [00:00<00:00, 21.60it/s]\n",
      "Done!\n",
      "Saving new dataset pyg object at GEARS_data/model/pert_data/single_cell/data_pyg/cell_graphs.pkl\n",
      "Done!\n",
      "Local copy of split is detected. Loading...\n",
      "Done!\n",
      "Creating dataloaders....\n",
      "Dataloaders created...\n"
     ]
    },
    {
     "name": "stdout",
     "output_type": "stream",
     "text": [
      "here1\n"
     ]
    },
    {
     "name": "stderr",
     "output_type": "stream",
     "text": [
      "Evaluating perturbations: 100%|██████████| 105/105 [02:44<00:00,  1.57s/it]\n",
      "Found local copy...\n"
     ]
    },
    {
     "name": "stdout",
     "output_type": "stream",
     "text": [
      "\n",
      "Evaluating perturbations for patient AML870-D0 ...\n"
     ]
    },
    {
     "name": "stderr",
     "output_type": "stream",
     "text": [
      "Found local copy...\n",
      "Creating pyg object for each cell in the data...\n",
      "Creating dataset file...\n",
      "100%|██████████| 1/1 [00:00<00:00, 23.00it/s]\n",
      "Done!\n",
      "Saving new dataset pyg object at GEARS_data/model/pert_data/single_cell/data_pyg/cell_graphs.pkl\n",
      "Done!\n",
      "Local copy of split is detected. Loading...\n",
      "Done!\n",
      "Creating dataloaders....\n",
      "Dataloaders created...\n"
     ]
    },
    {
     "name": "stdout",
     "output_type": "stream",
     "text": [
      "here1\n"
     ]
    },
    {
     "name": "stderr",
     "output_type": "stream",
     "text": [
      "Evaluating perturbations: 100%|██████████| 105/105 [03:22<00:00,  1.93s/it]\n",
      "Found local copy...\n"
     ]
    },
    {
     "name": "stdout",
     "output_type": "stream",
     "text": [
      "\n",
      "Evaluating perturbations for patient AML329-D0 ...\n"
     ]
    },
    {
     "name": "stderr",
     "output_type": "stream",
     "text": [
      "Found local copy...\n",
      "Creating pyg object for each cell in the data...\n",
      "Creating dataset file...\n",
      "100%|██████████| 1/1 [00:00<00:00, 20.07it/s]\n",
      "Done!\n",
      "Saving new dataset pyg object at GEARS_data/model/pert_data/single_cell/data_pyg/cell_graphs.pkl\n",
      "Done!\n",
      "Local copy of split is detected. Loading...\n",
      "Done!\n",
      "Creating dataloaders....\n",
      "Dataloaders created...\n"
     ]
    },
    {
     "name": "stdout",
     "output_type": "stream",
     "text": [
      "here1\n"
     ]
    },
    {
     "name": "stderr",
     "output_type": "stream",
     "text": [
      "Evaluating perturbations: 100%|██████████| 105/105 [02:52<00:00,  1.64s/it]\n",
      "Found local copy...\n"
     ]
    },
    {
     "name": "stdout",
     "output_type": "stream",
     "text": [
      "\n",
      "Evaluating perturbations for patient AML210A-D0 ...\n"
     ]
    },
    {
     "name": "stderr",
     "output_type": "stream",
     "text": [
      "Found local copy...\n",
      "Creating pyg object for each cell in the data...\n",
      "Creating dataset file...\n",
      "100%|██████████| 1/1 [00:00<00:00, 21.56it/s]\n",
      "Done!\n",
      "Saving new dataset pyg object at GEARS_data/model/pert_data/single_cell/data_pyg/cell_graphs.pkl\n",
      "Done!\n",
      "Local copy of split is detected. Loading...\n",
      "Done!\n",
      "Creating dataloaders....\n",
      "Dataloaders created...\n"
     ]
    },
    {
     "name": "stdout",
     "output_type": "stream",
     "text": [
      "here1\n"
     ]
    },
    {
     "name": "stderr",
     "output_type": "stream",
     "text": [
      "Evaluating perturbations: 100%|██████████| 105/105 [02:49<00:00,  1.62s/it]\n",
      "Found local copy...\n"
     ]
    },
    {
     "name": "stdout",
     "output_type": "stream",
     "text": [
      "\n",
      "Evaluating perturbations for patient AML475-D0 ...\n"
     ]
    },
    {
     "name": "stderr",
     "output_type": "stream",
     "text": [
      "Found local copy...\n",
      "Creating pyg object for each cell in the data...\n",
      "Creating dataset file...\n",
      "100%|██████████| 1/1 [00:00<00:00, 18.90it/s]\n",
      "Done!\n",
      "Saving new dataset pyg object at GEARS_data/model/pert_data/single_cell/data_pyg/cell_graphs.pkl\n",
      "Done!\n",
      "Local copy of split is detected. Loading...\n",
      "Done!\n",
      "Creating dataloaders....\n",
      "Dataloaders created...\n"
     ]
    },
    {
     "name": "stdout",
     "output_type": "stream",
     "text": [
      "here1\n"
     ]
    },
    {
     "name": "stderr",
     "output_type": "stream",
     "text": [
      "Evaluating perturbations: 100%|██████████| 105/105 [03:07<00:00,  1.79s/it]\n",
      "Found local copy...\n"
     ]
    },
    {
     "name": "stdout",
     "output_type": "stream",
     "text": [
      "\n",
      "Evaluating perturbations for patient AML556-D0 ...\n"
     ]
    },
    {
     "name": "stderr",
     "output_type": "stream",
     "text": [
      "Found local copy...\n",
      "Creating pyg object for each cell in the data...\n",
      "Creating dataset file...\n",
      "100%|██████████| 1/1 [00:00<00:00, 21.81it/s]\n",
      "Done!\n",
      "Saving new dataset pyg object at GEARS_data/model/pert_data/single_cell/data_pyg/cell_graphs.pkl\n",
      "Done!\n",
      "Local copy of split is detected. Loading...\n",
      "Done!\n",
      "Creating dataloaders....\n",
      "Dataloaders created...\n"
     ]
    },
    {
     "name": "stdout",
     "output_type": "stream",
     "text": [
      "here1\n"
     ]
    },
    {
     "name": "stderr",
     "output_type": "stream",
     "text": [
      "Evaluating perturbations: 100%|██████████| 105/105 [02:44<00:00,  1.56s/it]\n",
      "Found local copy...\n"
     ]
    },
    {
     "name": "stdout",
     "output_type": "stream",
     "text": [
      "\n",
      "Evaluating perturbations for patient AML707B-D0 ...\n"
     ]
    },
    {
     "name": "stderr",
     "output_type": "stream",
     "text": [
      "Found local copy...\n",
      "Creating pyg object for each cell in the data...\n",
      "Creating dataset file...\n",
      "100%|██████████| 1/1 [00:00<00:00, 23.61it/s]\n",
      "Done!\n",
      "Saving new dataset pyg object at GEARS_data/model/pert_data/single_cell/data_pyg/cell_graphs.pkl\n",
      "Done!\n",
      "Local copy of split is detected. Loading...\n",
      "Done!\n",
      "Creating dataloaders....\n",
      "Dataloaders created...\n"
     ]
    },
    {
     "name": "stdout",
     "output_type": "stream",
     "text": [
      "here1\n"
     ]
    },
    {
     "name": "stderr",
     "output_type": "stream",
     "text": [
      "Evaluating perturbations: 100%|██████████| 105/105 [02:45<00:00,  1.57s/it]\n",
      "Found local copy...\n"
     ]
    },
    {
     "name": "stdout",
     "output_type": "stream",
     "text": [
      "\n",
      "Evaluating perturbations for patient AML419A-D0 ...\n"
     ]
    },
    {
     "name": "stderr",
     "output_type": "stream",
     "text": [
      "Found local copy...\n",
      "Creating pyg object for each cell in the data...\n",
      "Creating dataset file...\n",
      "100%|██████████| 1/1 [00:00<00:00, 22.38it/s]\n",
      "Done!\n",
      "Saving new dataset pyg object at GEARS_data/model/pert_data/single_cell/data_pyg/cell_graphs.pkl\n",
      "Done!\n",
      "Local copy of split is detected. Loading...\n",
      "Done!\n",
      "Creating dataloaders....\n",
      "Dataloaders created...\n"
     ]
    },
    {
     "name": "stdout",
     "output_type": "stream",
     "text": [
      "here1\n"
     ]
    },
    {
     "name": "stderr",
     "output_type": "stream",
     "text": [
      "Evaluating perturbations:  90%|████████▉ | 94/105 [02:20<00:16,  1.49s/it]\n"
     ]
    },
    {
     "ename": "KeyboardInterrupt",
     "evalue": "",
     "output_type": "error",
     "traceback": [
      "\u001b[0;31m---------------------------------------------------------------------------\u001b[0m",
      "\u001b[0;31mKeyboardInterrupt\u001b[0m                         Traceback (most recent call last)",
      "Cell \u001b[0;32mIn[86], line 8\u001b[0m\n\u001b[1;32m      6\u001b[0m \u001b[38;5;28;01mfor\u001b[39;00m pid, evaluator \u001b[38;5;129;01min\u001b[39;00m evaluators_by_patient\u001b[38;5;241m.\u001b[39mitems():\n\u001b[1;32m      7\u001b[0m     \u001b[38;5;28mprint\u001b[39m(\u001b[38;5;124mf\u001b[39m\u001b[38;5;124m\"\u001b[39m\u001b[38;5;130;01m\\n\u001b[39;00m\u001b[38;5;124mEvaluating perturbations for patient \u001b[39m\u001b[38;5;132;01m{\u001b[39;00mpid\u001b[38;5;132;01m}\u001b[39;00m\u001b[38;5;124m ...\u001b[39m\u001b[38;5;124m\"\u001b[39m)\n\u001b[0;32m----> 8\u001b[0m     results \u001b[38;5;241m=\u001b[39m \u001b[43mevaluator\u001b[49m\u001b[38;5;241;43m.\u001b[39;49m\u001b[43mevaluate_perturbations\u001b[49m\u001b[43m(\u001b[49m\u001b[43mhealthy_adata\u001b[49m\u001b[43m,\u001b[49m\u001b[43m \u001b[49m\u001b[43mcancer_driving_perturbations\u001b[49m\u001b[43m)\u001b[49m\n\u001b[1;32m      9\u001b[0m     evaluation_results_by_patient[pid] \u001b[38;5;241m=\u001b[39m results\n",
      "File \u001b[0;32m~/Documents/ML-AML/perturbation_evaluator.py:289\u001b[0m, in \u001b[0;36mPerturbationEvaluator.evaluate_perturbations\u001b[0;34m(self, current_adata, perturbations)\u001b[0m\n\u001b[1;32m    283\u001b[0m pred_state \u001b[38;5;241m=\u001b[39m torch\u001b[38;5;241m.\u001b[39mtensor(\n\u001b[1;32m    284\u001b[0m     np\u001b[38;5;241m.\u001b[39mmean(p_out\u001b[38;5;241m.\u001b[39mdetach()\u001b[38;5;241m.\u001b[39mcpu()\u001b[38;5;241m.\u001b[39mnumpy(), axis\u001b[38;5;241m=\u001b[39m\u001b[38;5;241m0\u001b[39m),\n\u001b[1;32m    285\u001b[0m     device\u001b[38;5;241m=\u001b[39mgears_instance\u001b[38;5;241m.\u001b[39mdevice\n\u001b[1;32m    286\u001b[0m )\n\u001b[1;32m    288\u001b[0m \u001b[38;5;66;03m# Compute scores for the perturbed state.\u001b[39;00m\n\u001b[0;32m--> 289\u001b[0m scores \u001b[38;5;241m=\u001b[39m \u001b[38;5;28;43mself\u001b[39;49m\u001b[38;5;241;43m.\u001b[39;49m\u001b[43mcompute_state_score\u001b[49m\u001b[43m(\u001b[49m\u001b[43mpred_state\u001b[49m\u001b[43m)\u001b[49m\n\u001b[1;32m    290\u001b[0m \u001b[38;5;66;03m# Add the classifier baseline from the unperturbed state.\u001b[39;00m\n\u001b[1;32m    291\u001b[0m scores[\u001b[38;5;124m'\u001b[39m\u001b[38;5;124mbaseline_classifier\u001b[39m\u001b[38;5;124m'\u001b[39m] \u001b[38;5;241m=\u001b[39m baseline_classifier_score\n",
      "File \u001b[0;32m~/Documents/ML-AML/perturbation_evaluator.py:148\u001b[0m, in \u001b[0;36mPerturbationEvaluator.compute_state_score\u001b[0;34m(self, state)\u001b[0m\n\u001b[1;32m    143\u001b[0m \u001b[38;5;250m\u001b[39m\u001b[38;5;124;03m\"\"\"\u001b[39;00m\n\u001b[1;32m    144\u001b[0m \u001b[38;5;124;03mCompute a score for the given state.\u001b[39;00m\n\u001b[1;32m    145\u001b[0m \u001b[38;5;124;03m\"\"\"\u001b[39;00m\n\u001b[1;32m    146\u001b[0m \u001b[38;5;28;01mwith\u001b[39;00m torch\u001b[38;5;241m.\u001b[39mno_grad():\n\u001b[1;32m    147\u001b[0m     \u001b[38;5;66;03m# Wasserstein-based score.\u001b[39;00m\n\u001b[0;32m--> 148\u001b[0m     w_distance \u001b[38;5;241m=\u001b[39m \u001b[38;5;28;43mself\u001b[39;49m\u001b[38;5;241;43m.\u001b[39;49m\u001b[43mcompute_wasserstein_distance\u001b[49m\u001b[43m(\u001b[49m\u001b[43mstate\u001b[49m\u001b[43m)\u001b[49m\n\u001b[1;32m    149\u001b[0m     w_score \u001b[38;5;241m=\u001b[39m torch\u001b[38;5;241m.\u001b[39mexp(\u001b[38;5;241m-\u001b[39mw_distance \u001b[38;5;241m/\u001b[39m \u001b[38;5;241m10\u001b[39m)\u001b[38;5;241m.\u001b[39mitem()\n\u001b[1;32m    151\u001b[0m     \u001b[38;5;66;03m# Stability score using a sigmoid transform on z-scores.\u001b[39;00m\n",
      "File \u001b[0;32m~/Documents/ML-AML/perturbation_evaluator.py:139\u001b[0m, in \u001b[0;36mPerturbationEvaluator.compute_wasserstein_distance\u001b[0;34m(self, state)\u001b[0m\n\u001b[1;32m    137\u001b[0m \u001b[38;5;28;01mwith\u001b[39;00m torch\u001b[38;5;241m.\u001b[39mno_grad():\n\u001b[1;32m    138\u001b[0m     state_r \u001b[38;5;241m=\u001b[39m state \u001b[38;5;28;01mif\u001b[39;00m state\u001b[38;5;241m.\u001b[39mdim() \u001b[38;5;241m==\u001b[39m \u001b[38;5;241m2\u001b[39m \u001b[38;5;28;01melse\u001b[39;00m state\u001b[38;5;241m.\u001b[39munsqueeze(\u001b[38;5;241m0\u001b[39m)\n\u001b[0;32m--> 139\u001b[0m     state_quantiles \u001b[38;5;241m=\u001b[39m \u001b[38;5;28;43mself\u001b[39;49m\u001b[38;5;241;43m.\u001b[39;49m\u001b[43m_compute_marginal_quantiles\u001b[49m\u001b[43m(\u001b[49m\u001b[43mstate_r\u001b[49m\u001b[43m)\u001b[49m\n\u001b[1;32m    140\u001b[0m     \u001b[38;5;28;01mreturn\u001b[39;00m torch\u001b[38;5;241m.\u001b[39mmean(torch\u001b[38;5;241m.\u001b[39mabs(state_quantiles \u001b[38;5;241m-\u001b[39m \u001b[38;5;28mself\u001b[39m\u001b[38;5;241m.\u001b[39mref_quantiles))\n",
      "File \u001b[0;32m~/Documents/ML-AML/perturbation_evaluator.py:134\u001b[0m, in \u001b[0;36mPerturbationEvaluator._compute_marginal_quantiles\u001b[0;34m(self, data)\u001b[0m\n\u001b[1;32m    132\u001b[0m \u001b[38;5;28;01mdef\u001b[39;00m\u001b[38;5;250m \u001b[39m\u001b[38;5;21m_compute_marginal_quantiles\u001b[39m(\u001b[38;5;28mself\u001b[39m, data: torch\u001b[38;5;241m.\u001b[39mTensor) \u001b[38;5;241m-\u001b[39m\u001b[38;5;241m>\u001b[39m torch\u001b[38;5;241m.\u001b[39mTensor:\n\u001b[1;32m    133\u001b[0m     quantile_points \u001b[38;5;241m=\u001b[39m torch\u001b[38;5;241m.\u001b[39mlinspace(\u001b[38;5;241m0\u001b[39m, \u001b[38;5;241m1\u001b[39m, \u001b[38;5;28mself\u001b[39m\u001b[38;5;241m.\u001b[39mn_quantiles, device\u001b[38;5;241m=\u001b[39m\u001b[38;5;28mself\u001b[39m\u001b[38;5;241m.\u001b[39mdevice)\n\u001b[0;32m--> 134\u001b[0m     \u001b[38;5;28;01mreturn\u001b[39;00m \u001b[43mtorch\u001b[49m\u001b[38;5;241;43m.\u001b[39;49m\u001b[43mquantile\u001b[49m\u001b[43m(\u001b[49m\u001b[43mdata\u001b[49m\u001b[43m,\u001b[49m\u001b[43m \u001b[49m\u001b[43mquantile_points\u001b[49m\u001b[43m,\u001b[49m\u001b[43m \u001b[49m\u001b[43mdim\u001b[49m\u001b[38;5;241;43m=\u001b[39;49m\u001b[38;5;241;43m0\u001b[39;49m\u001b[43m)\u001b[49m\n",
      "\u001b[0;31mKeyboardInterrupt\u001b[0m: "
     ]
    }
   ],
   "source": [
    "# Perform perturbation evaluation for each patient using the generator-based evaluation.\n",
    "# Here, we apply the perturbations to healthy_adata (as our baseline state), letting each evaluator\n",
    "# compute scores based on how the healthy cells, after perturbation, compare to that patient's AML reference.\n",
    "evaluation_results_by_patient = {}\n",
    "\n",
    "for pid, evaluator in evaluators_by_patient.items():\n",
    "    print(f\"\\nEvaluating perturbations for patient {pid} ...\")\n",
    "    \n",
    "    # Evaluate all candidate perturbations, streaming results directly to CSV.\n",
    "    csv_all = evaluate_perturbations(\n",
    "        perturbation_list=all_perturbations,\n",
    "        scenario=\"aml_to_healthy\",\n",
    "        results_filename=f\"{pid}_allPerts\"\n",
    "    )\n",
    "    \n",
    "    # Store the CSV filename (or, if desired, load the CSV into a DataFrame).\n",
    "    evaluation_results_by_patient[pid] = csv_all\n",
    "    print(f\"All-perturbation results for patient {pid} saved to {csv_all}\")\n",
    "    \n",
    "    # Load the CSV to extract selected perturbations.\n",
    "    df_all = pd.read_csv(csv_all)\n",
    "    # Depending on your extract_perturbations_by_classifier_change function,\n",
    "    # you might need it to work on a DataFrame (one option is to convert the DataFrame rows into a list).\n",
    "    selected_perturbations = extract_perturbations_by_classifier_change(df_all)\n",
    "    \n",
    "    # Generate the list of (double) perturbations for selected ones.\n",
    "    # (Assuming generate_perturbations accepts a list of perturbations as input.)\n",
    "    selected_perts = generate_perturbations(\n",
    "        [pert[0] for pert in selected_perturbations],\n",
    "        generate_double_perts=True\n",
    "    )\n",
    "    \n",
    "    # Evaluate the selected perturbations using the generator-based method.\n",
    "    csv_selected = evaluate_perturbations(\n",
    "        perturbation_list=selected_perts,\n",
    "        scenario=\"aml_to_healthy\",\n",
    "        results_filename=f\"{pid}_selectedPerts\"\n",
    "    )\n",
    "    print(f\"Selected perturbation results for patient {pid} saved to {csv_selected}\")"
   ]
  },
  {
   "cell_type": "code",
   "execution_count": null,
   "metadata": {},
   "outputs": [],
   "source": [
    "# Summarize the best perturbation (highest composite total score) per patient.\n",
    "import pandas as pd\n",
    "\n",
    "summary_records = []\n",
    "for pid, results in evaluation_results_by_patient.items():\n",
    "    if results:  # if any valid perturbation evaluation is returned\n",
    "        best_result = results[0]  # results are sorted in descending order of total score\n",
    "        summary_records.append({\n",
    "            'patient_id': pid,\n",
    "            'best_perturbation': best_result.perturbation,\n",
    "            'total_score': best_result.scores['total'],\n",
    "            'classifier_score': best_result.scores['classifier'],\n",
    "            'wasserstein': best_result.scores['wasserstein'],\n",
    "            'stability': best_result.scores['stability'],\n",
    "            'density': best_result.scores['density']\n",
    "        })\n",
    "\n",
    "summary_df = pd.DataFrame(summary_records)\n",
    "\n",
    "print(\"\\nBest perturbations per patient:\")\n",
    "print(summary_df)"
   ]
  },
  {
   "cell_type": "markdown",
   "metadata": {},
   "source": [
    "## AML -> healthy"
   ]
  },
  {
   "cell_type": "code",
   "execution_count": 53,
   "metadata": {
    "execution": {
     "iopub.execute_input": "2025-02-08T00:42:01.035254Z",
     "iopub.status.busy": "2025-02-08T00:42:01.034953Z",
     "iopub.status.idle": "2025-02-08T00:42:01.041221Z",
     "shell.execute_reply": "2025-02-08T00:42:01.040378Z",
     "shell.execute_reply.started": "2025-02-08T00:42:01.035226Z"
    },
    "trusted": true
   },
   "outputs": [
    {
     "data": {
      "text/plain": [
       "2850"
      ]
     },
     "execution_count": 53,
     "metadata": {},
     "output_type": "execute_result"
    }
   ],
   "source": [
    "len(generate_perturbations(filtered_perturbations))"
   ]
  },
  {
   "cell_type": "code",
   "execution_count": 59,
   "metadata": {
    "execution": {
     "iopub.execute_input": "2025-02-08T00:52:44.941577Z",
     "iopub.status.busy": "2025-02-08T00:52:44.941254Z",
     "iopub.status.idle": "2025-02-08T00:52:44.967411Z",
     "shell.execute_reply": "2025-02-08T00:52:44.966289Z",
     "shell.execute_reply.started": "2025-02-08T00:52:44.941551Z"
    },
    "trusted": true
   },
   "outputs": [
    {
     "ename": "NameError",
     "evalue": "name 'patient_adata' is not defined",
     "output_type": "error",
     "traceback": [
      "\u001b[0;31m---------------------------------------------------------------------------\u001b[0m",
      "\u001b[0;31mNameError\u001b[0m                                 Traceback (most recent call last)",
      "\u001b[0;32m<ipython-input-59-c0be9d609beb>\u001b[0m in \u001b[0;36m<cell line: 4>\u001b[0;34m()\u001b[0m\n\u001b[1;32m      9\u001b[0m     \u001b[0mgears_data_dir\u001b[0m\u001b[0;34m=\u001b[0m\u001b[0;34mf\"{gears_data_dir}/model\"\u001b[0m\u001b[0;34m,\u001b[0m\u001b[0;34m\u001b[0m\u001b[0;34m\u001b[0m\u001b[0m\n\u001b[1;32m     10\u001b[0m     \u001b[0mgene_subset\u001b[0m\u001b[0;34m=\u001b[0m\u001b[0mgene_subset\u001b[0m\u001b[0;34m,\u001b[0m\u001b[0;34m\u001b[0m\u001b[0;34m\u001b[0m\u001b[0m\n\u001b[0;32m---> 11\u001b[0;31m     \u001b[0mtemplate_adata\u001b[0m\u001b[0;34m=\u001b[0m\u001b[0mpatient_adata\u001b[0m\u001b[0;34m\u001b[0m\u001b[0;34m\u001b[0m\u001b[0m\n\u001b[0m\u001b[1;32m     12\u001b[0m )\n\u001b[1;32m     13\u001b[0m \u001b[0;31m# Evaluate all the candidate perturbations in a single batched call.\u001b[0m\u001b[0;34m\u001b[0m\u001b[0;34m\u001b[0m\u001b[0m\n",
      "\u001b[0;31mNameError\u001b[0m: name 'patient_adata' is not defined"
     ]
    }
   ],
   "source": [
    "# Instantiate the evaluator.\n",
    "# Here, since we perturb healthy cells into an AML state (i.e., higher classifier scores are desirable),\n",
    "# we set invert_classifier_score=False.\n",
    "evaluator = perturbation_evaluator.PerturbationEvaluator(\n",
    "    classifier=selector,\n",
    "    reference_state=healthy_adata,  # optional: your healthy reference states\n",
    "    device=device,\n",
    "    invert_classifier_score=True,\n",
    "    gears_data_dir=f\"{gears_data_dir}/model\",\n",
    "    gene_subset=gene_subset,\n",
    "    template_adata=patient_adata\n",
    ")\n",
    "# Evaluate all the candidate perturbations in a single batched call.\n",
    "evaluation_results = evaluator.evaluate_perturbations(cancer_adata, generate_perturbations(filtered_perturbations))\n",
    "\n",
    "# Sort the evaluation results by the total score (highest score first)\n",
    "evaluation_results.sort(key=lambda x: x.scores['total'], reverse=True)\n",
    "\n",
    "if evaluation_results:\n",
    "    best_result = evaluation_results[0]\n",
    "    print(\"\\nBest Single-Step Perturbation:\")\n",
    "    print(f\"Perturbation: {best_result.perturbation}\")\n",
    "    print(f\"Baseline Classifier Score: {best_result.scores['baseline_classifier']:.4f}\")\n",
    "    print(f\"Classifier Score: {best_result.scores['classifier']:.4f}\")\n",
    "    print(f\"Wasserstein Distance: {best_result.scores['wasserstein']:.4f}\")\n",
    "    print(f\"Stability: {best_result.scores['stability']:.4f}\")\n",
    "    print(f\"Density: {best_result.scores['density']:.4f}\")\n",
    "    print(f\"Total Score: {best_result.scores['total']:.4f}\")\n",
    "else:\n",
    "    print(\"No valid perturbations found.\")"
   ]
  },
  {
   "cell_type": "code",
   "execution_count": null,
   "metadata": {},
   "outputs": [],
   "source": [
    "del gears_wrapper\n",
    "gears_wrapper = reinit_gears(aml_data)"
   ]
  },
  {
   "cell_type": "code",
   "execution_count": 81,
   "metadata": {},
   "outputs": [
    {
     "data": {
      "text/plain": [
       "Index(['AML707B-D0_AACATTACGTTA-0', 'AML707B-D0_AACCGCCAAAGA-0',\n",
       "       'AML707B-D0_AAGGCCGGTGCA-0', 'AML707B-D0_ACCCGGAGATCC-0',\n",
       "       'AML707B-D0_ACCGCGGACTCT-0', 'AML707B-D0_ACTGTTTCCCAT-0',\n",
       "       'AML707B-D0_ACTTAGACACGC-0', 'AML707B-D0_ACTTTCAGCCAN-0',\n",
       "       'AML707B-D0_AGACGCGGTTCG-0', 'AML707B-D0_AGCGCCCGCACT-0',\n",
       "       ...\n",
       "       'BM5-34p_GGCCCCTAGCAG-19', 'BM5-34p_GGCGAGGCGAGT-19',\n",
       "       'BM5-34p_GGGATGACAATA-19', 'BM5-34p_TATGGGAACCGC-19',\n",
       "       'BM5-34p_TCACTTGATTAC-19', 'BM5-34p_TGATGGCAGACC-19',\n",
       "       'BM5-34p_TTCACCAGGACG-19', 'BM5-34p_TTTCATTATAGC-19',\n",
       "       'BM5-34p_CACATTTTAGAA-19', 'BM5-34p_GACCCCCCGTGA-19'],\n",
       "      dtype='object', name='Cell', length=1774)"
      ]
     },
     "execution_count": 81,
     "metadata": {},
     "output_type": "execute_result"
    }
   ],
   "source": [
    "good_cells"
   ]
  },
  {
   "cell_type": "code",
   "execution_count": 82,
   "metadata": {},
   "outputs": [
    {
     "name": "stdout",
     "output_type": "stream",
     "text": [
      "Number of unique patients: 16\n",
      "\n",
      "Cells per patient:\n",
      "AML921A-D0    526\n",
      "BM5-34p       226\n",
      "AML1012-D0    224\n",
      "AML707B-D0    119\n",
      "BM3           107\n",
      "AML328-D0     103\n",
      "AML556-D0     101\n",
      "AML916-D0      97\n",
      "BM4            86\n",
      "AML329-D0      51\n",
      "AML420B-D0     49\n",
      "AML210A-D0     35\n",
      "AML870-D0      25\n",
      "AML419A-D0     17\n",
      "AML475-D0       7\n",
      "BM1             1\n",
      "Name: count, dtype: int64\n"
     ]
    }
   ],
   "source": [
    "def count_patients_and_cells(good_cells):\n",
    "    \"\"\"\n",
    "    Given a pandas Index of cell IDs (with the first substring before '_' representing the patient ID),\n",
    "    returns the number of unique patients and a Pandas Series with the number of cells per patient.\n",
    "    \n",
    "    Parameters:\n",
    "        good_cells (pd.Index): Cell IDs\n",
    "    \n",
    "    Returns:\n",
    "        num_patients (int): Number of unique patients\n",
    "        cells_per_patient (pd.Series): Count of cells per patient\n",
    "    \"\"\"\n",
    "    # Extract the patient ID from each cell id\n",
    "    patient_ids = [cell.split('_')[0] for cell in good_cells]\n",
    "    \n",
    "    # Count cells per patient using value_counts\n",
    "    cells_per_patient = pd.Series(patient_ids).value_counts()\n",
    "    \n",
    "    # Number of unique patients\n",
    "    num_patients = cells_per_patient.shape[0]\n",
    "    \n",
    "    return num_patients, cells_per_patient\n",
    "\n",
    "num_patients, cells_per_patient = count_patients_and_cells(good_cells)\n",
    "print(f\"Number of unique patients: {num_patients}\\n\")\n",
    "print(\"Cells per patient:\")\n",
    "print(cells_per_patient)"
   ]
  },
  {
   "cell_type": "code",
   "execution_count": null,
   "metadata": {},
   "outputs": [],
   "source": []
  }
 ],
 "metadata": {
  "kaggle": {
   "accelerator": "gpu",
   "dataSources": [
    {
     "datasetId": 6598422,
     "sourceId": 10655575,
     "sourceType": "datasetVersion"
    },
    {
     "datasetId": 6588857,
     "sourceId": 10700491,
     "sourceType": "datasetVersion"
    }
   ],
   "isGpuEnabled": true,
   "isInternetEnabled": true,
   "language": "python",
   "sourceType": "notebook"
  },
  "kernelspec": {
   "display_name": "venv",
   "language": "python",
   "name": "python3"
  },
  "language_info": {
   "codemirror_mode": {
    "name": "ipython",
    "version": 3
   },
   "file_extension": ".py",
   "mimetype": "text/x-python",
   "name": "python",
   "nbconvert_exporter": "python",
   "pygments_lexer": "ipython3",
   "version": "3.11.11"
  }
 },
 "nbformat": 4,
 "nbformat_minor": 4
}
